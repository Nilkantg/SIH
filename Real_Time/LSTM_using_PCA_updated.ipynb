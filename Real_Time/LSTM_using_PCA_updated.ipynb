{
  "nbformat": 4,
  "nbformat_minor": 0,
  "metadata": {
    "colab": {
      "provenance": [],
      "gpuType": "T4"
    },
    "kernelspec": {
      "name": "python3",
      "display_name": "Python 3"
    },
    "language_info": {
      "name": "python"
    },
    "accelerator": "GPU"
  },
  "cells": [
    {
      "cell_type": "code",
      "execution_count": null,
      "metadata": {
        "id": "htJ90Jd1g2Wk"
      },
      "outputs": [],
      "source": [
        "import pandas as pd\n",
        "import numpy as np\n",
        "import random\n",
        "\n",
        "from sklearn.preprocessing import LabelEncoder\n",
        "from sklearn.preprocessing import StandardScaler, MinMaxScaler\n",
        "from sklearn.model_selection import train_test_split\n",
        "from sklearn.metrics import accuracy_score, classification_report, confusion_matrix\n",
        "\n",
        "import torch\n",
        "import torch.nn as nn\n",
        "import torch.nn.functional as F\n",
        "import torch.optim as optim\n",
        "from torch.utils.data import TensorDataset, DataLoader\n",
        "\n",
        "import warnings\n",
        "warnings.filterwarnings(\"ignore\")"
      ]
    },
    {
      "cell_type": "code",
      "source": [
        "words_corpus = pd.read_csv('/content/preprocessed_PCA_newdf.xls')\n",
        "words_corpus.head()"
      ],
      "metadata": {
        "colab": {
          "base_uri": "https://localhost:8080/",
          "height": 243
        },
        "id": "Gm2zGzvB2Byx",
        "outputId": "65a1deb7-04b4-4bdd-82cb-512c780fe7ad"
      },
      "execution_count": null,
      "outputs": [
        {
          "output_type": "execute_result",
          "data": {
            "text/plain": [
              "   Unnamed: 0  Feature-1  Feature-2  Feature-3  Feature-4  Feature-5  \\\n",
              "0           0  -0.135994   0.700704  -0.243845  -0.206682   0.012245   \n",
              "1           1  -0.164038   0.618974  -0.239514  -0.225620  -0.008237   \n",
              "2           2  -0.657468  -0.421108  -0.262696   0.028364  -0.147318   \n",
              "3           3  -0.494670  -1.286647  -0.145833   0.209014  -0.183054   \n",
              "4           4   0.027746  -0.361878  -0.233952  -0.186101  -0.093658   \n",
              "\n",
              "   Feature-6  Feature-7  Feature-8  Feature-9  Feature-10    Word  \n",
              "0  -0.134163  -0.034946  -0.000948  -0.006617   -0.013265  AFRAID  \n",
              "1  -0.104077   0.035675  -0.012855   0.037187   -0.017356  AFRAID  \n",
              "2  -0.037199   0.045543  -0.030400  -0.004434   -0.017793  AFRAID  \n",
              "3   0.073933   0.122878   0.001645   0.105372   -0.058780  AFRAID  \n",
              "4   0.032019   0.083742   0.005980   0.026283   -0.025037  AFRAID  "
            ],
            "text/html": [
              "\n",
              "  <div id=\"df-2e236a19-4f32-4d6a-abe2-42686bb3b9eb\" class=\"colab-df-container\">\n",
              "    <div>\n",
              "<style scoped>\n",
              "    .dataframe tbody tr th:only-of-type {\n",
              "        vertical-align: middle;\n",
              "    }\n",
              "\n",
              "    .dataframe tbody tr th {\n",
              "        vertical-align: top;\n",
              "    }\n",
              "\n",
              "    .dataframe thead th {\n",
              "        text-align: right;\n",
              "    }\n",
              "</style>\n",
              "<table border=\"1\" class=\"dataframe\">\n",
              "  <thead>\n",
              "    <tr style=\"text-align: right;\">\n",
              "      <th></th>\n",
              "      <th>Unnamed: 0</th>\n",
              "      <th>Feature-1</th>\n",
              "      <th>Feature-2</th>\n",
              "      <th>Feature-3</th>\n",
              "      <th>Feature-4</th>\n",
              "      <th>Feature-5</th>\n",
              "      <th>Feature-6</th>\n",
              "      <th>Feature-7</th>\n",
              "      <th>Feature-8</th>\n",
              "      <th>Feature-9</th>\n",
              "      <th>Feature-10</th>\n",
              "      <th>Word</th>\n",
              "    </tr>\n",
              "  </thead>\n",
              "  <tbody>\n",
              "    <tr>\n",
              "      <th>0</th>\n",
              "      <td>0</td>\n",
              "      <td>-0.135994</td>\n",
              "      <td>0.700704</td>\n",
              "      <td>-0.243845</td>\n",
              "      <td>-0.206682</td>\n",
              "      <td>0.012245</td>\n",
              "      <td>-0.134163</td>\n",
              "      <td>-0.034946</td>\n",
              "      <td>-0.000948</td>\n",
              "      <td>-0.006617</td>\n",
              "      <td>-0.013265</td>\n",
              "      <td>AFRAID</td>\n",
              "    </tr>\n",
              "    <tr>\n",
              "      <th>1</th>\n",
              "      <td>1</td>\n",
              "      <td>-0.164038</td>\n",
              "      <td>0.618974</td>\n",
              "      <td>-0.239514</td>\n",
              "      <td>-0.225620</td>\n",
              "      <td>-0.008237</td>\n",
              "      <td>-0.104077</td>\n",
              "      <td>0.035675</td>\n",
              "      <td>-0.012855</td>\n",
              "      <td>0.037187</td>\n",
              "      <td>-0.017356</td>\n",
              "      <td>AFRAID</td>\n",
              "    </tr>\n",
              "    <tr>\n",
              "      <th>2</th>\n",
              "      <td>2</td>\n",
              "      <td>-0.657468</td>\n",
              "      <td>-0.421108</td>\n",
              "      <td>-0.262696</td>\n",
              "      <td>0.028364</td>\n",
              "      <td>-0.147318</td>\n",
              "      <td>-0.037199</td>\n",
              "      <td>0.045543</td>\n",
              "      <td>-0.030400</td>\n",
              "      <td>-0.004434</td>\n",
              "      <td>-0.017793</td>\n",
              "      <td>AFRAID</td>\n",
              "    </tr>\n",
              "    <tr>\n",
              "      <th>3</th>\n",
              "      <td>3</td>\n",
              "      <td>-0.494670</td>\n",
              "      <td>-1.286647</td>\n",
              "      <td>-0.145833</td>\n",
              "      <td>0.209014</td>\n",
              "      <td>-0.183054</td>\n",
              "      <td>0.073933</td>\n",
              "      <td>0.122878</td>\n",
              "      <td>0.001645</td>\n",
              "      <td>0.105372</td>\n",
              "      <td>-0.058780</td>\n",
              "      <td>AFRAID</td>\n",
              "    </tr>\n",
              "    <tr>\n",
              "      <th>4</th>\n",
              "      <td>4</td>\n",
              "      <td>0.027746</td>\n",
              "      <td>-0.361878</td>\n",
              "      <td>-0.233952</td>\n",
              "      <td>-0.186101</td>\n",
              "      <td>-0.093658</td>\n",
              "      <td>0.032019</td>\n",
              "      <td>0.083742</td>\n",
              "      <td>0.005980</td>\n",
              "      <td>0.026283</td>\n",
              "      <td>-0.025037</td>\n",
              "      <td>AFRAID</td>\n",
              "    </tr>\n",
              "  </tbody>\n",
              "</table>\n",
              "</div>\n",
              "    <div class=\"colab-df-buttons\">\n",
              "\n",
              "  <div class=\"colab-df-container\">\n",
              "    <button class=\"colab-df-convert\" onclick=\"convertToInteractive('df-2e236a19-4f32-4d6a-abe2-42686bb3b9eb')\"\n",
              "            title=\"Convert this dataframe to an interactive table.\"\n",
              "            style=\"display:none;\">\n",
              "\n",
              "  <svg xmlns=\"http://www.w3.org/2000/svg\" height=\"24px\" viewBox=\"0 -960 960 960\">\n",
              "    <path d=\"M120-120v-720h720v720H120Zm60-500h600v-160H180v160Zm220 220h160v-160H400v160Zm0 220h160v-160H400v160ZM180-400h160v-160H180v160Zm440 0h160v-160H620v160ZM180-180h160v-160H180v160Zm440 0h160v-160H620v160Z\"/>\n",
              "  </svg>\n",
              "    </button>\n",
              "\n",
              "  <style>\n",
              "    .colab-df-container {\n",
              "      display:flex;\n",
              "      gap: 12px;\n",
              "    }\n",
              "\n",
              "    .colab-df-convert {\n",
              "      background-color: #E8F0FE;\n",
              "      border: none;\n",
              "      border-radius: 50%;\n",
              "      cursor: pointer;\n",
              "      display: none;\n",
              "      fill: #1967D2;\n",
              "      height: 32px;\n",
              "      padding: 0 0 0 0;\n",
              "      width: 32px;\n",
              "    }\n",
              "\n",
              "    .colab-df-convert:hover {\n",
              "      background-color: #E2EBFA;\n",
              "      box-shadow: 0px 1px 2px rgba(60, 64, 67, 0.3), 0px 1px 3px 1px rgba(60, 64, 67, 0.15);\n",
              "      fill: #174EA6;\n",
              "    }\n",
              "\n",
              "    .colab-df-buttons div {\n",
              "      margin-bottom: 4px;\n",
              "    }\n",
              "\n",
              "    [theme=dark] .colab-df-convert {\n",
              "      background-color: #3B4455;\n",
              "      fill: #D2E3FC;\n",
              "    }\n",
              "\n",
              "    [theme=dark] .colab-df-convert:hover {\n",
              "      background-color: #434B5C;\n",
              "      box-shadow: 0px 1px 3px 1px rgba(0, 0, 0, 0.15);\n",
              "      filter: drop-shadow(0px 1px 2px rgba(0, 0, 0, 0.3));\n",
              "      fill: #FFFFFF;\n",
              "    }\n",
              "  </style>\n",
              "\n",
              "    <script>\n",
              "      const buttonEl =\n",
              "        document.querySelector('#df-2e236a19-4f32-4d6a-abe2-42686bb3b9eb button.colab-df-convert');\n",
              "      buttonEl.style.display =\n",
              "        google.colab.kernel.accessAllowed ? 'block' : 'none';\n",
              "\n",
              "      async function convertToInteractive(key) {\n",
              "        const element = document.querySelector('#df-2e236a19-4f32-4d6a-abe2-42686bb3b9eb');\n",
              "        const dataTable =\n",
              "          await google.colab.kernel.invokeFunction('convertToInteractive',\n",
              "                                                    [key], {});\n",
              "        if (!dataTable) return;\n",
              "\n",
              "        const docLinkHtml = 'Like what you see? Visit the ' +\n",
              "          '<a target=\"_blank\" href=https://colab.research.google.com/notebooks/data_table.ipynb>data table notebook</a>'\n",
              "          + ' to learn more about interactive tables.';\n",
              "        element.innerHTML = '';\n",
              "        dataTable['output_type'] = 'display_data';\n",
              "        await google.colab.output.renderOutput(dataTable, element);\n",
              "        const docLink = document.createElement('div');\n",
              "        docLink.innerHTML = docLinkHtml;\n",
              "        element.appendChild(docLink);\n",
              "      }\n",
              "    </script>\n",
              "  </div>\n",
              "\n",
              "\n",
              "<div id=\"df-6d49b13c-db45-40a8-ad91-cd75d5aaf78e\">\n",
              "  <button class=\"colab-df-quickchart\" onclick=\"quickchart('df-6d49b13c-db45-40a8-ad91-cd75d5aaf78e')\"\n",
              "            title=\"Suggest charts\"\n",
              "            style=\"display:none;\">\n",
              "\n",
              "<svg xmlns=\"http://www.w3.org/2000/svg\" height=\"24px\"viewBox=\"0 0 24 24\"\n",
              "     width=\"24px\">\n",
              "    <g>\n",
              "        <path d=\"M19 3H5c-1.1 0-2 .9-2 2v14c0 1.1.9 2 2 2h14c1.1 0 2-.9 2-2V5c0-1.1-.9-2-2-2zM9 17H7v-7h2v7zm4 0h-2V7h2v10zm4 0h-2v-4h2v4z\"/>\n",
              "    </g>\n",
              "</svg>\n",
              "  </button>\n",
              "\n",
              "<style>\n",
              "  .colab-df-quickchart {\n",
              "      --bg-color: #E8F0FE;\n",
              "      --fill-color: #1967D2;\n",
              "      --hover-bg-color: #E2EBFA;\n",
              "      --hover-fill-color: #174EA6;\n",
              "      --disabled-fill-color: #AAA;\n",
              "      --disabled-bg-color: #DDD;\n",
              "  }\n",
              "\n",
              "  [theme=dark] .colab-df-quickchart {\n",
              "      --bg-color: #3B4455;\n",
              "      --fill-color: #D2E3FC;\n",
              "      --hover-bg-color: #434B5C;\n",
              "      --hover-fill-color: #FFFFFF;\n",
              "      --disabled-bg-color: #3B4455;\n",
              "      --disabled-fill-color: #666;\n",
              "  }\n",
              "\n",
              "  .colab-df-quickchart {\n",
              "    background-color: var(--bg-color);\n",
              "    border: none;\n",
              "    border-radius: 50%;\n",
              "    cursor: pointer;\n",
              "    display: none;\n",
              "    fill: var(--fill-color);\n",
              "    height: 32px;\n",
              "    padding: 0;\n",
              "    width: 32px;\n",
              "  }\n",
              "\n",
              "  .colab-df-quickchart:hover {\n",
              "    background-color: var(--hover-bg-color);\n",
              "    box-shadow: 0 1px 2px rgba(60, 64, 67, 0.3), 0 1px 3px 1px rgba(60, 64, 67, 0.15);\n",
              "    fill: var(--button-hover-fill-color);\n",
              "  }\n",
              "\n",
              "  .colab-df-quickchart-complete:disabled,\n",
              "  .colab-df-quickchart-complete:disabled:hover {\n",
              "    background-color: var(--disabled-bg-color);\n",
              "    fill: var(--disabled-fill-color);\n",
              "    box-shadow: none;\n",
              "  }\n",
              "\n",
              "  .colab-df-spinner {\n",
              "    border: 2px solid var(--fill-color);\n",
              "    border-color: transparent;\n",
              "    border-bottom-color: var(--fill-color);\n",
              "    animation:\n",
              "      spin 1s steps(1) infinite;\n",
              "  }\n",
              "\n",
              "  @keyframes spin {\n",
              "    0% {\n",
              "      border-color: transparent;\n",
              "      border-bottom-color: var(--fill-color);\n",
              "      border-left-color: var(--fill-color);\n",
              "    }\n",
              "    20% {\n",
              "      border-color: transparent;\n",
              "      border-left-color: var(--fill-color);\n",
              "      border-top-color: var(--fill-color);\n",
              "    }\n",
              "    30% {\n",
              "      border-color: transparent;\n",
              "      border-left-color: var(--fill-color);\n",
              "      border-top-color: var(--fill-color);\n",
              "      border-right-color: var(--fill-color);\n",
              "    }\n",
              "    40% {\n",
              "      border-color: transparent;\n",
              "      border-right-color: var(--fill-color);\n",
              "      border-top-color: var(--fill-color);\n",
              "    }\n",
              "    60% {\n",
              "      border-color: transparent;\n",
              "      border-right-color: var(--fill-color);\n",
              "    }\n",
              "    80% {\n",
              "      border-color: transparent;\n",
              "      border-right-color: var(--fill-color);\n",
              "      border-bottom-color: var(--fill-color);\n",
              "    }\n",
              "    90% {\n",
              "      border-color: transparent;\n",
              "      border-bottom-color: var(--fill-color);\n",
              "    }\n",
              "  }\n",
              "</style>\n",
              "\n",
              "  <script>\n",
              "    async function quickchart(key) {\n",
              "      const quickchartButtonEl =\n",
              "        document.querySelector('#' + key + ' button');\n",
              "      quickchartButtonEl.disabled = true;  // To prevent multiple clicks.\n",
              "      quickchartButtonEl.classList.add('colab-df-spinner');\n",
              "      try {\n",
              "        const charts = await google.colab.kernel.invokeFunction(\n",
              "            'suggestCharts', [key], {});\n",
              "      } catch (error) {\n",
              "        console.error('Error during call to suggestCharts:', error);\n",
              "      }\n",
              "      quickchartButtonEl.classList.remove('colab-df-spinner');\n",
              "      quickchartButtonEl.classList.add('colab-df-quickchart-complete');\n",
              "    }\n",
              "    (() => {\n",
              "      let quickchartButtonEl =\n",
              "        document.querySelector('#df-6d49b13c-db45-40a8-ad91-cd75d5aaf78e button');\n",
              "      quickchartButtonEl.style.display =\n",
              "        google.colab.kernel.accessAllowed ? 'block' : 'none';\n",
              "    })();\n",
              "  </script>\n",
              "</div>\n",
              "\n",
              "    </div>\n",
              "  </div>\n"
            ],
            "application/vnd.google.colaboratory.intrinsic+json": {
              "type": "dataframe",
              "variable_name": "words_corpus",
              "summary": "{\n  \"name\": \"words_corpus\",\n  \"rows\": 13540,\n  \"fields\": [\n    {\n      \"column\": \"Unnamed: 0\",\n      \"properties\": {\n        \"dtype\": \"number\",\n        \"std\": 3908,\n        \"min\": 0,\n        \"max\": 13539,\n        \"num_unique_values\": 13540,\n        \"samples\": [\n          10581,\n          10254,\n          12339\n        ],\n        \"semantic_type\": \"\",\n        \"description\": \"\"\n      }\n    },\n    {\n      \"column\": \"Feature-1\",\n      \"properties\": {\n        \"dtype\": \"number\",\n        \"std\": 0.7055500721668679,\n        \"min\": -2.262992002502618,\n        \"max\": 2.3957090639182703,\n        \"num_unique_values\": 13540,\n        \"samples\": [\n          0.8582726767623613,\n          0.1334534332948608,\n          0.9055573276620734\n        ],\n        \"semantic_type\": \"\",\n        \"description\": \"\"\n      }\n    },\n    {\n      \"column\": \"Feature-2\",\n      \"properties\": {\n        \"dtype\": \"number\",\n        \"std\": 0.4919869172887391,\n        \"min\": -2.0616313968349704,\n        \"max\": 2.131316965413597,\n        \"num_unique_values\": 13540,\n        \"samples\": [\n          0.4896949027408098,\n          -0.0889634759539694,\n          -0.1570481993832645\n        ],\n        \"semantic_type\": \"\",\n        \"description\": \"\"\n      }\n    },\n    {\n      \"column\": \"Feature-3\",\n      \"properties\": {\n        \"dtype\": \"number\",\n        \"std\": 0.42710094578017627,\n        \"min\": -0.6893976906086079,\n        \"max\": 1.1400484775469055,\n        \"num_unique_values\": 13540,\n        \"samples\": [\n          0.4007160931709903,\n          0.121602415114436,\n          0.2497419099820131\n        ],\n        \"semantic_type\": \"\",\n        \"description\": \"\"\n      }\n    },\n    {\n      \"column\": \"Feature-4\",\n      \"properties\": {\n        \"dtype\": \"number\",\n        \"std\": 0.27159048404426844,\n        \"min\": -0.7856937928739831,\n        \"max\": 0.9693110479062398,\n        \"num_unique_values\": 13540,\n        \"samples\": [\n          0.0973963197485372,\n          0.0757349120898596,\n          0.069407619501603\n        ],\n        \"semantic_type\": \"\",\n        \"description\": \"\"\n      }\n    },\n    {\n      \"column\": \"Feature-5\",\n      \"properties\": {\n        \"dtype\": \"number\",\n        \"std\": 0.23565616002240258,\n        \"min\": -0.8843256870311273,\n        \"max\": 0.907947360546656,\n        \"num_unique_values\": 13540,\n        \"samples\": [\n          -0.0734971141020551,\n          0.5750554500646278,\n          0.2861201803618277\n        ],\n        \"semantic_type\": \"\",\n        \"description\": \"\"\n      }\n    },\n    {\n      \"column\": \"Feature-6\",\n      \"properties\": {\n        \"dtype\": \"number\",\n        \"std\": 0.1964975933945298,\n        \"min\": -0.5641479805626659,\n        \"max\": 0.8781311068790973,\n        \"num_unique_values\": 13540,\n        \"samples\": [\n          0.092611918090566,\n          -0.1797802242706659,\n          -0.2519751608653021\n        ],\n        \"semantic_type\": \"\",\n        \"description\": \"\"\n      }\n    },\n    {\n      \"column\": \"Feature-7\",\n      \"properties\": {\n        \"dtype\": \"number\",\n        \"std\": 0.16911420174951036,\n        \"min\": -0.6075316921671778,\n        \"max\": 0.7956439099803132,\n        \"num_unique_values\": 13540,\n        \"samples\": [\n          0.0975769330311028,\n          -0.0206986460229629,\n          0.3259444411296832\n        ],\n        \"semantic_type\": \"\",\n        \"description\": \"\"\n      }\n    },\n    {\n      \"column\": \"Feature-8\",\n      \"properties\": {\n        \"dtype\": \"number\",\n        \"std\": 0.15124498625658728,\n        \"min\": -0.3318332142579677,\n        \"max\": 0.7591550886417452,\n        \"num_unique_values\": 13540,\n        \"samples\": [\n          -0.2668803402434938,\n          -0.1250172694695038,\n          0.1412430836010709\n        ],\n        \"semantic_type\": \"\",\n        \"description\": \"\"\n      }\n    },\n    {\n      \"column\": \"Feature-9\",\n      \"properties\": {\n        \"dtype\": \"number\",\n        \"std\": 0.12348031231362566,\n        \"min\": -0.4577441384127627,\n        \"max\": 0.6579677668279638,\n        \"num_unique_values\": 13540,\n        \"samples\": [\n          -0.1989000831079876,\n          -0.2110710789928285,\n          0.0051461770151843\n        ],\n        \"semantic_type\": \"\",\n        \"description\": \"\"\n      }\n    },\n    {\n      \"column\": \"Feature-10\",\n      \"properties\": {\n        \"dtype\": \"number\",\n        \"std\": 0.10387000036747918,\n        \"min\": -0.2950944456108955,\n        \"max\": 0.4903264596039012,\n        \"num_unique_values\": 13540,\n        \"samples\": [\n          0.1289582140708924,\n          -0.0180451765052928,\n          -0.109783916711937\n        ],\n        \"semantic_type\": \"\",\n        \"description\": \"\"\n      }\n    },\n    {\n      \"column\": \"Word\",\n      \"properties\": {\n        \"dtype\": \"category\",\n        \"num_unique_values\": 124,\n        \"samples\": [\n          \"FEVER\",\n          \"MEDICINE\",\n          \"HURT\"\n        ],\n        \"semantic_type\": \"\",\n        \"description\": \"\"\n      }\n    }\n  ]\n}"
            }
          },
          "metadata": {},
          "execution_count": 2
        }
      ]
    },
    {
      "cell_type": "code",
      "source": [
        "if torch.cuda.is_available():\n",
        "  device = torch.device(\"cuda\")\n",
        "else:\n",
        "  device = torch.device(\"cpu\")\n",
        "\n",
        "print(device)"
      ],
      "metadata": {
        "colab": {
          "base_uri": "https://localhost:8080/"
        },
        "id": "jr8Lm17sochx",
        "outputId": "719e1551-7b47-4e7c-a008-0238289c5961"
      },
      "execution_count": null,
      "outputs": [
        {
          "output_type": "stream",
          "name": "stdout",
          "text": [
            "cuda\n"
          ]
        }
      ]
    },
    {
      "cell_type": "code",
      "source": [
        "words_corpus.shape"
      ],
      "metadata": {
        "colab": {
          "base_uri": "https://localhost:8080/"
        },
        "id": "TWpS5Bxo2Jji",
        "outputId": "649cb7e9-d040-4e44-852f-defd4da8feac"
      },
      "execution_count": null,
      "outputs": [
        {
          "output_type": "execute_result",
          "data": {
            "text/plain": [
              "(13540, 12)"
            ]
          },
          "metadata": {},
          "execution_count": 4
        }
      ]
    },
    {
      "cell_type": "code",
      "source": [
        "words_corpus.drop([\"Unnamed: 0\"], inplace=True, axis=1)"
      ],
      "metadata": {
        "id": "7xRkI-BN4zbi"
      },
      "execution_count": null,
      "outputs": []
    },
    {
      "cell_type": "code",
      "source": [
        "\n",
        "words_corpus.shape"
      ],
      "metadata": {
        "colab": {
          "base_uri": "https://localhost:8080/"
        },
        "id": "vdvjm0d3OaKM",
        "outputId": "0e9c993c-a78c-4f1b-fd96-ef1dd50c3c41"
      },
      "execution_count": null,
      "outputs": [
        {
          "output_type": "execute_result",
          "data": {
            "text/plain": [
              "(13540, 11)"
            ]
          },
          "metadata": {},
          "execution_count": 6
        }
      ]
    },
    {
      "cell_type": "code",
      "source": [
        "words_corpus[\"Word\"].value_counts()"
      ],
      "metadata": {
        "colab": {
          "base_uri": "https://localhost:8080/",
          "height": 489
        },
        "id": "lSNEnqZXO7Z7",
        "outputId": "77b5cdd2-92a9-401c-969a-3eab76327e51"
      },
      "execution_count": null,
      "outputs": [
        {
          "output_type": "execute_result",
          "data": {
            "text/plain": [
              "Word\n",
              "Z           200\n",
              "9           200\n",
              "H           200\n",
              "G           200\n",
              "F           200\n",
              "           ... \n",
              "HURT         75\n",
              "HUNGRY       75\n",
              "HOW          75\n",
              "HIDING       75\n",
              "SOME ONE     75\n",
              "Name: count, Length: 124, dtype: int64"
            ],
            "text/html": [
              "<div>\n",
              "<style scoped>\n",
              "    .dataframe tbody tr th:only-of-type {\n",
              "        vertical-align: middle;\n",
              "    }\n",
              "\n",
              "    .dataframe tbody tr th {\n",
              "        vertical-align: top;\n",
              "    }\n",
              "\n",
              "    .dataframe thead th {\n",
              "        text-align: right;\n",
              "    }\n",
              "</style>\n",
              "<table border=\"1\" class=\"dataframe\">\n",
              "  <thead>\n",
              "    <tr style=\"text-align: right;\">\n",
              "      <th></th>\n",
              "      <th>count</th>\n",
              "    </tr>\n",
              "    <tr>\n",
              "      <th>Word</th>\n",
              "      <th></th>\n",
              "    </tr>\n",
              "  </thead>\n",
              "  <tbody>\n",
              "    <tr>\n",
              "      <th>Z</th>\n",
              "      <td>200</td>\n",
              "    </tr>\n",
              "    <tr>\n",
              "      <th>9</th>\n",
              "      <td>200</td>\n",
              "    </tr>\n",
              "    <tr>\n",
              "      <th>H</th>\n",
              "      <td>200</td>\n",
              "    </tr>\n",
              "    <tr>\n",
              "      <th>G</th>\n",
              "      <td>200</td>\n",
              "    </tr>\n",
              "    <tr>\n",
              "      <th>F</th>\n",
              "      <td>200</td>\n",
              "    </tr>\n",
              "    <tr>\n",
              "      <th>...</th>\n",
              "      <td>...</td>\n",
              "    </tr>\n",
              "    <tr>\n",
              "      <th>HURT</th>\n",
              "      <td>75</td>\n",
              "    </tr>\n",
              "    <tr>\n",
              "      <th>HUNGRY</th>\n",
              "      <td>75</td>\n",
              "    </tr>\n",
              "    <tr>\n",
              "      <th>HOW</th>\n",
              "      <td>75</td>\n",
              "    </tr>\n",
              "    <tr>\n",
              "      <th>HIDING</th>\n",
              "      <td>75</td>\n",
              "    </tr>\n",
              "    <tr>\n",
              "      <th>SOME ONE</th>\n",
              "      <td>75</td>\n",
              "    </tr>\n",
              "  </tbody>\n",
              "</table>\n",
              "<p>124 rows × 1 columns</p>\n",
              "</div><br><label><b>dtype:</b> int64</label>"
            ]
          },
          "metadata": {},
          "execution_count": 7
        }
      ]
    },
    {
      "cell_type": "code",
      "source": [
        "words_corpus[\"Word\"].unique()"
      ],
      "metadata": {
        "colab": {
          "base_uri": "https://localhost:8080/"
        },
        "id": "0q0wh3oGUld3",
        "outputId": "1dec4702-821e-4475-e6d2-bc279ce0a269"
      },
      "execution_count": null,
      "outputs": [
        {
          "output_type": "execute_result",
          "data": {
            "text/plain": [
              "array(['AFRAID', 'ANGRY', 'APPRECIATE', 'BAD', 'BED', 'BORED', 'CLASS',\n",
              "       'COLD', 'COLLEGE_SCHOOL', 'COMB', 'COME', 'CONGRATULATIONS',\n",
              "       'CRYING', 'DARE', 'DIFFERENCE', 'DISAPPOINTED', 'DO', 'FAVOUR',\n",
              "       'FEVER', 'FINE', 'FOOD', 'FREE', 'FRIEND', 'FROM', 'GO', 'GOOD',\n",
              "       'GRATEFUL', 'HAD', 'HAPPY', 'HEAR', 'HEART', 'HELLO_HI', 'HELP',\n",
              "       'HIDING', 'HOW', 'HUNGRY', 'HURT', 'I_ME_MINE_MY', 'KIND', 'LEAVE',\n",
              "       'LIKE_LOVE', 'MEAN IT', 'MEDICINE', 'MEET', 'NAME', 'NICE',\n",
              "       'OLD_AGE', 'OUTSIDE', 'PHONE', 'PLACE', 'POUR', 'PREPARE',\n",
              "       'PROMISE', 'REALLY', 'REPEAT', 'ROOM', 'SHIRT', 'SITTING', 'SLEEP',\n",
              "       'SLOWER', 'SO MUCH', 'SOFTLY', 'SOME ONE', 'SOMETHING', 'SORRY',\n",
              "       'SPEAK', 'STOP', 'SURE', 'TAKE CARE', 'TAKE TIME', 'TALK', 'TELL',\n",
              "       'THANK', 'THAT', 'THINGS', 'THINK', 'THIRSTY', 'TIRED', 'TODAY',\n",
              "       'TRUST', 'TRUTH', 'TURN ON', 'UNDERSTAND', 'WANT', 'WATER', 'WEAR',\n",
              "       'WELCOME', 'WHAT', 'YOU', '1', '2', '3', '4', '5', '6', '7', '8',\n",
              "       '9', 'A', 'B', 'C', 'D', 'E', 'F', 'G', 'H', 'I', 'J', 'K', 'L',\n",
              "       'M', 'N', 'O', 'P', 'Q', 'R', 'S', 'T', 'U', 'V', 'W', 'X', 'Y',\n",
              "       'Z'], dtype=object)"
            ]
          },
          "metadata": {},
          "execution_count": 8
        }
      ]
    },
    {
      "cell_type": "code",
      "source": [
        "words_corpus[\"Word\"].nunique()"
      ],
      "metadata": {
        "colab": {
          "base_uri": "https://localhost:8080/"
        },
        "id": "RNp3Hl1gKx4Z",
        "outputId": "f48cccaf-414a-425c-fb96-e4c80592b257"
      },
      "execution_count": null,
      "outputs": [
        {
          "output_type": "execute_result",
          "data": {
            "text/plain": [
              "124"
            ]
          },
          "metadata": {},
          "execution_count": 9
        }
      ]
    },
    {
      "cell_type": "code",
      "source": [
        "def sample_or_keep(group):\n",
        "    return group.sample(n=min(len(group), 100), random_state=42)  # Set random_state for reproducibility\n",
        "\n",
        "# Group by 'Word' column and apply sampling\n",
        "# sampled_words_df = words_corpus.groupby('Word', group_keys=False).apply(sample_or_keep)"
      ],
      "metadata": {
        "id": "LokFMGJqysdM"
      },
      "execution_count": null,
      "outputs": []
    },
    {
      "cell_type": "code",
      "source": [
        "# sampled_words_df"
      ],
      "metadata": {
        "id": "ADGQ2v5sdzU2"
      },
      "execution_count": null,
      "outputs": []
    },
    {
      "cell_type": "code",
      "source": [
        "# sampled_words_df[\"Word\"].value_counts()"
      ],
      "metadata": {
        "id": "NV6ew-qTdyL-"
      },
      "execution_count": null,
      "outputs": []
    },
    {
      "cell_type": "code",
      "source": [
        "new_words_df = words_corpus.copy()"
      ],
      "metadata": {
        "id": "pFeuiLSxR4MK"
      },
      "execution_count": null,
      "outputs": []
    },
    {
      "cell_type": "code",
      "source": [
        "new_words_df.head()"
      ],
      "metadata": {
        "colab": {
          "base_uri": "https://localhost:8080/",
          "height": 206
        },
        "id": "I4cwF13pyse9",
        "outputId": "6989f2a2-93ac-4948-e77a-7d41c6da4903"
      },
      "execution_count": null,
      "outputs": [
        {
          "output_type": "execute_result",
          "data": {
            "text/plain": [
              "   Feature-1  Feature-2  Feature-3  Feature-4  Feature-5  Feature-6  \\\n",
              "0  -0.135994   0.700704  -0.243845  -0.206682   0.012245  -0.134163   \n",
              "1  -0.164038   0.618974  -0.239514  -0.225620  -0.008237  -0.104077   \n",
              "2  -0.657468  -0.421108  -0.262696   0.028364  -0.147318  -0.037199   \n",
              "3  -0.494670  -1.286647  -0.145833   0.209014  -0.183054   0.073933   \n",
              "4   0.027746  -0.361878  -0.233952  -0.186101  -0.093658   0.032019   \n",
              "\n",
              "   Feature-7  Feature-8  Feature-9  Feature-10    Word  \n",
              "0  -0.034946  -0.000948  -0.006617   -0.013265  AFRAID  \n",
              "1   0.035675  -0.012855   0.037187   -0.017356  AFRAID  \n",
              "2   0.045543  -0.030400  -0.004434   -0.017793  AFRAID  \n",
              "3   0.122878   0.001645   0.105372   -0.058780  AFRAID  \n",
              "4   0.083742   0.005980   0.026283   -0.025037  AFRAID  "
            ],
            "text/html": [
              "\n",
              "  <div id=\"df-47fbb1fe-98eb-4a75-9b9f-4632d554e1b7\" class=\"colab-df-container\">\n",
              "    <div>\n",
              "<style scoped>\n",
              "    .dataframe tbody tr th:only-of-type {\n",
              "        vertical-align: middle;\n",
              "    }\n",
              "\n",
              "    .dataframe tbody tr th {\n",
              "        vertical-align: top;\n",
              "    }\n",
              "\n",
              "    .dataframe thead th {\n",
              "        text-align: right;\n",
              "    }\n",
              "</style>\n",
              "<table border=\"1\" class=\"dataframe\">\n",
              "  <thead>\n",
              "    <tr style=\"text-align: right;\">\n",
              "      <th></th>\n",
              "      <th>Feature-1</th>\n",
              "      <th>Feature-2</th>\n",
              "      <th>Feature-3</th>\n",
              "      <th>Feature-4</th>\n",
              "      <th>Feature-5</th>\n",
              "      <th>Feature-6</th>\n",
              "      <th>Feature-7</th>\n",
              "      <th>Feature-8</th>\n",
              "      <th>Feature-9</th>\n",
              "      <th>Feature-10</th>\n",
              "      <th>Word</th>\n",
              "    </tr>\n",
              "  </thead>\n",
              "  <tbody>\n",
              "    <tr>\n",
              "      <th>0</th>\n",
              "      <td>-0.135994</td>\n",
              "      <td>0.700704</td>\n",
              "      <td>-0.243845</td>\n",
              "      <td>-0.206682</td>\n",
              "      <td>0.012245</td>\n",
              "      <td>-0.134163</td>\n",
              "      <td>-0.034946</td>\n",
              "      <td>-0.000948</td>\n",
              "      <td>-0.006617</td>\n",
              "      <td>-0.013265</td>\n",
              "      <td>AFRAID</td>\n",
              "    </tr>\n",
              "    <tr>\n",
              "      <th>1</th>\n",
              "      <td>-0.164038</td>\n",
              "      <td>0.618974</td>\n",
              "      <td>-0.239514</td>\n",
              "      <td>-0.225620</td>\n",
              "      <td>-0.008237</td>\n",
              "      <td>-0.104077</td>\n",
              "      <td>0.035675</td>\n",
              "      <td>-0.012855</td>\n",
              "      <td>0.037187</td>\n",
              "      <td>-0.017356</td>\n",
              "      <td>AFRAID</td>\n",
              "    </tr>\n",
              "    <tr>\n",
              "      <th>2</th>\n",
              "      <td>-0.657468</td>\n",
              "      <td>-0.421108</td>\n",
              "      <td>-0.262696</td>\n",
              "      <td>0.028364</td>\n",
              "      <td>-0.147318</td>\n",
              "      <td>-0.037199</td>\n",
              "      <td>0.045543</td>\n",
              "      <td>-0.030400</td>\n",
              "      <td>-0.004434</td>\n",
              "      <td>-0.017793</td>\n",
              "      <td>AFRAID</td>\n",
              "    </tr>\n",
              "    <tr>\n",
              "      <th>3</th>\n",
              "      <td>-0.494670</td>\n",
              "      <td>-1.286647</td>\n",
              "      <td>-0.145833</td>\n",
              "      <td>0.209014</td>\n",
              "      <td>-0.183054</td>\n",
              "      <td>0.073933</td>\n",
              "      <td>0.122878</td>\n",
              "      <td>0.001645</td>\n",
              "      <td>0.105372</td>\n",
              "      <td>-0.058780</td>\n",
              "      <td>AFRAID</td>\n",
              "    </tr>\n",
              "    <tr>\n",
              "      <th>4</th>\n",
              "      <td>0.027746</td>\n",
              "      <td>-0.361878</td>\n",
              "      <td>-0.233952</td>\n",
              "      <td>-0.186101</td>\n",
              "      <td>-0.093658</td>\n",
              "      <td>0.032019</td>\n",
              "      <td>0.083742</td>\n",
              "      <td>0.005980</td>\n",
              "      <td>0.026283</td>\n",
              "      <td>-0.025037</td>\n",
              "      <td>AFRAID</td>\n",
              "    </tr>\n",
              "  </tbody>\n",
              "</table>\n",
              "</div>\n",
              "    <div class=\"colab-df-buttons\">\n",
              "\n",
              "  <div class=\"colab-df-container\">\n",
              "    <button class=\"colab-df-convert\" onclick=\"convertToInteractive('df-47fbb1fe-98eb-4a75-9b9f-4632d554e1b7')\"\n",
              "            title=\"Convert this dataframe to an interactive table.\"\n",
              "            style=\"display:none;\">\n",
              "\n",
              "  <svg xmlns=\"http://www.w3.org/2000/svg\" height=\"24px\" viewBox=\"0 -960 960 960\">\n",
              "    <path d=\"M120-120v-720h720v720H120Zm60-500h600v-160H180v160Zm220 220h160v-160H400v160Zm0 220h160v-160H400v160ZM180-400h160v-160H180v160Zm440 0h160v-160H620v160ZM180-180h160v-160H180v160Zm440 0h160v-160H620v160Z\"/>\n",
              "  </svg>\n",
              "    </button>\n",
              "\n",
              "  <style>\n",
              "    .colab-df-container {\n",
              "      display:flex;\n",
              "      gap: 12px;\n",
              "    }\n",
              "\n",
              "    .colab-df-convert {\n",
              "      background-color: #E8F0FE;\n",
              "      border: none;\n",
              "      border-radius: 50%;\n",
              "      cursor: pointer;\n",
              "      display: none;\n",
              "      fill: #1967D2;\n",
              "      height: 32px;\n",
              "      padding: 0 0 0 0;\n",
              "      width: 32px;\n",
              "    }\n",
              "\n",
              "    .colab-df-convert:hover {\n",
              "      background-color: #E2EBFA;\n",
              "      box-shadow: 0px 1px 2px rgba(60, 64, 67, 0.3), 0px 1px 3px 1px rgba(60, 64, 67, 0.15);\n",
              "      fill: #174EA6;\n",
              "    }\n",
              "\n",
              "    .colab-df-buttons div {\n",
              "      margin-bottom: 4px;\n",
              "    }\n",
              "\n",
              "    [theme=dark] .colab-df-convert {\n",
              "      background-color: #3B4455;\n",
              "      fill: #D2E3FC;\n",
              "    }\n",
              "\n",
              "    [theme=dark] .colab-df-convert:hover {\n",
              "      background-color: #434B5C;\n",
              "      box-shadow: 0px 1px 3px 1px rgba(0, 0, 0, 0.15);\n",
              "      filter: drop-shadow(0px 1px 2px rgba(0, 0, 0, 0.3));\n",
              "      fill: #FFFFFF;\n",
              "    }\n",
              "  </style>\n",
              "\n",
              "    <script>\n",
              "      const buttonEl =\n",
              "        document.querySelector('#df-47fbb1fe-98eb-4a75-9b9f-4632d554e1b7 button.colab-df-convert');\n",
              "      buttonEl.style.display =\n",
              "        google.colab.kernel.accessAllowed ? 'block' : 'none';\n",
              "\n",
              "      async function convertToInteractive(key) {\n",
              "        const element = document.querySelector('#df-47fbb1fe-98eb-4a75-9b9f-4632d554e1b7');\n",
              "        const dataTable =\n",
              "          await google.colab.kernel.invokeFunction('convertToInteractive',\n",
              "                                                    [key], {});\n",
              "        if (!dataTable) return;\n",
              "\n",
              "        const docLinkHtml = 'Like what you see? Visit the ' +\n",
              "          '<a target=\"_blank\" href=https://colab.research.google.com/notebooks/data_table.ipynb>data table notebook</a>'\n",
              "          + ' to learn more about interactive tables.';\n",
              "        element.innerHTML = '';\n",
              "        dataTable['output_type'] = 'display_data';\n",
              "        await google.colab.output.renderOutput(dataTable, element);\n",
              "        const docLink = document.createElement('div');\n",
              "        docLink.innerHTML = docLinkHtml;\n",
              "        element.appendChild(docLink);\n",
              "      }\n",
              "    </script>\n",
              "  </div>\n",
              "\n",
              "\n",
              "<div id=\"df-5a799a1b-edbb-41ae-941e-a0bcd9701159\">\n",
              "  <button class=\"colab-df-quickchart\" onclick=\"quickchart('df-5a799a1b-edbb-41ae-941e-a0bcd9701159')\"\n",
              "            title=\"Suggest charts\"\n",
              "            style=\"display:none;\">\n",
              "\n",
              "<svg xmlns=\"http://www.w3.org/2000/svg\" height=\"24px\"viewBox=\"0 0 24 24\"\n",
              "     width=\"24px\">\n",
              "    <g>\n",
              "        <path d=\"M19 3H5c-1.1 0-2 .9-2 2v14c0 1.1.9 2 2 2h14c1.1 0 2-.9 2-2V5c0-1.1-.9-2-2-2zM9 17H7v-7h2v7zm4 0h-2V7h2v10zm4 0h-2v-4h2v4z\"/>\n",
              "    </g>\n",
              "</svg>\n",
              "  </button>\n",
              "\n",
              "<style>\n",
              "  .colab-df-quickchart {\n",
              "      --bg-color: #E8F0FE;\n",
              "      --fill-color: #1967D2;\n",
              "      --hover-bg-color: #E2EBFA;\n",
              "      --hover-fill-color: #174EA6;\n",
              "      --disabled-fill-color: #AAA;\n",
              "      --disabled-bg-color: #DDD;\n",
              "  }\n",
              "\n",
              "  [theme=dark] .colab-df-quickchart {\n",
              "      --bg-color: #3B4455;\n",
              "      --fill-color: #D2E3FC;\n",
              "      --hover-bg-color: #434B5C;\n",
              "      --hover-fill-color: #FFFFFF;\n",
              "      --disabled-bg-color: #3B4455;\n",
              "      --disabled-fill-color: #666;\n",
              "  }\n",
              "\n",
              "  .colab-df-quickchart {\n",
              "    background-color: var(--bg-color);\n",
              "    border: none;\n",
              "    border-radius: 50%;\n",
              "    cursor: pointer;\n",
              "    display: none;\n",
              "    fill: var(--fill-color);\n",
              "    height: 32px;\n",
              "    padding: 0;\n",
              "    width: 32px;\n",
              "  }\n",
              "\n",
              "  .colab-df-quickchart:hover {\n",
              "    background-color: var(--hover-bg-color);\n",
              "    box-shadow: 0 1px 2px rgba(60, 64, 67, 0.3), 0 1px 3px 1px rgba(60, 64, 67, 0.15);\n",
              "    fill: var(--button-hover-fill-color);\n",
              "  }\n",
              "\n",
              "  .colab-df-quickchart-complete:disabled,\n",
              "  .colab-df-quickchart-complete:disabled:hover {\n",
              "    background-color: var(--disabled-bg-color);\n",
              "    fill: var(--disabled-fill-color);\n",
              "    box-shadow: none;\n",
              "  }\n",
              "\n",
              "  .colab-df-spinner {\n",
              "    border: 2px solid var(--fill-color);\n",
              "    border-color: transparent;\n",
              "    border-bottom-color: var(--fill-color);\n",
              "    animation:\n",
              "      spin 1s steps(1) infinite;\n",
              "  }\n",
              "\n",
              "  @keyframes spin {\n",
              "    0% {\n",
              "      border-color: transparent;\n",
              "      border-bottom-color: var(--fill-color);\n",
              "      border-left-color: var(--fill-color);\n",
              "    }\n",
              "    20% {\n",
              "      border-color: transparent;\n",
              "      border-left-color: var(--fill-color);\n",
              "      border-top-color: var(--fill-color);\n",
              "    }\n",
              "    30% {\n",
              "      border-color: transparent;\n",
              "      border-left-color: var(--fill-color);\n",
              "      border-top-color: var(--fill-color);\n",
              "      border-right-color: var(--fill-color);\n",
              "    }\n",
              "    40% {\n",
              "      border-color: transparent;\n",
              "      border-right-color: var(--fill-color);\n",
              "      border-top-color: var(--fill-color);\n",
              "    }\n",
              "    60% {\n",
              "      border-color: transparent;\n",
              "      border-right-color: var(--fill-color);\n",
              "    }\n",
              "    80% {\n",
              "      border-color: transparent;\n",
              "      border-right-color: var(--fill-color);\n",
              "      border-bottom-color: var(--fill-color);\n",
              "    }\n",
              "    90% {\n",
              "      border-color: transparent;\n",
              "      border-bottom-color: var(--fill-color);\n",
              "    }\n",
              "  }\n",
              "</style>\n",
              "\n",
              "  <script>\n",
              "    async function quickchart(key) {\n",
              "      const quickchartButtonEl =\n",
              "        document.querySelector('#' + key + ' button');\n",
              "      quickchartButtonEl.disabled = true;  // To prevent multiple clicks.\n",
              "      quickchartButtonEl.classList.add('colab-df-spinner');\n",
              "      try {\n",
              "        const charts = await google.colab.kernel.invokeFunction(\n",
              "            'suggestCharts', [key], {});\n",
              "      } catch (error) {\n",
              "        console.error('Error during call to suggestCharts:', error);\n",
              "      }\n",
              "      quickchartButtonEl.classList.remove('colab-df-spinner');\n",
              "      quickchartButtonEl.classList.add('colab-df-quickchart-complete');\n",
              "    }\n",
              "    (() => {\n",
              "      let quickchartButtonEl =\n",
              "        document.querySelector('#df-5a799a1b-edbb-41ae-941e-a0bcd9701159 button');\n",
              "      quickchartButtonEl.style.display =\n",
              "        google.colab.kernel.accessAllowed ? 'block' : 'none';\n",
              "    })();\n",
              "  </script>\n",
              "</div>\n",
              "\n",
              "    </div>\n",
              "  </div>\n"
            ],
            "application/vnd.google.colaboratory.intrinsic+json": {
              "type": "dataframe",
              "variable_name": "new_words_df",
              "summary": "{\n  \"name\": \"new_words_df\",\n  \"rows\": 13540,\n  \"fields\": [\n    {\n      \"column\": \"Feature-1\",\n      \"properties\": {\n        \"dtype\": \"number\",\n        \"std\": 0.7055500721668679,\n        \"min\": -2.262992002502618,\n        \"max\": 2.3957090639182703,\n        \"num_unique_values\": 13540,\n        \"samples\": [\n          0.8582726767623613,\n          0.1334534332948608,\n          0.9055573276620734\n        ],\n        \"semantic_type\": \"\",\n        \"description\": \"\"\n      }\n    },\n    {\n      \"column\": \"Feature-2\",\n      \"properties\": {\n        \"dtype\": \"number\",\n        \"std\": 0.4919869172887391,\n        \"min\": -2.0616313968349704,\n        \"max\": 2.131316965413597,\n        \"num_unique_values\": 13540,\n        \"samples\": [\n          0.4896949027408098,\n          -0.0889634759539694,\n          -0.1570481993832645\n        ],\n        \"semantic_type\": \"\",\n        \"description\": \"\"\n      }\n    },\n    {\n      \"column\": \"Feature-3\",\n      \"properties\": {\n        \"dtype\": \"number\",\n        \"std\": 0.42710094578017627,\n        \"min\": -0.6893976906086079,\n        \"max\": 1.1400484775469055,\n        \"num_unique_values\": 13540,\n        \"samples\": [\n          0.4007160931709903,\n          0.121602415114436,\n          0.2497419099820131\n        ],\n        \"semantic_type\": \"\",\n        \"description\": \"\"\n      }\n    },\n    {\n      \"column\": \"Feature-4\",\n      \"properties\": {\n        \"dtype\": \"number\",\n        \"std\": 0.27159048404426844,\n        \"min\": -0.7856937928739831,\n        \"max\": 0.9693110479062398,\n        \"num_unique_values\": 13540,\n        \"samples\": [\n          0.0973963197485372,\n          0.0757349120898596,\n          0.069407619501603\n        ],\n        \"semantic_type\": \"\",\n        \"description\": \"\"\n      }\n    },\n    {\n      \"column\": \"Feature-5\",\n      \"properties\": {\n        \"dtype\": \"number\",\n        \"std\": 0.23565616002240258,\n        \"min\": -0.8843256870311273,\n        \"max\": 0.907947360546656,\n        \"num_unique_values\": 13540,\n        \"samples\": [\n          -0.0734971141020551,\n          0.5750554500646278,\n          0.2861201803618277\n        ],\n        \"semantic_type\": \"\",\n        \"description\": \"\"\n      }\n    },\n    {\n      \"column\": \"Feature-6\",\n      \"properties\": {\n        \"dtype\": \"number\",\n        \"std\": 0.1964975933945298,\n        \"min\": -0.5641479805626659,\n        \"max\": 0.8781311068790973,\n        \"num_unique_values\": 13540,\n        \"samples\": [\n          0.092611918090566,\n          -0.1797802242706659,\n          -0.2519751608653021\n        ],\n        \"semantic_type\": \"\",\n        \"description\": \"\"\n      }\n    },\n    {\n      \"column\": \"Feature-7\",\n      \"properties\": {\n        \"dtype\": \"number\",\n        \"std\": 0.16911420174951036,\n        \"min\": -0.6075316921671778,\n        \"max\": 0.7956439099803132,\n        \"num_unique_values\": 13540,\n        \"samples\": [\n          0.0975769330311028,\n          -0.0206986460229629,\n          0.3259444411296832\n        ],\n        \"semantic_type\": \"\",\n        \"description\": \"\"\n      }\n    },\n    {\n      \"column\": \"Feature-8\",\n      \"properties\": {\n        \"dtype\": \"number\",\n        \"std\": 0.15124498625658728,\n        \"min\": -0.3318332142579677,\n        \"max\": 0.7591550886417452,\n        \"num_unique_values\": 13540,\n        \"samples\": [\n          -0.2668803402434938,\n          -0.1250172694695038,\n          0.1412430836010709\n        ],\n        \"semantic_type\": \"\",\n        \"description\": \"\"\n      }\n    },\n    {\n      \"column\": \"Feature-9\",\n      \"properties\": {\n        \"dtype\": \"number\",\n        \"std\": 0.12348031231362566,\n        \"min\": -0.4577441384127627,\n        \"max\": 0.6579677668279638,\n        \"num_unique_values\": 13540,\n        \"samples\": [\n          -0.1989000831079876,\n          -0.2110710789928285,\n          0.0051461770151843\n        ],\n        \"semantic_type\": \"\",\n        \"description\": \"\"\n      }\n    },\n    {\n      \"column\": \"Feature-10\",\n      \"properties\": {\n        \"dtype\": \"number\",\n        \"std\": 0.10387000036747918,\n        \"min\": -0.2950944456108955,\n        \"max\": 0.4903264596039012,\n        \"num_unique_values\": 13540,\n        \"samples\": [\n          0.1289582140708924,\n          -0.0180451765052928,\n          -0.109783916711937\n        ],\n        \"semantic_type\": \"\",\n        \"description\": \"\"\n      }\n    },\n    {\n      \"column\": \"Word\",\n      \"properties\": {\n        \"dtype\": \"category\",\n        \"num_unique_values\": 124,\n        \"samples\": [\n          \"FEVER\",\n          \"MEDICINE\",\n          \"HURT\"\n        ],\n        \"semantic_type\": \"\",\n        \"description\": \"\"\n      }\n    }\n  ]\n}"
            }
          },
          "metadata": {},
          "execution_count": 14
        }
      ]
    },
    {
      "cell_type": "code",
      "source": [
        "new_words_df.isna().sum()"
      ],
      "metadata": {
        "colab": {
          "base_uri": "https://localhost:8080/",
          "height": 429
        },
        "id": "7d80T_xHGyu6",
        "outputId": "7505bb81-fe92-44a1-b8ee-ae4b68226d9c"
      },
      "execution_count": null,
      "outputs": [
        {
          "output_type": "execute_result",
          "data": {
            "text/plain": [
              "Feature-1     0\n",
              "Feature-2     0\n",
              "Feature-3     0\n",
              "Feature-4     0\n",
              "Feature-5     0\n",
              "Feature-6     0\n",
              "Feature-7     0\n",
              "Feature-8     0\n",
              "Feature-9     0\n",
              "Feature-10    0\n",
              "Word          0\n",
              "dtype: int64"
            ],
            "text/html": [
              "<div>\n",
              "<style scoped>\n",
              "    .dataframe tbody tr th:only-of-type {\n",
              "        vertical-align: middle;\n",
              "    }\n",
              "\n",
              "    .dataframe tbody tr th {\n",
              "        vertical-align: top;\n",
              "    }\n",
              "\n",
              "    .dataframe thead th {\n",
              "        text-align: right;\n",
              "    }\n",
              "</style>\n",
              "<table border=\"1\" class=\"dataframe\">\n",
              "  <thead>\n",
              "    <tr style=\"text-align: right;\">\n",
              "      <th></th>\n",
              "      <th>0</th>\n",
              "    </tr>\n",
              "  </thead>\n",
              "  <tbody>\n",
              "    <tr>\n",
              "      <th>Feature-1</th>\n",
              "      <td>0</td>\n",
              "    </tr>\n",
              "    <tr>\n",
              "      <th>Feature-2</th>\n",
              "      <td>0</td>\n",
              "    </tr>\n",
              "    <tr>\n",
              "      <th>Feature-3</th>\n",
              "      <td>0</td>\n",
              "    </tr>\n",
              "    <tr>\n",
              "      <th>Feature-4</th>\n",
              "      <td>0</td>\n",
              "    </tr>\n",
              "    <tr>\n",
              "      <th>Feature-5</th>\n",
              "      <td>0</td>\n",
              "    </tr>\n",
              "    <tr>\n",
              "      <th>Feature-6</th>\n",
              "      <td>0</td>\n",
              "    </tr>\n",
              "    <tr>\n",
              "      <th>Feature-7</th>\n",
              "      <td>0</td>\n",
              "    </tr>\n",
              "    <tr>\n",
              "      <th>Feature-8</th>\n",
              "      <td>0</td>\n",
              "    </tr>\n",
              "    <tr>\n",
              "      <th>Feature-9</th>\n",
              "      <td>0</td>\n",
              "    </tr>\n",
              "    <tr>\n",
              "      <th>Feature-10</th>\n",
              "      <td>0</td>\n",
              "    </tr>\n",
              "    <tr>\n",
              "      <th>Word</th>\n",
              "      <td>0</td>\n",
              "    </tr>\n",
              "  </tbody>\n",
              "</table>\n",
              "</div><br><label><b>dtype:</b> int64</label>"
            ]
          },
          "metadata": {},
          "execution_count": 15
        }
      ]
    },
    {
      "cell_type": "code",
      "source": [
        "new_words_df.shape"
      ],
      "metadata": {
        "colab": {
          "base_uri": "https://localhost:8080/"
        },
        "id": "tSeFgP8hTYA-",
        "outputId": "9ab0481e-7e97-48cd-a269-817bc424e45d"
      },
      "execution_count": null,
      "outputs": [
        {
          "output_type": "execute_result",
          "data": {
            "text/plain": [
              "(13540, 11)"
            ]
          },
          "metadata": {},
          "execution_count": 16
        }
      ]
    },
    {
      "cell_type": "code",
      "source": [
        "df = new_words_df.copy()"
      ],
      "metadata": {
        "id": "EeKs5RLNVmpF"
      },
      "execution_count": null,
      "outputs": []
    },
    {
      "cell_type": "code",
      "source": [
        "inputs = df.drop(['Word'], axis=1)\n",
        "targets = df['Word']"
      ],
      "metadata": {
        "id": "QRLk403A4cG7"
      },
      "execution_count": null,
      "outputs": []
    },
    {
      "cell_type": "code",
      "source": [
        "std_scaler = StandardScaler()\n",
        "min_max_scaler = MinMaxScaler()"
      ],
      "metadata": {
        "id": "TLgoTv4ju-jh"
      },
      "execution_count": null,
      "outputs": []
    },
    {
      "cell_type": "code",
      "source": [
        "scaled_inputs = std_scaler.fit_transform(inputs)"
      ],
      "metadata": {
        "id": "ViO9gYnju-m5"
      },
      "execution_count": null,
      "outputs": []
    },
    {
      "cell_type": "code",
      "source": [
        "scaled_inputs[1]"
      ],
      "metadata": {
        "colab": {
          "base_uri": "https://localhost:8080/"
        },
        "id": "Efa62RUIv100",
        "outputId": "6d13d4e3-2ad0-464c-905f-45e1bd732770"
      },
      "execution_count": null,
      "outputs": [
        {
          "output_type": "execute_result",
          "data": {
            "text/plain": [
              "array([-0.23250583,  1.25815684, -0.56081109, -0.83076808, -0.03495547,\n",
              "       -0.52968139,  0.21096093, -0.08499601,  0.30116909, -0.16710153])"
            ]
          },
          "metadata": {},
          "execution_count": 21
        }
      ]
    },
    {
      "cell_type": "code",
      "source": [
        "scaled_inputs[1].shape"
      ],
      "metadata": {
        "colab": {
          "base_uri": "https://localhost:8080/"
        },
        "id": "cnOvqIeCVymX",
        "outputId": "dc26d751-efe7-4099-eafa-a91c26bdff40"
      },
      "execution_count": null,
      "outputs": [
        {
          "output_type": "execute_result",
          "data": {
            "text/plain": [
              "(10,)"
            ]
          },
          "metadata": {},
          "execution_count": 22
        }
      ]
    },
    {
      "cell_type": "code",
      "source": [
        "encoder = LabelEncoder()\n",
        "target = encoder.fit_transform(targets)"
      ],
      "metadata": {
        "id": "K3D8iNnx4cKM"
      },
      "execution_count": null,
      "outputs": []
    },
    {
      "cell_type": "code",
      "source": [
        "type(target)"
      ],
      "metadata": {
        "colab": {
          "base_uri": "https://localhost:8080/"
        },
        "id": "HYfRNOz32_5S",
        "outputId": "e9ab4091-4c7f-4a85-ebb5-220872b3a04e"
      },
      "execution_count": null,
      "outputs": [
        {
          "output_type": "execute_result",
          "data": {
            "text/plain": [
              "numpy.ndarray"
            ]
          },
          "metadata": {},
          "execution_count": 24
        }
      ]
    },
    {
      "cell_type": "code",
      "source": [
        "inputs_train, inputs_test, target_train, target_test = train_test_split(scaled_inputs, target, test_size=0.11, random_state=369)"
      ],
      "metadata": {
        "id": "7UNRpXs-2_8v"
      },
      "execution_count": null,
      "outputs": []
    },
    {
      "cell_type": "code",
      "source": [
        "inputs_train.shape"
      ],
      "metadata": {
        "colab": {
          "base_uri": "https://localhost:8080/"
        },
        "id": "azrVgy2elqfR",
        "outputId": "00533c34-4017-408a-e49d-e860185f2228"
      },
      "execution_count": null,
      "outputs": [
        {
          "output_type": "execute_result",
          "data": {
            "text/plain": [
              "(12050, 10)"
            ]
          },
          "metadata": {},
          "execution_count": 26
        }
      ]
    },
    {
      "cell_type": "code",
      "source": [
        "def np_data(data):\n",
        "  labels = np.array(data)\n",
        "\n",
        "  return labels"
      ],
      "metadata": {
        "id": "sDoRAe518Y-3"
      },
      "execution_count": null,
      "outputs": []
    },
    {
      "cell_type": "code",
      "source": [
        "## Convertint pandas data to numpy\n",
        "numpy_train_inputs = np_data(inputs_train)\n",
        "numpy_train_target = np_data(target_train)\n",
        "numpy_test_inputs = np_data(inputs_test)\n",
        "numpy_test_target = np_data(target_test)"
      ],
      "metadata": {
        "id": "Q-YNk03g8pnt"
      },
      "execution_count": null,
      "outputs": []
    },
    {
      "cell_type": "code",
      "source": [
        "# Converting from numpy to tensors and passing it to GPU\n",
        "tensor_train_inputs = torch.from_numpy(numpy_train_inputs).to(device)\n",
        "tensor_train_targets = torch.from_numpy(numpy_train_target).to(device)\n",
        "tensor_test_inputs = torch.from_numpy(numpy_test_inputs).to(device)\n",
        "tensor_test_targets = torch.from_numpy(numpy_test_target).to(device)"
      ],
      "metadata": {
        "id": "x8FVXEhOqjhD"
      },
      "execution_count": null,
      "outputs": []
    },
    {
      "cell_type": "code",
      "source": [],
      "metadata": {
        "id": "6kDRPEnmEWqw"
      },
      "execution_count": null,
      "outputs": []
    },
    {
      "cell_type": "code",
      "source": [
        "tensor_test_inputs.shape"
      ],
      "metadata": {
        "colab": {
          "base_uri": "https://localhost:8080/"
        },
        "id": "Lp4s-mY8_mnG",
        "outputId": "95a3faae-260d-4585-a759-2bba022555d6"
      },
      "execution_count": null,
      "outputs": [
        {
          "output_type": "execute_result",
          "data": {
            "text/plain": [
              "torch.Size([1490, 10])"
            ]
          },
          "metadata": {},
          "execution_count": 30
        }
      ]
    },
    {
      "cell_type": "code",
      "source": [
        "print(tensor_train_inputs.device)"
      ],
      "metadata": {
        "colab": {
          "base_uri": "https://localhost:8080/"
        },
        "id": "Aoh-ua_Ar4d9",
        "outputId": "6c7290ca-5d54-4a84-bfd6-11bc0613f266"
      },
      "execution_count": null,
      "outputs": [
        {
          "output_type": "stream",
          "name": "stdout",
          "text": [
            "cuda:0\n"
          ]
        }
      ]
    },
    {
      "cell_type": "code",
      "source": [
        "# Train Dataset\n",
        "train_dataset = TensorDataset(tensor_train_inputs, tensor_train_targets)\n",
        "# Test Dataset\n",
        "test_dataset = TensorDataset(tensor_test_inputs, tensor_test_targets)"
      ],
      "metadata": {
        "id": "5txakERU8ppo"
      },
      "execution_count": null,
      "outputs": []
    },
    {
      "cell_type": "code",
      "source": [
        "test_dataset.tensors[0].shape"
      ],
      "metadata": {
        "colab": {
          "base_uri": "https://localhost:8080/"
        },
        "id": "j_yqcBC--Gdc",
        "outputId": "cafb9fcd-9943-4c96-abca-4e5e07e97b7d"
      },
      "execution_count": null,
      "outputs": [
        {
          "output_type": "execute_result",
          "data": {
            "text/plain": [
              "torch.Size([1490, 10])"
            ]
          },
          "metadata": {},
          "execution_count": 33
        }
      ]
    },
    {
      "cell_type": "code",
      "source": [
        "batch_size = 16\n",
        "train_loader = DataLoader(train_dataset, batch_size=batch_size, shuffle=True, drop_last=False)\n",
        "test_loader = DataLoader(test_dataset, batch_size=batch_size, shuffle=False, drop_last=False)"
      ],
      "metadata": {
        "id": "UEBBL_ap8ptu"
      },
      "execution_count": null,
      "outputs": []
    },
    {
      "cell_type": "code",
      "source": [
        "# obtaining one batch of training data to check the shape\n",
        "dataiter = iter(train_loader)\n",
        "sample_x, sample_y = next(dataiter)\n",
        "\n",
        "print('Sample input size: ', sample_x.size()) # batch_size, seq_length\n",
        "print('Sample input: \\n', sample_x)\n",
        "print('Sample output size: ', sample_y.size())\n",
        "print('Sample output: \\n', sample_y)"
      ],
      "metadata": {
        "colab": {
          "base_uri": "https://localhost:8080/"
        },
        "id": "8-LAEL5O8pvm",
        "outputId": "d7b48115-77b3-4eb8-958f-3f30604122ac"
      },
      "execution_count": null,
      "outputs": [
        {
          "output_type": "stream",
          "name": "stdout",
          "text": [
            "Sample input size:  torch.Size([16, 10])\n",
            "Sample input: \n",
            " tensor([[ 8.8914e-01, -7.3814e-01,  6.5369e-01,  1.4938e-01,  1.2093e+00,\n",
            "         -5.6973e-01,  2.4518e+00,  1.3602e+00, -4.0266e-01,  7.0390e-01],\n",
            "        [-6.6983e-01, -1.8667e+00, -8.3589e-01,  7.9210e-01, -6.4168e-01,\n",
            "          4.1606e-02,  9.0878e-01, -5.9734e-01,  9.7769e-01, -3.8173e-01],\n",
            "        [-5.7744e-01, -1.0814e+00, -6.1684e-01, -4.2262e-01,  1.0468e+00,\n",
            "         -1.1271e+00,  1.1177e+00,  2.0574e-01,  3.5240e-01,  4.6222e-01],\n",
            "        [-1.0880e+00, -1.6146e+00, -7.8008e-01,  7.6086e-01, -9.0351e-01,\n",
            "         -1.6822e-01,  4.5264e-01, -2.4115e-03,  1.6529e-02, -1.4827e-01],\n",
            "        [-2.5688e+00,  6.1521e-01, -5.7837e-01,  2.2731e-01, -4.8124e-01,\n",
            "          2.3828e-02,  1.2499e-02,  3.0613e-01, -5.7799e-01, -2.4871e-01],\n",
            "        [-5.2769e-01,  1.4034e+00, -4.2941e-01, -6.1272e-01,  1.4694e-01,\n",
            "         -8.0718e-01, -9.5283e-02,  4.1910e-02, -1.6578e-01, -4.9006e-01],\n",
            "        [ 6.7608e-01, -1.2591e-01, -8.4268e-01, -2.5058e-01,  1.2073e+00,\n",
            "         -1.5201e+00, -9.2451e-01, -7.4771e-01, -3.5691e-01, -6.2796e-01],\n",
            "        [ 3.4963e-01, -2.4215e-01, -3.3168e-02,  9.2357e-01,  2.8588e+00,\n",
            "         -2.1639e+00, -9.0580e-01, -1.3043e+00,  1.8185e+00, -2.0505e-01],\n",
            "        [ 4.2452e-01, -4.1000e-01,  1.7533e+00,  1.0083e+00,  4.4319e-01,\n",
            "         -3.9211e-01, -1.9207e-01,  9.0984e-02, -1.0240e+00,  2.5594e+00],\n",
            "        [ 5.2698e-01,  4.6184e-02, -1.1006e+00, -5.9928e-01, -3.6059e-01,\n",
            "          1.0868e+00, -3.5483e-01,  2.0292e-02,  4.3243e-01, -6.1559e-01],\n",
            "        [ 5.0742e-01, -5.7947e-01,  1.9034e+00,  1.1284e+00,  6.0029e-01,\n",
            "         -9.6611e-02, -2.0235e-01, -8.3627e-02, -8.1674e-01,  2.6599e+00],\n",
            "        [ 9.1197e-01,  5.1915e-02, -7.5150e-01, -5.6684e-01,  1.1227e-01,\n",
            "         -1.8981e-01,  8.1487e-03, -4.2115e-02,  1.9563e-01, -7.5018e-02],\n",
            "        [-7.1639e-01,  9.5131e-01, -4.0240e-01, -7.1062e-01, -2.1905e-01,\n",
            "         -4.3396e-01,  3.8764e-02, -6.3590e-02,  1.6304e-01, -3.6642e-01],\n",
            "        [ 3.2983e+00,  7.7523e-01, -1.1751e+00, -1.4765e+00, -3.0566e-01,\n",
            "          4.3603e-01, -2.2074e-01,  3.4497e-02, -3.7438e-01, -3.2647e-01],\n",
            "        [-9.9389e-01,  1.0547e+00, -1.0359e-01, -1.8193e-01, -1.4672e+00,\n",
            "          2.1923e+00,  7.2314e-01, -1.4011e-01, -1.0554e+00,  8.5188e-01],\n",
            "        [ 5.0403e-01, -1.8941e-01,  1.5855e+00,  7.6067e-01,  4.1351e-01,\n",
            "         -3.5661e-01, -2.6185e-01,  1.5502e-01, -1.0884e+00,  2.1356e+00]],\n",
            "       device='cuda:0', dtype=torch.float64)\n",
            "Sample output size:  torch.Size([16])\n",
            "Sample output: \n",
            " tensor([ 72,  22, 123,  46,  21,  71,  39, 114,   0,  75,   0,  63,  60, 119,\n",
            "         13,   0], device='cuda:0')\n"
          ]
        }
      ]
    },
    {
      "cell_type": "code",
      "source": [],
      "metadata": {
        "id": "4aZxSf7a8px5"
      },
      "execution_count": null,
      "outputs": []
    },
    {
      "cell_type": "markdown",
      "source": [
        "**Building a Model**"
      ],
      "metadata": {
        "id": "KoBO31k3_KT2"
      }
    },
    {
      "cell_type": "code",
      "source": [
        "\n",
        "# ?nn.LSTM"
      ],
      "metadata": {
        "id": "monuoAyl8pz7"
      },
      "execution_count": null,
      "outputs": []
    },
    {
      "cell_type": "code",
      "source": [
        "class LSTM_Model(nn.Module):\n",
        "  def __init__(self, input_size, layers, hidden_dim, output_size):\n",
        "    super(LSTM_Model, self).__init__()\n",
        "\n",
        "    self.input_size = input_size\n",
        "    self.layers = layers\n",
        "    self.hidden_dim = hidden_dim\n",
        "    self.output_size = output_size\n",
        "\n",
        "    # lstm\n",
        "    self.lstm = nn.LSTM(input_size = self.input_size,\n",
        "                        hidden_size = self.hidden_dim,\n",
        "                        num_layers = self.layers,\n",
        "                        bias = True,\n",
        "                        )\n",
        "\n",
        "    # Fully connected layer | Output layer\n",
        "    self.output_layer = nn.Linear(self.hidden_dim, self.output_size)\n",
        "\n",
        "  def forward(self, inputs, hidden_inputs):\n",
        "\n",
        "    # Ensure inputs and hidden states are of type float32\n",
        "    inputs = torch.tensor(inputs, dtype=torch.float32)\n",
        "    hidden_inputs = (\n",
        "        torch.tensor(hidden_inputs[0], dtype=torch.float32),\n",
        "        torch.tensor(hidden_inputs[1], dtype=torch.float32)\n",
        "    )\n",
        "\n",
        "    # LSTM expects input of shape (seq_length, batch_size, input_size)\n",
        "    inputs = inputs.unsqueeze(0)  # Add sequence length dimension if needed\n",
        "\n",
        "    # Pass through LSTM\n",
        "    lstm_outputs, hidden_outputs = self.lstm(inputs, hidden_inputs)\n",
        "\n",
        "    # Reshape LSTM outputs to (batch_size, hidden_dim)\n",
        "    lstm_outputs = lstm_outputs.squeeze(0)  # Remove sequence length dimension\n",
        "\n",
        "    # Pass through the fully connected layer\n",
        "    outputs = self.output_layer(lstm_outputs)  # Shape: (batch_size, output_size)\n",
        "\n",
        "    # outputs = F.softmax(outputs, dim=1)\n",
        "\n",
        "    return outputs, hidden_outputs\n"
      ],
      "metadata": {
        "id": "EtPiBfxWmV3M"
      },
      "execution_count": null,
      "outputs": []
    },
    {
      "cell_type": "code",
      "source": [
        "# sequence length should be no.of frames that are representing ne word, in this case I making sequence length to 28\n",
        "# the frames are not consistent, so I will be using augmentation method (creating the data by applying simple transformations)\n",
        "# input_size i.i., no.of features(columns in simple terms) is 64\n",
        "# hidden_inputs shape will be (sequence_length, batch_size, n_layers)\n",
        "# inputs shape will be (sequence_length, batch_size, input_size)"
      ],
      "metadata": {
        "id": "hNAyZwVxmV-8"
      },
      "execution_count": null,
      "outputs": []
    },
    {
      "cell_type": "code",
      "source": [
        "input_size = 10    ## input features\n",
        "hidden_layers = 5\n",
        "hidden_dim = 512\n",
        "output_size = 124\n",
        "seq_length = 75"
      ],
      "metadata": {
        "id": "Lb0exycXmV5z"
      },
      "execution_count": null,
      "outputs": []
    },
    {
      "cell_type": "code",
      "source": [
        "# ## demo\n",
        "h0 = torch.zeros(hidden_layers, batch_size, hidden_dim).to(device)\n",
        "c0 = torch.zeros(hidden_layers, batch_size, hidden_dim).to(device)\n",
        "h = (h0, c0)\n",
        "inputs = sample_x\n",
        "\n",
        "model = LSTM_Model(input_size, hidden_layers, hidden_dim, output_size).to(device)\n",
        "outputs, hidden_outputs = model(inputs, h)"
      ],
      "metadata": {
        "id": "S7GJWgMhmV8j"
      },
      "execution_count": null,
      "outputs": []
    },
    {
      "cell_type": "code",
      "source": [
        "model"
      ],
      "metadata": {
        "colab": {
          "base_uri": "https://localhost:8080/"
        },
        "id": "SccF7S3MtkUZ",
        "outputId": "7ad4aea6-1707-41c6-fa9a-79da9e5ee73b"
      },
      "execution_count": null,
      "outputs": [
        {
          "output_type": "execute_result",
          "data": {
            "text/plain": [
              "LSTM_Model(\n",
              "  (lstm): LSTM(10, 512, num_layers=5)\n",
              "  (output_layer): Linear(in_features=512, out_features=124, bias=True)\n",
              ")"
            ]
          },
          "metadata": {},
          "execution_count": 41
        }
      ]
    },
    {
      "cell_type": "code",
      "source": [
        "h0.device"
      ],
      "metadata": {
        "colab": {
          "base_uri": "https://localhost:8080/"
        },
        "id": "RI2Ch7hsuFFo",
        "outputId": "4df17d7b-8785-498d-9a63-697d42fe0c93"
      },
      "execution_count": null,
      "outputs": [
        {
          "output_type": "execute_result",
          "data": {
            "text/plain": [
              "device(type='cuda', index=0)"
            ]
          },
          "metadata": {},
          "execution_count": 42
        }
      ]
    },
    {
      "cell_type": "code",
      "source": [
        "sample_x.shape[0]"
      ],
      "metadata": {
        "colab": {
          "base_uri": "https://localhost:8080/"
        },
        "id": "dvhHJES1PQwG",
        "outputId": "945c9730-206d-4217-a14a-480c13c1fd9f"
      },
      "execution_count": null,
      "outputs": [
        {
          "output_type": "execute_result",
          "data": {
            "text/plain": [
              "16"
            ]
          },
          "metadata": {},
          "execution_count": 43
        }
      ]
    },
    {
      "cell_type": "code",
      "source": [
        "outputs.shape"
      ],
      "metadata": {
        "colab": {
          "base_uri": "https://localhost:8080/"
        },
        "id": "hm1eJSjRKTTI",
        "outputId": "c7f6c24d-698f-44fb-abe6-19256f73612d"
      },
      "execution_count": null,
      "outputs": [
        {
          "output_type": "execute_result",
          "data": {
            "text/plain": [
              "torch.Size([16, 124])"
            ]
          },
          "metadata": {},
          "execution_count": 44
        }
      ]
    },
    {
      "cell_type": "code",
      "source": [
        "sample_y.shape"
      ],
      "metadata": {
        "colab": {
          "base_uri": "https://localhost:8080/"
        },
        "id": "_WqHyGO_KehN",
        "outputId": "512267c2-f7bd-4980-b92d-6e6218dccb27"
      },
      "execution_count": null,
      "outputs": [
        {
          "output_type": "execute_result",
          "data": {
            "text/plain": [
              "torch.Size([16])"
            ]
          },
          "metadata": {},
          "execution_count": 45
        }
      ]
    },
    {
      "cell_type": "code",
      "source": [
        "# Set the random seed for reproducibility\n",
        "seed = 369  # You can choose any integer value\n",
        "\n",
        "# Set seeds for Python's built-in random module, numpy, and PyTorch\n",
        "random.seed(seed)\n",
        "np.random.seed(seed)\n",
        "torch.manual_seed(seed)\n",
        "\n",
        "# If using GPU (CUDA), set the seed for the GPU too\n",
        "torch.cuda.manual_seed(seed)\n",
        "torch.cuda.manual_seed_all(seed)  # If you have multiple GPUs\n",
        "torch.backends.cudnn.deterministic = True  # Ensures deterministic behavior\n",
        "torch.backends.cudnn.benchmark = False  # Disable non-deterministic algorithms"
      ],
      "metadata": {
        "id": "pJXp8kKSe3T3"
      },
      "execution_count": null,
      "outputs": []
    },
    {
      "cell_type": "code",
      "source": [
        "## model building\n",
        "model = LSTM_Model(input_size, hidden_layers, hidden_dim, output_size).to(device)\n",
        "## optimizer\n",
        "optimizer = optim.Adam(model.parameters(), lr=0.001)\n",
        "## loss function\n",
        "loss_fun = nn.CrossEntropyLoss()\n",
        "# loss_fun = nn.MSELoss()"
      ],
      "metadata": {
        "id": "bSBfmAmXOBUB"
      },
      "execution_count": null,
      "outputs": []
    },
    {
      "cell_type": "code",
      "source": [],
      "metadata": {
        "id": "j0RNz0goOBi5"
      },
      "execution_count": null,
      "outputs": []
    },
    {
      "cell_type": "code",
      "source": [
        "def training_model(nepochs, train_loader, model, optimizer, loss_fun):\n",
        "\n",
        "  nepochs = nepochs\n",
        "\n",
        "  training_loss = np.zeros(nepochs)\n",
        "  training_acc = np.zeros(nepochs)\n",
        "\n",
        "  for epoch in range(nepochs):\n",
        "\n",
        "    batch_loss = []\n",
        "    batch_acc = []\n",
        "\n",
        "    for train_x, train_y in train_loader:\n",
        "\n",
        "      batch_size = train_x.shape[0]\n",
        "      ht = torch.zeros(hidden_layers, batch_size, hidden_dim).to(device)\n",
        "      ct = torch.zeros(hidden_layers, batch_size, hidden_dim).to(device)\n",
        "      hidden_inputs = (ht, ct)\n",
        "\n",
        "      outputs, hidden_outputs = model(train_x, hidden_inputs)\n",
        "\n",
        "      loss = loss_fun(outputs, train_y)\n",
        "\n",
        "      optimizer.zero_grad()\n",
        "      loss.backward()\n",
        "      optimizer.step()\n",
        "\n",
        "      ## appending loss to the batch_loss\n",
        "      batch_loss.append(loss.item())\n",
        "\n",
        "      outputs = outputs.cpu()\n",
        "      train_y = train_y.cpu()\n",
        "\n",
        "      matches = torch.argmax(outputs, axis=1) == train_y\n",
        "      matchesNumeric = matches.float()\n",
        "      accuracyPct = 100 * torch.mean(matchesNumeric)\n",
        "\n",
        "      ## appending accuracy to the batch_acc\n",
        "      batch_acc.append(accuracyPct.cpu().item())\n",
        "\n",
        "    if epoch % 5 == 0:\n",
        "      print(f\"epoch {epoch} loss: {np.mean(batch_loss)}, acc: {np.mean(batch_acc)}\")\n",
        "\n",
        "    training_loss[epoch] = np.mean(batch_loss)\n",
        "    training_acc[epoch] = np.mean(batch_acc)\n",
        "\n",
        "  return training_loss, training_acc\n"
      ],
      "metadata": {
        "id": "bn1KrjIXmWBY"
      },
      "execution_count": null,
      "outputs": []
    },
    {
      "cell_type": "code",
      "source": [
        "training_loss, training_acc = training_model(21, train_loader, model, optimizer, loss_fun)"
      ],
      "metadata": {
        "colab": {
          "base_uri": "https://localhost:8080/"
        },
        "collapsed": true,
        "id": "nmM9KcrvwzV9",
        "outputId": "bdeb92f3-e09f-46c9-fd5f-cc1e1012b00e"
      },
      "execution_count": null,
      "outputs": [
        {
          "output_type": "stream",
          "name": "stdout",
          "text": [
            "epoch 0 loss: 3.402946847819523, acc: 14.207559681697612\n",
            "epoch 5 loss: 1.1836103749132916, acc: 65.65815649867373\n",
            "epoch 10 loss: 0.7036708356610027, acc: 77.91777188328912\n",
            "epoch 15 loss: 0.4482706307012968, acc: 85.19562334217507\n",
            "epoch 20 loss: 0.2849266933022803, acc: 90.47579575596816\n"
          ]
        }
      ]
    },
    {
      "cell_type": "code",
      "source": [
        "import matplotlib.pyplot as plt\n",
        "import seaborn as sns\n",
        "sns.set()"
      ],
      "metadata": {
        "id": "4qPWa4qU8goN"
      },
      "execution_count": null,
      "outputs": []
    },
    {
      "cell_type": "code",
      "source": [
        "fig, (ax1, ax2) = plt.subplots(nrows=1, ncols=2, figsize=(12, 4))\n",
        "\n",
        "ax1.plot(training_loss)\n",
        "ax2.plot(training_acc)\n",
        "\n",
        "ax1.set_title(\"Training Loss\")\n",
        "ax2.set_title(\"Training Accuracy\")"
      ],
      "metadata": {
        "colab": {
          "base_uri": "https://localhost:8080/",
          "height": 407
        },
        "id": "FWLxYr4e8bwt",
        "outputId": "1123f6b6-f546-4329-f637-5079dcc8894b"
      },
      "execution_count": null,
      "outputs": [
        {
          "output_type": "execute_result",
          "data": {
            "text/plain": [
              "Text(0.5, 1.0, 'Training Accuracy')"
            ]
          },
          "metadata": {},
          "execution_count": 51
        },
        {
          "output_type": "display_data",
          "data": {
            "text/plain": [
              "<Figure size 1200x400 with 2 Axes>"
            ],
            "image/png": "[encoded data removed]"
          },
          "metadata": {}
        }
      ]
    },
    {
      "cell_type": "code",
      "source": [
        "from sklearn.metrics import classification_report, accuracy_score, f1_score, recall_score\n",
        "\n",
        "def testing_model():\n",
        "  with torch.no_grad():\n",
        "      all_preds = []\n",
        "      all_labels = []\n",
        "      batch_test_loss = []\n",
        "\n",
        "      for tex_x, test_y in test_loader:\n",
        "          batch_size = tex_x.shape[0]\n",
        "          ht = torch.zeros(hidden_layers, batch_size, hidden_dim).to(device)\n",
        "          ct = torch.zeros(hidden_layers, batch_size, hidden_dim).to(device)\n",
        "          hidden_inputs = (ht, ct)\n",
        "\n",
        "          outputs, hidden_outputs = model(tex_x, hidden_inputs)\n",
        "\n",
        "          # Compute loss\n",
        "          loss = loss_fun(outputs, test_y)\n",
        "          batch_test_loss.append(loss.item())\n",
        "\n",
        "          outputs = outputs.cpu()\n",
        "          test_y = test_y.cpu()\n",
        "\n",
        "          # Predictions and true labels\n",
        "          predictions = torch.argmax(outputs, axis=1)\n",
        "          all_preds.extend(predictions.cpu().numpy())\n",
        "          all_labels.extend(test_y.cpu().numpy())\n",
        "\n",
        "      # Compute metrics\n",
        "      test_loss = np.mean(batch_test_loss)\n",
        "      accuracy = accuracy_score(all_labels, all_preds)\n",
        "      f1 = f1_score(all_labels, all_preds, average='weighted')  # Use 'weighted' for class imbalance\n",
        "      recall = recall_score(all_labels, all_preds, average='weighted')\n",
        "\n",
        "      # Convert numeric labels back to original labels\n",
        "      original_labels = encoder.inverse_transform(all_labels)\n",
        "      predicted_labels = encoder.inverse_transform(all_preds)\n",
        "\n",
        "      # Print each original and predicted label pair\n",
        "      # for orig, pred in zip(original_labels, predicted_labels):\n",
        "      #     print(f\"Original: {orig}, Predicted: {pred}\")\n",
        "\n",
        "      # Display metrics\n",
        "      print(f\"\\nTest Loss: {test_loss}\")\n",
        "      print(f\"Test Accuracy: {accuracy * 100:.2f}%\")\n",
        "      print(f\"Test F1-Score: {f1:.2f}\")\n",
        "      print(f\"Test Recall: {recall:.2f}\")\n",
        "\n",
        "      return predicted_labels, original_labels\n"
      ],
      "metadata": {
        "id": "cAIJ676-wzYb"
      },
      "execution_count": null,
      "outputs": []
    },
    {
      "cell_type": "code",
      "source": [
        "predicted_labels, original_labels = testing_model()"
      ],
      "metadata": {
        "id": "dOssLIjd9Xqu",
        "colab": {
          "base_uri": "https://localhost:8080/"
        },
        "outputId": "d69df03c-0316-4d80-a0a6-3c45de160120"
      },
      "execution_count": null,
      "outputs": [
        {
          "output_type": "stream",
          "name": "stdout",
          "text": [
            "\n",
            "Test Loss: 0.6109492662263677\n",
            "Test Accuracy: 84.16%\n",
            "Test F1-Score: 0.84\n",
            "Test Recall: 0.84\n"
          ]
        }
      ]
    },
    {
      "cell_type": "code",
      "source": [
        "test_labels_df = pd.DataFrame({'Original': original_labels, 'Predicted': predicted_labels})"
      ],
      "metadata": {
        "id": "VKoA4EdEPRc1"
      },
      "execution_count": null,
      "outputs": []
    },
    {
      "cell_type": "code",
      "source": [
        "test_labels_df"
      ],
      "metadata": {
        "colab": {
          "base_uri": "https://localhost:8080/",
          "height": 423
        },
        "id": "RozqjBKbPRgX",
        "outputId": "59a16206-fa74-4ac2-eddb-596deffbb0ca"
      },
      "execution_count": null,
      "outputs": [
        {
          "output_type": "execute_result",
          "data": {
            "text/plain": [
              "     Original Predicted\n",
              "0           K         K\n",
              "1       SPEAK     SPEAK\n",
              "2       TRUTH     TRUTH\n",
              "3     OLD_AGE   OLD_AGE\n",
              "4           E         E\n",
              "...       ...       ...\n",
              "1485        W         W\n",
              "1486     SURE      SURE\n",
              "1487        J         J\n",
              "1488        R         R\n",
              "1489   SLOWER    SLOWER\n",
              "\n",
              "[1490 rows x 2 columns]"
            ],
            "text/html": [
              "\n",
              "  <div id=\"df-638e3680-3847-4565-a7c9-6527dbca25f3\" class=\"colab-df-container\">\n",
              "    <div>\n",
              "<style scoped>\n",
              "    .dataframe tbody tr th:only-of-type {\n",
              "        vertical-align: middle;\n",
              "    }\n",
              "\n",
              "    .dataframe tbody tr th {\n",
              "        vertical-align: top;\n",
              "    }\n",
              "\n",
              "    .dataframe thead th {\n",
              "        text-align: right;\n",
              "    }\n",
              "</style>\n",
              "<table border=\"1\" class=\"dataframe\">\n",
              "  <thead>\n",
              "    <tr style=\"text-align: right;\">\n",
              "      <th></th>\n",
              "      <th>Original</th>\n",
              "      <th>Predicted</th>\n",
              "    </tr>\n",
              "  </thead>\n",
              "  <tbody>\n",
              "    <tr>\n",
              "      <th>0</th>\n",
              "      <td>K</td>\n",
              "      <td>K</td>\n",
              "    </tr>\n",
              "    <tr>\n",
              "      <th>1</th>\n",
              "      <td>SPEAK</td>\n",
              "      <td>SPEAK</td>\n",
              "    </tr>\n",
              "    <tr>\n",
              "      <th>2</th>\n",
              "      <td>TRUTH</td>\n",
              "      <td>TRUTH</td>\n",
              "    </tr>\n",
              "    <tr>\n",
              "      <th>3</th>\n",
              "      <td>OLD_AGE</td>\n",
              "      <td>OLD_AGE</td>\n",
              "    </tr>\n",
              "    <tr>\n",
              "      <th>4</th>\n",
              "      <td>E</td>\n",
              "      <td>E</td>\n",
              "    </tr>\n",
              "    <tr>\n",
              "      <th>...</th>\n",
              "      <td>...</td>\n",
              "      <td>...</td>\n",
              "    </tr>\n",
              "    <tr>\n",
              "      <th>1485</th>\n",
              "      <td>W</td>\n",
              "      <td>W</td>\n",
              "    </tr>\n",
              "    <tr>\n",
              "      <th>1486</th>\n",
              "      <td>SURE</td>\n",
              "      <td>SURE</td>\n",
              "    </tr>\n",
              "    <tr>\n",
              "      <th>1487</th>\n",
              "      <td>J</td>\n",
              "      <td>J</td>\n",
              "    </tr>\n",
              "    <tr>\n",
              "      <th>1488</th>\n",
              "      <td>R</td>\n",
              "      <td>R</td>\n",
              "    </tr>\n",
              "    <tr>\n",
              "      <th>1489</th>\n",
              "      <td>SLOWER</td>\n",
              "      <td>SLOWER</td>\n",
              "    </tr>\n",
              "  </tbody>\n",
              "</table>\n",
              "<p>1490 rows × 2 columns</p>\n",
              "</div>\n",
              "    <div class=\"colab-df-buttons\">\n",
              "\n",
              "  <div class=\"colab-df-container\">\n",
              "    <button class=\"colab-df-convert\" onclick=\"convertToInteractive('df-638e3680-3847-4565-a7c9-6527dbca25f3')\"\n",
              "            title=\"Convert this dataframe to an interactive table.\"\n",
              "            style=\"display:none;\">\n",
              "\n",
              "  <svg xmlns=\"http://www.w3.org/2000/svg\" height=\"24px\" viewBox=\"0 -960 960 960\">\n",
              "    <path d=\"M120-120v-720h720v720H120Zm60-500h600v-160H180v160Zm220 220h160v-160H400v160Zm0 220h160v-160H400v160ZM180-400h160v-160H180v160Zm440 0h160v-160H620v160ZM180-180h160v-160H180v160Zm440 0h160v-160H620v160Z\"/>\n",
              "  </svg>\n",
              "    </button>\n",
              "\n",
              "  <style>\n",
              "    .colab-df-container {\n",
              "      display:flex;\n",
              "      gap: 12px;\n",
              "    }\n",
              "\n",
              "    .colab-df-convert {\n",
              "      background-color: #E8F0FE;\n",
              "      border: none;\n",
              "      border-radius: 50%;\n",
              "      cursor: pointer;\n",
              "      display: none;\n",
              "      fill: #1967D2;\n",
              "      height: 32px;\n",
              "      padding: 0 0 0 0;\n",
              "      width: 32px;\n",
              "    }\n",
              "\n",
              "    .colab-df-convert:hover {\n",
              "      background-color: #E2EBFA;\n",
              "      box-shadow: 0px 1px 2px rgba(60, 64, 67, 0.3), 0px 1px 3px 1px rgba(60, 64, 67, 0.15);\n",
              "      fill: #174EA6;\n",
              "    }\n",
              "\n",
              "    .colab-df-buttons div {\n",
              "      margin-bottom: 4px;\n",
              "    }\n",
              "\n",
              "    [theme=dark] .colab-df-convert {\n",
              "      background-color: #3B4455;\n",
              "      fill: #D2E3FC;\n",
              "    }\n",
              "\n",
              "    [theme=dark] .colab-df-convert:hover {\n",
              "      background-color: #434B5C;\n",
              "      box-shadow: 0px 1px 3px 1px rgba(0, 0, 0, 0.15);\n",
              "      filter: drop-shadow(0px 1px 2px rgba(0, 0, 0, 0.3));\n",
              "      fill: #FFFFFF;\n",
              "    }\n",
              "  </style>\n",
              "\n",
              "    <script>\n",
              "      const buttonEl =\n",
              "        document.querySelector('#df-638e3680-3847-4565-a7c9-6527dbca25f3 button.colab-df-convert');\n",
              "      buttonEl.style.display =\n",
              "        google.colab.kernel.accessAllowed ? 'block' : 'none';\n",
              "\n",
              "      async function convertToInteractive(key) {\n",
              "        const element = document.querySelector('#df-638e3680-3847-4565-a7c9-6527dbca25f3');\n",
              "        const dataTable =\n",
              "          await google.colab.kernel.invokeFunction('convertToInteractive',\n",
              "                                                    [key], {});\n",
              "        if (!dataTable) return;\n",
              "\n",
              "        const docLinkHtml = 'Like what you see? Visit the ' +\n",
              "          '<a target=\"_blank\" href=https://colab.research.google.com/notebooks/data_table.ipynb>data table notebook</a>'\n",
              "          + ' to learn more about interactive tables.';\n",
              "        element.innerHTML = '';\n",
              "        dataTable['output_type'] = 'display_data';\n",
              "        await google.colab.output.renderOutput(dataTable, element);\n",
              "        const docLink = document.createElement('div');\n",
              "        docLink.innerHTML = docLinkHtml;\n",
              "        element.appendChild(docLink);\n",
              "      }\n",
              "    </script>\n",
              "  </div>\n",
              "\n",
              "\n",
              "<div id=\"df-a59aa928-c5bd-4da8-aee5-882dce94554c\">\n",
              "  <button class=\"colab-df-quickchart\" onclick=\"quickchart('df-a59aa928-c5bd-4da8-aee5-882dce94554c')\"\n",
              "            title=\"Suggest charts\"\n",
              "            style=\"display:none;\">\n",
              "\n",
              "<svg xmlns=\"http://www.w3.org/2000/svg\" height=\"24px\"viewBox=\"0 0 24 24\"\n",
              "     width=\"24px\">\n",
              "    <g>\n",
              "        <path d=\"M19 3H5c-1.1 0-2 .9-2 2v14c0 1.1.9 2 2 2h14c1.1 0 2-.9 2-2V5c0-1.1-.9-2-2-2zM9 17H7v-7h2v7zm4 0h-2V7h2v10zm4 0h-2v-4h2v4z\"/>\n",
              "    </g>\n",
              "</svg>\n",
              "  </button>\n",
              "\n",
              "<style>\n",
              "  .colab-df-quickchart {\n",
              "      --bg-color: #E8F0FE;\n",
              "      --fill-color: #1967D2;\n",
              "      --hover-bg-color: #E2EBFA;\n",
              "      --hover-fill-color: #174EA6;\n",
              "      --disabled-fill-color: #AAA;\n",
              "      --disabled-bg-color: #DDD;\n",
              "  }\n",
              "\n",
              "  [theme=dark] .colab-df-quickchart {\n",
              "      --bg-color: #3B4455;\n",
              "      --fill-color: #D2E3FC;\n",
              "      --hover-bg-color: #434B5C;\n",
              "      --hover-fill-color: #FFFFFF;\n",
              "      --disabled-bg-color: #3B4455;\n",
              "      --disabled-fill-color: #666;\n",
              "  }\n",
              "\n",
              "  .colab-df-quickchart {\n",
              "    background-color: var(--bg-color);\n",
              "    border: none;\n",
              "    border-radius: 50%;\n",
              "    cursor: pointer;\n",
              "    display: none;\n",
              "    fill: var(--fill-color);\n",
              "    height: 32px;\n",
              "    padding: 0;\n",
              "    width: 32px;\n",
              "  }\n",
              "\n",
              "  .colab-df-quickchart:hover {\n",
              "    background-color: var(--hover-bg-color);\n",
              "    box-shadow: 0 1px 2px rgba(60, 64, 67, 0.3), 0 1px 3px 1px rgba(60, 64, 67, 0.15);\n",
              "    fill: var(--button-hover-fill-color);\n",
              "  }\n",
              "\n",
              "  .colab-df-quickchart-complete:disabled,\n",
              "  .colab-df-quickchart-complete:disabled:hover {\n",
              "    background-color: var(--disabled-bg-color);\n",
              "    fill: var(--disabled-fill-color);\n",
              "    box-shadow: none;\n",
              "  }\n",
              "\n",
              "  .colab-df-spinner {\n",
              "    border: 2px solid var(--fill-color);\n",
              "    border-color: transparent;\n",
              "    border-bottom-color: var(--fill-color);\n",
              "    animation:\n",
              "      spin 1s steps(1) infinite;\n",
              "  }\n",
              "\n",
              "  @keyframes spin {\n",
              "    0% {\n",
              "      border-color: transparent;\n",
              "      border-bottom-color: var(--fill-color);\n",
              "      border-left-color: var(--fill-color);\n",
              "    }\n",
              "    20% {\n",
              "      border-color: transparent;\n",
              "      border-left-color: var(--fill-color);\n",
              "      border-top-color: var(--fill-color);\n",
              "    }\n",
              "    30% {\n",
              "      border-color: transparent;\n",
              "      border-left-color: var(--fill-color);\n",
              "      border-top-color: var(--fill-color);\n",
              "      border-right-color: var(--fill-color);\n",
              "    }\n",
              "    40% {\n",
              "      border-color: transparent;\n",
              "      border-right-color: var(--fill-color);\n",
              "      border-top-color: var(--fill-color);\n",
              "    }\n",
              "    60% {\n",
              "      border-color: transparent;\n",
              "      border-right-color: var(--fill-color);\n",
              "    }\n",
              "    80% {\n",
              "      border-color: transparent;\n",
              "      border-right-color: var(--fill-color);\n",
              "      border-bottom-color: var(--fill-color);\n",
              "    }\n",
              "    90% {\n",
              "      border-color: transparent;\n",
              "      border-bottom-color: var(--fill-color);\n",
              "    }\n",
              "  }\n",
              "</style>\n",
              "\n",
              "  <script>\n",
              "    async function quickchart(key) {\n",
              "      const quickchartButtonEl =\n",
              "        document.querySelector('#' + key + ' button');\n",
              "      quickchartButtonEl.disabled = true;  // To prevent multiple clicks.\n",
              "      quickchartButtonEl.classList.add('colab-df-spinner');\n",
              "      try {\n",
              "        const charts = await google.colab.kernel.invokeFunction(\n",
              "            'suggestCharts', [key], {});\n",
              "      } catch (error) {\n",
              "        console.error('Error during call to suggestCharts:', error);\n",
              "      }\n",
              "      quickchartButtonEl.classList.remove('colab-df-spinner');\n",
              "      quickchartButtonEl.classList.add('colab-df-quickchart-complete');\n",
              "    }\n",
              "    (() => {\n",
              "      let quickchartButtonEl =\n",
              "        document.querySelector('#df-a59aa928-c5bd-4da8-aee5-882dce94554c button');\n",
              "      quickchartButtonEl.style.display =\n",
              "        google.colab.kernel.accessAllowed ? 'block' : 'none';\n",
              "    })();\n",
              "  </script>\n",
              "</div>\n",
              "\n",
              "  <div id=\"id_cfa5ca78-6869-4c6b-99bc-2fdd0d38f5f6\">\n",
              "    <style>\n",
              "      .colab-df-generate {\n",
              "        background-color: #E8F0FE;\n",
              "        border: none;\n",
              "        border-radius: 50%;\n",
              "        cursor: pointer;\n",
              "        display: none;\n",
              "        fill: #1967D2;\n",
              "        height: 32px;\n",
              "        padding: 0 0 0 0;\n",
              "        width: 32px;\n",
              "      }\n",
              "\n",
              "      .colab-df-generate:hover {\n",
              "        background-color: #E2EBFA;\n",
              "        box-shadow: 0px 1px 2px rgba(60, 64, 67, 0.3), 0px 1px 3px 1px rgba(60, 64, 67, 0.15);\n",
              "        fill: #174EA6;\n",
              "      }\n",
              "\n",
              "      [theme=dark] .colab-df-generate {\n",
              "        background-color: #3B4455;\n",
              "        fill: #D2E3FC;\n",
              "      }\n",
              "\n",
              "      [theme=dark] .colab-df-generate:hover {\n",
              "        background-color: #434B5C;\n",
              "        box-shadow: 0px 1px 3px 1px rgba(0, 0, 0, 0.15);\n",
              "        filter: drop-shadow(0px 1px 2px rgba(0, 0, 0, 0.3));\n",
              "        fill: #FFFFFF;\n",
              "      }\n",
              "    </style>\n",
              "    <button class=\"colab-df-generate\" onclick=\"generateWithVariable('test_labels_df')\"\n",
              "            title=\"Generate code using this dataframe.\"\n",
              "            style=\"display:none;\">\n",
              "\n",
              "  <svg xmlns=\"http://www.w3.org/2000/svg\" height=\"24px\"viewBox=\"0 0 24 24\"\n",
              "       width=\"24px\">\n",
              "    <path d=\"M7,19H8.4L18.45,9,17,7.55,7,17.6ZM5,21V16.75L18.45,3.32a2,2,0,0,1,2.83,0l1.4,1.43a1.91,1.91,0,0,1,.58,1.4,1.91,1.91,0,0,1-.58,1.4L9.25,21ZM18.45,9,17,7.55Zm-12,3A5.31,5.31,0,0,0,4.9,8.1,5.31,5.31,0,0,0,1,6.5,5.31,5.31,0,0,0,4.9,4.9,5.31,5.31,0,0,0,6.5,1,5.31,5.31,0,0,0,8.1,4.9,5.31,5.31,0,0,0,12,6.5,5.46,5.46,0,0,0,6.5,12Z\"/>\n",
              "  </svg>\n",
              "    </button>\n",
              "    <script>\n",
              "      (() => {\n",
              "      const buttonEl =\n",
              "        document.querySelector('#id_cfa5ca78-6869-4c6b-99bc-2fdd0d38f5f6 button.colab-df-generate');\n",
              "      buttonEl.style.display =\n",
              "        google.colab.kernel.accessAllowed ? 'block' : 'none';\n",
              "\n",
              "      buttonEl.onclick = () => {\n",
              "        google.colab.notebook.generateWithVariable('test_labels_df');\n",
              "      }\n",
              "      })();\n",
              "    </script>\n",
              "  </div>\n",
              "\n",
              "    </div>\n",
              "  </div>\n"
            ],
            "application/vnd.google.colaboratory.intrinsic+json": {
              "type": "dataframe",
              "variable_name": "test_labels_df",
              "summary": "{\n  \"name\": \"test_labels_df\",\n  \"rows\": 1490,\n  \"fields\": [\n    {\n      \"column\": \"Original\",\n      \"properties\": {\n        \"dtype\": \"category\",\n        \"num_unique_values\": 124,\n        \"samples\": [\n          \"FEVER\",\n          \"POUR\",\n          \"BED\"\n        ],\n        \"semantic_type\": \"\",\n        \"description\": \"\"\n      }\n    },\n    {\n      \"column\": \"Predicted\",\n      \"properties\": {\n        \"dtype\": \"category\",\n        \"num_unique_values\": 124,\n        \"samples\": [\n          \"FEVER\",\n          \"SO MUCH\",\n          \"S\"\n        ],\n        \"semantic_type\": \"\",\n        \"description\": \"\"\n      }\n    }\n  ]\n}"
            }
          },
          "metadata": {},
          "execution_count": 55
        }
      ]
    },
    {
      "cell_type": "code",
      "source": [
        "# Add a column to indicate whether the prediction was correct\n",
        "test_labels_df['Correct'] = test_labels_df['Original'] == test_labels_df['Predicted']\n",
        "\n",
        "# Group by the 'Original' column and calculate percentages\n",
        "accuracy_per_word = test_labels_df.groupby('Original').agg(\n",
        "    Total=('Correct', 'count'),       # Total occurrences of each word\n",
        "    Correct_Count=('Correct', 'sum')  # Number of correct predictions\n",
        ")\n",
        "\n",
        "# Add a percentage column\n",
        "accuracy_per_word['Accuracy_Percentage'] = (accuracy_per_word['Correct_Count'] / accuracy_per_word['Total']) * 100\n",
        "\n",
        "# Reset the index for easier viewing\n",
        "accuracy_per_word = accuracy_per_word.reset_index()\n",
        "\n",
        "# Display the DataFrame\n",
        "print(accuracy_per_word.sort_values(by=\"Accuracy_Percentage\", ascending=False))\n"
      ],
      "metadata": {
        "colab": {
          "base_uri": "https://localhost:8080/"
        },
        "id": "uHSUcWjJkRWD",
        "outputId": "be23a6fe-a31d-4d19-cd0f-332edbbdaf69"
      },
      "execution_count": null,
      "outputs": [
        {
          "output_type": "stream",
          "name": "stdout",
          "text": [
            "            Original  Total  Correct_Count  Accuracy_Percentage\n",
            "0                  1     24             24           100.000000\n",
            "31                 F     17             17           100.000000\n",
            "39                 G     24             24           100.000000\n",
            "48          HELLO_HI      6              6           100.000000\n",
            "50            HIDING      7              7           100.000000\n",
            "52            HUNGRY      3              3           100.000000\n",
            "54                 I     18             18           100.000000\n",
            "56                 J     28             28           100.000000\n",
            "57                 K     14             14           100.000000\n",
            "59                 L     24             24           100.000000\n",
            "1                  2     27             27           100.000000\n",
            "66                 N     24             24           100.000000\n",
            "69                 O     22             22           100.000000\n",
            "71           OUTSIDE      6              6           100.000000\n",
            "72                 P     14             14           100.000000\n",
            "78                 Q     11             11           100.000000\n",
            "79                 R     24             24           100.000000\n",
            "81            REPEAT      4              4           100.000000\n",
            "83                 S     23             23           100.000000\n",
            "84             SHIRT      6              6           100.000000\n",
            "86             SLEEP     11             11           100.000000\n",
            "96                 T     17             17           100.000000\n",
            "98         TAKE TIME     10             10           100.000000\n",
            "104            THINK      8              8           100.000000\n",
            "111                U     30             30           100.000000\n",
            "113                V     24             24           100.000000\n",
            "114                W     21             21           100.000000\n",
            "120                X     16             16           100.000000\n",
            "121                Y     27             27           100.000000\n",
            "33             FEVER     12             12           100.000000\n",
            "62                 M     27             27           100.000000\n",
            "30                 E     30             30           100.000000\n",
            "27        DIFFERENCE      6              6           100.000000\n",
            "2                  3     27             27           100.000000\n",
            "3                  4     29             29           100.000000\n",
            "4                  5     24             24           100.000000\n",
            "5                  6     20             20           100.000000\n",
            "6                  7     20             20           100.000000\n",
            "7                  8     22             22           100.000000\n",
            "8                  9     24             24           100.000000\n",
            "9                  A     22             22           100.000000\n",
            "13                 B     15             15           100.000000\n",
            "14               BAD      7              7           100.000000\n",
            "23   CONGRATULATIONS      3              3           100.000000\n",
            "25                 D     22             22           100.000000\n",
            "123                Z     19             19           100.000000\n",
            "43                 H     24             22            91.666667\n",
            "17                 C     23             21            91.304348\n",
            "64          MEDICINE      9              8            88.888889\n",
            "63           MEAN IT      9              8            88.888889\n",
            "46              HEAR      8              7            87.500000\n",
            "41              GOOD      7              6            85.714286\n",
            "16             BORED      7              6            85.714286\n",
            "110          TURN ON      6              5            83.333333\n",
            "47             HEART     12             10            83.333333\n",
            "11             ANGRY      6              5            83.333333\n",
            "85           SITTING      6              5            83.333333\n",
            "67              NAME     11              9            81.818182\n",
            "87            SLOWER     10              8            80.000000\n",
            "36              FREE      5              4            80.000000\n",
            "106            TIRED      5              4            80.000000\n",
            "15               BED     10              8            80.000000\n",
            "19              COLD      5              4            80.000000\n",
            "44               HAD      9              7            77.777778\n",
            "75              POUR      9              7            77.777778\n",
            "38              FROM      4              3            75.000000\n",
            "28      DISAPPOINTED      8              6            75.000000\n",
            "32            FAVOUR      4              3            75.000000\n",
            "117             WEAR     12              9            75.000000\n",
            "82              ROOM      8              6            75.000000\n",
            "93             SPEAK     12              9            75.000000\n",
            "21              COMB      4              3            75.000000\n",
            "58              KIND      8              6            75.000000\n",
            "40                GO     11              8            72.727273\n",
            "34              FINE     11              8            72.727273\n",
            "29                DO     11              8            72.727273\n",
            "68              NICE     11              8            72.727273\n",
            "119             WHAT      7              5            71.428571\n",
            "122              YOU      7              5            71.428571\n",
            "65              MEET      7              5            71.428571\n",
            "95              SURE      7              5            71.428571\n",
            "107            TODAY      7              5            71.428571\n",
            "105          THIRSTY     10              7            70.000000\n",
            "76           PREPARE      9              6            66.666667\n",
            "18             CLASS      6              4            66.666667\n",
            "99              TALK      6              4            66.666667\n",
            "55      I_ME_MINE_MY      9              6            66.666667\n",
            "20    COLLEGE_SCHOOL      9              6            66.666667\n",
            "61         LIKE_LOVE      6              4            66.666667\n",
            "77           PROMISE     11              7            63.636364\n",
            "88           SO MUCH     11              7            63.636364\n",
            "24            CRYING     11              7            63.636364\n",
            "109            TRUTH      8              5            62.500000\n",
            "49              HELP      8              5            62.500000\n",
            "118          WELCOME      8              5            62.500000\n",
            "60             LEAVE      8              5            62.500000\n",
            "80            REALLY     10              6            60.000000\n",
            "89            SOFTLY      7              4            57.142857\n",
            "116            WATER      7              4            57.142857\n",
            "115             WANT      9              5            55.555556\n",
            "97         TAKE CARE      9              5            55.555556\n",
            "101            THANK      9              5            55.555556\n",
            "103           THINGS     11              6            54.545455\n",
            "90          SOME ONE      6              3            50.000000\n",
            "92             SORRY      6              3            50.000000\n",
            "53              HURT      8              4            50.000000\n",
            "73             PHONE     12              6            50.000000\n",
            "22              COME     13              6            46.153846\n",
            "100             TELL     11              5            45.454545\n",
            "94              STOP      7              3            42.857143\n",
            "74             PLACE      7              3            42.857143\n",
            "12        APPRECIATE      7              3            42.857143\n",
            "35              FOOD     10              4            40.000000\n",
            "45             HAPPY      5              2            40.000000\n",
            "108            TRUST      5              2            40.000000\n",
            "112       UNDERSTAND      8              3            37.500000\n",
            "51               HOW      8              3            37.500000\n",
            "42          GRATEFUL     12              4            33.333333\n",
            "91         SOMETHING      6              2            33.333333\n",
            "102             THAT      6              2            33.333333\n",
            "10            AFRAID     10              3            30.000000\n",
            "70           OLD_AGE     12              3            25.000000\n",
            "26              DARE      5              1            20.000000\n",
            "37            FRIEND      5              1            20.000000\n"
          ]
        }
      ]
    },
    {
      "cell_type": "code",
      "source": [
        "accuracy_per_word.to_csv('accuracy_per_word.csv', index=False)"
      ],
      "metadata": {
        "id": "5-jX5a_TkqZ5"
      },
      "execution_count": null,
      "outputs": []
    },
    {
      "cell_type": "code",
      "source": [],
      "metadata": {
        "id": "FzCmyAx7knma"
      },
      "execution_count": null,
      "outputs": []
    },
    {
      "cell_type": "code",
      "source": [
        "incorrect_predictions_df = test_labels_df[test_labels_df['Original'] != test_labels_df['Predicted']]"
      ],
      "metadata": {
        "id": "dRmiLGYJQLNu"
      },
      "execution_count": null,
      "outputs": []
    },
    {
      "cell_type": "code",
      "source": [
        "incorrect_predictions_df.shape"
      ],
      "metadata": {
        "colab": {
          "base_uri": "https://localhost:8080/"
        },
        "id": "P2PyL-zLQNiR",
        "outputId": "4648b32a-adcf-4d3d-ff8b-c4dbf04104c3"
      },
      "execution_count": null,
      "outputs": [
        {
          "output_type": "execute_result",
          "data": {
            "text/plain": [
              "(236, 2)"
            ]
          },
          "metadata": {},
          "execution_count": 57
        }
      ]
    },
    {
      "cell_type": "code",
      "source": [
        "pd.set_option('display.max_rows', None)"
      ],
      "metadata": {
        "id": "-8CHZ_-TQTFc"
      },
      "execution_count": null,
      "outputs": []
    },
    {
      "cell_type": "code",
      "source": [
        "print(incorrect_predictions_df)"
      ],
      "metadata": {
        "colab": {
          "base_uri": "https://localhost:8080/"
        },
        "collapsed": true,
        "id": "6YsAoSEyQNlu",
        "outputId": "0ce0085b-0cb9-484e-9939-4de47affca93"
      },
      "execution_count": null,
      "outputs": [
        {
          "output_type": "stream",
          "name": "stdout",
          "text": [
            "            Original        Predicted\n",
            "5               HURT             FREE\n",
            "6               FOOD          OLD_AGE\n",
            "12           THIRSTY             ROOM\n",
            "23            THINGS            FEVER\n",
            "25           PROMISE           FAVOUR\n",
            "32             PHONE            TIRED\n",
            "35           OLD_AGE            SORRY\n",
            "43    COLLEGE_SCHOOL        TAKE CARE\n",
            "53      I_ME_MINE_MY            SORRY\n",
            "54              COME          WELCOME\n",
            "60             SORRY            THANK\n",
            "68              COME          WELCOME\n",
            "69             ANGRY       UNDERSTAND\n",
            "70             PHONE          OLD_AGE\n",
            "71               BED   COLLEGE_SCHOOL\n",
            "78             PHONE            FEVER\n",
            "83              FOOD          SITTING\n",
            "104            TRUST             COLD\n",
            "117             MEET           REALLY\n",
            "121           AFRAID            TRUTH\n",
            "122           CRYING           FAVOUR\n",
            "128            TODAY            TRUTH\n",
            "129         MEDICINE            THINK\n",
            "137             NICE             DARE\n",
            "138             STOP            PLACE\n",
            "148             THAT            LEAVE\n",
            "159             FINE        TAKE TIME\n",
            "162                C         MEDICINE\n",
            "173           REALLY            THANK\n",
            "179        TAKE CARE           HUNGRY\n",
            "181             ROOM            TIRED\n",
            "185         GRATEFUL             NICE\n",
            "190     I_ME_MINE_MY             HURT\n",
            "191           FAVOUR             FINE\n",
            "192          OLD_AGE            SORRY\n",
            "193              HOW     DISAPPOINTED\n",
            "194           CRYING           THINGS\n",
            "206          THIRSTY             FOOD\n",
            "208               DO          OLD_AGE\n",
            "222             POUR       DIFFERENCE\n",
            "223           AFRAID           SLOWER\n",
            "224             MEET           REALLY\n",
            "229              YOU             POUR\n",
            "231             WEAR            FEVER\n",
            "238           REALLY          THIRSTY\n",
            "241             WANT             FOOD\n",
            "244            TRUTH            TODAY\n",
            "254            TRUTH            TODAY\n",
            "256         GRATEFUL             NICE\n",
            "272                H                M\n",
            "274             THAT            TODAY\n",
            "275            WATER             FOOD\n",
            "300            WATER            THANK\n",
            "301             DARE             FINE\n",
            "303            SORRY          OUTSIDE\n",
            "317        LIKE_LOVE          OLD_AGE\n",
            "323             STOP            PLACE\n",
            "324           FRIEND          THIRSTY\n",
            "334             TALK            WATER\n",
            "335           FRIEND          THIRSTY\n",
            "339             POUR              BAD\n",
            "344           SOFTLY            SORRY\n",
            "355             ROOM            PLACE\n",
            "356              HAD          OLD_AGE\n",
            "370           REALLY            THANK\n",
            "377          OLD_AGE             TELL\n",
            "380            SPEAK              YOU\n",
            "386          PROMISE             HELP\n",
            "392             COME          WELCOME\n",
            "396            THANK        TAKE CARE\n",
            "399                H                M\n",
            "409             WHAT            BORED\n",
            "422             COMB             HELP\n",
            "439             COME          WELCOME\n",
            "447             KIND            HAPPY\n",
            "454             TALK              YOU\n",
            "461         GRATEFUL            TIRED\n",
            "465             HEAR          OUTSIDE\n",
            "466          PREPARE            SLEEP\n",
            "468            PHONE          OLD_AGE\n",
            "482            SPEAK              HOW\n",
            "506        SOMETHING          TURN ON\n",
            "513             FOOD             FINE\n",
            "541             GOOD             HELP\n",
            "546          OLD_AGE           FRIEND\n",
            "547          OLD_AGE            WATER\n",
            "553             THAT          OLD_AGE\n",
            "554          WELCOME             COME\n",
            "555            TIRED            WATER\n",
            "561             NICE           HUNGRY\n",
            "564          SO MUCH           SLOWER\n",
            "566           CRYING        LIKE_LOVE\n",
            "571              BED         SOME ONE\n",
            "575            THANK             DARE\n",
            "585             WANT          MEAN IT\n",
            "588            PHONE          SO MUCH\n",
            "591             TELL              HOW\n",
            "593            PLACE            CLASS\n",
            "596          SO MUCH             COMB\n",
            "604          SITTING           HUNGRY\n",
            "605               GO             FREE\n",
            "608             FREE              HOW\n",
            "618             THAT     DISAPPOINTED\n",
            "622             HELP             HURT\n",
            "625        SOMETHING           FRIEND\n",
            "628           SOFTLY         HELLO_HI\n",
            "632         SOME ONE             COMB\n",
            "651             DARE             FINE\n",
            "656       UNDERSTAND   COLLEGE_SCHOOL\n",
            "663            TRUST            THANK\n",
            "664             FINE             HURT\n",
            "666             FINE             HURT\n",
            "674          TURN ON   COLLEGE_SCHOOL\n",
            "676             SURE          OUTSIDE\n",
            "705            HAPPY           FAVOUR\n",
            "707            PHONE           THINGS\n",
            "735            LEAVE             THAT\n",
            "754       UNDERSTAND           SOFTLY\n",
            "760           AFRAID         HELLO_HI\n",
            "766           AFRAID             THAT\n",
            "773            CLASS            WATER\n",
            "783            THANK             POUR\n",
            "785           FRIEND           HIDING\n",
            "796              YOU             TALK\n",
            "808       UNDERSTAND            PHONE\n",
            "811             KIND              BED\n",
            "814           SLOWER            PLACE\n",
            "815          WELCOME             COME\n",
            "819       UNDERSTAND               GO\n",
            "824             WHAT          OLD_AGE\n",
            "845             STOP           AFRAID\n",
            "852            HAPPY             NICE\n",
            "863          OLD_AGE            WATER\n",
            "865        SOMETHING             FINE\n",
            "867               GO             FREE\n",
            "868        TAKE CARE              BED\n",
            "869     DISAPPOINTED              HOW\n",
            "873        SOMETHING          PREPARE\n",
            "874           AFRAID           SLOWER\n",
            "880             DARE             FINE\n",
            "881            SPEAK              YOU\n",
            "887             FOOD        TAKE CARE\n",
            "897             FROM        TAKE TIME\n",
            "900              HOW            HAPPY\n",
            "911   COLLEGE_SCHOOL             ROOM\n",
            "914          SO MUCH         SOME ONE\n",
            "916            LEAVE              BED\n",
            "925             TELL          OUTSIDE\n",
            "933            LEAVE              BED\n",
            "941            TRUST             FOOD\n",
            "946          PROMISE           HUNGRY\n",
            "949         GRATEFUL             HURT\n",
            "957            WATER            HAPPY\n",
            "961             HELP             POUR\n",
            "965           THINGS          SITTING\n",
            "967            HAPPY             HELP\n",
            "970              HOW             WHAT\n",
            "971            PLACE           SLOWER\n",
            "979             FOOD            SORRY\n",
            "991          SO MUCH           SLOWER\n",
            "997            THANK             FREE\n",
            "1016      UNDERSTAND          TURN ON\n",
            "1021         PREPARE              BED\n",
            "1022           HEART     I_ME_MINE_MY\n",
            "1023            NAME  CONGRATULATIONS\n",
            "1030          THINGS            THINK\n",
            "1034       LIKE_LOVE            WATER\n",
            "1041         PROMISE             NICE\n",
            "1047            WEAR               DO\n",
            "1056          THINGS          SITTING\n",
            "1062          AFRAID              HAD\n",
            "1064           HEART             HELP\n",
            "1068    I_ME_MINE_MY            HAPPY\n",
            "1069         MEAN IT            TODAY\n",
            "1071        GRATEFUL          PROMISE\n",
            "1073            TELL             SURE\n",
            "1081             HOW             WHAT\n",
            "1092            HURT     I_ME_MINE_MY\n",
            "1100            COME          WELCOME\n",
            "1102           BORED             POUR\n",
            "1103       TAKE CARE             KIND\n",
            "1105      APPRECIATE         SOME ONE\n",
            "1107  COLLEGE_SCHOOL             DARE\n",
            "1116            TELL              YOU\n",
            "1117              DO            THANK\n",
            "1121          FRIEND          OLD_AGE\n",
            "1133      APPRECIATE              HOW\n",
            "1136            COME          WELCOME\n",
            "1141            TELL             HURT\n",
            "1152        SOME ONE           CRYING\n",
            "1153            FOOD             TALK\n",
            "1159          REALLY                G\n",
            "1166          SOFTLY           REALLY\n",
            "1183          THINGS           HUNGRY\n",
            "1189              DO            SORRY\n",
            "1191        GRATEFUL          OUTSIDE\n",
            "1194             HOW       DIFFERENCE\n",
            "1195        GRATEFUL             NICE\n",
            "1210              GO          PREPARE\n",
            "1213    DISAPPOINTED            THANK\n",
            "1224            WANT           CRYING\n",
            "1227           TRUTH         HELLO_HI\n",
            "1246            COLD        TAKE CARE\n",
            "1255            SURE             FOOD\n",
            "1273         PREPARE        TAKE TIME\n",
            "1274             HAD          PREPARE\n",
            "1287          SLOWER             HEAR\n",
            "1295            WANT         MEDICINE\n",
            "1296           PLACE             STOP\n",
            "1311            DARE             FINE\n",
            "1330         OLD_AGE            SORRY\n",
            "1333            NAME             WANT\n",
            "1334               C                O\n",
            "1338           SORRY           HUNGRY\n",
            "1345            HELP            FEVER\n",
            "1350            TELL              YOU\n",
            "1352          CRYING            WATER\n",
            "1356          AFRAID              HAD\n",
            "1374         THIRSTY             STOP\n",
            "1380        SOME ONE              HAD\n",
            "1382      APPRECIATE         SOME ONE\n",
            "1386            HURT             POUR\n",
            "1394         WELCOME             COME\n",
            "1396            WEAR               DO\n",
            "1404           PLACE            FEVER\n",
            "1406           TODAY              BAD\n",
            "1408            NICE             GOOD\n",
            "1427       TAKE CARE             COLD\n",
            "1429         OLD_AGE           CRYING\n",
            "1433           CLASS          MEAN IT\n",
            "1439        GRATEFUL             FREE\n",
            "1453      APPRECIATE             THAT\n",
            "1463            COME          WELCOME\n",
            "1469         OLD_AGE          THIRSTY\n",
            "1472            HURT             NICE\n",
            "1481            STOP        TAKE TIME\n"
          ]
        }
      ]
    },
    {
      "cell_type": "code",
      "source": [
        "unique_words = incorrect_predictions_df[\"Original\"].value_counts().sort_values(ascending=False)"
      ],
      "metadata": {
        "id": "UPidzIttQxn8"
      },
      "execution_count": null,
      "outputs": []
    },
    {
      "cell_type": "code",
      "source": [
        "len(unique_words)"
      ],
      "metadata": {
        "colab": {
          "base_uri": "https://localhost:8080/"
        },
        "id": "FKrcuW7YQxsX",
        "outputId": "edea835d-5752-492e-df77-624f8ecdff0f"
      },
      "execution_count": null,
      "outputs": [
        {
          "output_type": "execute_result",
          "data": {
            "text/plain": [
              "78"
            ]
          },
          "metadata": {},
          "execution_count": 61
        }
      ]
    },
    {
      "cell_type": "code",
      "source": [],
      "metadata": {
        "id": "0vUGkpIOQxv3"
      },
      "execution_count": null,
      "outputs": []
    },
    {
      "cell_type": "code",
      "source": [
        "import pickle\n",
        "\n",
        "# pickle.dump(model, open('words_model.pkl', 'wb'))\n",
        "# pickle.dump(std_scaler, open('words_std_scaler.pkl', 'wb'))\n",
        "# pickle.dump(encoder, open('words_labelencoder.pkl', 'wb'))"
      ],
      "metadata": {
        "id": "dlvlws2kwzam"
      },
      "execution_count": null,
      "outputs": []
    },
    {
      "cell_type": "code",
      "source": [
        "# torch.save(model.state_dict(), 'lstm_model.pt')"
      ],
      "metadata": {
        "id": "5ZTeF4Sgey1a"
      },
      "execution_count": null,
      "outputs": []
    },
    {
      "cell_type": "code",
      "source": [
        "encoder.classes_"
      ],
      "metadata": {
        "id": "VyZgPHOUey4w",
        "colab": {
          "base_uri": "https://localhost:8080/"
        },
        "outputId": "47e11786-7f15-44d2-a6ab-f1a8c86c7e5c"
      },
      "execution_count": null,
      "outputs": [
        {
          "output_type": "execute_result",
          "data": {
            "text/plain": [
              "array(['1', '2', '3', '4', '5', '6', '7', '8', '9', 'A', 'AFRAID',\n",
              "       'ANGRY', 'APPRECIATE', 'B', 'BAD', 'BED', 'BORED', 'C', 'CLASS',\n",
              "       'COLD', 'COLLEGE_SCHOOL', 'COMB', 'COME', 'CONGRATULATIONS',\n",
              "       'CRYING', 'D', 'DARE', 'DIFFERENCE', 'DISAPPOINTED', 'DO', 'E',\n",
              "       'F', 'FAVOUR', 'FEVER', 'FINE', 'FOOD', 'FREE', 'FRIEND', 'FROM',\n",
              "       'G', 'GO', 'GOOD', 'GRATEFUL', 'H', 'HAD', 'HAPPY', 'HEAR',\n",
              "       'HEART', 'HELLO_HI', 'HELP', 'HIDING', 'HOW', 'HUNGRY', 'HURT',\n",
              "       'I', 'I_ME_MINE_MY', 'J', 'K', 'KIND', 'L', 'LEAVE', 'LIKE_LOVE',\n",
              "       'M', 'MEAN IT', 'MEDICINE', 'MEET', 'N', 'NAME', 'NICE', 'O',\n",
              "       'OLD_AGE', 'OUTSIDE', 'P', 'PHONE', 'PLACE', 'POUR', 'PREPARE',\n",
              "       'PROMISE', 'Q', 'R', 'REALLY', 'REPEAT', 'ROOM', 'S', 'SHIRT',\n",
              "       'SITTING', 'SLEEP', 'SLOWER', 'SO MUCH', 'SOFTLY', 'SOME ONE',\n",
              "       'SOMETHING', 'SORRY', 'SPEAK', 'STOP', 'SURE', 'T', 'TAKE CARE',\n",
              "       'TAKE TIME', 'TALK', 'TELL', 'THANK', 'THAT', 'THINGS', 'THINK',\n",
              "       'THIRSTY', 'TIRED', 'TODAY', 'TRUST', 'TRUTH', 'TURN ON', 'U',\n",
              "       'UNDERSTAND', 'V', 'W', 'WANT', 'WATER', 'WEAR', 'WELCOME', 'WHAT',\n",
              "       'X', 'Y', 'YOU', 'Z'], dtype=object)"
            ]
          },
          "metadata": {},
          "execution_count": 64
        }
      ]
    },
    {
      "cell_type": "code",
      "source": [
        "# original_labels = encoder.inverse_transform(targets)\n",
        "# original_labels"
      ],
      "metadata": {
        "id": "YG-QqYS2wzeD"
      },
      "execution_count": null,
      "outputs": []
    }
  ]
}