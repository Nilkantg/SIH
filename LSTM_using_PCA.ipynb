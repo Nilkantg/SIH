{
  "nbformat": 4,
  "nbformat_minor": 0,
  "metadata": {
    "colab": {
      "provenance": [],
      "gpuType": "T4"
    },
    "kernelspec": {
      "name": "python3",
      "display_name": "Python 3"
    },
    "language_info": {
      "name": "python"
    },
    "accelerator": "GPU"
  },
  "cells": [
    {
      "cell_type": "code",
      "execution_count": 1,
      "metadata": {
        "id": "htJ90Jd1g2Wk"
      },
      "outputs": [],
      "source": [
        "import pandas as pd\n",
        "import numpy as np\n",
        "\n",
        "from sklearn.preprocessing import LabelEncoder\n",
        "from sklearn.preprocessing import StandardScaler, MinMaxScaler\n",
        "from sklearn.model_selection import train_test_split\n",
        "from sklearn.metrics import accuracy_score, classification_report, confusion_matrix\n",
        "\n",
        "import torch\n",
        "import torch.nn as nn\n",
        "import torch.nn.functional as F\n",
        "import torch.optim as optim\n",
        "from torch.utils.data import TensorDataset, DataLoader\n",
        "\n",
        "import warnings\n",
        "warnings.filterwarnings(\"ignore\")"
      ]
    },
    {
      "cell_type": "code",
      "source": [
        "words_corpus = pd.read_csv('/content/preprocessed_PCA_newdf.xls')\n",
        "words_corpus.head()"
      ],
      "metadata": {
        "colab": {
          "base_uri": "https://localhost:8080/",
          "height": 206
        },
        "id": "Gm2zGzvB2Byx",
        "outputId": "11397cac-875a-45cf-d67b-91d0aeaaba89"
      },
      "execution_count": 2,
      "outputs": [
        {
          "output_type": "execute_result",
          "data": {
            "text/plain": [
              "   Unnamed: 0  Feature-1  Feature-2  Feature-3  Feature-4  Feature-5  \\\n",
              "0           0  -0.135994   0.700704  -0.243845  -0.206682   0.012245   \n",
              "1           1  -0.164038   0.618974  -0.239514  -0.225620  -0.008237   \n",
              "2           2  -0.657468  -0.421108  -0.262696   0.028364  -0.147318   \n",
              "3           3  -0.494670  -1.286647  -0.145833   0.209014  -0.183054   \n",
              "4           4   0.027746  -0.361878  -0.233952  -0.186101  -0.093658   \n",
              "\n",
              "   Feature-6  Feature-7  Feature-8  Feature-9  Feature-10    Word  \n",
              "0  -0.134163  -0.034946  -0.000948  -0.006617   -0.013265  AFRAID  \n",
              "1  -0.104077   0.035675  -0.012855   0.037187   -0.017356  AFRAID  \n",
              "2  -0.037199   0.045543  -0.030400  -0.004434   -0.017793  AFRAID  \n",
              "3   0.073933   0.122878   0.001645   0.105372   -0.058780  AFRAID  \n",
              "4   0.032019   0.083742   0.005980   0.026283   -0.025037  AFRAID  "
            ],
            "text/html": [
              "\n",
              "  <div id=\"df-19254701-c82f-418b-8d9a-d006f273a479\" class=\"colab-df-container\">\n",
              "    <div>\n",
              "<style scoped>\n",
              "    .dataframe tbody tr th:only-of-type {\n",
              "        vertical-align: middle;\n",
              "    }\n",
              "\n",
              "    .dataframe tbody tr th {\n",
              "        vertical-align: top;\n",
              "    }\n",
              "\n",
              "    .dataframe thead th {\n",
              "        text-align: right;\n",
              "    }\n",
              "</style>\n",
              "<table border=\"1\" class=\"dataframe\">\n",
              "  <thead>\n",
              "    <tr style=\"text-align: right;\">\n",
              "      <th></th>\n",
              "      <th>Unnamed: 0</th>\n",
              "      <th>Feature-1</th>\n",
              "      <th>Feature-2</th>\n",
              "      <th>Feature-3</th>\n",
              "      <th>Feature-4</th>\n",
              "      <th>Feature-5</th>\n",
              "      <th>Feature-6</th>\n",
              "      <th>Feature-7</th>\n",
              "      <th>Feature-8</th>\n",
              "      <th>Feature-9</th>\n",
              "      <th>Feature-10</th>\n",
              "      <th>Word</th>\n",
              "    </tr>\n",
              "  </thead>\n",
              "  <tbody>\n",
              "    <tr>\n",
              "      <th>0</th>\n",
              "      <td>0</td>\n",
              "      <td>-0.135994</td>\n",
              "      <td>0.700704</td>\n",
              "      <td>-0.243845</td>\n",
              "      <td>-0.206682</td>\n",
              "      <td>0.012245</td>\n",
              "      <td>-0.134163</td>\n",
              "      <td>-0.034946</td>\n",
              "      <td>-0.000948</td>\n",
              "      <td>-0.006617</td>\n",
              "      <td>-0.013265</td>\n",
              "      <td>AFRAID</td>\n",
              "    </tr>\n",
              "    <tr>\n",
              "      <th>1</th>\n",
              "      <td>1</td>\n",
              "      <td>-0.164038</td>\n",
              "      <td>0.618974</td>\n",
              "      <td>-0.239514</td>\n",
              "      <td>-0.225620</td>\n",
              "      <td>-0.008237</td>\n",
              "      <td>-0.104077</td>\n",
              "      <td>0.035675</td>\n",
              "      <td>-0.012855</td>\n",
              "      <td>0.037187</td>\n",
              "      <td>-0.017356</td>\n",
              "      <td>AFRAID</td>\n",
              "    </tr>\n",
              "    <tr>\n",
              "      <th>2</th>\n",
              "      <td>2</td>\n",
              "      <td>-0.657468</td>\n",
              "      <td>-0.421108</td>\n",
              "      <td>-0.262696</td>\n",
              "      <td>0.028364</td>\n",
              "      <td>-0.147318</td>\n",
              "      <td>-0.037199</td>\n",
              "      <td>0.045543</td>\n",
              "      <td>-0.030400</td>\n",
              "      <td>-0.004434</td>\n",
              "      <td>-0.017793</td>\n",
              "      <td>AFRAID</td>\n",
              "    </tr>\n",
              "    <tr>\n",
              "      <th>3</th>\n",
              "      <td>3</td>\n",
              "      <td>-0.494670</td>\n",
              "      <td>-1.286647</td>\n",
              "      <td>-0.145833</td>\n",
              "      <td>0.209014</td>\n",
              "      <td>-0.183054</td>\n",
              "      <td>0.073933</td>\n",
              "      <td>0.122878</td>\n",
              "      <td>0.001645</td>\n",
              "      <td>0.105372</td>\n",
              "      <td>-0.058780</td>\n",
              "      <td>AFRAID</td>\n",
              "    </tr>\n",
              "    <tr>\n",
              "      <th>4</th>\n",
              "      <td>4</td>\n",
              "      <td>0.027746</td>\n",
              "      <td>-0.361878</td>\n",
              "      <td>-0.233952</td>\n",
              "      <td>-0.186101</td>\n",
              "      <td>-0.093658</td>\n",
              "      <td>0.032019</td>\n",
              "      <td>0.083742</td>\n",
              "      <td>0.005980</td>\n",
              "      <td>0.026283</td>\n",
              "      <td>-0.025037</td>\n",
              "      <td>AFRAID</td>\n",
              "    </tr>\n",
              "  </tbody>\n",
              "</table>\n",
              "</div>\n",
              "    <div class=\"colab-df-buttons\">\n",
              "\n",
              "  <div class=\"colab-df-container\">\n",
              "    <button class=\"colab-df-convert\" onclick=\"convertToInteractive('df-19254701-c82f-418b-8d9a-d006f273a479')\"\n",
              "            title=\"Convert this dataframe to an interactive table.\"\n",
              "            style=\"display:none;\">\n",
              "\n",
              "  <svg xmlns=\"http://www.w3.org/2000/svg\" height=\"24px\" viewBox=\"0 -960 960 960\">\n",
              "    <path d=\"M120-120v-720h720v720H120Zm60-500h600v-160H180v160Zm220 220h160v-160H400v160Zm0 220h160v-160H400v160ZM180-400h160v-160H180v160Zm440 0h160v-160H620v160ZM180-180h160v-160H180v160Zm440 0h160v-160H620v160Z\"/>\n",
              "  </svg>\n",
              "    </button>\n",
              "\n",
              "  <style>\n",
              "    .colab-df-container {\n",
              "      display:flex;\n",
              "      gap: 12px;\n",
              "    }\n",
              "\n",
              "    .colab-df-convert {\n",
              "      background-color: #E8F0FE;\n",
              "      border: none;\n",
              "      border-radius: 50%;\n",
              "      cursor: pointer;\n",
              "      display: none;\n",
              "      fill: #1967D2;\n",
              "      height: 32px;\n",
              "      padding: 0 0 0 0;\n",
              "      width: 32px;\n",
              "    }\n",
              "\n",
              "    .colab-df-convert:hover {\n",
              "      background-color: #E2EBFA;\n",
              "      box-shadow: 0px 1px 2px rgba(60, 64, 67, 0.3), 0px 1px 3px 1px rgba(60, 64, 67, 0.15);\n",
              "      fill: #174EA6;\n",
              "    }\n",
              "\n",
              "    .colab-df-buttons div {\n",
              "      margin-bottom: 4px;\n",
              "    }\n",
              "\n",
              "    [theme=dark] .colab-df-convert {\n",
              "      background-color: #3B4455;\n",
              "      fill: #D2E3FC;\n",
              "    }\n",
              "\n",
              "    [theme=dark] .colab-df-convert:hover {\n",
              "      background-color: #434B5C;\n",
              "      box-shadow: 0px 1px 3px 1px rgba(0, 0, 0, 0.15);\n",
              "      filter: drop-shadow(0px 1px 2px rgba(0, 0, 0, 0.3));\n",
              "      fill: #FFFFFF;\n",
              "    }\n",
              "  </style>\n",
              "\n",
              "    <script>\n",
              "      const buttonEl =\n",
              "        document.querySelector('#df-19254701-c82f-418b-8d9a-d006f273a479 button.colab-df-convert');\n",
              "      buttonEl.style.display =\n",
              "        google.colab.kernel.accessAllowed ? 'block' : 'none';\n",
              "\n",
              "      async function convertToInteractive(key) {\n",
              "        const element = document.querySelector('#df-19254701-c82f-418b-8d9a-d006f273a479');\n",
              "        const dataTable =\n",
              "          await google.colab.kernel.invokeFunction('convertToInteractive',\n",
              "                                                    [key], {});\n",
              "        if (!dataTable) return;\n",
              "\n",
              "        const docLinkHtml = 'Like what you see? Visit the ' +\n",
              "          '<a target=\"_blank\" href=https://colab.research.google.com/notebooks/data_table.ipynb>data table notebook</a>'\n",
              "          + ' to learn more about interactive tables.';\n",
              "        element.innerHTML = '';\n",
              "        dataTable['output_type'] = 'display_data';\n",
              "        await google.colab.output.renderOutput(dataTable, element);\n",
              "        const docLink = document.createElement('div');\n",
              "        docLink.innerHTML = docLinkHtml;\n",
              "        element.appendChild(docLink);\n",
              "      }\n",
              "    </script>\n",
              "  </div>\n",
              "\n",
              "\n",
              "<div id=\"df-bad2f4eb-c3a0-45c3-befd-7a0d86e243af\">\n",
              "  <button class=\"colab-df-quickchart\" onclick=\"quickchart('df-bad2f4eb-c3a0-45c3-befd-7a0d86e243af')\"\n",
              "            title=\"Suggest charts\"\n",
              "            style=\"display:none;\">\n",
              "\n",
              "<svg xmlns=\"http://www.w3.org/2000/svg\" height=\"24px\"viewBox=\"0 0 24 24\"\n",
              "     width=\"24px\">\n",
              "    <g>\n",
              "        <path d=\"M19 3H5c-1.1 0-2 .9-2 2v14c0 1.1.9 2 2 2h14c1.1 0 2-.9 2-2V5c0-1.1-.9-2-2-2zM9 17H7v-7h2v7zm4 0h-2V7h2v10zm4 0h-2v-4h2v4z\"/>\n",
              "    </g>\n",
              "</svg>\n",
              "  </button>\n",
              "\n",
              "<style>\n",
              "  .colab-df-quickchart {\n",
              "      --bg-color: #E8F0FE;\n",
              "      --fill-color: #1967D2;\n",
              "      --hover-bg-color: #E2EBFA;\n",
              "      --hover-fill-color: #174EA6;\n",
              "      --disabled-fill-color: #AAA;\n",
              "      --disabled-bg-color: #DDD;\n",
              "  }\n",
              "\n",
              "  [theme=dark] .colab-df-quickchart {\n",
              "      --bg-color: #3B4455;\n",
              "      --fill-color: #D2E3FC;\n",
              "      --hover-bg-color: #434B5C;\n",
              "      --hover-fill-color: #FFFFFF;\n",
              "      --disabled-bg-color: #3B4455;\n",
              "      --disabled-fill-color: #666;\n",
              "  }\n",
              "\n",
              "  .colab-df-quickchart {\n",
              "    background-color: var(--bg-color);\n",
              "    border: none;\n",
              "    border-radius: 50%;\n",
              "    cursor: pointer;\n",
              "    display: none;\n",
              "    fill: var(--fill-color);\n",
              "    height: 32px;\n",
              "    padding: 0;\n",
              "    width: 32px;\n",
              "  }\n",
              "\n",
              "  .colab-df-quickchart:hover {\n",
              "    background-color: var(--hover-bg-color);\n",
              "    box-shadow: 0 1px 2px rgba(60, 64, 67, 0.3), 0 1px 3px 1px rgba(60, 64, 67, 0.15);\n",
              "    fill: var(--button-hover-fill-color);\n",
              "  }\n",
              "\n",
              "  .colab-df-quickchart-complete:disabled,\n",
              "  .colab-df-quickchart-complete:disabled:hover {\n",
              "    background-color: var(--disabled-bg-color);\n",
              "    fill: var(--disabled-fill-color);\n",
              "    box-shadow: none;\n",
              "  }\n",
              "\n",
              "  .colab-df-spinner {\n",
              "    border: 2px solid var(--fill-color);\n",
              "    border-color: transparent;\n",
              "    border-bottom-color: var(--fill-color);\n",
              "    animation:\n",
              "      spin 1s steps(1) infinite;\n",
              "  }\n",
              "\n",
              "  @keyframes spin {\n",
              "    0% {\n",
              "      border-color: transparent;\n",
              "      border-bottom-color: var(--fill-color);\n",
              "      border-left-color: var(--fill-color);\n",
              "    }\n",
              "    20% {\n",
              "      border-color: transparent;\n",
              "      border-left-color: var(--fill-color);\n",
              "      border-top-color: var(--fill-color);\n",
              "    }\n",
              "    30% {\n",
              "      border-color: transparent;\n",
              "      border-left-color: var(--fill-color);\n",
              "      border-top-color: var(--fill-color);\n",
              "      border-right-color: var(--fill-color);\n",
              "    }\n",
              "    40% {\n",
              "      border-color: transparent;\n",
              "      border-right-color: var(--fill-color);\n",
              "      border-top-color: var(--fill-color);\n",
              "    }\n",
              "    60% {\n",
              "      border-color: transparent;\n",
              "      border-right-color: var(--fill-color);\n",
              "    }\n",
              "    80% {\n",
              "      border-color: transparent;\n",
              "      border-right-color: var(--fill-color);\n",
              "      border-bottom-color: var(--fill-color);\n",
              "    }\n",
              "    90% {\n",
              "      border-color: transparent;\n",
              "      border-bottom-color: var(--fill-color);\n",
              "    }\n",
              "  }\n",
              "</style>\n",
              "\n",
              "  <script>\n",
              "    async function quickchart(key) {\n",
              "      const quickchartButtonEl =\n",
              "        document.querySelector('#' + key + ' button');\n",
              "      quickchartButtonEl.disabled = true;  // To prevent multiple clicks.\n",
              "      quickchartButtonEl.classList.add('colab-df-spinner');\n",
              "      try {\n",
              "        const charts = await google.colab.kernel.invokeFunction(\n",
              "            'suggestCharts', [key], {});\n",
              "      } catch (error) {\n",
              "        console.error('Error during call to suggestCharts:', error);\n",
              "      }\n",
              "      quickchartButtonEl.classList.remove('colab-df-spinner');\n",
              "      quickchartButtonEl.classList.add('colab-df-quickchart-complete');\n",
              "    }\n",
              "    (() => {\n",
              "      let quickchartButtonEl =\n",
              "        document.querySelector('#df-bad2f4eb-c3a0-45c3-befd-7a0d86e243af button');\n",
              "      quickchartButtonEl.style.display =\n",
              "        google.colab.kernel.accessAllowed ? 'block' : 'none';\n",
              "    })();\n",
              "  </script>\n",
              "</div>\n",
              "\n",
              "    </div>\n",
              "  </div>\n"
            ],
            "application/vnd.google.colaboratory.intrinsic+json": {
              "type": "dataframe",
              "variable_name": "words_corpus",
              "summary": "{\n  \"name\": \"words_corpus\",\n  \"rows\": 13540,\n  \"fields\": [\n    {\n      \"column\": \"Unnamed: 0\",\n      \"properties\": {\n        \"dtype\": \"number\",\n        \"std\": 3908,\n        \"min\": 0,\n        \"max\": 13539,\n        \"num_unique_values\": 13540,\n        \"samples\": [\n          10581,\n          10254,\n          12339\n        ],\n        \"semantic_type\": \"\",\n        \"description\": \"\"\n      }\n    },\n    {\n      \"column\": \"Feature-1\",\n      \"properties\": {\n        \"dtype\": \"number\",\n        \"std\": 0.7055500721668679,\n        \"min\": -2.262992002502618,\n        \"max\": 2.3957090639182703,\n        \"num_unique_values\": 13540,\n        \"samples\": [\n          0.8582726767623613,\n          0.1334534332948608,\n          0.9055573276620734\n        ],\n        \"semantic_type\": \"\",\n        \"description\": \"\"\n      }\n    },\n    {\n      \"column\": \"Feature-2\",\n      \"properties\": {\n        \"dtype\": \"number\",\n        \"std\": 0.4919869172887391,\n        \"min\": -2.0616313968349704,\n        \"max\": 2.131316965413597,\n        \"num_unique_values\": 13540,\n        \"samples\": [\n          0.4896949027408098,\n          -0.0889634759539694,\n          -0.1570481993832645\n        ],\n        \"semantic_type\": \"\",\n        \"description\": \"\"\n      }\n    },\n    {\n      \"column\": \"Feature-3\",\n      \"properties\": {\n        \"dtype\": \"number\",\n        \"std\": 0.42710094578017627,\n        \"min\": -0.6893976906086079,\n        \"max\": 1.1400484775469055,\n        \"num_unique_values\": 13540,\n        \"samples\": [\n          0.4007160931709903,\n          0.121602415114436,\n          0.2497419099820131\n        ],\n        \"semantic_type\": \"\",\n        \"description\": \"\"\n      }\n    },\n    {\n      \"column\": \"Feature-4\",\n      \"properties\": {\n        \"dtype\": \"number\",\n        \"std\": 0.27159048404426844,\n        \"min\": -0.7856937928739831,\n        \"max\": 0.9693110479062398,\n        \"num_unique_values\": 13540,\n        \"samples\": [\n          0.0973963197485372,\n          0.0757349120898596,\n          0.069407619501603\n        ],\n        \"semantic_type\": \"\",\n        \"description\": \"\"\n      }\n    },\n    {\n      \"column\": \"Feature-5\",\n      \"properties\": {\n        \"dtype\": \"number\",\n        \"std\": 0.23565616002240258,\n        \"min\": -0.8843256870311273,\n        \"max\": 0.907947360546656,\n        \"num_unique_values\": 13540,\n        \"samples\": [\n          -0.0734971141020551,\n          0.5750554500646278,\n          0.2861201803618277\n        ],\n        \"semantic_type\": \"\",\n        \"description\": \"\"\n      }\n    },\n    {\n      \"column\": \"Feature-6\",\n      \"properties\": {\n        \"dtype\": \"number\",\n        \"std\": 0.1964975933945298,\n        \"min\": -0.5641479805626659,\n        \"max\": 0.8781311068790973,\n        \"num_unique_values\": 13540,\n        \"samples\": [\n          0.092611918090566,\n          -0.1797802242706659,\n          -0.2519751608653021\n        ],\n        \"semantic_type\": \"\",\n        \"description\": \"\"\n      }\n    },\n    {\n      \"column\": \"Feature-7\",\n      \"properties\": {\n        \"dtype\": \"number\",\n        \"std\": 0.16911420174951036,\n        \"min\": -0.6075316921671778,\n        \"max\": 0.7956439099803132,\n        \"num_unique_values\": 13540,\n        \"samples\": [\n          0.0975769330311028,\n          -0.0206986460229629,\n          0.3259444411296832\n        ],\n        \"semantic_type\": \"\",\n        \"description\": \"\"\n      }\n    },\n    {\n      \"column\": \"Feature-8\",\n      \"properties\": {\n        \"dtype\": \"number\",\n        \"std\": 0.15124498625658728,\n        \"min\": -0.3318332142579677,\n        \"max\": 0.7591550886417452,\n        \"num_unique_values\": 13540,\n        \"samples\": [\n          -0.2668803402434938,\n          -0.1250172694695038,\n          0.1412430836010709\n        ],\n        \"semantic_type\": \"\",\n        \"description\": \"\"\n      }\n    },\n    {\n      \"column\": \"Feature-9\",\n      \"properties\": {\n        \"dtype\": \"number\",\n        \"std\": 0.12348031231362566,\n        \"min\": -0.4577441384127627,\n        \"max\": 0.6579677668279638,\n        \"num_unique_values\": 13540,\n        \"samples\": [\n          -0.1989000831079876,\n          -0.2110710789928285,\n          0.0051461770151843\n        ],\n        \"semantic_type\": \"\",\n        \"description\": \"\"\n      }\n    },\n    {\n      \"column\": \"Feature-10\",\n      \"properties\": {\n        \"dtype\": \"number\",\n        \"std\": 0.10387000036747918,\n        \"min\": -0.2950944456108955,\n        \"max\": 0.4903264596039012,\n        \"num_unique_values\": 13540,\n        \"samples\": [\n          0.1289582140708924,\n          -0.0180451765052928,\n          -0.109783916711937\n        ],\n        \"semantic_type\": \"\",\n        \"description\": \"\"\n      }\n    },\n    {\n      \"column\": \"Word\",\n      \"properties\": {\n        \"dtype\": \"category\",\n        \"num_unique_values\": 124,\n        \"samples\": [\n          \"FEVER\",\n          \"MEDICINE\",\n          \"HURT\"\n        ],\n        \"semantic_type\": \"\",\n        \"description\": \"\"\n      }\n    }\n  ]\n}"
            }
          },
          "metadata": {},
          "execution_count": 2
        }
      ]
    },
    {
      "cell_type": "code",
      "source": [
        "if torch.cuda.is_available():\n",
        "  device = torch.device(\"cuda\")\n",
        "else:\n",
        "  device = torch.device(\"cpu\")\n",
        "\n",
        "print(device)"
      ],
      "metadata": {
        "colab": {
          "base_uri": "https://localhost:8080/"
        },
        "id": "jr8Lm17sochx",
        "outputId": "93061d33-9810-4041-bf51-f7ac6662c3af"
      },
      "execution_count": 3,
      "outputs": [
        {
          "output_type": "stream",
          "name": "stdout",
          "text": [
            "cuda\n"
          ]
        }
      ]
    },
    {
      "cell_type": "code",
      "source": [
        "words_corpus.shape"
      ],
      "metadata": {
        "colab": {
          "base_uri": "https://localhost:8080/"
        },
        "id": "TWpS5Bxo2Jji",
        "outputId": "b89726ac-6ab4-40a7-8273-75576b41f411"
      },
      "execution_count": 4,
      "outputs": [
        {
          "output_type": "execute_result",
          "data": {
            "text/plain": [
              "(13540, 12)"
            ]
          },
          "metadata": {},
          "execution_count": 4
        }
      ]
    },
    {
      "cell_type": "code",
      "source": [
        "words_corpus.drop([\"Unnamed: 0\"], inplace=True, axis=1)"
      ],
      "metadata": {
        "id": "7xRkI-BN4zbi"
      },
      "execution_count": 5,
      "outputs": []
    },
    {
      "cell_type": "code",
      "source": [
        "words_corpus.shape"
      ],
      "metadata": {
        "colab": {
          "base_uri": "https://localhost:8080/"
        },
        "id": "vdvjm0d3OaKM",
        "outputId": "ca800714-5e81-4b35-e44d-3cdb62dcc501"
      },
      "execution_count": 6,
      "outputs": [
        {
          "output_type": "execute_result",
          "data": {
            "text/plain": [
              "(13540, 11)"
            ]
          },
          "metadata": {},
          "execution_count": 6
        }
      ]
    },
    {
      "cell_type": "code",
      "source": [
        "words_corpus[\"Word\"].value_counts()"
      ],
      "metadata": {
        "colab": {
          "base_uri": "https://localhost:8080/",
          "height": 489
        },
        "id": "lSNEnqZXO7Z7",
        "outputId": "6ee63115-f452-41a9-ce04-cf5fe070ead5"
      },
      "execution_count": 7,
      "outputs": [
        {
          "output_type": "execute_result",
          "data": {
            "text/plain": [
              "Word\n",
              "Z           200\n",
              "9           200\n",
              "H           200\n",
              "G           200\n",
              "F           200\n",
              "           ... \n",
              "HURT         75\n",
              "HUNGRY       75\n",
              "HOW          75\n",
              "HIDING       75\n",
              "SOME ONE     75\n",
              "Name: count, Length: 124, dtype: int64"
            ],
            "text/html": [
              "<div>\n",
              "<style scoped>\n",
              "    .dataframe tbody tr th:only-of-type {\n",
              "        vertical-align: middle;\n",
              "    }\n",
              "\n",
              "    .dataframe tbody tr th {\n",
              "        vertical-align: top;\n",
              "    }\n",
              "\n",
              "    .dataframe thead th {\n",
              "        text-align: right;\n",
              "    }\n",
              "</style>\n",
              "<table border=\"1\" class=\"dataframe\">\n",
              "  <thead>\n",
              "    <tr style=\"text-align: right;\">\n",
              "      <th></th>\n",
              "      <th>count</th>\n",
              "    </tr>\n",
              "    <tr>\n",
              "      <th>Word</th>\n",
              "      <th></th>\n",
              "    </tr>\n",
              "  </thead>\n",
              "  <tbody>\n",
              "    <tr>\n",
              "      <th>Z</th>\n",
              "      <td>200</td>\n",
              "    </tr>\n",
              "    <tr>\n",
              "      <th>9</th>\n",
              "      <td>200</td>\n",
              "    </tr>\n",
              "    <tr>\n",
              "      <th>H</th>\n",
              "      <td>200</td>\n",
              "    </tr>\n",
              "    <tr>\n",
              "      <th>G</th>\n",
              "      <td>200</td>\n",
              "    </tr>\n",
              "    <tr>\n",
              "      <th>F</th>\n",
              "      <td>200</td>\n",
              "    </tr>\n",
              "    <tr>\n",
              "      <th>...</th>\n",
              "      <td>...</td>\n",
              "    </tr>\n",
              "    <tr>\n",
              "      <th>HURT</th>\n",
              "      <td>75</td>\n",
              "    </tr>\n",
              "    <tr>\n",
              "      <th>HUNGRY</th>\n",
              "      <td>75</td>\n",
              "    </tr>\n",
              "    <tr>\n",
              "      <th>HOW</th>\n",
              "      <td>75</td>\n",
              "    </tr>\n",
              "    <tr>\n",
              "      <th>HIDING</th>\n",
              "      <td>75</td>\n",
              "    </tr>\n",
              "    <tr>\n",
              "      <th>SOME ONE</th>\n",
              "      <td>75</td>\n",
              "    </tr>\n",
              "  </tbody>\n",
              "</table>\n",
              "<p>124 rows × 1 columns</p>\n",
              "</div><br><label><b>dtype:</b> int64</label>"
            ]
          },
          "metadata": {},
          "execution_count": 7
        }
      ]
    },
    {
      "cell_type": "code",
      "source": [
        "# filtered_words_df = words_corpus[words_corpus[\"Word\"].map(words_corpus[\"Word\"].value_counts()) <= 20]"
      ],
      "metadata": {
        "id": "PGwJ15tqR2WD"
      },
      "execution_count": null,
      "outputs": []
    },
    {
      "cell_type": "code",
      "source": [
        "words_corpus[\"Word\"].unique()"
      ],
      "metadata": {
        "colab": {
          "base_uri": "https://localhost:8080/"
        },
        "id": "0q0wh3oGUld3",
        "outputId": "d953a260-f9aa-4967-97bc-026772e3283a"
      },
      "execution_count": 8,
      "outputs": [
        {
          "output_type": "execute_result",
          "data": {
            "text/plain": [
              "array(['AFRAID', 'ANGRY', 'APPRECIATE', 'BAD', 'BED', 'BORED', 'CLASS',\n",
              "       'COLD', 'COLLEGE_SCHOOL', 'COMB', 'COME', 'CONGRATULATIONS',\n",
              "       'CRYING', 'DARE', 'DIFFERENCE', 'DISAPPOINTED', 'DO', 'FAVOUR',\n",
              "       'FEVER', 'FINE', 'FOOD', 'FREE', 'FRIEND', 'FROM', 'GO', 'GOOD',\n",
              "       'GRATEFUL', 'HAD', 'HAPPY', 'HEAR', 'HEART', 'HELLO_HI', 'HELP',\n",
              "       'HIDING', 'HOW', 'HUNGRY', 'HURT', 'I_ME_MINE_MY', 'KIND', 'LEAVE',\n",
              "       'LIKE_LOVE', 'MEAN IT', 'MEDICINE', 'MEET', 'NAME', 'NICE',\n",
              "       'OLD_AGE', 'OUTSIDE', 'PHONE', 'PLACE', 'POUR', 'PREPARE',\n",
              "       'PROMISE', 'REALLY', 'REPEAT', 'ROOM', 'SHIRT', 'SITTING', 'SLEEP',\n",
              "       'SLOWER', 'SO MUCH', 'SOFTLY', 'SOME ONE', 'SOMETHING', 'SORRY',\n",
              "       'SPEAK', 'STOP', 'SURE', 'TAKE CARE', 'TAKE TIME', 'TALK', 'TELL',\n",
              "       'THANK', 'THAT', 'THINGS', 'THINK', 'THIRSTY', 'TIRED', 'TODAY',\n",
              "       'TRUST', 'TRUTH', 'TURN ON', 'UNDERSTAND', 'WANT', 'WATER', 'WEAR',\n",
              "       'WELCOME', 'WHAT', 'YOU', '1', '2', '3', '4', '5', '6', '7', '8',\n",
              "       '9', 'A', 'B', 'C', 'D', 'E', 'F', 'G', 'H', 'I', 'J', 'K', 'L',\n",
              "       'M', 'N', 'O', 'P', 'Q', 'R', 'S', 'T', 'U', 'V', 'W', 'X', 'Y',\n",
              "       'Z'], dtype=object)"
            ]
          },
          "metadata": {},
          "execution_count": 8
        }
      ]
    },
    {
      "cell_type": "code",
      "source": [
        "words_corpus[\"Word\"].nunique()"
      ],
      "metadata": {
        "colab": {
          "base_uri": "https://localhost:8080/"
        },
        "id": "RNp3Hl1gKx4Z",
        "outputId": "ee9d62a8-b3e3-4ef3-a0fc-960bede36dc2"
      },
      "execution_count": 9,
      "outputs": [
        {
          "output_type": "execute_result",
          "data": {
            "text/plain": [
              "124"
            ]
          },
          "metadata": {},
          "execution_count": 9
        }
      ]
    },
    {
      "cell_type": "code",
      "source": [
        "new_words_df = words_corpus.copy()"
      ],
      "metadata": {
        "id": "pFeuiLSxR4MK"
      },
      "execution_count": 10,
      "outputs": []
    },
    {
      "cell_type": "code",
      "source": [
        "# new_words_df = words_corpus[words_corpus[\"Word\"].map(words_corpus[\"Word\"].value_counts()) >= 20]"
      ],
      "metadata": {
        "id": "LokFMGJqysdM"
      },
      "execution_count": 11,
      "outputs": []
    },
    {
      "cell_type": "code",
      "source": [
        "new_words_df.head()"
      ],
      "metadata": {
        "colab": {
          "base_uri": "https://localhost:8080/",
          "height": 206
        },
        "id": "I4cwF13pyse9",
        "outputId": "a07bffd8-32c6-44b8-80c7-e0ef60ab9523"
      },
      "execution_count": 12,
      "outputs": [
        {
          "output_type": "execute_result",
          "data": {
            "text/plain": [
              "   Feature-1  Feature-2  Feature-3  Feature-4  Feature-5  Feature-6  \\\n",
              "0  -0.135994   0.700704  -0.243845  -0.206682   0.012245  -0.134163   \n",
              "1  -0.164038   0.618974  -0.239514  -0.225620  -0.008237  -0.104077   \n",
              "2  -0.657468  -0.421108  -0.262696   0.028364  -0.147318  -0.037199   \n",
              "3  -0.494670  -1.286647  -0.145833   0.209014  -0.183054   0.073933   \n",
              "4   0.027746  -0.361878  -0.233952  -0.186101  -0.093658   0.032019   \n",
              "\n",
              "   Feature-7  Feature-8  Feature-9  Feature-10    Word  \n",
              "0  -0.034946  -0.000948  -0.006617   -0.013265  AFRAID  \n",
              "1   0.035675  -0.012855   0.037187   -0.017356  AFRAID  \n",
              "2   0.045543  -0.030400  -0.004434   -0.017793  AFRAID  \n",
              "3   0.122878   0.001645   0.105372   -0.058780  AFRAID  \n",
              "4   0.083742   0.005980   0.026283   -0.025037  AFRAID  "
            ],
            "text/html": [
              "\n",
              "  <div id=\"df-07494872-c758-4844-b9cb-31ac8eda95e7\" class=\"colab-df-container\">\n",
              "    <div>\n",
              "<style scoped>\n",
              "    .dataframe tbody tr th:only-of-type {\n",
              "        vertical-align: middle;\n",
              "    }\n",
              "\n",
              "    .dataframe tbody tr th {\n",
              "        vertical-align: top;\n",
              "    }\n",
              "\n",
              "    .dataframe thead th {\n",
              "        text-align: right;\n",
              "    }\n",
              "</style>\n",
              "<table border=\"1\" class=\"dataframe\">\n",
              "  <thead>\n",
              "    <tr style=\"text-align: right;\">\n",
              "      <th></th>\n",
              "      <th>Feature-1</th>\n",
              "      <th>Feature-2</th>\n",
              "      <th>Feature-3</th>\n",
              "      <th>Feature-4</th>\n",
              "      <th>Feature-5</th>\n",
              "      <th>Feature-6</th>\n",
              "      <th>Feature-7</th>\n",
              "      <th>Feature-8</th>\n",
              "      <th>Feature-9</th>\n",
              "      <th>Feature-10</th>\n",
              "      <th>Word</th>\n",
              "    </tr>\n",
              "  </thead>\n",
              "  <tbody>\n",
              "    <tr>\n",
              "      <th>0</th>\n",
              "      <td>-0.135994</td>\n",
              "      <td>0.700704</td>\n",
              "      <td>-0.243845</td>\n",
              "      <td>-0.206682</td>\n",
              "      <td>0.012245</td>\n",
              "      <td>-0.134163</td>\n",
              "      <td>-0.034946</td>\n",
              "      <td>-0.000948</td>\n",
              "      <td>-0.006617</td>\n",
              "      <td>-0.013265</td>\n",
              "      <td>AFRAID</td>\n",
              "    </tr>\n",
              "    <tr>\n",
              "      <th>1</th>\n",
              "      <td>-0.164038</td>\n",
              "      <td>0.618974</td>\n",
              "      <td>-0.239514</td>\n",
              "      <td>-0.225620</td>\n",
              "      <td>-0.008237</td>\n",
              "      <td>-0.104077</td>\n",
              "      <td>0.035675</td>\n",
              "      <td>-0.012855</td>\n",
              "      <td>0.037187</td>\n",
              "      <td>-0.017356</td>\n",
              "      <td>AFRAID</td>\n",
              "    </tr>\n",
              "    <tr>\n",
              "      <th>2</th>\n",
              "      <td>-0.657468</td>\n",
              "      <td>-0.421108</td>\n",
              "      <td>-0.262696</td>\n",
              "      <td>0.028364</td>\n",
              "      <td>-0.147318</td>\n",
              "      <td>-0.037199</td>\n",
              "      <td>0.045543</td>\n",
              "      <td>-0.030400</td>\n",
              "      <td>-0.004434</td>\n",
              "      <td>-0.017793</td>\n",
              "      <td>AFRAID</td>\n",
              "    </tr>\n",
              "    <tr>\n",
              "      <th>3</th>\n",
              "      <td>-0.494670</td>\n",
              "      <td>-1.286647</td>\n",
              "      <td>-0.145833</td>\n",
              "      <td>0.209014</td>\n",
              "      <td>-0.183054</td>\n",
              "      <td>0.073933</td>\n",
              "      <td>0.122878</td>\n",
              "      <td>0.001645</td>\n",
              "      <td>0.105372</td>\n",
              "      <td>-0.058780</td>\n",
              "      <td>AFRAID</td>\n",
              "    </tr>\n",
              "    <tr>\n",
              "      <th>4</th>\n",
              "      <td>0.027746</td>\n",
              "      <td>-0.361878</td>\n",
              "      <td>-0.233952</td>\n",
              "      <td>-0.186101</td>\n",
              "      <td>-0.093658</td>\n",
              "      <td>0.032019</td>\n",
              "      <td>0.083742</td>\n",
              "      <td>0.005980</td>\n",
              "      <td>0.026283</td>\n",
              "      <td>-0.025037</td>\n",
              "      <td>AFRAID</td>\n",
              "    </tr>\n",
              "  </tbody>\n",
              "</table>\n",
              "</div>\n",
              "    <div class=\"colab-df-buttons\">\n",
              "\n",
              "  <div class=\"colab-df-container\">\n",
              "    <button class=\"colab-df-convert\" onclick=\"convertToInteractive('df-07494872-c758-4844-b9cb-31ac8eda95e7')\"\n",
              "            title=\"Convert this dataframe to an interactive table.\"\n",
              "            style=\"display:none;\">\n",
              "\n",
              "  <svg xmlns=\"http://www.w3.org/2000/svg\" height=\"24px\" viewBox=\"0 -960 960 960\">\n",
              "    <path d=\"M120-120v-720h720v720H120Zm60-500h600v-160H180v160Zm220 220h160v-160H400v160Zm0 220h160v-160H400v160ZM180-400h160v-160H180v160Zm440 0h160v-160H620v160ZM180-180h160v-160H180v160Zm440 0h160v-160H620v160Z\"/>\n",
              "  </svg>\n",
              "    </button>\n",
              "\n",
              "  <style>\n",
              "    .colab-df-container {\n",
              "      display:flex;\n",
              "      gap: 12px;\n",
              "    }\n",
              "\n",
              "    .colab-df-convert {\n",
              "      background-color: #E8F0FE;\n",
              "      border: none;\n",
              "      border-radius: 50%;\n",
              "      cursor: pointer;\n",
              "      display: none;\n",
              "      fill: #1967D2;\n",
              "      height: 32px;\n",
              "      padding: 0 0 0 0;\n",
              "      width: 32px;\n",
              "    }\n",
              "\n",
              "    .colab-df-convert:hover {\n",
              "      background-color: #E2EBFA;\n",
              "      box-shadow: 0px 1px 2px rgba(60, 64, 67, 0.3), 0px 1px 3px 1px rgba(60, 64, 67, 0.15);\n",
              "      fill: #174EA6;\n",
              "    }\n",
              "\n",
              "    .colab-df-buttons div {\n",
              "      margin-bottom: 4px;\n",
              "    }\n",
              "\n",
              "    [theme=dark] .colab-df-convert {\n",
              "      background-color: #3B4455;\n",
              "      fill: #D2E3FC;\n",
              "    }\n",
              "\n",
              "    [theme=dark] .colab-df-convert:hover {\n",
              "      background-color: #434B5C;\n",
              "      box-shadow: 0px 1px 3px 1px rgba(0, 0, 0, 0.15);\n",
              "      filter: drop-shadow(0px 1px 2px rgba(0, 0, 0, 0.3));\n",
              "      fill: #FFFFFF;\n",
              "    }\n",
              "  </style>\n",
              "\n",
              "    <script>\n",
              "      const buttonEl =\n",
              "        document.querySelector('#df-07494872-c758-4844-b9cb-31ac8eda95e7 button.colab-df-convert');\n",
              "      buttonEl.style.display =\n",
              "        google.colab.kernel.accessAllowed ? 'block' : 'none';\n",
              "\n",
              "      async function convertToInteractive(key) {\n",
              "        const element = document.querySelector('#df-07494872-c758-4844-b9cb-31ac8eda95e7');\n",
              "        const dataTable =\n",
              "          await google.colab.kernel.invokeFunction('convertToInteractive',\n",
              "                                                    [key], {});\n",
              "        if (!dataTable) return;\n",
              "\n",
              "        const docLinkHtml = 'Like what you see? Visit the ' +\n",
              "          '<a target=\"_blank\" href=https://colab.research.google.com/notebooks/data_table.ipynb>data table notebook</a>'\n",
              "          + ' to learn more about interactive tables.';\n",
              "        element.innerHTML = '';\n",
              "        dataTable['output_type'] = 'display_data';\n",
              "        await google.colab.output.renderOutput(dataTable, element);\n",
              "        const docLink = document.createElement('div');\n",
              "        docLink.innerHTML = docLinkHtml;\n",
              "        element.appendChild(docLink);\n",
              "      }\n",
              "    </script>\n",
              "  </div>\n",
              "\n",
              "\n",
              "<div id=\"df-54b9be27-598e-444d-ba9a-3ab9919cd30d\">\n",
              "  <button class=\"colab-df-quickchart\" onclick=\"quickchart('df-54b9be27-598e-444d-ba9a-3ab9919cd30d')\"\n",
              "            title=\"Suggest charts\"\n",
              "            style=\"display:none;\">\n",
              "\n",
              "<svg xmlns=\"http://www.w3.org/2000/svg\" height=\"24px\"viewBox=\"0 0 24 24\"\n",
              "     width=\"24px\">\n",
              "    <g>\n",
              "        <path d=\"M19 3H5c-1.1 0-2 .9-2 2v14c0 1.1.9 2 2 2h14c1.1 0 2-.9 2-2V5c0-1.1-.9-2-2-2zM9 17H7v-7h2v7zm4 0h-2V7h2v10zm4 0h-2v-4h2v4z\"/>\n",
              "    </g>\n",
              "</svg>\n",
              "  </button>\n",
              "\n",
              "<style>\n",
              "  .colab-df-quickchart {\n",
              "      --bg-color: #E8F0FE;\n",
              "      --fill-color: #1967D2;\n",
              "      --hover-bg-color: #E2EBFA;\n",
              "      --hover-fill-color: #174EA6;\n",
              "      --disabled-fill-color: #AAA;\n",
              "      --disabled-bg-color: #DDD;\n",
              "  }\n",
              "\n",
              "  [theme=dark] .colab-df-quickchart {\n",
              "      --bg-color: #3B4455;\n",
              "      --fill-color: #D2E3FC;\n",
              "      --hover-bg-color: #434B5C;\n",
              "      --hover-fill-color: #FFFFFF;\n",
              "      --disabled-bg-color: #3B4455;\n",
              "      --disabled-fill-color: #666;\n",
              "  }\n",
              "\n",
              "  .colab-df-quickchart {\n",
              "    background-color: var(--bg-color);\n",
              "    border: none;\n",
              "    border-radius: 50%;\n",
              "    cursor: pointer;\n",
              "    display: none;\n",
              "    fill: var(--fill-color);\n",
              "    height: 32px;\n",
              "    padding: 0;\n",
              "    width: 32px;\n",
              "  }\n",
              "\n",
              "  .colab-df-quickchart:hover {\n",
              "    background-color: var(--hover-bg-color);\n",
              "    box-shadow: 0 1px 2px rgba(60, 64, 67, 0.3), 0 1px 3px 1px rgba(60, 64, 67, 0.15);\n",
              "    fill: var(--button-hover-fill-color);\n",
              "  }\n",
              "\n",
              "  .colab-df-quickchart-complete:disabled,\n",
              "  .colab-df-quickchart-complete:disabled:hover {\n",
              "    background-color: var(--disabled-bg-color);\n",
              "    fill: var(--disabled-fill-color);\n",
              "    box-shadow: none;\n",
              "  }\n",
              "\n",
              "  .colab-df-spinner {\n",
              "    border: 2px solid var(--fill-color);\n",
              "    border-color: transparent;\n",
              "    border-bottom-color: var(--fill-color);\n",
              "    animation:\n",
              "      spin 1s steps(1) infinite;\n",
              "  }\n",
              "\n",
              "  @keyframes spin {\n",
              "    0% {\n",
              "      border-color: transparent;\n",
              "      border-bottom-color: var(--fill-color);\n",
              "      border-left-color: var(--fill-color);\n",
              "    }\n",
              "    20% {\n",
              "      border-color: transparent;\n",
              "      border-left-color: var(--fill-color);\n",
              "      border-top-color: var(--fill-color);\n",
              "    }\n",
              "    30% {\n",
              "      border-color: transparent;\n",
              "      border-left-color: var(--fill-color);\n",
              "      border-top-color: var(--fill-color);\n",
              "      border-right-color: var(--fill-color);\n",
              "    }\n",
              "    40% {\n",
              "      border-color: transparent;\n",
              "      border-right-color: var(--fill-color);\n",
              "      border-top-color: var(--fill-color);\n",
              "    }\n",
              "    60% {\n",
              "      border-color: transparent;\n",
              "      border-right-color: var(--fill-color);\n",
              "    }\n",
              "    80% {\n",
              "      border-color: transparent;\n",
              "      border-right-color: var(--fill-color);\n",
              "      border-bottom-color: var(--fill-color);\n",
              "    }\n",
              "    90% {\n",
              "      border-color: transparent;\n",
              "      border-bottom-color: var(--fill-color);\n",
              "    }\n",
              "  }\n",
              "</style>\n",
              "\n",
              "  <script>\n",
              "    async function quickchart(key) {\n",
              "      const quickchartButtonEl =\n",
              "        document.querySelector('#' + key + ' button');\n",
              "      quickchartButtonEl.disabled = true;  // To prevent multiple clicks.\n",
              "      quickchartButtonEl.classList.add('colab-df-spinner');\n",
              "      try {\n",
              "        const charts = await google.colab.kernel.invokeFunction(\n",
              "            'suggestCharts', [key], {});\n",
              "      } catch (error) {\n",
              "        console.error('Error during call to suggestCharts:', error);\n",
              "      }\n",
              "      quickchartButtonEl.classList.remove('colab-df-spinner');\n",
              "      quickchartButtonEl.classList.add('colab-df-quickchart-complete');\n",
              "    }\n",
              "    (() => {\n",
              "      let quickchartButtonEl =\n",
              "        document.querySelector('#df-54b9be27-598e-444d-ba9a-3ab9919cd30d button');\n",
              "      quickchartButtonEl.style.display =\n",
              "        google.colab.kernel.accessAllowed ? 'block' : 'none';\n",
              "    })();\n",
              "  </script>\n",
              "</div>\n",
              "\n",
              "    </div>\n",
              "  </div>\n"
            ],
            "application/vnd.google.colaboratory.intrinsic+json": {
              "type": "dataframe",
              "variable_name": "new_words_df",
              "summary": "{\n  \"name\": \"new_words_df\",\n  \"rows\": 13540,\n  \"fields\": [\n    {\n      \"column\": \"Feature-1\",\n      \"properties\": {\n        \"dtype\": \"number\",\n        \"std\": 0.7055500721668679,\n        \"min\": -2.262992002502618,\n        \"max\": 2.3957090639182703,\n        \"num_unique_values\": 13540,\n        \"samples\": [\n          0.8582726767623613,\n          0.1334534332948608,\n          0.9055573276620734\n        ],\n        \"semantic_type\": \"\",\n        \"description\": \"\"\n      }\n    },\n    {\n      \"column\": \"Feature-2\",\n      \"properties\": {\n        \"dtype\": \"number\",\n        \"std\": 0.4919869172887391,\n        \"min\": -2.0616313968349704,\n        \"max\": 2.131316965413597,\n        \"num_unique_values\": 13540,\n        \"samples\": [\n          0.4896949027408098,\n          -0.0889634759539694,\n          -0.1570481993832645\n        ],\n        \"semantic_type\": \"\",\n        \"description\": \"\"\n      }\n    },\n    {\n      \"column\": \"Feature-3\",\n      \"properties\": {\n        \"dtype\": \"number\",\n        \"std\": 0.42710094578017627,\n        \"min\": -0.6893976906086079,\n        \"max\": 1.1400484775469055,\n        \"num_unique_values\": 13540,\n        \"samples\": [\n          0.4007160931709903,\n          0.121602415114436,\n          0.2497419099820131\n        ],\n        \"semantic_type\": \"\",\n        \"description\": \"\"\n      }\n    },\n    {\n      \"column\": \"Feature-4\",\n      \"properties\": {\n        \"dtype\": \"number\",\n        \"std\": 0.27159048404426844,\n        \"min\": -0.7856937928739831,\n        \"max\": 0.9693110479062398,\n        \"num_unique_values\": 13540,\n        \"samples\": [\n          0.0973963197485372,\n          0.0757349120898596,\n          0.069407619501603\n        ],\n        \"semantic_type\": \"\",\n        \"description\": \"\"\n      }\n    },\n    {\n      \"column\": \"Feature-5\",\n      \"properties\": {\n        \"dtype\": \"number\",\n        \"std\": 0.23565616002240258,\n        \"min\": -0.8843256870311273,\n        \"max\": 0.907947360546656,\n        \"num_unique_values\": 13540,\n        \"samples\": [\n          -0.0734971141020551,\n          0.5750554500646278,\n          0.2861201803618277\n        ],\n        \"semantic_type\": \"\",\n        \"description\": \"\"\n      }\n    },\n    {\n      \"column\": \"Feature-6\",\n      \"properties\": {\n        \"dtype\": \"number\",\n        \"std\": 0.1964975933945298,\n        \"min\": -0.5641479805626659,\n        \"max\": 0.8781311068790973,\n        \"num_unique_values\": 13540,\n        \"samples\": [\n          0.092611918090566,\n          -0.1797802242706659,\n          -0.2519751608653021\n        ],\n        \"semantic_type\": \"\",\n        \"description\": \"\"\n      }\n    },\n    {\n      \"column\": \"Feature-7\",\n      \"properties\": {\n        \"dtype\": \"number\",\n        \"std\": 0.16911420174951036,\n        \"min\": -0.6075316921671778,\n        \"max\": 0.7956439099803132,\n        \"num_unique_values\": 13540,\n        \"samples\": [\n          0.0975769330311028,\n          -0.0206986460229629,\n          0.3259444411296832\n        ],\n        \"semantic_type\": \"\",\n        \"description\": \"\"\n      }\n    },\n    {\n      \"column\": \"Feature-8\",\n      \"properties\": {\n        \"dtype\": \"number\",\n        \"std\": 0.15124498625658728,\n        \"min\": -0.3318332142579677,\n        \"max\": 0.7591550886417452,\n        \"num_unique_values\": 13540,\n        \"samples\": [\n          -0.2668803402434938,\n          -0.1250172694695038,\n          0.1412430836010709\n        ],\n        \"semantic_type\": \"\",\n        \"description\": \"\"\n      }\n    },\n    {\n      \"column\": \"Feature-9\",\n      \"properties\": {\n        \"dtype\": \"number\",\n        \"std\": 0.12348031231362566,\n        \"min\": -0.4577441384127627,\n        \"max\": 0.6579677668279638,\n        \"num_unique_values\": 13540,\n        \"samples\": [\n          -0.1989000831079876,\n          -0.2110710789928285,\n          0.0051461770151843\n        ],\n        \"semantic_type\": \"\",\n        \"description\": \"\"\n      }\n    },\n    {\n      \"column\": \"Feature-10\",\n      \"properties\": {\n        \"dtype\": \"number\",\n        \"std\": 0.10387000036747918,\n        \"min\": -0.2950944456108955,\n        \"max\": 0.4903264596039012,\n        \"num_unique_values\": 13540,\n        \"samples\": [\n          0.1289582140708924,\n          -0.0180451765052928,\n          -0.109783916711937\n        ],\n        \"semantic_type\": \"\",\n        \"description\": \"\"\n      }\n    },\n    {\n      \"column\": \"Word\",\n      \"properties\": {\n        \"dtype\": \"category\",\n        \"num_unique_values\": 124,\n        \"samples\": [\n          \"FEVER\",\n          \"MEDICINE\",\n          \"HURT\"\n        ],\n        \"semantic_type\": \"\",\n        \"description\": \"\"\n      }\n    }\n  ]\n}"
            }
          },
          "metadata": {},
          "execution_count": 12
        }
      ]
    },
    {
      "cell_type": "code",
      "source": [
        "new_words_df.isna().sum()"
      ],
      "metadata": {
        "colab": {
          "base_uri": "https://localhost:8080/",
          "height": 429
        },
        "id": "7d80T_xHGyu6",
        "outputId": "f27e71e0-ef01-4bce-ffef-3e30ba59ede1"
      },
      "execution_count": 13,
      "outputs": [
        {
          "output_type": "execute_result",
          "data": {
            "text/plain": [
              "Feature-1     0\n",
              "Feature-2     0\n",
              "Feature-3     0\n",
              "Feature-4     0\n",
              "Feature-5     0\n",
              "Feature-6     0\n",
              "Feature-7     0\n",
              "Feature-8     0\n",
              "Feature-9     0\n",
              "Feature-10    0\n",
              "Word          0\n",
              "dtype: int64"
            ],
            "text/html": [
              "<div>\n",
              "<style scoped>\n",
              "    .dataframe tbody tr th:only-of-type {\n",
              "        vertical-align: middle;\n",
              "    }\n",
              "\n",
              "    .dataframe tbody tr th {\n",
              "        vertical-align: top;\n",
              "    }\n",
              "\n",
              "    .dataframe thead th {\n",
              "        text-align: right;\n",
              "    }\n",
              "</style>\n",
              "<table border=\"1\" class=\"dataframe\">\n",
              "  <thead>\n",
              "    <tr style=\"text-align: right;\">\n",
              "      <th></th>\n",
              "      <th>0</th>\n",
              "    </tr>\n",
              "  </thead>\n",
              "  <tbody>\n",
              "    <tr>\n",
              "      <th>Feature-1</th>\n",
              "      <td>0</td>\n",
              "    </tr>\n",
              "    <tr>\n",
              "      <th>Feature-2</th>\n",
              "      <td>0</td>\n",
              "    </tr>\n",
              "    <tr>\n",
              "      <th>Feature-3</th>\n",
              "      <td>0</td>\n",
              "    </tr>\n",
              "    <tr>\n",
              "      <th>Feature-4</th>\n",
              "      <td>0</td>\n",
              "    </tr>\n",
              "    <tr>\n",
              "      <th>Feature-5</th>\n",
              "      <td>0</td>\n",
              "    </tr>\n",
              "    <tr>\n",
              "      <th>Feature-6</th>\n",
              "      <td>0</td>\n",
              "    </tr>\n",
              "    <tr>\n",
              "      <th>Feature-7</th>\n",
              "      <td>0</td>\n",
              "    </tr>\n",
              "    <tr>\n",
              "      <th>Feature-8</th>\n",
              "      <td>0</td>\n",
              "    </tr>\n",
              "    <tr>\n",
              "      <th>Feature-9</th>\n",
              "      <td>0</td>\n",
              "    </tr>\n",
              "    <tr>\n",
              "      <th>Feature-10</th>\n",
              "      <td>0</td>\n",
              "    </tr>\n",
              "    <tr>\n",
              "      <th>Word</th>\n",
              "      <td>0</td>\n",
              "    </tr>\n",
              "  </tbody>\n",
              "</table>\n",
              "</div><br><label><b>dtype:</b> int64</label>"
            ]
          },
          "metadata": {},
          "execution_count": 13
        }
      ]
    },
    {
      "cell_type": "code",
      "source": [
        "new_words_df.shape"
      ],
      "metadata": {
        "colab": {
          "base_uri": "https://localhost:8080/"
        },
        "id": "tSeFgP8hTYA-",
        "outputId": "7b80f28c-a021-485a-9d11-99184dc5d389"
      },
      "execution_count": 14,
      "outputs": [
        {
          "output_type": "execute_result",
          "data": {
            "text/plain": [
              "(13540, 11)"
            ]
          },
          "metadata": {},
          "execution_count": 14
        }
      ]
    },
    {
      "cell_type": "code",
      "source": [
        "# limited_words_df = new_words_df.groupby('Word').apply(lambda x: x.sample(n=20, random_state=42) if len(x) > 20 else x)\n",
        "\n",
        "# # Remove the multi-level index created by groupby and apply\n",
        "# limited_words_df = limited_words_df.reset_index(drop=True)"
      ],
      "metadata": {
        "id": "YBODh4e2Ta1v"
      },
      "execution_count": 15,
      "outputs": []
    },
    {
      "cell_type": "code",
      "source": [
        "# limited_words_df.shape"
      ],
      "metadata": {
        "id": "hWHPWe9zTa5G"
      },
      "execution_count": 16,
      "outputs": []
    },
    {
      "cell_type": "code",
      "source": [
        "# limited_words_df[\"Word\"].value_counts()"
      ],
      "metadata": {
        "id": "1NgbxTKwUYJt"
      },
      "execution_count": 17,
      "outputs": []
    },
    {
      "cell_type": "code",
      "source": [
        "df = words_corpus.copy()"
      ],
      "metadata": {
        "id": "EeKs5RLNVmpF"
      },
      "execution_count": 18,
      "outputs": []
    },
    {
      "cell_type": "code",
      "source": [
        "inputs = df.drop(['Word'], axis=1)\n",
        "targets = df['Word']"
      ],
      "metadata": {
        "id": "QRLk403A4cG7"
      },
      "execution_count": 19,
      "outputs": []
    },
    {
      "cell_type": "code",
      "source": [
        "std_scaler = StandardScaler()\n",
        "min_max_scaler = MinMaxScaler()"
      ],
      "metadata": {
        "id": "TLgoTv4ju-jh"
      },
      "execution_count": 20,
      "outputs": []
    },
    {
      "cell_type": "code",
      "source": [
        "scaled_inputs = std_scaler.fit_transform(inputs)"
      ],
      "metadata": {
        "id": "ViO9gYnju-m5"
      },
      "execution_count": 21,
      "outputs": []
    },
    {
      "cell_type": "code",
      "source": [
        "scaled_inputs[1]"
      ],
      "metadata": {
        "colab": {
          "base_uri": "https://localhost:8080/"
        },
        "id": "Efa62RUIv100",
        "outputId": "05c9c5cd-1d1e-4899-d59a-0c7a7fef5460"
      },
      "execution_count": 22,
      "outputs": [
        {
          "output_type": "execute_result",
          "data": {
            "text/plain": [
              "array([-0.23250583,  1.25815684, -0.56081109, -0.83076808, -0.03495547,\n",
              "       -0.52968139,  0.21096093, -0.08499601,  0.30116909, -0.16710153])"
            ]
          },
          "metadata": {},
          "execution_count": 22
        }
      ]
    },
    {
      "cell_type": "code",
      "source": [
        "scaled_inputs[1].shape"
      ],
      "metadata": {
        "colab": {
          "base_uri": "https://localhost:8080/"
        },
        "id": "cnOvqIeCVymX",
        "outputId": "7c0f8549-617e-43a7-a3e0-46506793272b"
      },
      "execution_count": 23,
      "outputs": [
        {
          "output_type": "execute_result",
          "data": {
            "text/plain": [
              "(10,)"
            ]
          },
          "metadata": {},
          "execution_count": 23
        }
      ]
    },
    {
      "cell_type": "code",
      "source": [
        "encoder = LabelEncoder()\n",
        "target = encoder.fit_transform(targets)"
      ],
      "metadata": {
        "id": "K3D8iNnx4cKM"
      },
      "execution_count": 24,
      "outputs": []
    },
    {
      "cell_type": "code",
      "source": [
        "type(target)"
      ],
      "metadata": {
        "colab": {
          "base_uri": "https://localhost:8080/"
        },
        "id": "HYfRNOz32_5S",
        "outputId": "e9d95b93-b383-4ca0-8bab-f81bd21cc02a"
      },
      "execution_count": 25,
      "outputs": [
        {
          "output_type": "execute_result",
          "data": {
            "text/plain": [
              "numpy.ndarray"
            ]
          },
          "metadata": {},
          "execution_count": 25
        }
      ]
    },
    {
      "cell_type": "code",
      "source": [
        "inputs_train, inputs_test, target_train, target_test = train_test_split(scaled_inputs, target, test_size=0.1, random_state=369)"
      ],
      "metadata": {
        "id": "7UNRpXs-2_8v"
      },
      "execution_count": 26,
      "outputs": []
    },
    {
      "cell_type": "code",
      "source": [
        "inputs_train.shape"
      ],
      "metadata": {
        "colab": {
          "base_uri": "https://localhost:8080/"
        },
        "id": "azrVgy2elqfR",
        "outputId": "1e041012-a2b1-4e96-c6b5-09d04d58a2ce"
      },
      "execution_count": 27,
      "outputs": [
        {
          "output_type": "execute_result",
          "data": {
            "text/plain": [
              "(12186, 10)"
            ]
          },
          "metadata": {},
          "execution_count": 27
        }
      ]
    },
    {
      "cell_type": "code",
      "source": [
        "def np_data(data):\n",
        "  labels = np.array(data)\n",
        "\n",
        "  return labels"
      ],
      "metadata": {
        "id": "sDoRAe518Y-3"
      },
      "execution_count": 28,
      "outputs": []
    },
    {
      "cell_type": "code",
      "source": [
        "## Convertint pandas data to numpy\n",
        "numpy_train_inputs = np_data(inputs_train)\n",
        "numpy_train_target = np_data(target_train)\n",
        "numpy_test_inputs = np_data(inputs_test)\n",
        "numpy_test_target = np_data(target_test)"
      ],
      "metadata": {
        "id": "Q-YNk03g8pnt"
      },
      "execution_count": 29,
      "outputs": []
    },
    {
      "cell_type": "code",
      "source": [
        "# Converting from numpy to tensors and passing it to GPU\n",
        "tensor_train_inputs = torch.from_numpy(numpy_train_inputs).to(device)\n",
        "tensor_train_targets = torch.from_numpy(numpy_train_target).to(device)\n",
        "tensor_test_inputs = torch.from_numpy(numpy_test_inputs).to(device)\n",
        "tensor_test_targets = torch.from_numpy(numpy_test_target).to(device)"
      ],
      "metadata": {
        "id": "x8FVXEhOqjhD"
      },
      "execution_count": 30,
      "outputs": []
    },
    {
      "cell_type": "code",
      "source": [
        "print(tensor_train_inputs.device)"
      ],
      "metadata": {
        "colab": {
          "base_uri": "https://localhost:8080/"
        },
        "id": "Aoh-ua_Ar4d9",
        "outputId": "af682328-cc74-45db-9b68-0f25488a2056"
      },
      "execution_count": 32,
      "outputs": [
        {
          "output_type": "stream",
          "name": "stdout",
          "text": [
            "cuda:0\n"
          ]
        }
      ]
    },
    {
      "cell_type": "code",
      "source": [
        "# Train Dataset\n",
        "train_dataset = TensorDataset(tensor_train_inputs, tensor_train_targets)\n",
        "# Test Dataset\n",
        "test_dataset = TensorDataset(tensor_test_inputs, tensor_test_targets)"
      ],
      "metadata": {
        "id": "5txakERU8ppo"
      },
      "execution_count": 31,
      "outputs": []
    },
    {
      "cell_type": "code",
      "source": [
        "test_dataset.tensors[0].shape"
      ],
      "metadata": {
        "colab": {
          "base_uri": "https://localhost:8080/"
        },
        "id": "j_yqcBC--Gdc",
        "outputId": "b7533990-c87c-4cb7-a34f-76f47855a6fc"
      },
      "execution_count": 33,
      "outputs": [
        {
          "output_type": "execute_result",
          "data": {
            "text/plain": [
              "torch.Size([1354, 10])"
            ]
          },
          "metadata": {},
          "execution_count": 33
        }
      ]
    },
    {
      "cell_type": "code",
      "source": [
        "batch_size = 32\n",
        "train_loader = DataLoader(train_dataset, batch_size=batch_size, shuffle=True)\n",
        "test_loader = DataLoader(test_dataset, batch_size=batch_size, shuffle=False)"
      ],
      "metadata": {
        "id": "UEBBL_ap8ptu"
      },
      "execution_count": 34,
      "outputs": []
    },
    {
      "cell_type": "code",
      "source": [
        "# obtaining one batch of training data to check the shape\n",
        "dataiter = iter(train_loader)\n",
        "sample_x, sample_y = next(dataiter)\n",
        "\n",
        "print('Sample input size: ', sample_x.size()) # batch_size, seq_length\n",
        "print('Sample input: \\n', sample_x)\n",
        "print('Sample output size: ', sample_y.size())\n",
        "print('Sample output: \\n', sample_y)"
      ],
      "metadata": {
        "colab": {
          "base_uri": "https://localhost:8080/"
        },
        "id": "8-LAEL5O8pvm",
        "outputId": "1ba1f6a2-6c74-48bb-d8ec-711572bc2748"
      },
      "execution_count": 35,
      "outputs": [
        {
          "output_type": "stream",
          "name": "stdout",
          "text": [
            "Sample input size:  torch.Size([32, 10])\n",
            "Sample input: \n",
            " tensor([[ 6.9339e-02,  2.2967e+00, -4.1097e-01, -9.5084e-01, -2.6905e-01,\n",
            "         -3.5087e-01, -8.2408e-01,  3.8992e-01, -5.7963e-01, -2.7428e-01],\n",
            "        [-6.3349e-01,  6.1376e-02,  8.5596e-01, -1.1461e+00, -4.9733e-01,\n",
            "          1.3090e+00, -1.7217e+00,  1.0736e+00,  9.6263e-01,  4.2672e+00],\n",
            "        [ 1.0479e-01,  2.5625e-01,  1.2411e+00,  7.2541e-01,  1.7422e+00,\n",
            "         -1.2624e+00,  8.1416e-01,  1.3668e+00, -9.7154e-01, -3.5846e-01],\n",
            "        [-5.7145e-01, -2.0129e+00, -8.4945e-01,  8.8259e-01, -5.8217e-01,\n",
            "         -8.4959e-02,  9.1540e-01, -6.3453e-01,  1.0851e+00, -3.3646e-01],\n",
            "        [ 2.6050e-01, -6.5199e-01,  7.4550e-01,  7.3099e-01,  2.6010e+00,\n",
            "         -7.4712e-01,  6.1120e-02, -5.1226e-01, -1.5059e+00, -9.9515e-01],\n",
            "        [-5.3393e-01, -1.0023e-01,  4.4826e-01, -1.8040e+00,  2.0931e+00,\n",
            "          4.2048e+00,  3.9535e-01,  1.8609e+00,  1.9867e+00, -1.9715e+00],\n",
            "        [-5.5056e-01, -1.2388e+00, -1.6450e-01,  4.5744e-01,  1.8603e+00,\n",
            "          1.2381e+00,  2.4225e-01,  4.4888e-01,  1.1659e+00,  7.6359e-01],\n",
            "        [-6.0462e-01, -1.0729e+00, -5.8423e-01, -3.5345e-01,  1.1151e+00,\n",
            "         -1.0678e+00,  9.8717e-01,  2.0323e-01,  4.2082e-01,  5.6279e-01],\n",
            "        [-4.0225e-01,  1.7073e+00, -4.4987e-01, -8.7339e-01,  2.1123e-02,\n",
            "         -7.2018e-01, -1.5816e-01,  6.4808e-05,  1.3425e-02, -1.7184e-01],\n",
            "        [-4.2153e-03,  2.8964e-01,  9.3147e-01,  7.2326e-01,  1.7887e+00,\n",
            "         -1.7852e+00,  1.5236e+00,  1.1458e+00, -5.7602e-01, -1.0612e+00],\n",
            "        [-8.7204e-01, -9.6019e-01, -6.4058e-01,  1.4950e-01, -7.3638e-01,\n",
            "         -2.0851e-01,  5.8253e-01, -2.4965e-01,  2.5933e-01, -1.9500e-01],\n",
            "        [ 1.0971e+00, -2.0298e+00, -1.1384e+00,  2.8470e-02, -9.4616e-01,\n",
            "          9.2561e-01,  1.1265e+00, -3.5353e-01,  1.0636e+00, -1.8795e-01],\n",
            "        [-1.6174e+00,  3.4716e-01, -7.0211e-01, -2.9022e-01, -8.0059e-01,\n",
            "          1.9465e-02,  3.7504e-01,  1.9142e-01, -5.3184e-01, -1.8920e-01],\n",
            "        [-8.3826e-01,  9.8651e-01, -3.5840e-01,  6.4262e-02,  3.6139e+00,\n",
            "         -2.6613e+00, -1.0220e+00, -6.6368e-01,  2.2737e+00,  7.6573e-01],\n",
            "        [ 2.7768e-01,  2.1340e-02,  9.8194e-01,  1.0944e+00, -1.2508e+00,\n",
            "         -1.8693e+00,  1.4858e-01,  4.7684e+00,  1.5573e+00,  1.2564e+00],\n",
            "        [ 5.4548e-01, -1.4553e+00, -9.9742e-01,  2.8421e-01, -7.4071e-01,\n",
            "          1.8217e-01,  7.9671e-01, -4.6341e-01,  8.8859e-01, -2.6381e-01],\n",
            "        [-5.2546e-02,  1.3642e+00,  1.2087e+00,  1.7726e+00,  1.1637e-01,\n",
            "          1.9118e+00,  2.4104e+00, -1.4413e+00,  1.0520e-01,  1.0578e+00],\n",
            "        [ 1.1545e+00,  3.3372e-01, -6.0782e-01, -6.8330e-01,  1.2927e-01,\n",
            "         -5.0252e-01,  1.1846e-01, -3.4430e-01,  8.0601e-01, -7.5867e-02],\n",
            "        [-3.5126e-02,  3.4810e-01, -6.7466e-01, -2.1127e-01, -4.3358e-01,\n",
            "         -7.7489e-02, -8.2600e-01,  3.6019e-01, -3.8665e-01, -8.5984e-02],\n",
            "        [-7.1547e-01, -1.2694e+00, -5.5312e-02,  2.8550e-01,  1.7454e+00,\n",
            "          1.4549e+00,  2.2356e-01,  1.2598e+00,  1.4798e+00,  1.0645e+00],\n",
            "        [ 4.4193e-01,  5.8994e-02, -8.9764e-01,  1.1245e-01, -4.8028e-01,\n",
            "         -4.1304e-01, -3.8922e-01,  1.3299e-02, -2.4759e-01,  1.5157e-01],\n",
            "        [-9.3319e-01,  8.0637e-01, -2.6382e-01,  3.9565e-01,  3.8081e+00,\n",
            "         -2.3058e+00, -1.5459e+00, -5.8227e-01,  2.4862e+00,  8.9488e-01],\n",
            "        [ 2.7034e+00,  3.7335e-01, -1.1520e+00, -1.0126e+00, -2.9750e-01,\n",
            "          5.4991e-01, -4.7272e-01,  7.6179e-02, -1.6277e-01, -1.2073e-01],\n",
            "        [ 6.1023e-01,  4.1870e-01, -7.4687e-01, -3.1993e-01, -4.7300e-01,\n",
            "         -1.9637e-01, -2.3997e-01, -1.2497e-01, -4.5376e-01,  2.9671e-01],\n",
            "        [-9.1898e-01, -1.6712e+00,  5.9354e-01,  5.7135e-01,  1.5946e+00,\n",
            "          1.7277e-01, -2.0757e-01,  9.6569e-02, -2.2219e+00,  4.8018e-01],\n",
            "        [-1.3440e+00, -1.8030e-01, -7.5615e-01,  5.3146e-01, -4.3614e-01,\n",
            "         -1.6182e-01,  1.4301e-01, -1.6509e-01, -9.2642e-01,  2.9499e-01],\n",
            "        [-7.9658e-01,  1.3971e-01, -7.1394e-01,  3.3387e-01, -3.8749e-01,\n",
            "         -1.4090e-01, -5.3074e-01,  1.2089e-01, -7.2949e-01, -1.9388e-02],\n",
            "        [ 1.2986e+00,  2.5086e-01,  4.6734e-01, -1.7414e-01,  6.5754e-02,\n",
            "          1.0751e+00, -1.2411e+00,  8.4222e-01,  1.8876e+00,  2.4900e+00],\n",
            "        [ 2.4327e+00, -2.6922e+00, -1.1359e+00,  1.3142e-02, -1.3139e+00,\n",
            "          1.5724e-01,  9.4640e-01, -6.8065e-01,  1.2968e+00, -1.9422e-01],\n",
            "        [ 9.2629e-01, -1.0254e-01, -7.0251e-01, -6.4823e-01, -5.4174e-02,\n",
            "         -1.7285e-01,  1.4629e-01,  4.5331e-02,  1.3618e-01,  6.3780e-02],\n",
            "        [-7.1181e-01,  5.6222e-01, -7.6051e-01, -4.3593e-01, -2.1393e-01,\n",
            "         -5.0631e-01,  3.1784e-01, -5.4301e-02,  2.0556e-01,  8.7793e-02],\n",
            "        [-3.3871e-02,  2.8495e-01,  1.2029e+00,  8.2273e-01,  1.9248e+00,\n",
            "         -1.4211e+00,  9.4962e-01,  1.2226e+00, -9.1582e-01, -6.9321e-01]],\n",
            "       device='cuda:0', dtype=torch.float64)\n",
            "Sample output size:  torch.Size([32])\n",
            "Sample output: \n",
            " tensor([ 50,   5,   6,  22,  54,   8,  78, 123,  76,   6,  60,  42,  48,  79,\n",
            "        111, 118,  17,  52,  38,  78,  80,  79,  19,  84,  25, 104, 105,  83,\n",
            "         88,  63,  97,   6], device='cuda:0')\n"
          ]
        }
      ]
    },
    {
      "cell_type": "code",
      "source": [],
      "metadata": {
        "id": "4aZxSf7a8px5"
      },
      "execution_count": null,
      "outputs": []
    },
    {
      "cell_type": "markdown",
      "source": [
        "**Building a Model**"
      ],
      "metadata": {
        "id": "KoBO31k3_KT2"
      }
    },
    {
      "cell_type": "code",
      "source": [
        "\n",
        "# ?nn.LSTM"
      ],
      "metadata": {
        "id": "monuoAyl8pz7"
      },
      "execution_count": null,
      "outputs": []
    },
    {
      "cell_type": "code",
      "source": [
        "class LSTM_Model(nn.Module):\n",
        "  def __init__(self, input_size, layers, hidden_dim, output_size):\n",
        "    super(LSTM_Model, self).__init__()\n",
        "\n",
        "    self.input_size = input_size\n",
        "    self.layers = layers\n",
        "    self.hidden_dim = hidden_dim\n",
        "    self.output_size = output_size\n",
        "\n",
        "    # lstm\n",
        "    self.lstm = nn.LSTM(input_size = self.input_size,\n",
        "                        hidden_size = self.hidden_dim,\n",
        "                        num_layers = self.layers,\n",
        "                        bias = True,\n",
        "                        )\n",
        "\n",
        "    # Fully connected layer | Output layer\n",
        "    self.output_layer = nn.Linear(self.hidden_dim, self.output_size)\n",
        "\n",
        "  def forward(self, inputs, hidden_inputs):\n",
        "\n",
        "    # Ensure inputs and hidden states are of type float32\n",
        "    inputs = torch.tensor(inputs, dtype=torch.float32)\n",
        "    hidden_inputs = (\n",
        "        torch.tensor(hidden_inputs[0], dtype=torch.float32),\n",
        "        torch.tensor(hidden_inputs[1], dtype=torch.float32)\n",
        "    )\n",
        "\n",
        "    # LSTM expects input of shape (seq_length, batch_size, input_size)\n",
        "    inputs = inputs.unsqueeze(0)  # Add sequence length dimension if needed\n",
        "\n",
        "    # Pass through LSTM\n",
        "    lstm_outputs, hidden_outputs = self.lstm(inputs, hidden_inputs)\n",
        "\n",
        "    # Reshape LSTM outputs to (batch_size, hidden_dim)\n",
        "    lstm_outputs = lstm_outputs.squeeze(0)  # Remove sequence length dimension\n",
        "\n",
        "    # Pass through the fully connected layer\n",
        "    outputs = self.output_layer(lstm_outputs)  # Shape: (batch_size, output_size)\n",
        "\n",
        "    # outputs = F.softmax(outputs, dim=1)\n",
        "\n",
        "    return outputs, hidden_outputs\n"
      ],
      "metadata": {
        "id": "EtPiBfxWmV3M"
      },
      "execution_count": 36,
      "outputs": []
    },
    {
      "cell_type": "code",
      "source": [
        "# sequence length should be no.of frames that are representing ne word, in this case I making sequence length to 28\n",
        "# the frames are not consistent, so I will be using augmentation method (creating the data by applying simple transformations)\n",
        "# input_size i.i., no.of features(columns in simple terms) is 64\n",
        "# hidden_inputs shape will be (sequence_length, batch_size, n_layers)\n",
        "# inputs shape will be (sequence_length, batch_size, input_size)"
      ],
      "metadata": {
        "id": "hNAyZwVxmV-8"
      },
      "execution_count": null,
      "outputs": []
    },
    {
      "cell_type": "code",
      "source": [
        "input_size = 10    ## input features\n",
        "hidden_layers = 4\n",
        "hidden_dim = 1024\n",
        "output_size = 124\n",
        "seq_length = 75"
      ],
      "metadata": {
        "id": "Lb0exycXmV5z"
      },
      "execution_count": 37,
      "outputs": []
    },
    {
      "cell_type": "code",
      "source": [
        "# ## demo\n",
        "h0 = torch.zeros(hidden_layers, batch_size, hidden_dim).to(device)\n",
        "c0 = torch.zeros(hidden_layers, batch_size, hidden_dim).to(device)\n",
        "h = (h0, c0)\n",
        "inputs = sample_x\n",
        "\n",
        "model = LSTM_Model(input_size, hidden_layers, hidden_dim, output_size).to(device)\n",
        "outputs, hidden_outputs = model(inputs, h)"
      ],
      "metadata": {
        "id": "S7GJWgMhmV8j"
      },
      "execution_count": 40,
      "outputs": []
    },
    {
      "cell_type": "code",
      "source": [
        "model"
      ],
      "metadata": {
        "colab": {
          "base_uri": "https://localhost:8080/"
        },
        "id": "SccF7S3MtkUZ",
        "outputId": "3180e474-81d0-4796-d1b6-8184ba1d7b88"
      },
      "execution_count": 41,
      "outputs": [
        {
          "output_type": "execute_result",
          "data": {
            "text/plain": [
              "LSTM_Model(\n",
              "  (lstm): LSTM(10, 1024, num_layers=4)\n",
              "  (output_layer): Linear(in_features=1024, out_features=124, bias=True)\n",
              ")"
            ]
          },
          "metadata": {},
          "execution_count": 41
        }
      ]
    },
    {
      "cell_type": "code",
      "source": [
        "h0.device"
      ],
      "metadata": {
        "colab": {
          "base_uri": "https://localhost:8080/"
        },
        "id": "RI2Ch7hsuFFo",
        "outputId": "97e0ab81-db71-4270-9e7f-c2da5d5fec73"
      },
      "execution_count": 45,
      "outputs": [
        {
          "output_type": "execute_result",
          "data": {
            "text/plain": [
              "device(type='cuda', index=0)"
            ]
          },
          "metadata": {},
          "execution_count": 45
        }
      ]
    },
    {
      "cell_type": "code",
      "source": [
        "sample_x.shape[0]"
      ],
      "metadata": {
        "colab": {
          "base_uri": "https://localhost:8080/"
        },
        "id": "dvhHJES1PQwG",
        "outputId": "7a18b127-1b6e-4728-d628-9a25ac192cb7"
      },
      "execution_count": 42,
      "outputs": [
        {
          "output_type": "execute_result",
          "data": {
            "text/plain": [
              "32"
            ]
          },
          "metadata": {},
          "execution_count": 42
        }
      ]
    },
    {
      "cell_type": "code",
      "source": [
        "outputs.shape"
      ],
      "metadata": {
        "colab": {
          "base_uri": "https://localhost:8080/"
        },
        "id": "hm1eJSjRKTTI",
        "outputId": "a4252d64-8cab-4173-9965-01383a4866bc"
      },
      "execution_count": 43,
      "outputs": [
        {
          "output_type": "execute_result",
          "data": {
            "text/plain": [
              "torch.Size([32, 124])"
            ]
          },
          "metadata": {},
          "execution_count": 43
        }
      ]
    },
    {
      "cell_type": "code",
      "source": [
        "sample_y.shape"
      ],
      "metadata": {
        "colab": {
          "base_uri": "https://localhost:8080/"
        },
        "id": "_WqHyGO_KehN",
        "outputId": "1e6fded0-b04b-4e96-f325-a34f7e996287"
      },
      "execution_count": 44,
      "outputs": [
        {
          "output_type": "execute_result",
          "data": {
            "text/plain": [
              "torch.Size([32])"
            ]
          },
          "metadata": {},
          "execution_count": 44
        }
      ]
    },
    {
      "cell_type": "code",
      "source": [
        "## model building\n",
        "model = LSTM_Model(input_size, hidden_layers, hidden_dim, output_size).to(device)\n",
        "## optimizer\n",
        "optimizer = optim.Adam(model.parameters(), lr=0.001)\n",
        "## loss function\n",
        "loss_fun = nn.CrossEntropyLoss()\n",
        "# loss_fun = nn.MSELoss()"
      ],
      "metadata": {
        "id": "bSBfmAmXOBUB"
      },
      "execution_count": 46,
      "outputs": []
    },
    {
      "cell_type": "code",
      "source": [],
      "metadata": {
        "id": "j0RNz0goOBi5"
      },
      "execution_count": null,
      "outputs": []
    },
    {
      "cell_type": "code",
      "source": [
        "def training_model(nepochs, train_loader, model, optimizer, loss_fun):\n",
        "\n",
        "  nepochs = nepochs\n",
        "\n",
        "  training_loss = np.zeros(nepochs)\n",
        "  training_acc = np.zeros(nepochs)\n",
        "\n",
        "  for epoch in range(nepochs):\n",
        "\n",
        "    batch_loss = []\n",
        "    batch_acc = []\n",
        "\n",
        "    for train_x, train_y in train_loader:\n",
        "\n",
        "      batch_size = train_x.shape[0]\n",
        "      ht = torch.zeros(hidden_layers, batch_size, hidden_dim).to(device)\n",
        "      ct = torch.zeros(hidden_layers, batch_size, hidden_dim).to(device)\n",
        "      hidden_inputs = (ht, ct)\n",
        "\n",
        "      outputs, hidden_outputs = model(train_x, hidden_inputs)\n",
        "\n",
        "      loss = loss_fun(outputs, train_y)\n",
        "\n",
        "      optimizer.zero_grad()\n",
        "      loss.backward()\n",
        "      optimizer.step()\n",
        "\n",
        "      ## appending loss to the batch_loss\n",
        "      batch_loss.append(loss.item())\n",
        "\n",
        "      outputs = outputs.cpu()\n",
        "      train_y = train_y.cpu()\n",
        "\n",
        "      matches = torch.argmax(outputs, axis=1) == train_y\n",
        "      matchesNumeric = matches.float()\n",
        "      accuracyPct = 100 * torch.mean(matchesNumeric)\n",
        "\n",
        "      ## appending accuracy to the batch_acc\n",
        "      batch_acc.append(accuracyPct.cpu().item())\n",
        "\n",
        "    if epoch % 5 == 0:\n",
        "      print(f\"epoch {epoch} loss: {np.mean(batch_loss)}, acc: {np.mean(batch_acc)}\")\n",
        "\n",
        "    training_loss[epoch] = np.mean(batch_loss)\n",
        "    training_acc[epoch] = np.mean(batch_acc)\n",
        "\n",
        "  return training_loss, training_acc\n"
      ],
      "metadata": {
        "id": "bn1KrjIXmWBY"
      },
      "execution_count": 50,
      "outputs": []
    },
    {
      "cell_type": "code",
      "source": [
        "training_loss, training_acc = training_model(21, train_loader, model, optimizer, loss_fun)"
      ],
      "metadata": {
        "colab": {
          "base_uri": "https://localhost:8080/"
        },
        "collapsed": true,
        "id": "nmM9KcrvwzV9",
        "outputId": "f5ebc55d-ba69-4d2e-bb25-00445ec1ecd5"
      },
      "execution_count": 51,
      "outputs": [
        {
          "output_type": "stream",
          "name": "stdout",
          "text": [
            "epoch 0 loss: 1.4925480954290375, acc: 59.952932563040825\n",
            "epoch 5 loss: 0.46029082785441183, acc: 85.47912882006388\n",
            "epoch 10 loss: 0.186734622158599, acc: 94.34686049013312\n",
            "epoch 15 loss: 0.10498322236041228, acc: 96.81758530183727\n",
            "epoch 20 loss: 0.10402502587280209, acc: 96.78288411218037\n"
          ]
        }
      ]
    },
    {
      "cell_type": "code",
      "source": [
        "import matplotlib.pyplot as plt\n",
        "import seaborn as sns\n",
        "sns.set()"
      ],
      "metadata": {
        "id": "4qPWa4qU8goN"
      },
      "execution_count": 52,
      "outputs": []
    },
    {
      "cell_type": "code",
      "source": [
        "fig, (ax1, ax2) = plt.subplots(nrows=1, ncols=2, figsize=(12, 4))\n",
        "\n",
        "ax1.plot(training_loss)\n",
        "ax2.plot(training_acc)\n",
        "\n",
        "ax1.set_title(\"Training Loss\")\n",
        "ax2.set_title(\"Training Accuracy\")"
      ],
      "metadata": {
        "colab": {
          "base_uri": "https://localhost:8080/",
          "height": 412
        },
        "id": "FWLxYr4e8bwt",
        "outputId": "98c3198d-71ca-4b5b-a1d7-a855488e3d13"
      },
      "execution_count": 53,
      "outputs": [
        {
          "output_type": "execute_result",
          "data": {
            "text/plain": [
              "Text(0.5, 1.0, 'Training Accuracy')"
            ]
          },
          "metadata": {},
          "execution_count": 53
        },
        {
          "output_type": "display_data",
          "data": {
            "text/plain": [
              "<Figure size 1200x400 with 2 Axes>"
            ],
            "image/png": "[encoded data removed]"
          },
          "metadata": {}
        }
      ]
    },
    {
      "cell_type": "code",
      "source": [
        "from sklearn.metrics import classification_report, accuracy_score, f1_score, recall_score\n",
        "\n",
        "with torch.no_grad():\n",
        "    all_preds = []\n",
        "    all_labels = []\n",
        "    batch_test_loss = []\n",
        "\n",
        "    for tex_x, test_y in test_loader:\n",
        "        batch_size = tex_x.shape[0]\n",
        "        ht = torch.zeros(hidden_layers, batch_size, hidden_dim).to(device)\n",
        "        ct = torch.zeros(hidden_layers, batch_size, hidden_dim).to(device)\n",
        "        hidden_inputs = (ht, ct)\n",
        "\n",
        "        outputs, hidden_outputs = model(tex_x, hidden_inputs)\n",
        "\n",
        "        # Compute loss\n",
        "        loss = loss_fun(outputs, test_y)\n",
        "        batch_test_loss.append(loss.item())\n",
        "\n",
        "        outputs = outputs.cpu()\n",
        "        test_y = test_y.cpu()\n",
        "\n",
        "        # Predictions and true labels\n",
        "        predictions = torch.argmax(outputs, axis=1)\n",
        "        all_preds.extend(predictions.cpu().numpy())\n",
        "        all_labels.extend(test_y.cpu().numpy())\n",
        "\n",
        "    # Compute metrics\n",
        "    test_loss = np.mean(batch_test_loss)\n",
        "    accuracy = accuracy_score(all_labels, all_preds)\n",
        "    f1 = f1_score(all_labels, all_preds, average='weighted')  # Use 'weighted' for class imbalance\n",
        "    recall = recall_score(all_labels, all_preds, average='weighted')\n",
        "\n",
        "    # Display classification report for detailed metrics per class\n",
        "    # report = classification_report(all_labels, all_preds)\n",
        "\n",
        "    print(f\"Test Loss: {test_loss}\")\n",
        "    print(f\"Test Accuracy: {accuracy * 100:.2f}%\")\n",
        "    print(f\"Test F1-Score: {f1:.2f}\")\n",
        "    print(f\"Test Recall: {recall:.2f}\")\n",
        "    # print(\"\\nClassification Report:\\n\", report)\n"
      ],
      "metadata": {
        "colab": {
          "base_uri": "https://localhost:8080/"
        },
        "id": "cAIJ676-wzYb",
        "outputId": "1743b568-ec00-4604-c1e8-67be12b2ae71"
      },
      "execution_count": 54,
      "outputs": [
        {
          "output_type": "stream",
          "name": "stdout",
          "text": [
            "Test Loss: 0.6023041038059218\n",
            "Test Accuracy: 87.08%\n",
            "Test F1-Score: 0.87\n",
            "Test Recall: 0.87\n"
          ]
        }
      ]
    },
    {
      "cell_type": "code",
      "source": [],
      "metadata": {
        "id": "dOssLIjd9Xqu"
      },
      "execution_count": null,
      "outputs": []
    },
    {
      "cell_type": "code",
      "source": [
        "import pickle\n",
        "\n",
        "pickle.dump(model, open('words_model.pkl', 'wb'))\n",
        "pickle.dump(std_scaler, open('words_std_scaler.pkl', 'wb'))\n",
        "pickle.dump(encoder, open('words_labelencoder.pkl', 'wb'))"
      ],
      "metadata": {
        "id": "dlvlws2kwzam"
      },
      "execution_count": 58,
      "outputs": []
    },
    {
      "cell_type": "code",
      "source": [],
      "metadata": {
        "id": "5ZTeF4Sgey1a"
      },
      "execution_count": null,
      "outputs": []
    },
    {
      "cell_type": "code",
      "source": [
        "encoder.classes_"
      ],
      "metadata": {
        "id": "VyZgPHOUey4w",
        "colab": {
          "base_uri": "https://localhost:8080/"
        },
        "outputId": "2e844257-1871-4aed-d61c-09dbe91d6347"
      },
      "execution_count": 60,
      "outputs": [
        {
          "output_type": "execute_result",
          "data": {
            "text/plain": [
              "array(['1', '2', '3', '4', '5', '6', '7', '8', '9', 'A', 'AFRAID',\n",
              "       'ANGRY', 'APPRECIATE', 'B', 'BAD', 'BED', 'BORED', 'C', 'CLASS',\n",
              "       'COLD', 'COLLEGE_SCHOOL', 'COMB', 'COME', 'CONGRATULATIONS',\n",
              "       'CRYING', 'D', 'DARE', 'DIFFERENCE', 'DISAPPOINTED', 'DO', 'E',\n",
              "       'F', 'FAVOUR', 'FEVER', 'FINE', 'FOOD', 'FREE', 'FRIEND', 'FROM',\n",
              "       'G', 'GO', 'GOOD', 'GRATEFUL', 'H', 'HAD', 'HAPPY', 'HEAR',\n",
              "       'HEART', 'HELLO_HI', 'HELP', 'HIDING', 'HOW', 'HUNGRY', 'HURT',\n",
              "       'I', 'I_ME_MINE_MY', 'J', 'K', 'KIND', 'L', 'LEAVE', 'LIKE_LOVE',\n",
              "       'M', 'MEAN IT', 'MEDICINE', 'MEET', 'N', 'NAME', 'NICE', 'O',\n",
              "       'OLD_AGE', 'OUTSIDE', 'P', 'PHONE', 'PLACE', 'POUR', 'PREPARE',\n",
              "       'PROMISE', 'Q', 'R', 'REALLY', 'REPEAT', 'ROOM', 'S', 'SHIRT',\n",
              "       'SITTING', 'SLEEP', 'SLOWER', 'SO MUCH', 'SOFTLY', 'SOME ONE',\n",
              "       'SOMETHING', 'SORRY', 'SPEAK', 'STOP', 'SURE', 'T', 'TAKE CARE',\n",
              "       'TAKE TIME', 'TALK', 'TELL', 'THANK', 'THAT', 'THINGS', 'THINK',\n",
              "       'THIRSTY', 'TIRED', 'TODAY', 'TRUST', 'TRUTH', 'TURN ON', 'U',\n",
              "       'UNDERSTAND', 'V', 'W', 'WANT', 'WATER', 'WEAR', 'WELCOME', 'WHAT',\n",
              "       'X', 'Y', 'YOU', 'Z'], dtype=object)"
            ]
          },
          "metadata": {},
          "execution_count": 60
        }
      ]
    },
    {
      "cell_type": "code",
      "source": [
        "# original_labels = encoder.inverse_transform(targets)\n",
        "# original_labels"
      ],
      "metadata": {
        "id": "YG-QqYS2wzeD"
      },
      "execution_count": 57,
      "outputs": []
    },
    {
      "cell_type": "code",
      "source": [],
      "metadata": {
        "id": "e__LEE_eU9y1"
      },
      "execution_count": null,
      "outputs": []
    },
    {
      "cell_type": "code",
      "source": [],
      "metadata": {
        "id": "rnbh9YaxmWEE"
      },
      "execution_count": null,
      "outputs": []
    },
    {
      "cell_type": "code",
      "source": [],
      "metadata": {
        "id": "WYRLQSAemWGf"
      },
      "execution_count": null,
      "outputs": []
    },
    {
      "cell_type": "code",
      "source": [],
      "metadata": {
        "id": "5Ui00be6mWI0"
      },
      "execution_count": null,
      "outputs": []
    },
    {
      "cell_type": "code",
      "source": [],
      "metadata": {
        "id": "_8EYBAg-mWL4"
      },
      "execution_count": null,
      "outputs": []
    },
    {
      "cell_type": "code",
      "source": [],
      "metadata": {
        "id": "BRfw9tlZ8ZA_"
      },
      "execution_count": null,
      "outputs": []
    },
    {
      "cell_type": "code",
      "source": [],
      "metadata": {
        "id": "khnWA-p68ZD6"
      },
      "execution_count": null,
      "outputs": []
    }
  ]
}