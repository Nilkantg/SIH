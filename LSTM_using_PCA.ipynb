{
  "nbformat": 4,
  "nbformat_minor": 0,
  "metadata": {
    "colab": {
      "provenance": []
    },
    "kernelspec": {
      "name": "python3",
      "display_name": "Python 3"
    },
    "language_info": {
      "name": "python"
    }
  },
  "cells": [
    {
      "cell_type": "code",
      "execution_count": 1,
      "metadata": {
        "id": "htJ90Jd1g2Wk"
      },
      "outputs": [],
      "source": [
        "import pandas as pd\n",
        "import numpy as np\n",
        "\n",
        "from sklearn.preprocessing import LabelEncoder\n",
        "from sklearn.preprocessing import StandardScaler, MinMaxScaler\n",
        "from sklearn.model_selection import train_test_split\n",
        "from sklearn.metrics import accuracy_score, classification_report, confusion_matrix\n",
        "\n",
        "import torch\n",
        "import torch.nn as nn\n",
        "import torch.nn.functional as F\n",
        "import torch.optim as optim\n",
        "from torch.utils.data import TensorDataset, DataLoader\n",
        "\n",
        "import warnings\n",
        "warnings.filterwarnings(\"ignore\")"
      ]
    },
    {
      "cell_type": "code",
      "source": [
        "words_corpus = pd.read_csv('/content/preprocessed_PCA_df75.xls')\n",
        "words_corpus.head()"
      ],
      "metadata": {
        "colab": {
          "base_uri": "https://localhost:8080/",
          "height": 206
        },
        "id": "Gm2zGzvB2Byx",
        "outputId": "a0a9de27-7a91-425c-ffc9-0db9f40b3b62"
      },
      "execution_count": 20,
      "outputs": [
        {
          "output_type": "execute_result",
          "data": {
            "text/plain": [
              "   Unnamed: 0  Feature-1  Feature-2  Feature-3  Feature-4  Feature-5  \\\n",
              "0           0  -0.104584   0.717018   0.034466   0.081036   0.046278   \n",
              "1           1  -0.129352   0.629742   0.101942   0.042459   0.065688   \n",
              "2           2  -0.620968  -0.439935   0.086838   0.005921  -0.032719   \n",
              "3           3  -0.463440  -1.317010   0.216507   0.007612  -0.063948   \n",
              "4           4   0.078710  -0.336243   0.210203  -0.073041   0.061730   \n",
              "\n",
              "   Feature-6  Feature-7  Feature-8  Feature-9  Feature-10    Word  \n",
              "0  -0.012572  -0.040531  -0.009481   0.001193   -0.019498  AFRAID  \n",
              "1  -0.009813  -0.086141  -0.005889   0.014352   -0.000305  AFRAID  \n",
              "2  -0.021029   0.054609  -0.012844   0.022102   -0.015965  AFRAID  \n",
              "3   0.148430   0.147191  -0.005954   0.008406    0.031396  AFRAID  \n",
              "4  -0.023142   0.086558   0.028992   0.020419    0.018612  AFRAID  "
            ],
            "text/html": [
              "\n",
              "  <div id=\"df-c3d5121c-31da-4b80-abb5-7dc25c32d6f7\" class=\"colab-df-container\">\n",
              "    <div>\n",
              "<style scoped>\n",
              "    .dataframe tbody tr th:only-of-type {\n",
              "        vertical-align: middle;\n",
              "    }\n",
              "\n",
              "    .dataframe tbody tr th {\n",
              "        vertical-align: top;\n",
              "    }\n",
              "\n",
              "    .dataframe thead th {\n",
              "        text-align: right;\n",
              "    }\n",
              "</style>\n",
              "<table border=\"1\" class=\"dataframe\">\n",
              "  <thead>\n",
              "    <tr style=\"text-align: right;\">\n",
              "      <th></th>\n",
              "      <th>Unnamed: 0</th>\n",
              "      <th>Feature-1</th>\n",
              "      <th>Feature-2</th>\n",
              "      <th>Feature-3</th>\n",
              "      <th>Feature-4</th>\n",
              "      <th>Feature-5</th>\n",
              "      <th>Feature-6</th>\n",
              "      <th>Feature-7</th>\n",
              "      <th>Feature-8</th>\n",
              "      <th>Feature-9</th>\n",
              "      <th>Feature-10</th>\n",
              "      <th>Word</th>\n",
              "    </tr>\n",
              "  </thead>\n",
              "  <tbody>\n",
              "    <tr>\n",
              "      <th>0</th>\n",
              "      <td>0</td>\n",
              "      <td>-0.104584</td>\n",
              "      <td>0.717018</td>\n",
              "      <td>0.034466</td>\n",
              "      <td>0.081036</td>\n",
              "      <td>0.046278</td>\n",
              "      <td>-0.012572</td>\n",
              "      <td>-0.040531</td>\n",
              "      <td>-0.009481</td>\n",
              "      <td>0.001193</td>\n",
              "      <td>-0.019498</td>\n",
              "      <td>AFRAID</td>\n",
              "    </tr>\n",
              "    <tr>\n",
              "      <th>1</th>\n",
              "      <td>1</td>\n",
              "      <td>-0.129352</td>\n",
              "      <td>0.629742</td>\n",
              "      <td>0.101942</td>\n",
              "      <td>0.042459</td>\n",
              "      <td>0.065688</td>\n",
              "      <td>-0.009813</td>\n",
              "      <td>-0.086141</td>\n",
              "      <td>-0.005889</td>\n",
              "      <td>0.014352</td>\n",
              "      <td>-0.000305</td>\n",
              "      <td>AFRAID</td>\n",
              "    </tr>\n",
              "    <tr>\n",
              "      <th>2</th>\n",
              "      <td>2</td>\n",
              "      <td>-0.620968</td>\n",
              "      <td>-0.439935</td>\n",
              "      <td>0.086838</td>\n",
              "      <td>0.005921</td>\n",
              "      <td>-0.032719</td>\n",
              "      <td>-0.021029</td>\n",
              "      <td>0.054609</td>\n",
              "      <td>-0.012844</td>\n",
              "      <td>0.022102</td>\n",
              "      <td>-0.015965</td>\n",
              "      <td>AFRAID</td>\n",
              "    </tr>\n",
              "    <tr>\n",
              "      <th>3</th>\n",
              "      <td>3</td>\n",
              "      <td>-0.463440</td>\n",
              "      <td>-1.317010</td>\n",
              "      <td>0.216507</td>\n",
              "      <td>0.007612</td>\n",
              "      <td>-0.063948</td>\n",
              "      <td>0.148430</td>\n",
              "      <td>0.147191</td>\n",
              "      <td>-0.005954</td>\n",
              "      <td>0.008406</td>\n",
              "      <td>0.031396</td>\n",
              "      <td>AFRAID</td>\n",
              "    </tr>\n",
              "    <tr>\n",
              "      <th>4</th>\n",
              "      <td>4</td>\n",
              "      <td>0.078710</td>\n",
              "      <td>-0.336243</td>\n",
              "      <td>0.210203</td>\n",
              "      <td>-0.073041</td>\n",
              "      <td>0.061730</td>\n",
              "      <td>-0.023142</td>\n",
              "      <td>0.086558</td>\n",
              "      <td>0.028992</td>\n",
              "      <td>0.020419</td>\n",
              "      <td>0.018612</td>\n",
              "      <td>AFRAID</td>\n",
              "    </tr>\n",
              "  </tbody>\n",
              "</table>\n",
              "</div>\n",
              "    <div class=\"colab-df-buttons\">\n",
              "\n",
              "  <div class=\"colab-df-container\">\n",
              "    <button class=\"colab-df-convert\" onclick=\"convertToInteractive('df-c3d5121c-31da-4b80-abb5-7dc25c32d6f7')\"\n",
              "            title=\"Convert this dataframe to an interactive table.\"\n",
              "            style=\"display:none;\">\n",
              "\n",
              "  <svg xmlns=\"http://www.w3.org/2000/svg\" height=\"24px\" viewBox=\"0 -960 960 960\">\n",
              "    <path d=\"M120-120v-720h720v720H120Zm60-500h600v-160H180v160Zm220 220h160v-160H400v160Zm0 220h160v-160H400v160ZM180-400h160v-160H180v160Zm440 0h160v-160H620v160ZM180-180h160v-160H180v160Zm440 0h160v-160H620v160Z\"/>\n",
              "  </svg>\n",
              "    </button>\n",
              "\n",
              "  <style>\n",
              "    .colab-df-container {\n",
              "      display:flex;\n",
              "      gap: 12px;\n",
              "    }\n",
              "\n",
              "    .colab-df-convert {\n",
              "      background-color: #E8F0FE;\n",
              "      border: none;\n",
              "      border-radius: 50%;\n",
              "      cursor: pointer;\n",
              "      display: none;\n",
              "      fill: #1967D2;\n",
              "      height: 32px;\n",
              "      padding: 0 0 0 0;\n",
              "      width: 32px;\n",
              "    }\n",
              "\n",
              "    .colab-df-convert:hover {\n",
              "      background-color: #E2EBFA;\n",
              "      box-shadow: 0px 1px 2px rgba(60, 64, 67, 0.3), 0px 1px 3px 1px rgba(60, 64, 67, 0.15);\n",
              "      fill: #174EA6;\n",
              "    }\n",
              "\n",
              "    .colab-df-buttons div {\n",
              "      margin-bottom: 4px;\n",
              "    }\n",
              "\n",
              "    [theme=dark] .colab-df-convert {\n",
              "      background-color: #3B4455;\n",
              "      fill: #D2E3FC;\n",
              "    }\n",
              "\n",
              "    [theme=dark] .colab-df-convert:hover {\n",
              "      background-color: #434B5C;\n",
              "      box-shadow: 0px 1px 3px 1px rgba(0, 0, 0, 0.15);\n",
              "      filter: drop-shadow(0px 1px 2px rgba(0, 0, 0, 0.3));\n",
              "      fill: #FFFFFF;\n",
              "    }\n",
              "  </style>\n",
              "\n",
              "    <script>\n",
              "      const buttonEl =\n",
              "        document.querySelector('#df-c3d5121c-31da-4b80-abb5-7dc25c32d6f7 button.colab-df-convert');\n",
              "      buttonEl.style.display =\n",
              "        google.colab.kernel.accessAllowed ? 'block' : 'none';\n",
              "\n",
              "      async function convertToInteractive(key) {\n",
              "        const element = document.querySelector('#df-c3d5121c-31da-4b80-abb5-7dc25c32d6f7');\n",
              "        const dataTable =\n",
              "          await google.colab.kernel.invokeFunction('convertToInteractive',\n",
              "                                                    [key], {});\n",
              "        if (!dataTable) return;\n",
              "\n",
              "        const docLinkHtml = 'Like what you see? Visit the ' +\n",
              "          '<a target=\"_blank\" href=https://colab.research.google.com/notebooks/data_table.ipynb>data table notebook</a>'\n",
              "          + ' to learn more about interactive tables.';\n",
              "        element.innerHTML = '';\n",
              "        dataTable['output_type'] = 'display_data';\n",
              "        await google.colab.output.renderOutput(dataTable, element);\n",
              "        const docLink = document.createElement('div');\n",
              "        docLink.innerHTML = docLinkHtml;\n",
              "        element.appendChild(docLink);\n",
              "      }\n",
              "    </script>\n",
              "  </div>\n",
              "\n",
              "\n",
              "<div id=\"df-8e7aef59-0d26-4b25-914e-fece8a344d54\">\n",
              "  <button class=\"colab-df-quickchart\" onclick=\"quickchart('df-8e7aef59-0d26-4b25-914e-fece8a344d54')\"\n",
              "            title=\"Suggest charts\"\n",
              "            style=\"display:none;\">\n",
              "\n",
              "<svg xmlns=\"http://www.w3.org/2000/svg\" height=\"24px\"viewBox=\"0 0 24 24\"\n",
              "     width=\"24px\">\n",
              "    <g>\n",
              "        <path d=\"M19 3H5c-1.1 0-2 .9-2 2v14c0 1.1.9 2 2 2h14c1.1 0 2-.9 2-2V5c0-1.1-.9-2-2-2zM9 17H7v-7h2v7zm4 0h-2V7h2v10zm4 0h-2v-4h2v4z\"/>\n",
              "    </g>\n",
              "</svg>\n",
              "  </button>\n",
              "\n",
              "<style>\n",
              "  .colab-df-quickchart {\n",
              "      --bg-color: #E8F0FE;\n",
              "      --fill-color: #1967D2;\n",
              "      --hover-bg-color: #E2EBFA;\n",
              "      --hover-fill-color: #174EA6;\n",
              "      --disabled-fill-color: #AAA;\n",
              "      --disabled-bg-color: #DDD;\n",
              "  }\n",
              "\n",
              "  [theme=dark] .colab-df-quickchart {\n",
              "      --bg-color: #3B4455;\n",
              "      --fill-color: #D2E3FC;\n",
              "      --hover-bg-color: #434B5C;\n",
              "      --hover-fill-color: #FFFFFF;\n",
              "      --disabled-bg-color: #3B4455;\n",
              "      --disabled-fill-color: #666;\n",
              "  }\n",
              "\n",
              "  .colab-df-quickchart {\n",
              "    background-color: var(--bg-color);\n",
              "    border: none;\n",
              "    border-radius: 50%;\n",
              "    cursor: pointer;\n",
              "    display: none;\n",
              "    fill: var(--fill-color);\n",
              "    height: 32px;\n",
              "    padding: 0;\n",
              "    width: 32px;\n",
              "  }\n",
              "\n",
              "  .colab-df-quickchart:hover {\n",
              "    background-color: var(--hover-bg-color);\n",
              "    box-shadow: 0 1px 2px rgba(60, 64, 67, 0.3), 0 1px 3px 1px rgba(60, 64, 67, 0.15);\n",
              "    fill: var(--button-hover-fill-color);\n",
              "  }\n",
              "\n",
              "  .colab-df-quickchart-complete:disabled,\n",
              "  .colab-df-quickchart-complete:disabled:hover {\n",
              "    background-color: var(--disabled-bg-color);\n",
              "    fill: var(--disabled-fill-color);\n",
              "    box-shadow: none;\n",
              "  }\n",
              "\n",
              "  .colab-df-spinner {\n",
              "    border: 2px solid var(--fill-color);\n",
              "    border-color: transparent;\n",
              "    border-bottom-color: var(--fill-color);\n",
              "    animation:\n",
              "      spin 1s steps(1) infinite;\n",
              "  }\n",
              "\n",
              "  @keyframes spin {\n",
              "    0% {\n",
              "      border-color: transparent;\n",
              "      border-bottom-color: var(--fill-color);\n",
              "      border-left-color: var(--fill-color);\n",
              "    }\n",
              "    20% {\n",
              "      border-color: transparent;\n",
              "      border-left-color: var(--fill-color);\n",
              "      border-top-color: var(--fill-color);\n",
              "    }\n",
              "    30% {\n",
              "      border-color: transparent;\n",
              "      border-left-color: var(--fill-color);\n",
              "      border-top-color: var(--fill-color);\n",
              "      border-right-color: var(--fill-color);\n",
              "    }\n",
              "    40% {\n",
              "      border-color: transparent;\n",
              "      border-right-color: var(--fill-color);\n",
              "      border-top-color: var(--fill-color);\n",
              "    }\n",
              "    60% {\n",
              "      border-color: transparent;\n",
              "      border-right-color: var(--fill-color);\n",
              "    }\n",
              "    80% {\n",
              "      border-color: transparent;\n",
              "      border-right-color: var(--fill-color);\n",
              "      border-bottom-color: var(--fill-color);\n",
              "    }\n",
              "    90% {\n",
              "      border-color: transparent;\n",
              "      border-bottom-color: var(--fill-color);\n",
              "    }\n",
              "  }\n",
              "</style>\n",
              "\n",
              "  <script>\n",
              "    async function quickchart(key) {\n",
              "      const quickchartButtonEl =\n",
              "        document.querySelector('#' + key + ' button');\n",
              "      quickchartButtonEl.disabled = true;  // To prevent multiple clicks.\n",
              "      quickchartButtonEl.classList.add('colab-df-spinner');\n",
              "      try {\n",
              "        const charts = await google.colab.kernel.invokeFunction(\n",
              "            'suggestCharts', [key], {});\n",
              "      } catch (error) {\n",
              "        console.error('Error during call to suggestCharts:', error);\n",
              "      }\n",
              "      quickchartButtonEl.classList.remove('colab-df-spinner');\n",
              "      quickchartButtonEl.classList.add('colab-df-quickchart-complete');\n",
              "    }\n",
              "    (() => {\n",
              "      let quickchartButtonEl =\n",
              "        document.querySelector('#df-8e7aef59-0d26-4b25-914e-fece8a344d54 button');\n",
              "      quickchartButtonEl.style.display =\n",
              "        google.colab.kernel.accessAllowed ? 'block' : 'none';\n",
              "    })();\n",
              "  </script>\n",
              "</div>\n",
              "\n",
              "    </div>\n",
              "  </div>\n"
            ],
            "application/vnd.google.colaboratory.intrinsic+json": {
              "type": "dataframe",
              "variable_name": "words_corpus",
              "summary": "{\n  \"name\": \"words_corpus\",\n  \"rows\": 6675,\n  \"fields\": [\n    {\n      \"column\": \"Unnamed: 0\",\n      \"properties\": {\n        \"dtype\": \"number\",\n        \"std\": 1927,\n        \"min\": 0,\n        \"max\": 6674,\n        \"num_unique_values\": 6675,\n        \"samples\": [\n          1575,\n          6444,\n          4622\n        ],\n        \"semantic_type\": \"\",\n        \"description\": \"\"\n      }\n    },\n    {\n      \"column\": \"Feature-1\",\n      \"properties\": {\n        \"dtype\": \"number\",\n        \"std\": 0.8391741714577917,\n        \"min\": -2.239496202580219,\n        \"max\": 2.4553359124340046,\n        \"num_unique_values\": 6675,\n        \"samples\": [\n          0.6537057382788115,\n          -0.5361863797470061,\n          -1.1099111268569026\n        ],\n        \"semantic_type\": \"\",\n        \"description\": \"\"\n      }\n    },\n    {\n      \"column\": \"Feature-2\",\n      \"properties\": {\n        \"dtype\": \"number\",\n        \"std\": 0.5214057078500193,\n        \"min\": -2.16128364119416,\n        \"max\": 2.22449485496042,\n        \"num_unique_values\": 6675,\n        \"samples\": [\n          0.2077202930963979,\n          -0.2420539594847929,\n          -0.2893686047403391\n        ],\n        \"semantic_type\": \"\",\n        \"description\": \"\"\n      }\n    },\n    {\n      \"column\": \"Feature-3\",\n      \"properties\": {\n        \"dtype\": \"number\",\n        \"std\": 0.0927784759661928,\n        \"min\": -0.2934137378977337,\n        \"max\": 0.3269349636462141,\n        \"num_unique_values\": 6675,\n        \"samples\": [\n          -0.0483507328518256,\n          -0.1701441781447665,\n          -0.0051369856647677\n        ],\n        \"semantic_type\": \"\",\n        \"description\": \"\"\n      }\n    },\n    {\n      \"column\": \"Feature-4\",\n      \"properties\": {\n        \"dtype\": \"number\",\n        \"std\": 0.08067421732583628,\n        \"min\": -0.2719792534237216,\n        \"max\": 0.3046497917610072,\n        \"num_unique_values\": 6675,\n        \"samples\": [\n          0.1303833481308313,\n          -0.0182227441380387,\n          -0.0244839502957095\n        ],\n        \"semantic_type\": \"\",\n        \"description\": \"\"\n      }\n    },\n    {\n      \"column\": \"Feature-5\",\n      \"properties\": {\n        \"dtype\": \"number\",\n        \"std\": 0.07729439198205845,\n        \"min\": -0.2655648468225356,\n        \"max\": 0.3125382739487233,\n        \"num_unique_values\": 6675,\n        \"samples\": [\n          0.0122498868602681,\n          0.0593309409737235,\n          0.0868498927138993\n        ],\n        \"semantic_type\": \"\",\n        \"description\": \"\"\n      }\n    },\n    {\n      \"column\": \"Feature-6\",\n      \"properties\": {\n        \"dtype\": \"number\",\n        \"std\": 0.05923686925220125,\n        \"min\": -0.22253657088476,\n        \"max\": 0.400672415593978,\n        \"num_unique_values\": 6675,\n        \"samples\": [\n          0.0132809878921947,\n          -0.0348182046370987,\n          -0.0488804564984861\n        ],\n        \"semantic_type\": \"\",\n        \"description\": \"\"\n      }\n    },\n    {\n      \"column\": \"Feature-7\",\n      \"properties\": {\n        \"dtype\": \"number\",\n        \"std\": 0.05801185189033571,\n        \"min\": -0.210130987907261,\n        \"max\": 0.3558604978181742,\n        \"num_unique_values\": 6675,\n        \"samples\": [\n          0.0490702457739017,\n          -0.0017879492623644,\n          0.0089273965164315\n        ],\n        \"semantic_type\": \"\",\n        \"description\": \"\"\n      }\n    },\n    {\n      \"column\": \"Feature-8\",\n      \"properties\": {\n        \"dtype\": \"number\",\n        \"std\": 0.04213925346337352,\n        \"min\": -0.1502989964018315,\n        \"max\": 0.1757073391546806,\n        \"num_unique_values\": 6675,\n        \"samples\": [\n          0.0106760977926137,\n          -0.0064544822927205,\n          -0.0208877811194258\n        ],\n        \"semantic_type\": \"\",\n        \"description\": \"\"\n      }\n    },\n    {\n      \"column\": \"Feature-9\",\n      \"properties\": {\n        \"dtype\": \"number\",\n        \"std\": 0.031328002661466695,\n        \"min\": -0.1093974044653955,\n        \"max\": 0.1543582175017041,\n        \"num_unique_values\": 6675,\n        \"samples\": [\n          -0.0305584206637368,\n          0.0205567063766822,\n          -0.0115038485536011\n        ],\n        \"semantic_type\": \"\",\n        \"description\": \"\"\n      }\n    },\n    {\n      \"column\": \"Feature-10\",\n      \"properties\": {\n        \"dtype\": \"number\",\n        \"std\": 0.026932232215119745,\n        \"min\": -0.085960398654127,\n        \"max\": 0.1269643192057227,\n        \"num_unique_values\": 6675,\n        \"samples\": [\n          -0.0287864451806177,\n          -0.0441946090750419,\n          0.0021033867666434\n        ],\n        \"semantic_type\": \"\",\n        \"description\": \"\"\n      }\n    },\n    {\n      \"column\": \"Word\",\n      \"properties\": {\n        \"dtype\": \"category\",\n        \"num_unique_values\": 89,\n        \"samples\": [\n          \"NAME\",\n          \"REALLY\",\n          \"HEART\"\n        ],\n        \"semantic_type\": \"\",\n        \"description\": \"\"\n      }\n    }\n  ]\n}"
            }
          },
          "metadata": {},
          "execution_count": 20
        }
      ]
    },
    {
      "cell_type": "code",
      "source": [
        "words_corpus.shape"
      ],
      "metadata": {
        "colab": {
          "base_uri": "https://localhost:8080/"
        },
        "id": "TWpS5Bxo2Jji",
        "outputId": "9cd07057-3649-4285-b758-f98b07cea21a"
      },
      "execution_count": 21,
      "outputs": [
        {
          "output_type": "execute_result",
          "data": {
            "text/plain": [
              "(6675, 12)"
            ]
          },
          "metadata": {},
          "execution_count": 21
        }
      ]
    },
    {
      "cell_type": "code",
      "source": [
        "words_corpus.drop([\"Unnamed: 0\"], inplace=True, axis=1)"
      ],
      "metadata": {
        "id": "7xRkI-BN4zbi"
      },
      "execution_count": 30,
      "outputs": []
    },
    {
      "cell_type": "code",
      "source": [
        "words_corpus.shape"
      ],
      "metadata": {
        "colab": {
          "base_uri": "https://localhost:8080/"
        },
        "id": "vdvjm0d3OaKM",
        "outputId": "c65be626-fba1-4b74-b784-81f074b3c7a2"
      },
      "execution_count": 31,
      "outputs": [
        {
          "output_type": "execute_result",
          "data": {
            "text/plain": [
              "(6675, 11)"
            ]
          },
          "metadata": {},
          "execution_count": 31
        }
      ]
    },
    {
      "cell_type": "code",
      "source": [
        "words_corpus[\"Word\"].value_counts()"
      ],
      "metadata": {
        "colab": {
          "base_uri": "https://localhost:8080/",
          "height": 489
        },
        "id": "lSNEnqZXO7Z7",
        "outputId": "b2051842-b490-47c1-8f92-13770a20e850"
      },
      "execution_count": 32,
      "outputs": [
        {
          "output_type": "execute_result",
          "data": {
            "text/plain": [
              "Word\n",
              "AFRAID       75\n",
              "NICE         75\n",
              "SPEAK        75\n",
              "SORRY        75\n",
              "SOMETHING    75\n",
              "             ..\n",
              "HAPPY        75\n",
              "HAD          75\n",
              "GRATEFUL     75\n",
              "GOOD         75\n",
              "YOU          75\n",
              "Name: count, Length: 89, dtype: int64"
            ],
            "text/html": [
              "<div>\n",
              "<style scoped>\n",
              "    .dataframe tbody tr th:only-of-type {\n",
              "        vertical-align: middle;\n",
              "    }\n",
              "\n",
              "    .dataframe tbody tr th {\n",
              "        vertical-align: top;\n",
              "    }\n",
              "\n",
              "    .dataframe thead th {\n",
              "        text-align: right;\n",
              "    }\n",
              "</style>\n",
              "<table border=\"1\" class=\"dataframe\">\n",
              "  <thead>\n",
              "    <tr style=\"text-align: right;\">\n",
              "      <th></th>\n",
              "      <th>count</th>\n",
              "    </tr>\n",
              "    <tr>\n",
              "      <th>Word</th>\n",
              "      <th></th>\n",
              "    </tr>\n",
              "  </thead>\n",
              "  <tbody>\n",
              "    <tr>\n",
              "      <th>AFRAID</th>\n",
              "      <td>75</td>\n",
              "    </tr>\n",
              "    <tr>\n",
              "      <th>NICE</th>\n",
              "      <td>75</td>\n",
              "    </tr>\n",
              "    <tr>\n",
              "      <th>SPEAK</th>\n",
              "      <td>75</td>\n",
              "    </tr>\n",
              "    <tr>\n",
              "      <th>SORRY</th>\n",
              "      <td>75</td>\n",
              "    </tr>\n",
              "    <tr>\n",
              "      <th>SOMETHING</th>\n",
              "      <td>75</td>\n",
              "    </tr>\n",
              "    <tr>\n",
              "      <th>...</th>\n",
              "      <td>...</td>\n",
              "    </tr>\n",
              "    <tr>\n",
              "      <th>HAPPY</th>\n",
              "      <td>75</td>\n",
              "    </tr>\n",
              "    <tr>\n",
              "      <th>HAD</th>\n",
              "      <td>75</td>\n",
              "    </tr>\n",
              "    <tr>\n",
              "      <th>GRATEFUL</th>\n",
              "      <td>75</td>\n",
              "    </tr>\n",
              "    <tr>\n",
              "      <th>GOOD</th>\n",
              "      <td>75</td>\n",
              "    </tr>\n",
              "    <tr>\n",
              "      <th>YOU</th>\n",
              "      <td>75</td>\n",
              "    </tr>\n",
              "  </tbody>\n",
              "</table>\n",
              "<p>89 rows × 1 columns</p>\n",
              "</div><br><label><b>dtype:</b> int64</label>"
            ]
          },
          "metadata": {},
          "execution_count": 32
        }
      ]
    },
    {
      "cell_type": "code",
      "source": [
        "# filtered_words_df = words_corpus[words_corpus[\"Word\"].map(words_corpus[\"Word\"].value_counts()) <= 20]"
      ],
      "metadata": {
        "id": "PGwJ15tqR2WD"
      },
      "execution_count": null,
      "outputs": []
    },
    {
      "cell_type": "code",
      "source": [
        "words_corpus[\"Word\"].unique()"
      ],
      "metadata": {
        "colab": {
          "base_uri": "https://localhost:8080/"
        },
        "id": "0q0wh3oGUld3",
        "outputId": "75040f2e-291c-48b1-d095-c46326008649"
      },
      "execution_count": 26,
      "outputs": [
        {
          "output_type": "execute_result",
          "data": {
            "text/plain": [
              "array(['AFRAID', 'ANGRY', 'APPRECIATE', 'BAD', 'BED', 'BORED', 'CLASS',\n",
              "       'COLD', 'COLLEGE_SCHOOL', 'COMB', 'COME', 'CONGRATULATIONS',\n",
              "       'CRYING', 'DARE', 'DIFFERENCE', 'DISAPPOINTED', 'DO', 'FAVOUR',\n",
              "       'FEVER', 'FINE', 'FOOD', 'FREE', 'FRIEND', 'FROM', 'GO', 'GOOD',\n",
              "       'GRATEFUL', 'HAD', 'HAPPY', 'HEAR', 'HEART', 'HELLO_HI', 'HELP',\n",
              "       'HIDING', 'HOW', 'HUNGRY', 'HURT', 'I_ME_MINE_MY', 'KIND', 'LEAVE',\n",
              "       'LIKE_LOVE', 'MEAN IT', 'MEDICINE', 'MEET', 'NAME', 'NICE',\n",
              "       'OLD_AGE', 'OUTSIDE', 'PHONE', 'PLACE', 'POUR', 'PREPARE',\n",
              "       'PROMISE', 'REALLY', 'REPEAT', 'ROOM', 'SHIRT', 'SITTING', 'SLEEP',\n",
              "       'SLOWER', 'SO MUCH', 'SOFTLY', 'SOME ONE', 'SOMETHING', 'SORRY',\n",
              "       'SPEAK', 'STOP', 'SURE', 'TAKE CARE', 'TAKE TIME', 'TALK', 'TELL',\n",
              "       'THANK', 'THAT', 'THINGS', 'THINK', 'THIRSTY', 'TIRED', 'TODAY',\n",
              "       'TRUST', 'TRUTH', 'TURN ON', 'UNDERSTAND', 'WANT', 'WATER', 'WEAR',\n",
              "       'WELCOME', 'WHAT', 'YOU'], dtype=object)"
            ]
          },
          "metadata": {},
          "execution_count": 26
        }
      ]
    },
    {
      "cell_type": "code",
      "source": [
        "words_corpus[\"Word\"].nunique()"
      ],
      "metadata": {
        "colab": {
          "base_uri": "https://localhost:8080/"
        },
        "id": "RNp3Hl1gKx4Z",
        "outputId": "fce1a220-075d-470e-8721-bf7b91e65330"
      },
      "execution_count": 54,
      "outputs": [
        {
          "output_type": "execute_result",
          "data": {
            "text/plain": [
              "89"
            ]
          },
          "metadata": {},
          "execution_count": 54
        }
      ]
    },
    {
      "cell_type": "code",
      "source": [
        "new_words_df = words_corpus.copy()"
      ],
      "metadata": {
        "id": "pFeuiLSxR4MK"
      },
      "execution_count": 33,
      "outputs": []
    },
    {
      "cell_type": "code",
      "source": [
        "# new_words_df = words_corpus[words_corpus[\"Word\"].map(words_corpus[\"Word\"].value_counts()) >= 20]"
      ],
      "metadata": {
        "id": "LokFMGJqysdM"
      },
      "execution_count": 28,
      "outputs": []
    },
    {
      "cell_type": "code",
      "source": [
        "new_words_df.head()"
      ],
      "metadata": {
        "colab": {
          "base_uri": "https://localhost:8080/",
          "height": 206
        },
        "id": "I4cwF13pyse9",
        "outputId": "4539d4b9-0e4c-4c80-e82c-989c29d1e091"
      },
      "execution_count": 34,
      "outputs": [
        {
          "output_type": "execute_result",
          "data": {
            "text/plain": [
              "   Feature-1  Feature-2  Feature-3  Feature-4  Feature-5  Feature-6  \\\n",
              "0  -0.104584   0.717018   0.034466   0.081036   0.046278  -0.012572   \n",
              "1  -0.129352   0.629742   0.101942   0.042459   0.065688  -0.009813   \n",
              "2  -0.620968  -0.439935   0.086838   0.005921  -0.032719  -0.021029   \n",
              "3  -0.463440  -1.317010   0.216507   0.007612  -0.063948   0.148430   \n",
              "4   0.078710  -0.336243   0.210203  -0.073041   0.061730  -0.023142   \n",
              "\n",
              "   Feature-7  Feature-8  Feature-9  Feature-10    Word  \n",
              "0  -0.040531  -0.009481   0.001193   -0.019498  AFRAID  \n",
              "1  -0.086141  -0.005889   0.014352   -0.000305  AFRAID  \n",
              "2   0.054609  -0.012844   0.022102   -0.015965  AFRAID  \n",
              "3   0.147191  -0.005954   0.008406    0.031396  AFRAID  \n",
              "4   0.086558   0.028992   0.020419    0.018612  AFRAID  "
            ],
            "text/html": [
              "\n",
              "  <div id=\"df-5fba7578-91dc-42a5-bdde-6ffddd1678b7\" class=\"colab-df-container\">\n",
              "    <div>\n",
              "<style scoped>\n",
              "    .dataframe tbody tr th:only-of-type {\n",
              "        vertical-align: middle;\n",
              "    }\n",
              "\n",
              "    .dataframe tbody tr th {\n",
              "        vertical-align: top;\n",
              "    }\n",
              "\n",
              "    .dataframe thead th {\n",
              "        text-align: right;\n",
              "    }\n",
              "</style>\n",
              "<table border=\"1\" class=\"dataframe\">\n",
              "  <thead>\n",
              "    <tr style=\"text-align: right;\">\n",
              "      <th></th>\n",
              "      <th>Feature-1</th>\n",
              "      <th>Feature-2</th>\n",
              "      <th>Feature-3</th>\n",
              "      <th>Feature-4</th>\n",
              "      <th>Feature-5</th>\n",
              "      <th>Feature-6</th>\n",
              "      <th>Feature-7</th>\n",
              "      <th>Feature-8</th>\n",
              "      <th>Feature-9</th>\n",
              "      <th>Feature-10</th>\n",
              "      <th>Word</th>\n",
              "    </tr>\n",
              "  </thead>\n",
              "  <tbody>\n",
              "    <tr>\n",
              "      <th>0</th>\n",
              "      <td>-0.104584</td>\n",
              "      <td>0.717018</td>\n",
              "      <td>0.034466</td>\n",
              "      <td>0.081036</td>\n",
              "      <td>0.046278</td>\n",
              "      <td>-0.012572</td>\n",
              "      <td>-0.040531</td>\n",
              "      <td>-0.009481</td>\n",
              "      <td>0.001193</td>\n",
              "      <td>-0.019498</td>\n",
              "      <td>AFRAID</td>\n",
              "    </tr>\n",
              "    <tr>\n",
              "      <th>1</th>\n",
              "      <td>-0.129352</td>\n",
              "      <td>0.629742</td>\n",
              "      <td>0.101942</td>\n",
              "      <td>0.042459</td>\n",
              "      <td>0.065688</td>\n",
              "      <td>-0.009813</td>\n",
              "      <td>-0.086141</td>\n",
              "      <td>-0.005889</td>\n",
              "      <td>0.014352</td>\n",
              "      <td>-0.000305</td>\n",
              "      <td>AFRAID</td>\n",
              "    </tr>\n",
              "    <tr>\n",
              "      <th>2</th>\n",
              "      <td>-0.620968</td>\n",
              "      <td>-0.439935</td>\n",
              "      <td>0.086838</td>\n",
              "      <td>0.005921</td>\n",
              "      <td>-0.032719</td>\n",
              "      <td>-0.021029</td>\n",
              "      <td>0.054609</td>\n",
              "      <td>-0.012844</td>\n",
              "      <td>0.022102</td>\n",
              "      <td>-0.015965</td>\n",
              "      <td>AFRAID</td>\n",
              "    </tr>\n",
              "    <tr>\n",
              "      <th>3</th>\n",
              "      <td>-0.463440</td>\n",
              "      <td>-1.317010</td>\n",
              "      <td>0.216507</td>\n",
              "      <td>0.007612</td>\n",
              "      <td>-0.063948</td>\n",
              "      <td>0.148430</td>\n",
              "      <td>0.147191</td>\n",
              "      <td>-0.005954</td>\n",
              "      <td>0.008406</td>\n",
              "      <td>0.031396</td>\n",
              "      <td>AFRAID</td>\n",
              "    </tr>\n",
              "    <tr>\n",
              "      <th>4</th>\n",
              "      <td>0.078710</td>\n",
              "      <td>-0.336243</td>\n",
              "      <td>0.210203</td>\n",
              "      <td>-0.073041</td>\n",
              "      <td>0.061730</td>\n",
              "      <td>-0.023142</td>\n",
              "      <td>0.086558</td>\n",
              "      <td>0.028992</td>\n",
              "      <td>0.020419</td>\n",
              "      <td>0.018612</td>\n",
              "      <td>AFRAID</td>\n",
              "    </tr>\n",
              "  </tbody>\n",
              "</table>\n",
              "</div>\n",
              "    <div class=\"colab-df-buttons\">\n",
              "\n",
              "  <div class=\"colab-df-container\">\n",
              "    <button class=\"colab-df-convert\" onclick=\"convertToInteractive('df-5fba7578-91dc-42a5-bdde-6ffddd1678b7')\"\n",
              "            title=\"Convert this dataframe to an interactive table.\"\n",
              "            style=\"display:none;\">\n",
              "\n",
              "  <svg xmlns=\"http://www.w3.org/2000/svg\" height=\"24px\" viewBox=\"0 -960 960 960\">\n",
              "    <path d=\"M120-120v-720h720v720H120Zm60-500h600v-160H180v160Zm220 220h160v-160H400v160Zm0 220h160v-160H400v160ZM180-400h160v-160H180v160Zm440 0h160v-160H620v160ZM180-180h160v-160H180v160Zm440 0h160v-160H620v160Z\"/>\n",
              "  </svg>\n",
              "    </button>\n",
              "\n",
              "  <style>\n",
              "    .colab-df-container {\n",
              "      display:flex;\n",
              "      gap: 12px;\n",
              "    }\n",
              "\n",
              "    .colab-df-convert {\n",
              "      background-color: #E8F0FE;\n",
              "      border: none;\n",
              "      border-radius: 50%;\n",
              "      cursor: pointer;\n",
              "      display: none;\n",
              "      fill: #1967D2;\n",
              "      height: 32px;\n",
              "      padding: 0 0 0 0;\n",
              "      width: 32px;\n",
              "    }\n",
              "\n",
              "    .colab-df-convert:hover {\n",
              "      background-color: #E2EBFA;\n",
              "      box-shadow: 0px 1px 2px rgba(60, 64, 67, 0.3), 0px 1px 3px 1px rgba(60, 64, 67, 0.15);\n",
              "      fill: #174EA6;\n",
              "    }\n",
              "\n",
              "    .colab-df-buttons div {\n",
              "      margin-bottom: 4px;\n",
              "    }\n",
              "\n",
              "    [theme=dark] .colab-df-convert {\n",
              "      background-color: #3B4455;\n",
              "      fill: #D2E3FC;\n",
              "    }\n",
              "\n",
              "    [theme=dark] .colab-df-convert:hover {\n",
              "      background-color: #434B5C;\n",
              "      box-shadow: 0px 1px 3px 1px rgba(0, 0, 0, 0.15);\n",
              "      filter: drop-shadow(0px 1px 2px rgba(0, 0, 0, 0.3));\n",
              "      fill: #FFFFFF;\n",
              "    }\n",
              "  </style>\n",
              "\n",
              "    <script>\n",
              "      const buttonEl =\n",
              "        document.querySelector('#df-5fba7578-91dc-42a5-bdde-6ffddd1678b7 button.colab-df-convert');\n",
              "      buttonEl.style.display =\n",
              "        google.colab.kernel.accessAllowed ? 'block' : 'none';\n",
              "\n",
              "      async function convertToInteractive(key) {\n",
              "        const element = document.querySelector('#df-5fba7578-91dc-42a5-bdde-6ffddd1678b7');\n",
              "        const dataTable =\n",
              "          await google.colab.kernel.invokeFunction('convertToInteractive',\n",
              "                                                    [key], {});\n",
              "        if (!dataTable) return;\n",
              "\n",
              "        const docLinkHtml = 'Like what you see? Visit the ' +\n",
              "          '<a target=\"_blank\" href=https://colab.research.google.com/notebooks/data_table.ipynb>data table notebook</a>'\n",
              "          + ' to learn more about interactive tables.';\n",
              "        element.innerHTML = '';\n",
              "        dataTable['output_type'] = 'display_data';\n",
              "        await google.colab.output.renderOutput(dataTable, element);\n",
              "        const docLink = document.createElement('div');\n",
              "        docLink.innerHTML = docLinkHtml;\n",
              "        element.appendChild(docLink);\n",
              "      }\n",
              "    </script>\n",
              "  </div>\n",
              "\n",
              "\n",
              "<div id=\"df-a6c1c975-a3fb-4be5-bc93-d97b2a998547\">\n",
              "  <button class=\"colab-df-quickchart\" onclick=\"quickchart('df-a6c1c975-a3fb-4be5-bc93-d97b2a998547')\"\n",
              "            title=\"Suggest charts\"\n",
              "            style=\"display:none;\">\n",
              "\n",
              "<svg xmlns=\"http://www.w3.org/2000/svg\" height=\"24px\"viewBox=\"0 0 24 24\"\n",
              "     width=\"24px\">\n",
              "    <g>\n",
              "        <path d=\"M19 3H5c-1.1 0-2 .9-2 2v14c0 1.1.9 2 2 2h14c1.1 0 2-.9 2-2V5c0-1.1-.9-2-2-2zM9 17H7v-7h2v7zm4 0h-2V7h2v10zm4 0h-2v-4h2v4z\"/>\n",
              "    </g>\n",
              "</svg>\n",
              "  </button>\n",
              "\n",
              "<style>\n",
              "  .colab-df-quickchart {\n",
              "      --bg-color: #E8F0FE;\n",
              "      --fill-color: #1967D2;\n",
              "      --hover-bg-color: #E2EBFA;\n",
              "      --hover-fill-color: #174EA6;\n",
              "      --disabled-fill-color: #AAA;\n",
              "      --disabled-bg-color: #DDD;\n",
              "  }\n",
              "\n",
              "  [theme=dark] .colab-df-quickchart {\n",
              "      --bg-color: #3B4455;\n",
              "      --fill-color: #D2E3FC;\n",
              "      --hover-bg-color: #434B5C;\n",
              "      --hover-fill-color: #FFFFFF;\n",
              "      --disabled-bg-color: #3B4455;\n",
              "      --disabled-fill-color: #666;\n",
              "  }\n",
              "\n",
              "  .colab-df-quickchart {\n",
              "    background-color: var(--bg-color);\n",
              "    border: none;\n",
              "    border-radius: 50%;\n",
              "    cursor: pointer;\n",
              "    display: none;\n",
              "    fill: var(--fill-color);\n",
              "    height: 32px;\n",
              "    padding: 0;\n",
              "    width: 32px;\n",
              "  }\n",
              "\n",
              "  .colab-df-quickchart:hover {\n",
              "    background-color: var(--hover-bg-color);\n",
              "    box-shadow: 0 1px 2px rgba(60, 64, 67, 0.3), 0 1px 3px 1px rgba(60, 64, 67, 0.15);\n",
              "    fill: var(--button-hover-fill-color);\n",
              "  }\n",
              "\n",
              "  .colab-df-quickchart-complete:disabled,\n",
              "  .colab-df-quickchart-complete:disabled:hover {\n",
              "    background-color: var(--disabled-bg-color);\n",
              "    fill: var(--disabled-fill-color);\n",
              "    box-shadow: none;\n",
              "  }\n",
              "\n",
              "  .colab-df-spinner {\n",
              "    border: 2px solid var(--fill-color);\n",
              "    border-color: transparent;\n",
              "    border-bottom-color: var(--fill-color);\n",
              "    animation:\n",
              "      spin 1s steps(1) infinite;\n",
              "  }\n",
              "\n",
              "  @keyframes spin {\n",
              "    0% {\n",
              "      border-color: transparent;\n",
              "      border-bottom-color: var(--fill-color);\n",
              "      border-left-color: var(--fill-color);\n",
              "    }\n",
              "    20% {\n",
              "      border-color: transparent;\n",
              "      border-left-color: var(--fill-color);\n",
              "      border-top-color: var(--fill-color);\n",
              "    }\n",
              "    30% {\n",
              "      border-color: transparent;\n",
              "      border-left-color: var(--fill-color);\n",
              "      border-top-color: var(--fill-color);\n",
              "      border-right-color: var(--fill-color);\n",
              "    }\n",
              "    40% {\n",
              "      border-color: transparent;\n",
              "      border-right-color: var(--fill-color);\n",
              "      border-top-color: var(--fill-color);\n",
              "    }\n",
              "    60% {\n",
              "      border-color: transparent;\n",
              "      border-right-color: var(--fill-color);\n",
              "    }\n",
              "    80% {\n",
              "      border-color: transparent;\n",
              "      border-right-color: var(--fill-color);\n",
              "      border-bottom-color: var(--fill-color);\n",
              "    }\n",
              "    90% {\n",
              "      border-color: transparent;\n",
              "      border-bottom-color: var(--fill-color);\n",
              "    }\n",
              "  }\n",
              "</style>\n",
              "\n",
              "  <script>\n",
              "    async function quickchart(key) {\n",
              "      const quickchartButtonEl =\n",
              "        document.querySelector('#' + key + ' button');\n",
              "      quickchartButtonEl.disabled = true;  // To prevent multiple clicks.\n",
              "      quickchartButtonEl.classList.add('colab-df-spinner');\n",
              "      try {\n",
              "        const charts = await google.colab.kernel.invokeFunction(\n",
              "            'suggestCharts', [key], {});\n",
              "      } catch (error) {\n",
              "        console.error('Error during call to suggestCharts:', error);\n",
              "      }\n",
              "      quickchartButtonEl.classList.remove('colab-df-spinner');\n",
              "      quickchartButtonEl.classList.add('colab-df-quickchart-complete');\n",
              "    }\n",
              "    (() => {\n",
              "      let quickchartButtonEl =\n",
              "        document.querySelector('#df-a6c1c975-a3fb-4be5-bc93-d97b2a998547 button');\n",
              "      quickchartButtonEl.style.display =\n",
              "        google.colab.kernel.accessAllowed ? 'block' : 'none';\n",
              "    })();\n",
              "  </script>\n",
              "</div>\n",
              "\n",
              "    </div>\n",
              "  </div>\n"
            ],
            "application/vnd.google.colaboratory.intrinsic+json": {
              "type": "dataframe",
              "variable_name": "new_words_df",
              "summary": "{\n  \"name\": \"new_words_df\",\n  \"rows\": 6675,\n  \"fields\": [\n    {\n      \"column\": \"Feature-1\",\n      \"properties\": {\n        \"dtype\": \"number\",\n        \"std\": 0.8391741714577917,\n        \"min\": -2.239496202580219,\n        \"max\": 2.4553359124340046,\n        \"num_unique_values\": 6675,\n        \"samples\": [\n          0.6537057382788115,\n          -0.5361863797470061,\n          -1.1099111268569026\n        ],\n        \"semantic_type\": \"\",\n        \"description\": \"\"\n      }\n    },\n    {\n      \"column\": \"Feature-2\",\n      \"properties\": {\n        \"dtype\": \"number\",\n        \"std\": 0.5214057078500193,\n        \"min\": -2.16128364119416,\n        \"max\": 2.22449485496042,\n        \"num_unique_values\": 6675,\n        \"samples\": [\n          0.2077202930963979,\n          -0.2420539594847929,\n          -0.2893686047403391\n        ],\n        \"semantic_type\": \"\",\n        \"description\": \"\"\n      }\n    },\n    {\n      \"column\": \"Feature-3\",\n      \"properties\": {\n        \"dtype\": \"number\",\n        \"std\": 0.0927784759661928,\n        \"min\": -0.2934137378977337,\n        \"max\": 0.3269349636462141,\n        \"num_unique_values\": 6675,\n        \"samples\": [\n          -0.0483507328518256,\n          -0.1701441781447665,\n          -0.0051369856647677\n        ],\n        \"semantic_type\": \"\",\n        \"description\": \"\"\n      }\n    },\n    {\n      \"column\": \"Feature-4\",\n      \"properties\": {\n        \"dtype\": \"number\",\n        \"std\": 0.08067421732583628,\n        \"min\": -0.2719792534237216,\n        \"max\": 0.3046497917610072,\n        \"num_unique_values\": 6675,\n        \"samples\": [\n          0.1303833481308313,\n          -0.0182227441380387,\n          -0.0244839502957095\n        ],\n        \"semantic_type\": \"\",\n        \"description\": \"\"\n      }\n    },\n    {\n      \"column\": \"Feature-5\",\n      \"properties\": {\n        \"dtype\": \"number\",\n        \"std\": 0.07729439198205845,\n        \"min\": -0.2655648468225356,\n        \"max\": 0.3125382739487233,\n        \"num_unique_values\": 6675,\n        \"samples\": [\n          0.0122498868602681,\n          0.0593309409737235,\n          0.0868498927138993\n        ],\n        \"semantic_type\": \"\",\n        \"description\": \"\"\n      }\n    },\n    {\n      \"column\": \"Feature-6\",\n      \"properties\": {\n        \"dtype\": \"number\",\n        \"std\": 0.05923686925220125,\n        \"min\": -0.22253657088476,\n        \"max\": 0.400672415593978,\n        \"num_unique_values\": 6675,\n        \"samples\": [\n          0.0132809878921947,\n          -0.0348182046370987,\n          -0.0488804564984861\n        ],\n        \"semantic_type\": \"\",\n        \"description\": \"\"\n      }\n    },\n    {\n      \"column\": \"Feature-7\",\n      \"properties\": {\n        \"dtype\": \"number\",\n        \"std\": 0.05801185189033571,\n        \"min\": -0.210130987907261,\n        \"max\": 0.3558604978181742,\n        \"num_unique_values\": 6675,\n        \"samples\": [\n          0.0490702457739017,\n          -0.0017879492623644,\n          0.0089273965164315\n        ],\n        \"semantic_type\": \"\",\n        \"description\": \"\"\n      }\n    },\n    {\n      \"column\": \"Feature-8\",\n      \"properties\": {\n        \"dtype\": \"number\",\n        \"std\": 0.04213925346337352,\n        \"min\": -0.1502989964018315,\n        \"max\": 0.1757073391546806,\n        \"num_unique_values\": 6675,\n        \"samples\": [\n          0.0106760977926137,\n          -0.0064544822927205,\n          -0.0208877811194258\n        ],\n        \"semantic_type\": \"\",\n        \"description\": \"\"\n      }\n    },\n    {\n      \"column\": \"Feature-9\",\n      \"properties\": {\n        \"dtype\": \"number\",\n        \"std\": 0.031328002661466695,\n        \"min\": -0.1093974044653955,\n        \"max\": 0.1543582175017041,\n        \"num_unique_values\": 6675,\n        \"samples\": [\n          -0.0305584206637368,\n          0.0205567063766822,\n          -0.0115038485536011\n        ],\n        \"semantic_type\": \"\",\n        \"description\": \"\"\n      }\n    },\n    {\n      \"column\": \"Feature-10\",\n      \"properties\": {\n        \"dtype\": \"number\",\n        \"std\": 0.026932232215119745,\n        \"min\": -0.085960398654127,\n        \"max\": 0.1269643192057227,\n        \"num_unique_values\": 6675,\n        \"samples\": [\n          -0.0287864451806177,\n          -0.0441946090750419,\n          0.0021033867666434\n        ],\n        \"semantic_type\": \"\",\n        \"description\": \"\"\n      }\n    },\n    {\n      \"column\": \"Word\",\n      \"properties\": {\n        \"dtype\": \"category\",\n        \"num_unique_values\": 89,\n        \"samples\": [\n          \"NAME\",\n          \"REALLY\",\n          \"HEART\"\n        ],\n        \"semantic_type\": \"\",\n        \"description\": \"\"\n      }\n    }\n  ]\n}"
            }
          },
          "metadata": {},
          "execution_count": 34
        }
      ]
    },
    {
      "cell_type": "code",
      "source": [
        "new_words_df.isna().sum()"
      ],
      "metadata": {
        "colab": {
          "base_uri": "https://localhost:8080/",
          "height": 429
        },
        "id": "7d80T_xHGyu6",
        "outputId": "0549b457-7134-4375-cd72-ea544853d3b6"
      },
      "execution_count": 35,
      "outputs": [
        {
          "output_type": "execute_result",
          "data": {
            "text/plain": [
              "Feature-1     0\n",
              "Feature-2     0\n",
              "Feature-3     0\n",
              "Feature-4     0\n",
              "Feature-5     0\n",
              "Feature-6     0\n",
              "Feature-7     0\n",
              "Feature-8     0\n",
              "Feature-9     0\n",
              "Feature-10    0\n",
              "Word          0\n",
              "dtype: int64"
            ],
            "text/html": [
              "<div>\n",
              "<style scoped>\n",
              "    .dataframe tbody tr th:only-of-type {\n",
              "        vertical-align: middle;\n",
              "    }\n",
              "\n",
              "    .dataframe tbody tr th {\n",
              "        vertical-align: top;\n",
              "    }\n",
              "\n",
              "    .dataframe thead th {\n",
              "        text-align: right;\n",
              "    }\n",
              "</style>\n",
              "<table border=\"1\" class=\"dataframe\">\n",
              "  <thead>\n",
              "    <tr style=\"text-align: right;\">\n",
              "      <th></th>\n",
              "      <th>0</th>\n",
              "    </tr>\n",
              "  </thead>\n",
              "  <tbody>\n",
              "    <tr>\n",
              "      <th>Feature-1</th>\n",
              "      <td>0</td>\n",
              "    </tr>\n",
              "    <tr>\n",
              "      <th>Feature-2</th>\n",
              "      <td>0</td>\n",
              "    </tr>\n",
              "    <tr>\n",
              "      <th>Feature-3</th>\n",
              "      <td>0</td>\n",
              "    </tr>\n",
              "    <tr>\n",
              "      <th>Feature-4</th>\n",
              "      <td>0</td>\n",
              "    </tr>\n",
              "    <tr>\n",
              "      <th>Feature-5</th>\n",
              "      <td>0</td>\n",
              "    </tr>\n",
              "    <tr>\n",
              "      <th>Feature-6</th>\n",
              "      <td>0</td>\n",
              "    </tr>\n",
              "    <tr>\n",
              "      <th>Feature-7</th>\n",
              "      <td>0</td>\n",
              "    </tr>\n",
              "    <tr>\n",
              "      <th>Feature-8</th>\n",
              "      <td>0</td>\n",
              "    </tr>\n",
              "    <tr>\n",
              "      <th>Feature-9</th>\n",
              "      <td>0</td>\n",
              "    </tr>\n",
              "    <tr>\n",
              "      <th>Feature-10</th>\n",
              "      <td>0</td>\n",
              "    </tr>\n",
              "    <tr>\n",
              "      <th>Word</th>\n",
              "      <td>0</td>\n",
              "    </tr>\n",
              "  </tbody>\n",
              "</table>\n",
              "</div><br><label><b>dtype:</b> int64</label>"
            ]
          },
          "metadata": {},
          "execution_count": 35
        }
      ]
    },
    {
      "cell_type": "code",
      "source": [
        "new_words_df.shape"
      ],
      "metadata": {
        "colab": {
          "base_uri": "https://localhost:8080/"
        },
        "id": "tSeFgP8hTYA-",
        "outputId": "1a80e340-afc1-454c-c74f-a13a4ab9ecb0"
      },
      "execution_count": 36,
      "outputs": [
        {
          "output_type": "execute_result",
          "data": {
            "text/plain": [
              "(6675, 11)"
            ]
          },
          "metadata": {},
          "execution_count": 36
        }
      ]
    },
    {
      "cell_type": "code",
      "source": [
        "# limited_words_df = new_words_df.groupby('Word').apply(lambda x: x.sample(n=20, random_state=42) if len(x) > 20 else x)\n",
        "\n",
        "# # Remove the multi-level index created by groupby and apply\n",
        "# limited_words_df = limited_words_df.reset_index(drop=True)"
      ],
      "metadata": {
        "id": "YBODh4e2Ta1v"
      },
      "execution_count": null,
      "outputs": []
    },
    {
      "cell_type": "code",
      "source": [
        "# limited_words_df.shape"
      ],
      "metadata": {
        "id": "hWHPWe9zTa5G"
      },
      "execution_count": null,
      "outputs": []
    },
    {
      "cell_type": "code",
      "source": [
        "# limited_words_df[\"Word\"].value_counts()"
      ],
      "metadata": {
        "id": "1NgbxTKwUYJt"
      },
      "execution_count": null,
      "outputs": []
    },
    {
      "cell_type": "code",
      "source": [
        "df = words_corpus.copy()"
      ],
      "metadata": {
        "id": "EeKs5RLNVmpF"
      },
      "execution_count": 37,
      "outputs": []
    },
    {
      "cell_type": "code",
      "source": [
        "inputs = df.drop(['Word'], axis=1)\n",
        "targets = df['Word']"
      ],
      "metadata": {
        "id": "QRLk403A4cG7"
      },
      "execution_count": 38,
      "outputs": []
    },
    {
      "cell_type": "code",
      "source": [
        "std_scaler = StandardScaler()\n",
        "min_max_scaler = MinMaxScaler()"
      ],
      "metadata": {
        "id": "TLgoTv4ju-jh"
      },
      "execution_count": 39,
      "outputs": []
    },
    {
      "cell_type": "code",
      "source": [
        "scaled_inputs = std_scaler.fit_transform(inputs)"
      ],
      "metadata": {
        "id": "ViO9gYnju-m5"
      },
      "execution_count": 40,
      "outputs": []
    },
    {
      "cell_type": "code",
      "source": [
        "scaled_inputs[1]"
      ],
      "metadata": {
        "colab": {
          "base_uri": "https://localhost:8080/"
        },
        "id": "Efa62RUIv100",
        "outputId": "ce3d9f9a-47cb-4874-cfe0-08e8fee1f3d9"
      },
      "execution_count": 41,
      "outputs": [
        {
          "output_type": "execute_result",
          "data": {
            "text/plain": [
              "array([-0.15415306,  1.20786835,  1.09885131,  0.52634622,  0.84990402,\n",
              "       -0.1656666 , -1.48499127, -0.13977325,  0.45816763, -0.01131224])"
            ]
          },
          "metadata": {},
          "execution_count": 41
        }
      ]
    },
    {
      "cell_type": "code",
      "source": [
        "scaled_inputs[1].shape"
      ],
      "metadata": {
        "colab": {
          "base_uri": "https://localhost:8080/"
        },
        "id": "cnOvqIeCVymX",
        "outputId": "09df550c-6a49-4ae0-d129-1e31c711cb83"
      },
      "execution_count": 42,
      "outputs": [
        {
          "output_type": "execute_result",
          "data": {
            "text/plain": [
              "(10,)"
            ]
          },
          "metadata": {},
          "execution_count": 42
        }
      ]
    },
    {
      "cell_type": "code",
      "source": [
        "encoder = LabelEncoder()\n",
        "target = encoder.fit_transform(targets)"
      ],
      "metadata": {
        "id": "K3D8iNnx4cKM"
      },
      "execution_count": 43,
      "outputs": []
    },
    {
      "cell_type": "code",
      "source": [
        "type(target)"
      ],
      "metadata": {
        "colab": {
          "base_uri": "https://localhost:8080/"
        },
        "id": "HYfRNOz32_5S",
        "outputId": "4fd51d50-4fe8-4a6d-f622-f2c0596bf240"
      },
      "execution_count": 44,
      "outputs": [
        {
          "output_type": "execute_result",
          "data": {
            "text/plain": [
              "numpy.ndarray"
            ]
          },
          "metadata": {},
          "execution_count": 44
        }
      ]
    },
    {
      "cell_type": "code",
      "source": [
        "inputs_train, inputs_test, target_train, target_test = train_test_split(scaled_inputs, target, test_size=0.1, random_state=369)"
      ],
      "metadata": {
        "id": "7UNRpXs-2_8v"
      },
      "execution_count": 45,
      "outputs": []
    },
    {
      "cell_type": "code",
      "source": [
        "inputs_train.shape"
      ],
      "metadata": {
        "colab": {
          "base_uri": "https://localhost:8080/"
        },
        "id": "azrVgy2elqfR",
        "outputId": "de78925b-52e3-4548-d8f5-0b845efada16"
      },
      "execution_count": 46,
      "outputs": [
        {
          "output_type": "execute_result",
          "data": {
            "text/plain": [
              "(6007, 10)"
            ]
          },
          "metadata": {},
          "execution_count": 46
        }
      ]
    },
    {
      "cell_type": "code",
      "source": [
        "def np_data(data):\n",
        "  labels = np.array(data)\n",
        "\n",
        "  return labels"
      ],
      "metadata": {
        "id": "sDoRAe518Y-3"
      },
      "execution_count": 47,
      "outputs": []
    },
    {
      "cell_type": "code",
      "source": [
        "## Convertint pandas data to numpy\n",
        "numpy_train_inputs = np_data(inputs_train)\n",
        "numpy_train_target = np_data(target_train)\n",
        "numpy_test_inputs = np_data(inputs_test)\n",
        "numpy_test_target = np_data(target_test)"
      ],
      "metadata": {
        "id": "Q-YNk03g8pnt"
      },
      "execution_count": 48,
      "outputs": []
    },
    {
      "cell_type": "code",
      "source": [
        "# Train Dataset\n",
        "train_dataset = TensorDataset(torch.from_numpy(numpy_train_inputs), torch.from_numpy(numpy_train_target))\n",
        "# Test Dataset\n",
        "test_dataset = TensorDataset(torch.from_numpy(numpy_test_inputs), torch.from_numpy(numpy_test_target))"
      ],
      "metadata": {
        "id": "5txakERU8ppo"
      },
      "execution_count": 49,
      "outputs": []
    },
    {
      "cell_type": "code",
      "source": [
        "test_dataset.tensors[0].shape"
      ],
      "metadata": {
        "colab": {
          "base_uri": "https://localhost:8080/"
        },
        "id": "j_yqcBC--Gdc",
        "outputId": "a8269a73-ed99-4286-b891-251ce30b37b1"
      },
      "execution_count": 50,
      "outputs": [
        {
          "output_type": "execute_result",
          "data": {
            "text/plain": [
              "torch.Size([668, 10])"
            ]
          },
          "metadata": {},
          "execution_count": 50
        }
      ]
    },
    {
      "cell_type": "code",
      "source": [
        "batch_size = 16\n",
        "train_loader = DataLoader(train_dataset, batch_size=batch_size, shuffle=True)\n",
        "test_loader = DataLoader(test_dataset, batch_size=batch_size, shuffle=False)"
      ],
      "metadata": {
        "id": "UEBBL_ap8ptu"
      },
      "execution_count": 51,
      "outputs": []
    },
    {
      "cell_type": "code",
      "source": [
        "# obtaining one batch of training data to check the shape\n",
        "dataiter = iter(train_loader)\n",
        "sample_x, sample_y = next(dataiter)\n",
        "\n",
        "print('Sample input size: ', sample_x.size()) # batch_size, seq_length\n",
        "print('Sample input: \\n', sample_x)\n",
        "print('Sample output size: ', sample_y.size())\n",
        "print('Sample output: \\n', sample_y)"
      ],
      "metadata": {
        "colab": {
          "base_uri": "https://localhost:8080/"
        },
        "id": "8-LAEL5O8pvm",
        "outputId": "63369898-4f2c-4b11-9509-d7bcf9406dca"
      },
      "execution_count": 52,
      "outputs": [
        {
          "output_type": "stream",
          "name": "stdout",
          "text": [
            "Sample input size:  torch.Size([16, 10])\n",
            "Sample input: \n",
            " tensor([[ 0.1047,  0.9004,  0.5340,  0.0250,  0.8933, -0.6239,  1.0897, -0.0091,\n",
            "         -1.0217, -0.3458],\n",
            "        [-0.3763, -0.8737,  1.7155, -0.8499,  0.7530,  0.7181, -2.0594, -1.7724,\n",
            "         -0.4022, -0.2764],\n",
            "        [-0.6544, -0.3128, -0.7786,  0.2254, -0.5456, -0.6777,  0.1374, -0.0448,\n",
            "         -0.7629, -0.5941],\n",
            "        [-1.2021, -1.6787,  2.3302, -0.0140,  0.8841,  2.9317,  4.6316, -0.6824,\n",
            "         -1.3070, -0.2466],\n",
            "        [-0.6408, -0.9570, -0.5957, -1.9386,  0.0181, -1.1386, -0.9376, -0.6072,\n",
            "          0.0360,  0.6472],\n",
            "        [-0.1430, -1.7117,  0.7806,  0.7469, -1.1001, -0.1207,  0.6838, -0.2652,\n",
            "         -0.0641, -0.5269],\n",
            "        [ 1.6358,  0.7144,  0.8773,  1.2470,  1.0366, -0.8494, -0.6984,  0.4433,\n",
            "         -1.1008, -0.5599],\n",
            "        [-0.7851, -0.4214, -1.9731,  1.1702,  0.9726,  0.3981,  0.1183, -0.5472,\n",
            "          0.8609,  2.5648],\n",
            "        [-0.0668,  0.1984, -2.1815,  1.4567,  1.1177,  0.9150,  1.0126, -0.5501,\n",
            "          1.0700,  1.9457],\n",
            "        [-0.6182, -0.9416, -1.0813, -0.9891,  3.6287,  2.3734,  0.7451, -0.4379,\n",
            "         -0.0611,  0.8578],\n",
            "        [-0.4784, -1.6452,  0.9751,  0.5814, -0.8836, -0.4185,  0.8554, -0.1653,\n",
            "          0.1656, -0.2343],\n",
            "        [-0.7469, -0.0124, -0.7568, -1.1676, -0.2185, -0.9400, -0.5213,  0.7322,\n",
            "         -1.3619,  0.2641],\n",
            "        [-1.2295, -1.1418,  1.1472, -0.6918,  1.1624,  1.5731,  1.9059, -2.1349,\n",
            "         -0.1836, -0.7503],\n",
            "        [-1.5911, -0.2736, -0.0550,  0.5479, -1.5370, -0.0907,  1.3053,  1.3040,\n",
            "          1.7638, -0.5444],\n",
            "        [ 0.5251,  1.7555,  0.0065, -1.7157,  0.5689, -0.2141,  0.2249,  1.0316,\n",
            "          1.4081, -0.4391],\n",
            "        [ 0.4489, -0.1532, -0.6995,  1.2385, -2.0747,  0.3255,  0.4631, -0.5326,\n",
            "          0.7680,  1.4683]], dtype=torch.float64)\n",
            "Sample output size:  torch.Size([16])\n",
            "Sample output: \n",
            " tensor([59, 87, 40,  0, 12, 51, 74, 25, 52, 14, 51, 84, 78, 15, 55, 36])\n"
          ]
        }
      ]
    },
    {
      "cell_type": "code",
      "source": [],
      "metadata": {
        "id": "4aZxSf7a8px5"
      },
      "execution_count": null,
      "outputs": []
    },
    {
      "cell_type": "markdown",
      "source": [
        "**Building a Model**"
      ],
      "metadata": {
        "id": "KoBO31k3_KT2"
      }
    },
    {
      "cell_type": "code",
      "source": [
        "\n",
        "?nn.LSTM"
      ],
      "metadata": {
        "id": "monuoAyl8pz7"
      },
      "execution_count": null,
      "outputs": []
    },
    {
      "cell_type": "code",
      "source": [
        "# batch_size = 32\n",
        "# input_features = 64\n",
        "# output_features = 114"
      ],
      "metadata": {
        "id": "0vBdy5iPmV00"
      },
      "execution_count": null,
      "outputs": []
    },
    {
      "cell_type": "code",
      "source": [
        "class LSTM_Model(nn.Module):\n",
        "  def __init__(self, input_size, layers, hidden_dim, output_size):\n",
        "    super(LSTM_Model, self).__init__()\n",
        "\n",
        "    self.input_size = input_size\n",
        "    self.layers = layers\n",
        "    self.hidden_dim = hidden_dim\n",
        "    self.output_size = output_size\n",
        "\n",
        "    # lstm\n",
        "    self.lstm = nn.LSTM(input_size = self.input_size,\n",
        "                        hidden_size = self.hidden_dim,\n",
        "                        num_layers = self.layers,\n",
        "                        bias = True,\n",
        "                        )\n",
        "\n",
        "    # Fully connected layer | Output layer\n",
        "    self.output_layer = nn.Linear(self.hidden_dim, self.output_size)\n",
        "\n",
        "  def forward(self, inputs, hidden_inputs):\n",
        "\n",
        "    # Ensure inputs and hidden states are of type float32\n",
        "    inputs = torch.tensor(inputs, dtype=torch.float32)\n",
        "    hidden_inputs = (\n",
        "        torch.tensor(hidden_inputs[0], dtype=torch.float32),\n",
        "        torch.tensor(hidden_inputs[1], dtype=torch.float32)\n",
        "    )\n",
        "\n",
        "    # LSTM expects input of shape (seq_length, batch_size, input_size)\n",
        "    inputs = inputs.unsqueeze(0)  # Add sequence length dimension if needed\n",
        "\n",
        "    # Pass through LSTM\n",
        "    lstm_outputs, hidden_outputs = self.lstm(inputs, hidden_inputs)\n",
        "\n",
        "    # Reshape LSTM outputs to (batch_size, hidden_dim)\n",
        "    lstm_outputs = lstm_outputs.squeeze(0)  # Remove sequence length dimension\n",
        "\n",
        "    # Pass through the fully connected layer\n",
        "    outputs = self.output_layer(lstm_outputs)  # Shape: (batch_size, output_size)\n",
        "\n",
        "    # outputs = F.softmax(outputs, dim=1)\n",
        "\n",
        "    return outputs, hidden_outputs\n"
      ],
      "metadata": {
        "id": "EtPiBfxWmV3M"
      },
      "execution_count": 53,
      "outputs": []
    },
    {
      "cell_type": "code",
      "source": [
        "# sequence length should be no.of frames that are representing ne word, in this case I making sequence length to 28\n",
        "# the frames are not consistent, so I will be using augmentation method (creating the data by applying simple transformations)\n",
        "# input_size i.i., no.of features(columns in simple terms) is 64\n",
        "# hidden_inputs shape will be (sequence_length, batch_size, n_layers)\n",
        "# inputs shape will be (sequence_length, batch_size, input_size)"
      ],
      "metadata": {
        "id": "hNAyZwVxmV-8"
      },
      "execution_count": null,
      "outputs": []
    },
    {
      "cell_type": "code",
      "source": [
        "input_size = 10    ## input features\n",
        "hidden_layers = 3\n",
        "hidden_dim = 1024\n",
        "output_size = 89\n",
        "seq_length = 75"
      ],
      "metadata": {
        "id": "Lb0exycXmV5z"
      },
      "execution_count": 56,
      "outputs": []
    },
    {
      "cell_type": "code",
      "source": [
        "# ## demo\n",
        "h0 = torch.zeros(hidden_layers, batch_size, hidden_dim)\n",
        "c0 = torch.zeros(hidden_layers, batch_size, hidden_dim)\n",
        "h = (h0, c0)\n",
        "inputs = sample_x\n",
        "\n",
        "model = LSTM_Model(input_size, hidden_layers, hidden_dim, output_size)\n",
        "outputs, hidden_outputs = model(inputs, h)"
      ],
      "metadata": {
        "id": "S7GJWgMhmV8j"
      },
      "execution_count": 57,
      "outputs": []
    },
    {
      "cell_type": "code",
      "source": [
        "sample_x.shape[0]"
      ],
      "metadata": {
        "colab": {
          "base_uri": "https://localhost:8080/"
        },
        "id": "dvhHJES1PQwG",
        "outputId": "de33b983-ee48-41ce-9ea7-76dd067b5eab"
      },
      "execution_count": 58,
      "outputs": [
        {
          "output_type": "execute_result",
          "data": {
            "text/plain": [
              "16"
            ]
          },
          "metadata": {},
          "execution_count": 58
        }
      ]
    },
    {
      "cell_type": "code",
      "source": [
        "outputs.shape"
      ],
      "metadata": {
        "colab": {
          "base_uri": "https://localhost:8080/"
        },
        "id": "hm1eJSjRKTTI",
        "outputId": "a4a3c1b0-4641-4ab5-e5dc-787d01132027"
      },
      "execution_count": 59,
      "outputs": [
        {
          "output_type": "execute_result",
          "data": {
            "text/plain": [
              "torch.Size([16, 89])"
            ]
          },
          "metadata": {},
          "execution_count": 59
        }
      ]
    },
    {
      "cell_type": "code",
      "source": [
        "sample_y.shape"
      ],
      "metadata": {
        "colab": {
          "base_uri": "https://localhost:8080/"
        },
        "id": "_WqHyGO_KehN",
        "outputId": "e4006e47-4d7b-4d1d-bfb7-9123df576129"
      },
      "execution_count": 60,
      "outputs": [
        {
          "output_type": "execute_result",
          "data": {
            "text/plain": [
              "torch.Size([16])"
            ]
          },
          "metadata": {},
          "execution_count": 60
        }
      ]
    },
    {
      "cell_type": "code",
      "source": [
        "## model building\n",
        "model = LSTM_Model(input_size, hidden_layers, hidden_dim, output_size)\n",
        "## optimizer\n",
        "optimizer = optim.Adam(model.parameters(), lr=0.001)\n",
        "## loss function\n",
        "loss_fun = nn.CrossEntropyLoss()\n",
        "# loss_fun = nn.MSELoss()"
      ],
      "metadata": {
        "id": "bSBfmAmXOBUB"
      },
      "execution_count": 61,
      "outputs": []
    },
    {
      "cell_type": "code",
      "source": [],
      "metadata": {
        "id": "j0RNz0goOBi5"
      },
      "execution_count": null,
      "outputs": []
    },
    {
      "cell_type": "code",
      "source": [
        "def training_model(nepochs, train_loader, model, optimizer, loss_fun):\n",
        "\n",
        "  nepochs = nepochs\n",
        "\n",
        "  training_loss = np.zeros(nepochs)\n",
        "  training_acc = np.zeros(nepochs)\n",
        "\n",
        "  for epoch in range(nepochs):\n",
        "\n",
        "    batch_loss = []\n",
        "    batch_acc = []\n",
        "\n",
        "    for train_x, train_y in train_loader:\n",
        "\n",
        "      batch_size = train_x.shape[0]\n",
        "      ht = torch.zeros(hidden_layers, batch_size, hidden_dim)\n",
        "      ct = torch.zeros(hidden_layers, batch_size, hidden_dim)\n",
        "      hidden_inputs = (ht, ct)\n",
        "\n",
        "      outputs, hidden_outputs = model(train_x, hidden_inputs)\n",
        "\n",
        "      loss = loss_fun(outputs, train_y)\n",
        "\n",
        "      optimizer.zero_grad()\n",
        "      loss.backward()\n",
        "      optimizer.step()\n",
        "\n",
        "      ## appending loss to the batch_loss\n",
        "      batch_loss.append(loss.item())\n",
        "\n",
        "      matches = torch.argmax(outputs, axis=1) == train_y\n",
        "      matchesNumeric = matches.float()\n",
        "      accuracyPct = 100 * torch.mean(matchesNumeric)\n",
        "\n",
        "      ## appending accuracy to the batch_acc\n",
        "      batch_acc.append(accuracyPct)\n",
        "\n",
        "    if epoch % 5 == 0:\n",
        "      print(f\"epoch {epoch} loss: {np.mean(batch_loss)}, acc: {np.mean(batch_acc)}\")\n",
        "\n",
        "    training_loss[epoch] = np.mean(batch_loss)\n",
        "    training_acc[epoch] = np.mean(batch_acc)\n",
        "\n",
        "  return training_loss, training_acc\n"
      ],
      "metadata": {
        "id": "bn1KrjIXmWBY"
      },
      "execution_count": 62,
      "outputs": []
    },
    {
      "cell_type": "code",
      "source": [
        "training_loss, training_acc = training_model(30, train_loader, model, optimizer, loss_fun)"
      ],
      "metadata": {
        "colab": {
          "base_uri": "https://localhost:8080/"
        },
        "collapsed": true,
        "id": "nmM9KcrvwzV9",
        "outputId": "98c66249-0c1d-48f2-bd43-80d5486657b5"
      },
      "execution_count": 63,
      "outputs": [
        {
          "output_type": "stream",
          "name": "stdout",
          "text": [
            "epoch 0 loss: 3.070767050727885, acc: 22.083965301513672\n",
            "epoch 5 loss: 0.6941199088667301, acc: 78.18911743164062\n",
            "epoch 10 loss: 0.25430280251547377, acc: 92.21599578857422\n",
            "epoch 15 loss: 0.15886099547137844, acc: 95.17951965332031\n",
            "epoch 20 loss: 0.137723349738232, acc: 95.64019775390625\n",
            "epoch 25 loss: 0.09193018487000719, acc: 97.25731658935547\n"
          ]
        }
      ]
    },
    {
      "cell_type": "code",
      "source": [
        "import matplotlib.pyplot as plt\n",
        "import seaborn as sns\n",
        "sns.set()"
      ],
      "metadata": {
        "id": "4qPWa4qU8goN"
      },
      "execution_count": 64,
      "outputs": []
    },
    {
      "cell_type": "code",
      "source": [
        "fig, (ax1, ax2) = plt.subplots(nrows=1, ncols=2, figsize=(12, 4))\n",
        "\n",
        "ax1.plot(training_loss)\n",
        "ax2.plot(training_acc)\n",
        "\n",
        "ax1.set_title(\"Training Loss\")\n",
        "ax2.set_title(\"Training Accuracy\")"
      ],
      "metadata": {
        "colab": {
          "base_uri": "https://localhost:8080/",
          "height": 412
        },
        "id": "FWLxYr4e8bwt",
        "outputId": "1805f881-4752-42d2-cedc-b54ee8561354"
      },
      "execution_count": 65,
      "outputs": [
        {
          "output_type": "execute_result",
          "data": {
            "text/plain": [
              "Text(0.5, 1.0, 'Training Accuracy')"
            ]
          },
          "metadata": {},
          "execution_count": 65
        },
        {
          "output_type": "display_data",
          "data": {
            "text/plain": [
              "<Figure size 1200x400 with 2 Axes>"
            ],
            "image/png": "[encoded data removed]"
          },
          "metadata": {}
        }
      ]
    },
    {
      "cell_type": "code",
      "source": [
        "with torch.no_grad():\n",
        "    batch_test_acc = []\n",
        "    batch_test_loss = []\n",
        "\n",
        "    for tex_x, test_y in test_loader:\n",
        "        batch_size = tex_x.shape[0]\n",
        "        ht = torch.zeros(hidden_layers, batch_size, hidden_dim)\n",
        "        ct = torch.zeros(hidden_layers, batch_size, hidden_dim)\n",
        "        hidden_inputs = (ht, ct)\n",
        "\n",
        "        outputs, hidden_outputs = model(tex_x, hidden_inputs)\n",
        "\n",
        "        loss = loss_fun(outputs, test_y)\n",
        "\n",
        "        batch_test_loss.append(loss.item())\n",
        "\n",
        "        matches = torch.argmax(outputs, axis=1) == test_y\n",
        "        matchesNumeric = matches.float()\n",
        "        accuracyPct = 100 * torch.mean(matchesNumeric)\n",
        "        batch_test_acc.append(accuracyPct)\n",
        "\n",
        "    test_loss = np.mean(batch_test_loss)\n",
        "    test_acc = np.mean(batch_test_acc)\n",
        "\n",
        "    print(f\"Test Loss: {test_loss}, Test Accuracy: {test_acc}\")\n",
        "\n"
      ],
      "metadata": {
        "colab": {
          "base_uri": "https://localhost:8080/"
        },
        "id": "cAIJ676-wzYb",
        "outputId": "9793b2eb-fe1f-4b7a-9097-92e7620dda7f"
      },
      "execution_count": 66,
      "outputs": [
        {
          "output_type": "stream",
          "name": "stdout",
          "text": [
            "Test Loss: 1.5338288652045386, Test Accuracy: 71.4781723022461\n"
          ]
        }
      ]
    },
    {
      "cell_type": "code",
      "source": [],
      "metadata": {
        "id": "dOssLIjd9Xqu"
      },
      "execution_count": null,
      "outputs": []
    },
    {
      "cell_type": "code",
      "source": [
        "import pickle\n",
        "\n",
        "pickle.dump(model, open('words_model.pkl', 'wb'))\n",
        "pickle.dump(std_scaler, open('words_std_scaler.pkl', 'wb'))\n",
        "pickle.dump(encoder, open('words_encoder.pkl', 'wb'))"
      ],
      "metadata": {
        "id": "dlvlws2kwzam"
      },
      "execution_count": 67,
      "outputs": []
    },
    {
      "cell_type": "code",
      "source": [
        "original_labels = encoder.inverse_transform(targets)\n",
        "original_labels"
      ],
      "metadata": {
        "id": "YG-QqYS2wzeD"
      },
      "execution_count": null,
      "outputs": []
    },
    {
      "cell_type": "code",
      "source": [],
      "metadata": {
        "id": "e__LEE_eU9y1"
      },
      "execution_count": null,
      "outputs": []
    },
    {
      "cell_type": "code",
      "source": [],
      "metadata": {
        "id": "rnbh9YaxmWEE"
      },
      "execution_count": null,
      "outputs": []
    },
    {
      "cell_type": "code",
      "source": [],
      "metadata": {
        "id": "WYRLQSAemWGf"
      },
      "execution_count": null,
      "outputs": []
    },
    {
      "cell_type": "code",
      "source": [],
      "metadata": {
        "id": "5Ui00be6mWI0"
      },
      "execution_count": null,
      "outputs": []
    },
    {
      "cell_type": "code",
      "source": [],
      "metadata": {
        "id": "_8EYBAg-mWL4"
      },
      "execution_count": null,
      "outputs": []
    },
    {
      "cell_type": "code",
      "source": [],
      "metadata": {
        "id": "BRfw9tlZ8ZA_"
      },
      "execution_count": null,
      "outputs": []
    },
    {
      "cell_type": "code",
      "source": [],
      "metadata": {
        "id": "khnWA-p68ZD6"
      },
      "execution_count": null,
      "outputs": []
    }
  ]
}