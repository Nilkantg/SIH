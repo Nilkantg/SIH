{
  "nbformat": 4,
  "nbformat_minor": 0,
  "metadata": {
    "colab": {
      "provenance": [],
      "authorship_tag": "ABX9TyNe+nZZfCSQpEk1SgTINm+8",
      "include_colab_link": true
    },
    "kernelspec": {
      "name": "python3",
      "display_name": "Python 3"
    },
    "language_info": {
      "name": "python"
    }
  },
  "cells": [
    {
      "cell_type": "markdown",
      "metadata": {
        "id": "view-in-github",
        "colab_type": "text"
      },
      "source": [
        "<a href=\"https://colab.research.google.com/github/Nilkantg/SIH/blob/main/words_using_LSTM_PCA.ipynb\" target=\"_parent\"><img src=\"https://colab.research.google.com/assets/colab-badge.svg\" alt=\"Open In Colab\"/></a>"
      ]
    },
    {
      "cell_type": "code",
      "execution_count": null,
      "metadata": {
        "id": "htJ90Jd1g2Wk"
      },
      "outputs": [],
      "source": [
        "import pandas as pd\n",
        "import numpy as np\n",
        "\n",
        "from sklearn.preprocessing import LabelEncoder\n",
        "from sklearn.preprocessing import StandardScaler, MinMaxScaler\n",
        "from sklearn.model_selection import train_test_split\n",
        "from sklearn.metrics import accuracy_score, classification_report, confusion_matrix\n",
        "\n",
        "import torch\n",
        "import torch.nn as nn\n",
        "import torch.nn.functional as F\n",
        "import torch.optim as optim\n",
        "from torch.utils.data import TensorDataset, DataLoader\n",
        "\n",
        "import warnings\n",
        "warnings.filterwarnings(\"ignore\")"
      ]
    },
    {
      "cell_type": "code",
      "source": [
        "words_corpus = pd.read_csv('/content/preprocessed_data.xls')\n",
        "words_corpus.head()"
      ],
      "metadata": {
        "colab": {
          "base_uri": "https://localhost:8080/",
          "height": 310
        },
        "id": "Gm2zGzvB2Byx",
        "outputId": "4fdaaa4b-b409-4b37-af56-1075dfbbf603"
      },
      "execution_count": null,
      "outputs": [
        {
          "output_type": "execute_result",
          "data": {
            "text/plain": [
              "   Unnamed: 0  Feature-1  Feature-2  Feature-3  Feature-4  Feature-5  \\\n",
              "0           0   1.150625   1.273182  -0.007743   0.069023  -0.037749   \n",
              "1           1   1.771279  -1.039713  -0.032883  -0.093463  -0.039216   \n",
              "2           2   1.459590  -1.114549  -0.038475  -0.093194  -0.033570   \n",
              "3           3   1.654363  -1.163543  -0.050590  -0.086530  -0.056471   \n",
              "4           4   0.853788   1.048882  -0.029100   0.051494  -0.012735   \n",
              "\n",
              "   Feature-6  Feature-7  Feature-8  Feature-9  Feature-10   Word  \n",
              "0  -0.054296   0.022695   0.034255   0.014332    0.034387  A LOT  \n",
              "1  -0.010706  -0.017638   0.053692   0.013209    0.061865  A LOT  \n",
              "2  -0.012623  -0.021878   0.054543   0.008132    0.051930  A LOT  \n",
              "3  -0.009639  -0.015170   0.054248   0.005468    0.054465  A LOT  \n",
              "4  -0.074172   0.021292   0.051028   0.015016    0.005590  A LOT  "
            ],
            "text/html": [
              "\n",
              "  <div id=\"df-cb8118c5-110d-4681-9639-136701f48679\" class=\"colab-df-container\">\n",
              "    <div>\n",
              "<style scoped>\n",
              "    .dataframe tbody tr th:only-of-type {\n",
              "        vertical-align: middle;\n",
              "    }\n",
              "\n",
              "    .dataframe tbody tr th {\n",
              "        vertical-align: top;\n",
              "    }\n",
              "\n",
              "    .dataframe thead th {\n",
              "        text-align: right;\n",
              "    }\n",
              "</style>\n",
              "<table border=\"1\" class=\"dataframe\">\n",
              "  <thead>\n",
              "    <tr style=\"text-align: right;\">\n",
              "      <th></th>\n",
              "      <th>Unnamed: 0</th>\n",
              "      <th>Feature-1</th>\n",
              "      <th>Feature-2</th>\n",
              "      <th>Feature-3</th>\n",
              "      <th>Feature-4</th>\n",
              "      <th>Feature-5</th>\n",
              "      <th>Feature-6</th>\n",
              "      <th>Feature-7</th>\n",
              "      <th>Feature-8</th>\n",
              "      <th>Feature-9</th>\n",
              "      <th>Feature-10</th>\n",
              "      <th>Word</th>\n",
              "    </tr>\n",
              "  </thead>\n",
              "  <tbody>\n",
              "    <tr>\n",
              "      <th>0</th>\n",
              "      <td>0</td>\n",
              "      <td>1.150625</td>\n",
              "      <td>1.273182</td>\n",
              "      <td>-0.007743</td>\n",
              "      <td>0.069023</td>\n",
              "      <td>-0.037749</td>\n",
              "      <td>-0.054296</td>\n",
              "      <td>0.022695</td>\n",
              "      <td>0.034255</td>\n",
              "      <td>0.014332</td>\n",
              "      <td>0.034387</td>\n",
              "      <td>A LOT</td>\n",
              "    </tr>\n",
              "    <tr>\n",
              "      <th>1</th>\n",
              "      <td>1</td>\n",
              "      <td>1.771279</td>\n",
              "      <td>-1.039713</td>\n",
              "      <td>-0.032883</td>\n",
              "      <td>-0.093463</td>\n",
              "      <td>-0.039216</td>\n",
              "      <td>-0.010706</td>\n",
              "      <td>-0.017638</td>\n",
              "      <td>0.053692</td>\n",
              "      <td>0.013209</td>\n",
              "      <td>0.061865</td>\n",
              "      <td>A LOT</td>\n",
              "    </tr>\n",
              "    <tr>\n",
              "      <th>2</th>\n",
              "      <td>2</td>\n",
              "      <td>1.459590</td>\n",
              "      <td>-1.114549</td>\n",
              "      <td>-0.038475</td>\n",
              "      <td>-0.093194</td>\n",
              "      <td>-0.033570</td>\n",
              "      <td>-0.012623</td>\n",
              "      <td>-0.021878</td>\n",
              "      <td>0.054543</td>\n",
              "      <td>0.008132</td>\n",
              "      <td>0.051930</td>\n",
              "      <td>A LOT</td>\n",
              "    </tr>\n",
              "    <tr>\n",
              "      <th>3</th>\n",
              "      <td>3</td>\n",
              "      <td>1.654363</td>\n",
              "      <td>-1.163543</td>\n",
              "      <td>-0.050590</td>\n",
              "      <td>-0.086530</td>\n",
              "      <td>-0.056471</td>\n",
              "      <td>-0.009639</td>\n",
              "      <td>-0.015170</td>\n",
              "      <td>0.054248</td>\n",
              "      <td>0.005468</td>\n",
              "      <td>0.054465</td>\n",
              "      <td>A LOT</td>\n",
              "    </tr>\n",
              "    <tr>\n",
              "      <th>4</th>\n",
              "      <td>4</td>\n",
              "      <td>0.853788</td>\n",
              "      <td>1.048882</td>\n",
              "      <td>-0.029100</td>\n",
              "      <td>0.051494</td>\n",
              "      <td>-0.012735</td>\n",
              "      <td>-0.074172</td>\n",
              "      <td>0.021292</td>\n",
              "      <td>0.051028</td>\n",
              "      <td>0.015016</td>\n",
              "      <td>0.005590</td>\n",
              "      <td>A LOT</td>\n",
              "    </tr>\n",
              "  </tbody>\n",
              "</table>\n",
              "</div>\n",
              "    <div class=\"colab-df-buttons\">\n",
              "\n",
              "  <div class=\"colab-df-container\">\n",
              "    <button class=\"colab-df-convert\" onclick=\"convertToInteractive('df-cb8118c5-110d-4681-9639-136701f48679')\"\n",
              "            title=\"Convert this dataframe to an interactive table.\"\n",
              "            style=\"display:none;\">\n",
              "\n",
              "  <svg xmlns=\"http://www.w3.org/2000/svg\" height=\"24px\" viewBox=\"0 -960 960 960\">\n",
              "    <path d=\"M120-120v-720h720v720H120Zm60-500h600v-160H180v160Zm220 220h160v-160H400v160Zm0 220h160v-160H400v160ZM180-400h160v-160H180v160Zm440 0h160v-160H620v160ZM180-180h160v-160H180v160Zm440 0h160v-160H620v160Z\"/>\n",
              "  </svg>\n",
              "    </button>\n",
              "\n",
              "  <style>\n",
              "    .colab-df-container {\n",
              "      display:flex;\n",
              "      gap: 12px;\n",
              "    }\n",
              "\n",
              "    .colab-df-convert {\n",
              "      background-color: #E8F0FE;\n",
              "      border: none;\n",
              "      border-radius: 50%;\n",
              "      cursor: pointer;\n",
              "      display: none;\n",
              "      fill: #1967D2;\n",
              "      height: 32px;\n",
              "      padding: 0 0 0 0;\n",
              "      width: 32px;\n",
              "    }\n",
              "\n",
              "    .colab-df-convert:hover {\n",
              "      background-color: #E2EBFA;\n",
              "      box-shadow: 0px 1px 2px rgba(60, 64, 67, 0.3), 0px 1px 3px 1px rgba(60, 64, 67, 0.15);\n",
              "      fill: #174EA6;\n",
              "    }\n",
              "\n",
              "    .colab-df-buttons div {\n",
              "      margin-bottom: 4px;\n",
              "    }\n",
              "\n",
              "    [theme=dark] .colab-df-convert {\n",
              "      background-color: #3B4455;\n",
              "      fill: #D2E3FC;\n",
              "    }\n",
              "\n",
              "    [theme=dark] .colab-df-convert:hover {\n",
              "      background-color: #434B5C;\n",
              "      box-shadow: 0px 1px 3px 1px rgba(0, 0, 0, 0.15);\n",
              "      filter: drop-shadow(0px 1px 2px rgba(0, 0, 0, 0.3));\n",
              "      fill: #FFFFFF;\n",
              "    }\n",
              "  </style>\n",
              "\n",
              "    <script>\n",
              "      const buttonEl =\n",
              "        document.querySelector('#df-cb8118c5-110d-4681-9639-136701f48679 button.colab-df-convert');\n",
              "      buttonEl.style.display =\n",
              "        google.colab.kernel.accessAllowed ? 'block' : 'none';\n",
              "\n",
              "      async function convertToInteractive(key) {\n",
              "        const element = document.querySelector('#df-cb8118c5-110d-4681-9639-136701f48679');\n",
              "        const dataTable =\n",
              "          await google.colab.kernel.invokeFunction('convertToInteractive',\n",
              "                                                    [key], {});\n",
              "        if (!dataTable) return;\n",
              "\n",
              "        const docLinkHtml = 'Like what you see? Visit the ' +\n",
              "          '<a target=\"_blank\" href=https://colab.research.google.com/notebooks/data_table.ipynb>data table notebook</a>'\n",
              "          + ' to learn more about interactive tables.';\n",
              "        element.innerHTML = '';\n",
              "        dataTable['output_type'] = 'display_data';\n",
              "        await google.colab.output.renderOutput(dataTable, element);\n",
              "        const docLink = document.createElement('div');\n",
              "        docLink.innerHTML = docLinkHtml;\n",
              "        element.appendChild(docLink);\n",
              "      }\n",
              "    </script>\n",
              "  </div>\n",
              "\n",
              "\n",
              "<div id=\"df-32b2d708-3f97-4bd6-aec6-42fc2a004e49\">\n",
              "  <button class=\"colab-df-quickchart\" onclick=\"quickchart('df-32b2d708-3f97-4bd6-aec6-42fc2a004e49')\"\n",
              "            title=\"Suggest charts\"\n",
              "            style=\"display:none;\">\n",
              "\n",
              "<svg xmlns=\"http://www.w3.org/2000/svg\" height=\"24px\"viewBox=\"0 0 24 24\"\n",
              "     width=\"24px\">\n",
              "    <g>\n",
              "        <path d=\"M19 3H5c-1.1 0-2 .9-2 2v14c0 1.1.9 2 2 2h14c1.1 0 2-.9 2-2V5c0-1.1-.9-2-2-2zM9 17H7v-7h2v7zm4 0h-2V7h2v10zm4 0h-2v-4h2v4z\"/>\n",
              "    </g>\n",
              "</svg>\n",
              "  </button>\n",
              "\n",
              "<style>\n",
              "  .colab-df-quickchart {\n",
              "      --bg-color: #E8F0FE;\n",
              "      --fill-color: #1967D2;\n",
              "      --hover-bg-color: #E2EBFA;\n",
              "      --hover-fill-color: #174EA6;\n",
              "      --disabled-fill-color: #AAA;\n",
              "      --disabled-bg-color: #DDD;\n",
              "  }\n",
              "\n",
              "  [theme=dark] .colab-df-quickchart {\n",
              "      --bg-color: #3B4455;\n",
              "      --fill-color: #D2E3FC;\n",
              "      --hover-bg-color: #434B5C;\n",
              "      --hover-fill-color: #FFFFFF;\n",
              "      --disabled-bg-color: #3B4455;\n",
              "      --disabled-fill-color: #666;\n",
              "  }\n",
              "\n",
              "  .colab-df-quickchart {\n",
              "    background-color: var(--bg-color);\n",
              "    border: none;\n",
              "    border-radius: 50%;\n",
              "    cursor: pointer;\n",
              "    display: none;\n",
              "    fill: var(--fill-color);\n",
              "    height: 32px;\n",
              "    padding: 0;\n",
              "    width: 32px;\n",
              "  }\n",
              "\n",
              "  .colab-df-quickchart:hover {\n",
              "    background-color: var(--hover-bg-color);\n",
              "    box-shadow: 0 1px 2px rgba(60, 64, 67, 0.3), 0 1px 3px 1px rgba(60, 64, 67, 0.15);\n",
              "    fill: var(--button-hover-fill-color);\n",
              "  }\n",
              "\n",
              "  .colab-df-quickchart-complete:disabled,\n",
              "  .colab-df-quickchart-complete:disabled:hover {\n",
              "    background-color: var(--disabled-bg-color);\n",
              "    fill: var(--disabled-fill-color);\n",
              "    box-shadow: none;\n",
              "  }\n",
              "\n",
              "  .colab-df-spinner {\n",
              "    border: 2px solid var(--fill-color);\n",
              "    border-color: transparent;\n",
              "    border-bottom-color: var(--fill-color);\n",
              "    animation:\n",
              "      spin 1s steps(1) infinite;\n",
              "  }\n",
              "\n",
              "  @keyframes spin {\n",
              "    0% {\n",
              "      border-color: transparent;\n",
              "      border-bottom-color: var(--fill-color);\n",
              "      border-left-color: var(--fill-color);\n",
              "    }\n",
              "    20% {\n",
              "      border-color: transparent;\n",
              "      border-left-color: var(--fill-color);\n",
              "      border-top-color: var(--fill-color);\n",
              "    }\n",
              "    30% {\n",
              "      border-color: transparent;\n",
              "      border-left-color: var(--fill-color);\n",
              "      border-top-color: var(--fill-color);\n",
              "      border-right-color: var(--fill-color);\n",
              "    }\n",
              "    40% {\n",
              "      border-color: transparent;\n",
              "      border-right-color: var(--fill-color);\n",
              "      border-top-color: var(--fill-color);\n",
              "    }\n",
              "    60% {\n",
              "      border-color: transparent;\n",
              "      border-right-color: var(--fill-color);\n",
              "    }\n",
              "    80% {\n",
              "      border-color: transparent;\n",
              "      border-right-color: var(--fill-color);\n",
              "      border-bottom-color: var(--fill-color);\n",
              "    }\n",
              "    90% {\n",
              "      border-color: transparent;\n",
              "      border-bottom-color: var(--fill-color);\n",
              "    }\n",
              "  }\n",
              "</style>\n",
              "\n",
              "  <script>\n",
              "    async function quickchart(key) {\n",
              "      const quickchartButtonEl =\n",
              "        document.querySelector('#' + key + ' button');\n",
              "      quickchartButtonEl.disabled = true;  // To prevent multiple clicks.\n",
              "      quickchartButtonEl.classList.add('colab-df-spinner');\n",
              "      try {\n",
              "        const charts = await google.colab.kernel.invokeFunction(\n",
              "            'suggestCharts', [key], {});\n",
              "      } catch (error) {\n",
              "        console.error('Error during call to suggestCharts:', error);\n",
              "      }\n",
              "      quickchartButtonEl.classList.remove('colab-df-spinner');\n",
              "      quickchartButtonEl.classList.add('colab-df-quickchart-complete');\n",
              "    }\n",
              "    (() => {\n",
              "      let quickchartButtonEl =\n",
              "        document.querySelector('#df-32b2d708-3f97-4bd6-aec6-42fc2a004e49 button');\n",
              "      quickchartButtonEl.style.display =\n",
              "        google.colab.kernel.accessAllowed ? 'block' : 'none';\n",
              "    })();\n",
              "  </script>\n",
              "</div>\n",
              "\n",
              "    </div>\n",
              "  </div>\n"
            ],
            "application/vnd.google.colaboratory.intrinsic+json": {
              "type": "dataframe",
              "variable_name": "words_corpus",
              "summary": "{\n  \"name\": \"words_corpus\",\n  \"rows\": 3104,\n  \"fields\": [\n    {\n      \"column\": \"Unnamed: 0\",\n      \"properties\": {\n        \"dtype\": \"number\",\n        \"std\": 896,\n        \"min\": 0,\n        \"max\": 3103,\n        \"num_unique_values\": 3104,\n        \"samples\": [\n          1653,\n          2188,\n          309\n        ],\n        \"semantic_type\": \"\",\n        \"description\": \"\"\n      }\n    },\n    {\n      \"column\": \"Feature-1\",\n      \"properties\": {\n        \"dtype\": \"number\",\n        \"std\": 0.9595810976577998,\n        \"min\": -2.2457000682677104,\n        \"max\": 2.332129666033808,\n        \"num_unique_values\": 3104,\n        \"samples\": [\n          -0.9001662213831002,\n          -0.5208542109963012,\n          1.7577266329606551\n        ],\n        \"semantic_type\": \"\",\n        \"description\": \"\"\n      }\n    },\n    {\n      \"column\": \"Feature-2\",\n      \"properties\": {\n        \"dtype\": \"number\",\n        \"std\": 0.5816638141026435,\n        \"min\": -1.8588536638143136,\n        \"max\": 1.916232603374674,\n        \"num_unique_values\": 3104,\n        \"samples\": [\n          -0.6387573431938558,\n          0.5905476174763913,\n          0.0574809101091214\n        ],\n        \"semantic_type\": \"\",\n        \"description\": \"\"\n      }\n    },\n    {\n      \"column\": \"Feature-3\",\n      \"properties\": {\n        \"dtype\": \"number\",\n        \"std\": 0.09249897052247667,\n        \"min\": -0.2958946346334914,\n        \"max\": 0.3069150377168747,\n        \"num_unique_values\": 3104,\n        \"samples\": [\n          -0.0560854285082696,\n          -0.1223938679529755,\n          -0.1154952722519493\n        ],\n        \"semantic_type\": \"\",\n        \"description\": \"\"\n      }\n    },\n    {\n      \"column\": \"Feature-4\",\n      \"properties\": {\n        \"dtype\": \"number\",\n        \"std\": 0.08323970402230399,\n        \"min\": -0.2950981212747045,\n        \"max\": 0.3518959573864829,\n        \"num_unique_values\": 3104,\n        \"samples\": [\n          0.034380376664461,\n          0.0105038185108598,\n          0.2090675242625372\n        ],\n        \"semantic_type\": \"\",\n        \"description\": \"\"\n      }\n    },\n    {\n      \"column\": \"Feature-5\",\n      \"properties\": {\n        \"dtype\": \"number\",\n        \"std\": 0.07737791009542569,\n        \"min\": -0.2539889989968129,\n        \"max\": 0.3042062934345579,\n        \"num_unique_values\": 3104,\n        \"samples\": [\n          0.0928909513638898,\n          0.0426310396694225,\n          0.1621188277225799\n        ],\n        \"semantic_type\": \"\",\n        \"description\": \"\"\n      }\n    },\n    {\n      \"column\": \"Feature-6\",\n      \"properties\": {\n        \"dtype\": \"number\",\n        \"std\": 0.061521636413062145,\n        \"min\": -0.1874959327700678,\n        \"max\": 0.3721983201609975,\n        \"num_unique_values\": 3104,\n        \"samples\": [\n          -0.0394059053729932,\n          -0.0057334169108432,\n          0.0282479008827558\n        ],\n        \"semantic_type\": \"\",\n        \"description\": \"\"\n      }\n    },\n    {\n      \"column\": \"Feature-7\",\n      \"properties\": {\n        \"dtype\": \"number\",\n        \"std\": 0.05942359826165291,\n        \"min\": -0.3069036898573793,\n        \"max\": 0.3280586750314913,\n        \"num_unique_values\": 3104,\n        \"samples\": [\n          0.0337544084358961,\n          -0.0655564133600356,\n          0.0088908738302592\n        ],\n        \"semantic_type\": \"\",\n        \"description\": \"\"\n      }\n    },\n    {\n      \"column\": \"Feature-8\",\n      \"properties\": {\n        \"dtype\": \"number\",\n        \"std\": 0.037215321985366194,\n        \"min\": -0.1298968741245365,\n        \"max\": 0.1422232120452179,\n        \"num_unique_values\": 3104,\n        \"samples\": [\n          -0.0321628452474846,\n          -0.0153892680968237,\n          0.027089477374543\n        ],\n        \"semantic_type\": \"\",\n        \"description\": \"\"\n      }\n    },\n    {\n      \"column\": \"Feature-9\",\n      \"properties\": {\n        \"dtype\": \"number\",\n        \"std\": 0.029951276351553213,\n        \"min\": -0.1062232363900513,\n        \"max\": 0.1093039100965633,\n        \"num_unique_values\": 3104,\n        \"samples\": [\n          -0.0090340074618595,\n          0.0195717637322268,\n          -0.0293343028711065\n        ],\n        \"semantic_type\": \"\",\n        \"description\": \"\"\n      }\n    },\n    {\n      \"column\": \"Feature-10\",\n      \"properties\": {\n        \"dtype\": \"number\",\n        \"std\": 0.02506494261819384,\n        \"min\": -0.0912611164479687,\n        \"max\": 0.125371533050731,\n        \"num_unique_values\": 3104,\n        \"samples\": [\n          0.0258001666317927,\n          0.0202442153307113,\n          0.0235206289150975\n        ],\n        \"semantic_type\": \"\",\n        \"description\": \"\"\n      }\n    },\n    {\n      \"column\": \"Word\",\n      \"properties\": {\n        \"dtype\": \"category\",\n        \"num_unique_values\": 113,\n        \"samples\": [\n          \"SOMETHING\",\n          \"ALL\",\n          \"HAPPY\"\n        ],\n        \"semantic_type\": \"\",\n        \"description\": \"\"\n      }\n    }\n  ]\n}"
            }
          },
          "metadata": {},
          "execution_count": 2
        }
      ]
    },
    {
      "cell_type": "code",
      "source": [
        "words_corpus.drop(\"Unnamed: 0\", inplace=True, axis=1)"
      ],
      "metadata": {
        "id": "7xRkI-BN4zbi"
      },
      "execution_count": null,
      "outputs": []
    },
    {
      "cell_type": "code",
      "source": [
        "words_corpus.shape"
      ],
      "metadata": {
        "colab": {
          "base_uri": "https://localhost:8080/"
        },
        "id": "TWpS5Bxo2Jji",
        "outputId": "ddcbb5f1-6bb5-4dcc-af78-6bc45ec57f7d"
      },
      "execution_count": null,
      "outputs": [
        {
          "output_type": "execute_result",
          "data": {
            "text/plain": [
              "(3104, 11)"
            ]
          },
          "metadata": {},
          "execution_count": 4
        }
      ]
    },
    {
      "cell_type": "code",
      "source": [
        "words_corpus.shape"
      ],
      "metadata": {
        "colab": {
          "base_uri": "https://localhost:8080/"
        },
        "id": "vdvjm0d3OaKM",
        "outputId": "337e3424-ccb1-4c2c-c06a-9d9a2b8aca64"
      },
      "execution_count": null,
      "outputs": [
        {
          "output_type": "execute_result",
          "data": {
            "text/plain": [
              "(3104, 11)"
            ]
          },
          "metadata": {},
          "execution_count": 5
        }
      ]
    },
    {
      "cell_type": "code",
      "source": [
        "words_corpus[\"Word\"].value_counts()"
      ],
      "metadata": {
        "colab": {
          "base_uri": "https://localhost:8080/",
          "height": 489
        },
        "id": "lSNEnqZXO7Z7",
        "outputId": "e6ae0c40-bbf6-4eae-efd2-45022773676e"
      },
      "execution_count": null,
      "outputs": [
        {
          "output_type": "execute_result",
          "data": {
            "text/plain": [
              "Word\n",
              "I_ME_MINE_MY       52\n",
              "SOME ONE           51\n",
              "ANYTHING           49\n",
              "BECOME             48\n",
              "ALL                47\n",
              "                   ..\n",
              "BRING               6\n",
              "CONGRATULATIONS     6\n",
              "NAME                3\n",
              "FROM                1\n",
              "WHO                 1\n",
              "Name: count, Length: 113, dtype: int64"
            ],
            "text/html": [
              "<div>\n",
              "<style scoped>\n",
              "    .dataframe tbody tr th:only-of-type {\n",
              "        vertical-align: middle;\n",
              "    }\n",
              "\n",
              "    .dataframe tbody tr th {\n",
              "        vertical-align: top;\n",
              "    }\n",
              "\n",
              "    .dataframe thead th {\n",
              "        text-align: right;\n",
              "    }\n",
              "</style>\n",
              "<table border=\"1\" class=\"dataframe\">\n",
              "  <thead>\n",
              "    <tr style=\"text-align: right;\">\n",
              "      <th></th>\n",
              "      <th>count</th>\n",
              "    </tr>\n",
              "    <tr>\n",
              "      <th>Word</th>\n",
              "      <th></th>\n",
              "    </tr>\n",
              "  </thead>\n",
              "  <tbody>\n",
              "    <tr>\n",
              "      <th>I_ME_MINE_MY</th>\n",
              "      <td>52</td>\n",
              "    </tr>\n",
              "    <tr>\n",
              "      <th>SOME ONE</th>\n",
              "      <td>51</td>\n",
              "    </tr>\n",
              "    <tr>\n",
              "      <th>ANYTHING</th>\n",
              "      <td>49</td>\n",
              "    </tr>\n",
              "    <tr>\n",
              "      <th>BECOME</th>\n",
              "      <td>48</td>\n",
              "    </tr>\n",
              "    <tr>\n",
              "      <th>ALL</th>\n",
              "      <td>47</td>\n",
              "    </tr>\n",
              "    <tr>\n",
              "      <th>...</th>\n",
              "      <td>...</td>\n",
              "    </tr>\n",
              "    <tr>\n",
              "      <th>BRING</th>\n",
              "      <td>6</td>\n",
              "    </tr>\n",
              "    <tr>\n",
              "      <th>CONGRATULATIONS</th>\n",
              "      <td>6</td>\n",
              "    </tr>\n",
              "    <tr>\n",
              "      <th>NAME</th>\n",
              "      <td>3</td>\n",
              "    </tr>\n",
              "    <tr>\n",
              "      <th>FROM</th>\n",
              "      <td>1</td>\n",
              "    </tr>\n",
              "    <tr>\n",
              "      <th>WHO</th>\n",
              "      <td>1</td>\n",
              "    </tr>\n",
              "  </tbody>\n",
              "</table>\n",
              "<p>113 rows × 1 columns</p>\n",
              "</div><br><label><b>dtype:</b> int64</label>"
            ]
          },
          "metadata": {},
          "execution_count": 6
        }
      ]
    },
    {
      "cell_type": "code",
      "source": [
        "filtered_words_df = words_corpus[words_corpus[\"Word\"].map(words_corpus[\"Word\"].value_counts()) <= 20]"
      ],
      "metadata": {
        "id": "PGwJ15tqR2WD"
      },
      "execution_count": null,
      "outputs": []
    },
    {
      "cell_type": "code",
      "source": [
        "filtered_words_df[\"Word\"].nunique()"
      ],
      "metadata": {
        "colab": {
          "base_uri": "https://localhost:8080/"
        },
        "id": "hLb0TQMAR7vi",
        "outputId": "a3ef7b7b-3ded-4718-ae69-889ee3b421d0"
      },
      "execution_count": null,
      "outputs": [
        {
          "output_type": "execute_result",
          "data": {
            "text/plain": [
              "25"
            ]
          },
          "metadata": {},
          "execution_count": 8
        }
      ]
    },
    {
      "cell_type": "code",
      "source": [
        "filtered_words_df[\"Word\"].unique()"
      ],
      "metadata": {
        "colab": {
          "base_uri": "https://localhost:8080/"
        },
        "id": "0q0wh3oGUld3",
        "outputId": "dc8a10ac-06c1-47af-d3a1-0a151c0fa090"
      },
      "execution_count": null,
      "outputs": [
        {
          "output_type": "execute_result",
          "data": {
            "text/plain": [
              "array(['AGREE', 'ANGRY', 'BRING', 'COLLEGE_SCHOOL', 'CONGRATULATIONS',\n",
              "       'DIFFERENCE', 'DO', 'FRIEND', 'FROM', 'HELLO_HI', 'HUNGRY',\n",
              "       'MEDICINE', 'NAME', 'NUMBER', 'OLD_AGE', 'PHONE', 'SLOWER',\n",
              "       'SPEAK', 'TALK', 'THINK', 'THIRSTY', 'TIRED', 'WHERE', 'CHAT',\n",
              "       'WHO'], dtype=object)"
            ]
          },
          "metadata": {},
          "execution_count": 9
        }
      ]
    },
    {
      "cell_type": "code",
      "source": [],
      "metadata": {
        "id": "pFeuiLSxR4MK"
      },
      "execution_count": null,
      "outputs": []
    },
    {
      "cell_type": "code",
      "source": [
        "new_words_df = words_corpus[words_corpus[\"Word\"].map(words_corpus[\"Word\"].value_counts()) >= 20]"
      ],
      "metadata": {
        "id": "LokFMGJqysdM"
      },
      "execution_count": null,
      "outputs": []
    },
    {
      "cell_type": "code",
      "source": [
        "new_words_df.head()"
      ],
      "metadata": {
        "colab": {
          "base_uri": "https://localhost:8080/",
          "height": 206
        },
        "id": "I4cwF13pyse9",
        "outputId": "9b48b765-717c-4f28-eb29-61c50504c2e9"
      },
      "execution_count": null,
      "outputs": [
        {
          "output_type": "execute_result",
          "data": {
            "text/plain": [
              "   Feature-1  Feature-2  Feature-3  Feature-4  Feature-5  Feature-6  \\\n",
              "0   1.150625   1.273182  -0.007743   0.069023  -0.037749  -0.054296   \n",
              "1   1.771279  -1.039713  -0.032883  -0.093463  -0.039216  -0.010706   \n",
              "2   1.459590  -1.114549  -0.038475  -0.093194  -0.033570  -0.012623   \n",
              "3   1.654363  -1.163543  -0.050590  -0.086530  -0.056471  -0.009639   \n",
              "4   0.853788   1.048882  -0.029100   0.051494  -0.012735  -0.074172   \n",
              "\n",
              "   Feature-7  Feature-8  Feature-9  Feature-10   Word  \n",
              "0   0.022695   0.034255   0.014332    0.034387  A LOT  \n",
              "1  -0.017638   0.053692   0.013209    0.061865  A LOT  \n",
              "2  -0.021878   0.054543   0.008132    0.051930  A LOT  \n",
              "3  -0.015170   0.054248   0.005468    0.054465  A LOT  \n",
              "4   0.021292   0.051028   0.015016    0.005590  A LOT  "
            ],
            "text/html": [
              "\n",
              "  <div id=\"df-b71b4f00-46dd-4887-b67f-962c1dfa7226\" class=\"colab-df-container\">\n",
              "    <div>\n",
              "<style scoped>\n",
              "    .dataframe tbody tr th:only-of-type {\n",
              "        vertical-align: middle;\n",
              "    }\n",
              "\n",
              "    .dataframe tbody tr th {\n",
              "        vertical-align: top;\n",
              "    }\n",
              "\n",
              "    .dataframe thead th {\n",
              "        text-align: right;\n",
              "    }\n",
              "</style>\n",
              "<table border=\"1\" class=\"dataframe\">\n",
              "  <thead>\n",
              "    <tr style=\"text-align: right;\">\n",
              "      <th></th>\n",
              "      <th>Feature-1</th>\n",
              "      <th>Feature-2</th>\n",
              "      <th>Feature-3</th>\n",
              "      <th>Feature-4</th>\n",
              "      <th>Feature-5</th>\n",
              "      <th>Feature-6</th>\n",
              "      <th>Feature-7</th>\n",
              "      <th>Feature-8</th>\n",
              "      <th>Feature-9</th>\n",
              "      <th>Feature-10</th>\n",
              "      <th>Word</th>\n",
              "    </tr>\n",
              "  </thead>\n",
              "  <tbody>\n",
              "    <tr>\n",
              "      <th>0</th>\n",
              "      <td>1.150625</td>\n",
              "      <td>1.273182</td>\n",
              "      <td>-0.007743</td>\n",
              "      <td>0.069023</td>\n",
              "      <td>-0.037749</td>\n",
              "      <td>-0.054296</td>\n",
              "      <td>0.022695</td>\n",
              "      <td>0.034255</td>\n",
              "      <td>0.014332</td>\n",
              "      <td>0.034387</td>\n",
              "      <td>A LOT</td>\n",
              "    </tr>\n",
              "    <tr>\n",
              "      <th>1</th>\n",
              "      <td>1.771279</td>\n",
              "      <td>-1.039713</td>\n",
              "      <td>-0.032883</td>\n",
              "      <td>-0.093463</td>\n",
              "      <td>-0.039216</td>\n",
              "      <td>-0.010706</td>\n",
              "      <td>-0.017638</td>\n",
              "      <td>0.053692</td>\n",
              "      <td>0.013209</td>\n",
              "      <td>0.061865</td>\n",
              "      <td>A LOT</td>\n",
              "    </tr>\n",
              "    <tr>\n",
              "      <th>2</th>\n",
              "      <td>1.459590</td>\n",
              "      <td>-1.114549</td>\n",
              "      <td>-0.038475</td>\n",
              "      <td>-0.093194</td>\n",
              "      <td>-0.033570</td>\n",
              "      <td>-0.012623</td>\n",
              "      <td>-0.021878</td>\n",
              "      <td>0.054543</td>\n",
              "      <td>0.008132</td>\n",
              "      <td>0.051930</td>\n",
              "      <td>A LOT</td>\n",
              "    </tr>\n",
              "    <tr>\n",
              "      <th>3</th>\n",
              "      <td>1.654363</td>\n",
              "      <td>-1.163543</td>\n",
              "      <td>-0.050590</td>\n",
              "      <td>-0.086530</td>\n",
              "      <td>-0.056471</td>\n",
              "      <td>-0.009639</td>\n",
              "      <td>-0.015170</td>\n",
              "      <td>0.054248</td>\n",
              "      <td>0.005468</td>\n",
              "      <td>0.054465</td>\n",
              "      <td>A LOT</td>\n",
              "    </tr>\n",
              "    <tr>\n",
              "      <th>4</th>\n",
              "      <td>0.853788</td>\n",
              "      <td>1.048882</td>\n",
              "      <td>-0.029100</td>\n",
              "      <td>0.051494</td>\n",
              "      <td>-0.012735</td>\n",
              "      <td>-0.074172</td>\n",
              "      <td>0.021292</td>\n",
              "      <td>0.051028</td>\n",
              "      <td>0.015016</td>\n",
              "      <td>0.005590</td>\n",
              "      <td>A LOT</td>\n",
              "    </tr>\n",
              "  </tbody>\n",
              "</table>\n",
              "</div>\n",
              "    <div class=\"colab-df-buttons\">\n",
              "\n",
              "  <div class=\"colab-df-container\">\n",
              "    <button class=\"colab-df-convert\" onclick=\"convertToInteractive('df-b71b4f00-46dd-4887-b67f-962c1dfa7226')\"\n",
              "            title=\"Convert this dataframe to an interactive table.\"\n",
              "            style=\"display:none;\">\n",
              "\n",
              "  <svg xmlns=\"http://www.w3.org/2000/svg\" height=\"24px\" viewBox=\"0 -960 960 960\">\n",
              "    <path d=\"M120-120v-720h720v720H120Zm60-500h600v-160H180v160Zm220 220h160v-160H400v160Zm0 220h160v-160H400v160ZM180-400h160v-160H180v160Zm440 0h160v-160H620v160ZM180-180h160v-160H180v160Zm440 0h160v-160H620v160Z\"/>\n",
              "  </svg>\n",
              "    </button>\n",
              "\n",
              "  <style>\n",
              "    .colab-df-container {\n",
              "      display:flex;\n",
              "      gap: 12px;\n",
              "    }\n",
              "\n",
              "    .colab-df-convert {\n",
              "      background-color: #E8F0FE;\n",
              "      border: none;\n",
              "      border-radius: 50%;\n",
              "      cursor: pointer;\n",
              "      display: none;\n",
              "      fill: #1967D2;\n",
              "      height: 32px;\n",
              "      padding: 0 0 0 0;\n",
              "      width: 32px;\n",
              "    }\n",
              "\n",
              "    .colab-df-convert:hover {\n",
              "      background-color: #E2EBFA;\n",
              "      box-shadow: 0px 1px 2px rgba(60, 64, 67, 0.3), 0px 1px 3px 1px rgba(60, 64, 67, 0.15);\n",
              "      fill: #174EA6;\n",
              "    }\n",
              "\n",
              "    .colab-df-buttons div {\n",
              "      margin-bottom: 4px;\n",
              "    }\n",
              "\n",
              "    [theme=dark] .colab-df-convert {\n",
              "      background-color: #3B4455;\n",
              "      fill: #D2E3FC;\n",
              "    }\n",
              "\n",
              "    [theme=dark] .colab-df-convert:hover {\n",
              "      background-color: #434B5C;\n",
              "      box-shadow: 0px 1px 3px 1px rgba(0, 0, 0, 0.15);\n",
              "      filter: drop-shadow(0px 1px 2px rgba(0, 0, 0, 0.3));\n",
              "      fill: #FFFFFF;\n",
              "    }\n",
              "  </style>\n",
              "\n",
              "    <script>\n",
              "      const buttonEl =\n",
              "        document.querySelector('#df-b71b4f00-46dd-4887-b67f-962c1dfa7226 button.colab-df-convert');\n",
              "      buttonEl.style.display =\n",
              "        google.colab.kernel.accessAllowed ? 'block' : 'none';\n",
              "\n",
              "      async function convertToInteractive(key) {\n",
              "        const element = document.querySelector('#df-b71b4f00-46dd-4887-b67f-962c1dfa7226');\n",
              "        const dataTable =\n",
              "          await google.colab.kernel.invokeFunction('convertToInteractive',\n",
              "                                                    [key], {});\n",
              "        if (!dataTable) return;\n",
              "\n",
              "        const docLinkHtml = 'Like what you see? Visit the ' +\n",
              "          '<a target=\"_blank\" href=https://colab.research.google.com/notebooks/data_table.ipynb>data table notebook</a>'\n",
              "          + ' to learn more about interactive tables.';\n",
              "        element.innerHTML = '';\n",
              "        dataTable['output_type'] = 'display_data';\n",
              "        await google.colab.output.renderOutput(dataTable, element);\n",
              "        const docLink = document.createElement('div');\n",
              "        docLink.innerHTML = docLinkHtml;\n",
              "        element.appendChild(docLink);\n",
              "      }\n",
              "    </script>\n",
              "  </div>\n",
              "\n",
              "\n",
              "<div id=\"df-16695209-b707-4b03-8ced-0a96c339da2a\">\n",
              "  <button class=\"colab-df-quickchart\" onclick=\"quickchart('df-16695209-b707-4b03-8ced-0a96c339da2a')\"\n",
              "            title=\"Suggest charts\"\n",
              "            style=\"display:none;\">\n",
              "\n",
              "<svg xmlns=\"http://www.w3.org/2000/svg\" height=\"24px\"viewBox=\"0 0 24 24\"\n",
              "     width=\"24px\">\n",
              "    <g>\n",
              "        <path d=\"M19 3H5c-1.1 0-2 .9-2 2v14c0 1.1.9 2 2 2h14c1.1 0 2-.9 2-2V5c0-1.1-.9-2-2-2zM9 17H7v-7h2v7zm4 0h-2V7h2v10zm4 0h-2v-4h2v4z\"/>\n",
              "    </g>\n",
              "</svg>\n",
              "  </button>\n",
              "\n",
              "<style>\n",
              "  .colab-df-quickchart {\n",
              "      --bg-color: #E8F0FE;\n",
              "      --fill-color: #1967D2;\n",
              "      --hover-bg-color: #E2EBFA;\n",
              "      --hover-fill-color: #174EA6;\n",
              "      --disabled-fill-color: #AAA;\n",
              "      --disabled-bg-color: #DDD;\n",
              "  }\n",
              "\n",
              "  [theme=dark] .colab-df-quickchart {\n",
              "      --bg-color: #3B4455;\n",
              "      --fill-color: #D2E3FC;\n",
              "      --hover-bg-color: #434B5C;\n",
              "      --hover-fill-color: #FFFFFF;\n",
              "      --disabled-bg-color: #3B4455;\n",
              "      --disabled-fill-color: #666;\n",
              "  }\n",
              "\n",
              "  .colab-df-quickchart {\n",
              "    background-color: var(--bg-color);\n",
              "    border: none;\n",
              "    border-radius: 50%;\n",
              "    cursor: pointer;\n",
              "    display: none;\n",
              "    fill: var(--fill-color);\n",
              "    height: 32px;\n",
              "    padding: 0;\n",
              "    width: 32px;\n",
              "  }\n",
              "\n",
              "  .colab-df-quickchart:hover {\n",
              "    background-color: var(--hover-bg-color);\n",
              "    box-shadow: 0 1px 2px rgba(60, 64, 67, 0.3), 0 1px 3px 1px rgba(60, 64, 67, 0.15);\n",
              "    fill: var(--button-hover-fill-color);\n",
              "  }\n",
              "\n",
              "  .colab-df-quickchart-complete:disabled,\n",
              "  .colab-df-quickchart-complete:disabled:hover {\n",
              "    background-color: var(--disabled-bg-color);\n",
              "    fill: var(--disabled-fill-color);\n",
              "    box-shadow: none;\n",
              "  }\n",
              "\n",
              "  .colab-df-spinner {\n",
              "    border: 2px solid var(--fill-color);\n",
              "    border-color: transparent;\n",
              "    border-bottom-color: var(--fill-color);\n",
              "    animation:\n",
              "      spin 1s steps(1) infinite;\n",
              "  }\n",
              "\n",
              "  @keyframes spin {\n",
              "    0% {\n",
              "      border-color: transparent;\n",
              "      border-bottom-color: var(--fill-color);\n",
              "      border-left-color: var(--fill-color);\n",
              "    }\n",
              "    20% {\n",
              "      border-color: transparent;\n",
              "      border-left-color: var(--fill-color);\n",
              "      border-top-color: var(--fill-color);\n",
              "    }\n",
              "    30% {\n",
              "      border-color: transparent;\n",
              "      border-left-color: var(--fill-color);\n",
              "      border-top-color: var(--fill-color);\n",
              "      border-right-color: var(--fill-color);\n",
              "    }\n",
              "    40% {\n",
              "      border-color: transparent;\n",
              "      border-right-color: var(--fill-color);\n",
              "      border-top-color: var(--fill-color);\n",
              "    }\n",
              "    60% {\n",
              "      border-color: transparent;\n",
              "      border-right-color: var(--fill-color);\n",
              "    }\n",
              "    80% {\n",
              "      border-color: transparent;\n",
              "      border-right-color: var(--fill-color);\n",
              "      border-bottom-color: var(--fill-color);\n",
              "    }\n",
              "    90% {\n",
              "      border-color: transparent;\n",
              "      border-bottom-color: var(--fill-color);\n",
              "    }\n",
              "  }\n",
              "</style>\n",
              "\n",
              "  <script>\n",
              "    async function quickchart(key) {\n",
              "      const quickchartButtonEl =\n",
              "        document.querySelector('#' + key + ' button');\n",
              "      quickchartButtonEl.disabled = true;  // To prevent multiple clicks.\n",
              "      quickchartButtonEl.classList.add('colab-df-spinner');\n",
              "      try {\n",
              "        const charts = await google.colab.kernel.invokeFunction(\n",
              "            'suggestCharts', [key], {});\n",
              "      } catch (error) {\n",
              "        console.error('Error during call to suggestCharts:', error);\n",
              "      }\n",
              "      quickchartButtonEl.classList.remove('colab-df-spinner');\n",
              "      quickchartButtonEl.classList.add('colab-df-quickchart-complete');\n",
              "    }\n",
              "    (() => {\n",
              "      let quickchartButtonEl =\n",
              "        document.querySelector('#df-16695209-b707-4b03-8ced-0a96c339da2a button');\n",
              "      quickchartButtonEl.style.display =\n",
              "        google.colab.kernel.accessAllowed ? 'block' : 'none';\n",
              "    })();\n",
              "  </script>\n",
              "</div>\n",
              "\n",
              "    </div>\n",
              "  </div>\n"
            ],
            "application/vnd.google.colaboratory.intrinsic+json": {
              "type": "dataframe",
              "variable_name": "new_words_df",
              "summary": "{\n  \"name\": \"new_words_df\",\n  \"rows\": 2882,\n  \"fields\": [\n    {\n      \"column\": \"Feature-1\",\n      \"properties\": {\n        \"dtype\": \"number\",\n        \"std\": 0.9505234499338968,\n        \"min\": -2.2457000682677104,\n        \"max\": 2.332129666033808,\n        \"num_unique_values\": 2882,\n        \"samples\": [\n          0.4412581951306841,\n          -0.826708099057773,\n          0.3739476894461747\n        ],\n        \"semantic_type\": \"\",\n        \"description\": \"\"\n      }\n    },\n    {\n      \"column\": \"Feature-2\",\n      \"properties\": {\n        \"dtype\": \"number\",\n        \"std\": 0.5740904087659571,\n        \"min\": -1.8588536638143136,\n        \"max\": 1.916232603374674,\n        \"num_unique_values\": 2882,\n        \"samples\": [\n          -0.3310794800082525,\n          0.0455737075557342,\n          0.2068089337135927\n        ],\n        \"semantic_type\": \"\",\n        \"description\": \"\"\n      }\n    },\n    {\n      \"column\": \"Feature-3\",\n      \"properties\": {\n        \"dtype\": \"number\",\n        \"std\": 0.09307083549006485,\n        \"min\": -0.2958946346334914,\n        \"max\": 0.3069150377168747,\n        \"num_unique_values\": 2882,\n        \"samples\": [\n          0.0563783654510619,\n          0.0517829897022316,\n          0.1501692697798689\n        ],\n        \"semantic_type\": \"\",\n        \"description\": \"\"\n      }\n    },\n    {\n      \"column\": \"Feature-4\",\n      \"properties\": {\n        \"dtype\": \"number\",\n        \"std\": 0.07680338452479908,\n        \"min\": -0.2950981212747045,\n        \"max\": 0.3518959573864829,\n        \"num_unique_values\": 2882,\n        \"samples\": [\n          0.0551521866821109,\n          0.0565103568497791,\n          -0.0681607270657364\n        ],\n        \"semantic_type\": \"\",\n        \"description\": \"\"\n      }\n    },\n    {\n      \"column\": \"Feature-5\",\n      \"properties\": {\n        \"dtype\": \"number\",\n        \"std\": 0.07655513819820013,\n        \"min\": -0.2539889989968129,\n        \"max\": 0.3042062934345579,\n        \"num_unique_values\": 2882,\n        \"samples\": [\n          -0.1345545716262398,\n          0.1079595299513029,\n          0.0607091915371695\n        ],\n        \"semantic_type\": \"\",\n        \"description\": \"\"\n      }\n    },\n    {\n      \"column\": \"Feature-6\",\n      \"properties\": {\n        \"dtype\": \"number\",\n        \"std\": 0.060447461600894356,\n        \"min\": -0.1482856524017828,\n        \"max\": 0.3686308095827108,\n        \"num_unique_values\": 2882,\n        \"samples\": [\n          -0.0162896825019382,\n          -0.0858444965344025,\n          0.0470234697844403\n        ],\n        \"semantic_type\": \"\",\n        \"description\": \"\"\n      }\n    },\n    {\n      \"column\": \"Feature-7\",\n      \"properties\": {\n        \"dtype\": \"number\",\n        \"std\": 0.05924760451101643,\n        \"min\": -0.3069036898573793,\n        \"max\": 0.3280586750314913,\n        \"num_unique_values\": 2882,\n        \"samples\": [\n          0.0067223497838863,\n          0.0197093684196261,\n          -0.0311310712123094\n        ],\n        \"semantic_type\": \"\",\n        \"description\": \"\"\n      }\n    },\n    {\n      \"column\": \"Feature-8\",\n      \"properties\": {\n        \"dtype\": \"number\",\n        \"std\": 0.03660704425708701,\n        \"min\": -0.1238358206293496,\n        \"max\": 0.1270183424283617,\n        \"num_unique_values\": 2882,\n        \"samples\": [\n          0.0150563972972169,\n          0.0180009275822623,\n          -0.0157014276685587\n        ],\n        \"semantic_type\": \"\",\n        \"description\": \"\"\n      }\n    },\n    {\n      \"column\": \"Feature-9\",\n      \"properties\": {\n        \"dtype\": \"number\",\n        \"std\": 0.029512401743720676,\n        \"min\": -0.1029882679392732,\n        \"max\": 0.1093039100965633,\n        \"num_unique_values\": 2882,\n        \"samples\": [\n          -0.0169311367694497,\n          -0.0181524205269766,\n          6.420172944618098e-05\n        ],\n        \"semantic_type\": \"\",\n        \"description\": \"\"\n      }\n    },\n    {\n      \"column\": \"Feature-10\",\n      \"properties\": {\n        \"dtype\": \"number\",\n        \"std\": 0.024919354386586778,\n        \"min\": -0.0912611164479687,\n        \"max\": 0.0937359167053068,\n        \"num_unique_values\": 2882,\n        \"samples\": [\n          0.0611324784629112,\n          -0.0015334298089219,\n          -0.0149399109845939\n        ],\n        \"semantic_type\": \"\",\n        \"description\": \"\"\n      }\n    },\n    {\n      \"column\": \"Word\",\n      \"properties\": {\n        \"dtype\": \"category\",\n        \"num_unique_values\": 91,\n        \"samples\": [\n          \"KIND\",\n          \"FAVOUR\",\n          \"REALLY\"\n        ],\n        \"semantic_type\": \"\",\n        \"description\": \"\"\n      }\n    }\n  ]\n}"
            }
          },
          "metadata": {},
          "execution_count": 11
        }
      ]
    },
    {
      "cell_type": "code",
      "source": [
        "new_words_df.shape"
      ],
      "metadata": {
        "colab": {
          "base_uri": "https://localhost:8080/"
        },
        "id": "tSeFgP8hTYA-",
        "outputId": "2ed39796-67f3-4922-deb3-e6bfdf51bcd1"
      },
      "execution_count": null,
      "outputs": [
        {
          "output_type": "execute_result",
          "data": {
            "text/plain": [
              "(2882, 11)"
            ]
          },
          "metadata": {},
          "execution_count": 12
        }
      ]
    },
    {
      "cell_type": "code",
      "source": [
        "limited_words_df = new_words_df.groupby('Word').apply(lambda x: x.sample(n=20, random_state=42) if len(x) > 20 else x)\n",
        "\n",
        "# Remove the multi-level index created by groupby and apply\n",
        "limited_words_df = limited_words_df.reset_index(drop=True)"
      ],
      "metadata": {
        "id": "YBODh4e2Ta1v"
      },
      "execution_count": null,
      "outputs": []
    },
    {
      "cell_type": "code",
      "source": [
        "limited_words_df.shape"
      ],
      "metadata": {
        "colab": {
          "base_uri": "https://localhost:8080/"
        },
        "id": "hWHPWe9zTa5G",
        "outputId": "27bf2427-6611-4bcf-c56f-8dddeba18878"
      },
      "execution_count": null,
      "outputs": [
        {
          "output_type": "execute_result",
          "data": {
            "text/plain": [
              "(1820, 11)"
            ]
          },
          "metadata": {},
          "execution_count": 14
        }
      ]
    },
    {
      "cell_type": "code",
      "source": [
        "limited_words_df[\"Word\"].value_counts()"
      ],
      "metadata": {
        "colab": {
          "base_uri": "https://localhost:8080/",
          "height": 489
        },
        "id": "1NgbxTKwUYJt",
        "outputId": "76a0029b-5707-4fd1-e213-4eda4e9c412b"
      },
      "execution_count": null,
      "outputs": [
        {
          "output_type": "execute_result",
          "data": {
            "text/plain": [
              "Word\n",
              "A LOT        20\n",
              "SPEAK        20\n",
              "SOMETHING    20\n",
              "SOME ONE     20\n",
              "SOME HOW     20\n",
              "             ..\n",
              "GOOD         20\n",
              "GO           20\n",
              "FREE         20\n",
              "FOOD         20\n",
              "YOU          20\n",
              "Name: count, Length: 91, dtype: int64"
            ],
            "text/html": [
              "<div>\n",
              "<style scoped>\n",
              "    .dataframe tbody tr th:only-of-type {\n",
              "        vertical-align: middle;\n",
              "    }\n",
              "\n",
              "    .dataframe tbody tr th {\n",
              "        vertical-align: top;\n",
              "    }\n",
              "\n",
              "    .dataframe thead th {\n",
              "        text-align: right;\n",
              "    }\n",
              "</style>\n",
              "<table border=\"1\" class=\"dataframe\">\n",
              "  <thead>\n",
              "    <tr style=\"text-align: right;\">\n",
              "      <th></th>\n",
              "      <th>count</th>\n",
              "    </tr>\n",
              "    <tr>\n",
              "      <th>Word</th>\n",
              "      <th></th>\n",
              "    </tr>\n",
              "  </thead>\n",
              "  <tbody>\n",
              "    <tr>\n",
              "      <th>A LOT</th>\n",
              "      <td>20</td>\n",
              "    </tr>\n",
              "    <tr>\n",
              "      <th>SPEAK</th>\n",
              "      <td>20</td>\n",
              "    </tr>\n",
              "    <tr>\n",
              "      <th>SOMETHING</th>\n",
              "      <td>20</td>\n",
              "    </tr>\n",
              "    <tr>\n",
              "      <th>SOME ONE</th>\n",
              "      <td>20</td>\n",
              "    </tr>\n",
              "    <tr>\n",
              "      <th>SOME HOW</th>\n",
              "      <td>20</td>\n",
              "    </tr>\n",
              "    <tr>\n",
              "      <th>...</th>\n",
              "      <td>...</td>\n",
              "    </tr>\n",
              "    <tr>\n",
              "      <th>GOOD</th>\n",
              "      <td>20</td>\n",
              "    </tr>\n",
              "    <tr>\n",
              "      <th>GO</th>\n",
              "      <td>20</td>\n",
              "    </tr>\n",
              "    <tr>\n",
              "      <th>FREE</th>\n",
              "      <td>20</td>\n",
              "    </tr>\n",
              "    <tr>\n",
              "      <th>FOOD</th>\n",
              "      <td>20</td>\n",
              "    </tr>\n",
              "    <tr>\n",
              "      <th>YOU</th>\n",
              "      <td>20</td>\n",
              "    </tr>\n",
              "  </tbody>\n",
              "</table>\n",
              "<p>91 rows × 1 columns</p>\n",
              "</div><br><label><b>dtype:</b> int64</label>"
            ]
          },
          "metadata": {},
          "execution_count": 15
        }
      ]
    },
    {
      "cell_type": "code",
      "source": [
        "limited_words_df[\"Word\"].nunique()"
      ],
      "metadata": {
        "colab": {
          "base_uri": "https://localhost:8080/"
        },
        "id": "OFJI00W0M76x",
        "outputId": "53138154-ba62-4905-fef4-e3932d0b8356"
      },
      "execution_count": null,
      "outputs": [
        {
          "output_type": "execute_result",
          "data": {
            "text/plain": [
              "91"
            ]
          },
          "metadata": {},
          "execution_count": 16
        }
      ]
    },
    {
      "cell_type": "code",
      "source": [
        "limited_words_df.info()"
      ],
      "metadata": {
        "id": "J2ELQFWV3td4",
        "colab": {
          "base_uri": "https://localhost:8080/"
        },
        "collapsed": true,
        "outputId": "cc1416ee-7757-4855-923c-0ba79219cf90"
      },
      "execution_count": null,
      "outputs": [
        {
          "output_type": "stream",
          "name": "stdout",
          "text": [
            "<class 'pandas.core.frame.DataFrame'>\n",
            "RangeIndex: 1820 entries, 0 to 1819\n",
            "Data columns (total 11 columns):\n",
            " #   Column      Non-Null Count  Dtype  \n",
            "---  ------      --------------  -----  \n",
            " 0   Feature-1   1820 non-null   float64\n",
            " 1   Feature-2   1820 non-null   float64\n",
            " 2   Feature-3   1820 non-null   float64\n",
            " 3   Feature-4   1820 non-null   float64\n",
            " 4   Feature-5   1820 non-null   float64\n",
            " 5   Feature-6   1820 non-null   float64\n",
            " 6   Feature-7   1820 non-null   float64\n",
            " 7   Feature-8   1820 non-null   float64\n",
            " 8   Feature-9   1820 non-null   float64\n",
            " 9   Feature-10  1820 non-null   float64\n",
            " 10  Word        1820 non-null   object \n",
            "dtypes: float64(10), object(1)\n",
            "memory usage: 156.5+ KB\n"
          ]
        }
      ]
    },
    {
      "cell_type": "code",
      "source": [
        "df = limited_words_df.copy()"
      ],
      "metadata": {
        "id": "EeKs5RLNVmpF"
      },
      "execution_count": null,
      "outputs": []
    },
    {
      "cell_type": "code",
      "source": [
        "inputs = df.drop(['Word'], axis=1)\n",
        "targets = df['Word']"
      ],
      "metadata": {
        "id": "QRLk403A4cG7"
      },
      "execution_count": null,
      "outputs": []
    },
    {
      "cell_type": "code",
      "source": [
        "std_scaler = StandardScaler()\n",
        "min_max_scaler = MinMaxScaler()"
      ],
      "metadata": {
        "id": "TLgoTv4ju-jh"
      },
      "execution_count": null,
      "outputs": []
    },
    {
      "cell_type": "code",
      "source": [
        "scaled_inputs = std_scaler.fit_transform(inputs)"
      ],
      "metadata": {
        "id": "ViO9gYnju-m5"
      },
      "execution_count": null,
      "outputs": []
    },
    {
      "cell_type": "code",
      "source": [
        "scaled_inputs[1]"
      ],
      "metadata": {
        "colab": {
          "base_uri": "https://localhost:8080/"
        },
        "id": "Efa62RUIv100",
        "outputId": "ec45ac32-90fc-4843-e8ff-48b02597d576"
      },
      "execution_count": null,
      "outputs": [
        {
          "output_type": "execute_result",
          "data": {
            "text/plain": [
              "array([-0.66569805,  1.48072105, -0.12757284,  0.6378291 , -0.37635722,\n",
              "        0.1777041 , -0.81292892,  0.24531453,  0.27539237,  0.13839179])"
            ]
          },
          "metadata": {},
          "execution_count": 22
        }
      ]
    },
    {
      "cell_type": "code",
      "source": [
        "scaled_inputs[1].shape"
      ],
      "metadata": {
        "colab": {
          "base_uri": "https://localhost:8080/"
        },
        "id": "cnOvqIeCVymX",
        "outputId": "439bf0f7-e97f-4ebf-af0a-018df736de4f"
      },
      "execution_count": null,
      "outputs": [
        {
          "output_type": "execute_result",
          "data": {
            "text/plain": [
              "(10,)"
            ]
          },
          "metadata": {},
          "execution_count": 23
        }
      ]
    },
    {
      "cell_type": "code",
      "source": [
        "encoder = LabelEncoder()\n",
        "target = encoder.fit_transform(targets)"
      ],
      "metadata": {
        "id": "K3D8iNnx4cKM"
      },
      "execution_count": null,
      "outputs": []
    },
    {
      "cell_type": "code",
      "source": [
        "type(target)"
      ],
      "metadata": {
        "colab": {
          "base_uri": "https://localhost:8080/"
        },
        "id": "HYfRNOz32_5S",
        "outputId": "cbf239a1-4c2d-42d1-fed9-ed9277813db3"
      },
      "execution_count": null,
      "outputs": [
        {
          "output_type": "execute_result",
          "data": {
            "text/plain": [
              "numpy.ndarray"
            ]
          },
          "metadata": {},
          "execution_count": 25
        }
      ]
    },
    {
      "cell_type": "code",
      "source": [
        "inputs_train, inputs_test, target_train, target_test = train_test_split(scaled_inputs, target, test_size=0.1, random_state=369)"
      ],
      "metadata": {
        "id": "7UNRpXs-2_8v"
      },
      "execution_count": null,
      "outputs": []
    },
    {
      "cell_type": "code",
      "source": [
        "inputs_train.shape"
      ],
      "metadata": {
        "colab": {
          "base_uri": "https://localhost:8080/"
        },
        "id": "azrVgy2elqfR",
        "outputId": "6b5f95e2-6c69-4c8a-fc87-4b71c2b1d1c3"
      },
      "execution_count": null,
      "outputs": [
        {
          "output_type": "execute_result",
          "data": {
            "text/plain": [
              "(1638, 10)"
            ]
          },
          "metadata": {},
          "execution_count": 27
        }
      ]
    },
    {
      "cell_type": "code",
      "source": [
        "def np_data(data):\n",
        "  labels = np.array(data)\n",
        "\n",
        "  return labels"
      ],
      "metadata": {
        "id": "sDoRAe518Y-3"
      },
      "execution_count": null,
      "outputs": []
    },
    {
      "cell_type": "code",
      "source": [
        "## Convertint pandas data to numpy\n",
        "numpy_train_inputs = np_data(inputs_train)\n",
        "numpy_train_target = np_data(target_train)\n",
        "numpy_test_inputs = np_data(inputs_test)\n",
        "numpy_test_target = np_data(target_test)"
      ],
      "metadata": {
        "id": "Q-YNk03g8pnt"
      },
      "execution_count": null,
      "outputs": []
    },
    {
      "cell_type": "code",
      "source": [
        "# Train Dataset\n",
        "train_dataset = TensorDataset(torch.from_numpy(numpy_train_inputs), torch.from_numpy(numpy_train_target))\n",
        "# Test Dataset\n",
        "test_dataset = TensorDataset(torch.from_numpy(numpy_test_inputs), torch.from_numpy(numpy_test_target))"
      ],
      "metadata": {
        "id": "5txakERU8ppo"
      },
      "execution_count": null,
      "outputs": []
    },
    {
      "cell_type": "code",
      "source": [
        "test_dataset.tensors[0].shape"
      ],
      "metadata": {
        "colab": {
          "base_uri": "https://localhost:8080/"
        },
        "id": "j_yqcBC--Gdc",
        "outputId": "c51353a6-bb76-4ef1-ac5f-f4f1ba81b642"
      },
      "execution_count": null,
      "outputs": [
        {
          "output_type": "execute_result",
          "data": {
            "text/plain": [
              "torch.Size([182, 10])"
            ]
          },
          "metadata": {},
          "execution_count": 31
        }
      ]
    },
    {
      "cell_type": "code",
      "source": [
        "batch_size = 16\n",
        "train_loader = DataLoader(train_dataset, batch_size=batch_size, shuffle=True)\n",
        "test_loader = DataLoader(test_dataset, batch_size=batch_size, shuffle=False)"
      ],
      "metadata": {
        "id": "UEBBL_ap8ptu"
      },
      "execution_count": null,
      "outputs": []
    },
    {
      "cell_type": "code",
      "source": [
        "# obtaining one batch of training data to check the shape\n",
        "dataiter = iter(train_loader)\n",
        "sample_x, sample_y = next(dataiter)\n",
        "\n",
        "print('Sample input size: ', sample_x.size()) # batch_size, seq_length\n",
        "print('Sample input: \\n', sample_x)\n",
        "print('Sample output size: ', sample_y.size())\n",
        "print('Sample output: \\n', sample_y)"
      ],
      "metadata": {
        "colab": {
          "base_uri": "https://localhost:8080/"
        },
        "id": "8-LAEL5O8pvm",
        "outputId": "5b3a9941-5e64-4804-af79-3064a83667d9"
      },
      "execution_count": null,
      "outputs": [
        {
          "output_type": "stream",
          "name": "stdout",
          "text": [
            "Sample input size:  torch.Size([16, 10])\n",
            "Sample input: \n",
            " tensor([[ 2.0335,  0.1890,  0.2448, -0.7361,  0.9036, -0.4125, -0.0325,  0.7342,\n",
            "          1.1028, -0.9364],\n",
            "        [-0.3415, -0.9167,  0.2413, -0.8649,  0.7716, -0.0753, -0.9155, -2.4256,\n",
            "         -1.4417, -0.0756],\n",
            "        [-1.2616, -2.1307, -0.1287,  2.1558,  0.5597,  0.4947,  0.6627, -0.2103,\n",
            "         -2.1849,  0.4933],\n",
            "        [-0.4837,  0.1276, -0.5410, -1.2717, -0.5279, -0.6251,  1.0081, -0.1408,\n",
            "          0.5381,  0.2036],\n",
            "        [ 0.5861, -0.3867, -0.1316,  0.9118, -0.8746,  0.5202,  0.3976, -2.1706,\n",
            "          1.3656, -1.6024],\n",
            "        [ 0.0329,  0.4360,  1.1991,  1.1819, -0.2728, -0.3539,  0.2688, -0.4481,\n",
            "         -0.3960, -0.7281],\n",
            "        [-0.7033, -0.2860,  1.5238,  0.8087, -0.7391, -0.0955, -0.2011,  0.6591,\n",
            "          0.0032,  2.1662],\n",
            "        [ 1.4663,  1.3510,  0.1792,  1.0466,  0.0344,  0.1450,  1.2126, -2.4536,\n",
            "         -2.1580,  0.5594],\n",
            "        [ 0.5941,  0.9479, -0.0689,  0.8833,  0.5456, -1.6733, -0.4069,  0.2046,\n",
            "          0.5204, -0.2002],\n",
            "        [ 1.4611,  0.7752,  0.6724, -0.6175, -0.5239, -0.5583, -0.9931,  1.9455,\n",
            "          1.8977,  0.1137],\n",
            "        [ 0.0724,  0.4425, -0.0658, -0.6352, -0.8026, -0.0517,  0.3424, -0.8055,\n",
            "         -1.8369, -0.3892],\n",
            "        [-1.5947,  0.3433,  1.2231, -0.1733,  0.7777, -1.8856,  0.7991,  0.7449,\n",
            "         -0.0878,  0.0793],\n",
            "        [-0.3234, -0.9239, -0.3543, -0.7304, -0.0766, -1.6126,  0.5645, -0.1836,\n",
            "          0.2004, -0.0755],\n",
            "        [-0.1996,  0.8517, -0.8194, -0.2358, -0.5958,  0.0291,  1.6249,  0.1653,\n",
            "         -1.1346, -0.2400],\n",
            "        [ 1.8741, -0.0148, -1.8855, -2.5690,  1.5739,  0.3334, -0.7835,  1.0082,\n",
            "         -0.6665,  0.6299],\n",
            "        [-0.2873, -0.3015,  2.5198, -1.4257, -1.0103,  1.8968, -0.3953,  1.2290,\n",
            "          1.1772,  3.1004]], dtype=torch.float64)\n",
            "Sample output size:  torch.Size([16])\n",
            "Sample output: \n",
            " tensor([64,  1, 83, 75, 26, 59, 28, 84, 61, 60, 77, 14, 72, 56, 51, 54])\n"
          ]
        }
      ]
    },
    {
      "cell_type": "code",
      "source": [],
      "metadata": {
        "id": "4aZxSf7a8px5"
      },
      "execution_count": null,
      "outputs": []
    },
    {
      "cell_type": "markdown",
      "source": [
        "**Building a Model**"
      ],
      "metadata": {
        "id": "KoBO31k3_KT2"
      }
    },
    {
      "cell_type": "code",
      "source": [
        "\n",
        "?nn.LSTM"
      ],
      "metadata": {
        "id": "monuoAyl8pz7"
      },
      "execution_count": null,
      "outputs": []
    },
    {
      "cell_type": "code",
      "source": [
        "# batch_size = 32\n",
        "# input_features = 64\n",
        "# output_features = 114"
      ],
      "metadata": {
        "id": "0vBdy5iPmV00"
      },
      "execution_count": null,
      "outputs": []
    },
    {
      "cell_type": "code",
      "source": [
        "class LSTM_Model(nn.Module):\n",
        "  def __init__(self, input_size, layers, hidden_dim, output_size):\n",
        "    super(LSTM_Model, self).__init__()\n",
        "\n",
        "    self.input_size = input_size\n",
        "    self.layers = layers\n",
        "    self.hidden_dim = hidden_dim\n",
        "    self.output_size = output_size\n",
        "\n",
        "    # lstm\n",
        "    self.lstm = nn.LSTM(input_size = self.input_size,\n",
        "                        hidden_size = self.hidden_dim,\n",
        "                        num_layers = self.layers,\n",
        "                        bias = True,\n",
        "                        )\n",
        "\n",
        "    # Fully connected layer | Output layer\n",
        "    self.output_layer = nn.Linear(self.hidden_dim, self.output_size)\n",
        "\n",
        "  def forward(self, inputs, hidden_inputs):\n",
        "\n",
        "    # Ensure inputs and hidden states are of type float32\n",
        "    inputs = torch.tensor(inputs, dtype=torch.float32)\n",
        "    hidden_inputs = (\n",
        "        torch.tensor(hidden_inputs[0], dtype=torch.float32),\n",
        "        torch.tensor(hidden_inputs[1], dtype=torch.float32)\n",
        "    )\n",
        "\n",
        "    # LSTM expects input of shape (seq_length, batch_size, input_size)\n",
        "    inputs = inputs.unsqueeze(0)  # Add sequence length dimension if needed\n",
        "\n",
        "    # Pass through LSTM\n",
        "    lstm_outputs, hidden_outputs = self.lstm(inputs, hidden_inputs)\n",
        "\n",
        "    # Reshape LSTM outputs to (batch_size, hidden_dim)\n",
        "    lstm_outputs = lstm_outputs.squeeze(0)  # Remove sequence length dimension\n",
        "\n",
        "    # Pass through the fully connected layer\n",
        "    outputs = self.output_layer(lstm_outputs)  # Shape: (batch_size, output_size)\n",
        "\n",
        "    # outputs = F.softmax(outputs, dim=1)\n",
        "\n",
        "    return outputs, hidden_outputs\n"
      ],
      "metadata": {
        "id": "EtPiBfxWmV3M"
      },
      "execution_count": null,
      "outputs": []
    },
    {
      "cell_type": "code",
      "source": [
        "# sequence length should be no.of frames that are representing ne word, in this case I making sequence length to 28\n",
        "# the frames are not consistent, so I will be using augmentation method (creating the data by applying simple transformations)\n",
        "# input_size i.i., no.of features(columns in simple terms) is 64\n",
        "# hidden_inputs shape will be (sequence_length, batch_size, n_layers)\n",
        "# inputs shape will be (sequence_length, batch_size, input_size)"
      ],
      "metadata": {
        "id": "hNAyZwVxmV-8"
      },
      "execution_count": null,
      "outputs": []
    },
    {
      "cell_type": "code",
      "source": [
        "input_size = 10    ## input features\n",
        "hidden_layers = 3\n",
        "hidden_dim = 1024\n",
        "output_size = limited_words_df[\"Word\"].nunique()\n",
        "seq_length = 20"
      ],
      "metadata": {
        "id": "Lb0exycXmV5z"
      },
      "execution_count": null,
      "outputs": []
    },
    {
      "cell_type": "code",
      "source": [
        "# ## demo\n",
        "h0 = torch.zeros(hidden_layers, batch_size, hidden_dim)\n",
        "c0 = torch.zeros(hidden_layers, batch_size, hidden_dim)\n",
        "h = (h0, c0)\n",
        "inputs = sample_x\n",
        "\n",
        "model = LSTM_Model(input_size, hidden_layers, hidden_dim, output_size)\n",
        "outputs, hidden_outputs = model(inputs, h)"
      ],
      "metadata": {
        "id": "S7GJWgMhmV8j"
      },
      "execution_count": null,
      "outputs": []
    },
    {
      "cell_type": "code",
      "source": [
        "sample_x.shape[0]"
      ],
      "metadata": {
        "colab": {
          "base_uri": "https://localhost:8080/"
        },
        "id": "dvhHJES1PQwG",
        "outputId": "e74a8a83-f5e0-4fdf-d420-40cfa1b4886f"
      },
      "execution_count": null,
      "outputs": [
        {
          "output_type": "execute_result",
          "data": {
            "text/plain": [
              "16"
            ]
          },
          "metadata": {},
          "execution_count": 37
        }
      ]
    },
    {
      "cell_type": "code",
      "source": [
        "outputs.shape"
      ],
      "metadata": {
        "colab": {
          "base_uri": "https://localhost:8080/"
        },
        "id": "hm1eJSjRKTTI",
        "outputId": "a487975a-1574-435d-987b-01dbc69a8726"
      },
      "execution_count": null,
      "outputs": [
        {
          "output_type": "execute_result",
          "data": {
            "text/plain": [
              "torch.Size([16, 91])"
            ]
          },
          "metadata": {},
          "execution_count": 38
        }
      ]
    },
    {
      "cell_type": "code",
      "source": [
        "sample_y.shape"
      ],
      "metadata": {
        "colab": {
          "base_uri": "https://localhost:8080/"
        },
        "id": "_WqHyGO_KehN",
        "outputId": "abc59937-e44b-420d-fefa-c403c2a7b757"
      },
      "execution_count": null,
      "outputs": [
        {
          "output_type": "execute_result",
          "data": {
            "text/plain": [
              "torch.Size([16])"
            ]
          },
          "metadata": {},
          "execution_count": 39
        }
      ]
    },
    {
      "cell_type": "code",
      "source": [
        "## model building\n",
        "model = LSTM_Model(input_size, hidden_layers, hidden_dim, output_size)\n",
        "## optimizer\n",
        "optimizer = optim.Adam(model.parameters(), lr=0.001)\n",
        "## loss function\n",
        "loss_fun = nn.CrossEntropyLoss()\n",
        "# loss_fun = nn.MSELoss()"
      ],
      "metadata": {
        "id": "bSBfmAmXOBUB"
      },
      "execution_count": null,
      "outputs": []
    },
    {
      "cell_type": "code",
      "source": [],
      "metadata": {
        "id": "j0RNz0goOBi5"
      },
      "execution_count": null,
      "outputs": []
    },
    {
      "cell_type": "code",
      "source": [
        "def training_model(nepochs, train_loader, model, optimizer, loss_fun):\n",
        "\n",
        "  nepochs = nepochs\n",
        "\n",
        "  training_loss = np.zeros(nepochs)\n",
        "  training_acc = np.zeros(nepochs)\n",
        "\n",
        "  for epoch in range(nepochs):\n",
        "\n",
        "    batch_loss = []\n",
        "    batch_acc = []\n",
        "\n",
        "    for train_x, train_y in train_loader:\n",
        "\n",
        "      batch_size = train_x.shape[0]\n",
        "      ht = torch.zeros(hidden_layers, batch_size, hidden_dim)\n",
        "      ct = torch.zeros(hidden_layers, batch_size, hidden_dim)\n",
        "      hidden_inputs = (ht, ct)\n",
        "\n",
        "      outputs, hidden_outputs = model(train_x, hidden_inputs)\n",
        "\n",
        "      loss = loss_fun(outputs, train_y)\n",
        "\n",
        "      optimizer.zero_grad()\n",
        "      loss.backward()\n",
        "      optimizer.step()\n",
        "\n",
        "      ## appending loss to the batch_loss\n",
        "      batch_loss.append(loss.item())\n",
        "\n",
        "      matches = torch.argmax(outputs, axis=1) == train_y\n",
        "      matchesNumeric = matches.float()\n",
        "      accuracyPct = 100 * torch.mean(matchesNumeric)\n",
        "\n",
        "      ## appending accuracy to the batch_acc\n",
        "      batch_acc.append(accuracyPct)\n",
        "\n",
        "    if epoch % 5 == 0:\n",
        "      print(f\"epoch {epoch} loss: {np.mean(batch_loss)}, acc: {np.mean(batch_acc)}\")\n",
        "\n",
        "    training_loss[epoch] = np.mean(batch_loss)\n",
        "    training_acc[epoch] = np.mean(batch_acc)\n",
        "\n",
        "  return training_loss, training_acc\n"
      ],
      "metadata": {
        "id": "bn1KrjIXmWBY"
      },
      "execution_count": null,
      "outputs": []
    },
    {
      "cell_type": "code",
      "source": [
        "training_loss, training_acc = training_model(20, train_loader, model, optimizer, loss_fun)"
      ],
      "metadata": {
        "colab": {
          "base_uri": "https://localhost:8080/"
        },
        "collapsed": true,
        "id": "nmM9KcrvwzV9",
        "outputId": "6e6a61d7-61ff-491c-8379-fadb1daa8243"
      },
      "execution_count": null,
      "outputs": [
        {
          "output_type": "stream",
          "name": "stdout",
          "text": [
            "epoch 0 loss: 4.161276210858984, acc: 5.198220252990723\n",
            "epoch 5 loss: 1.492916640726108, acc: 54.53074264526367\n",
            "epoch 10 loss: 0.6283592076845539, acc: 79.69255065917969\n",
            "epoch 15 loss: 0.32685618377426295, acc: 89.68446350097656\n",
            "epoch 20 loss: 0.17670206725597382, acc: 94.37702178955078\n"
          ]
        }
      ]
    },
    {
      "cell_type": "code",
      "source": [
        "import matplotlib.pyplot as plt\n",
        "import seaborn as sns\n",
        "sns.set()"
      ],
      "metadata": {
        "id": "4qPWa4qU8goN"
      },
      "execution_count": null,
      "outputs": []
    },
    {
      "cell_type": "code",
      "source": [
        "fig, (ax1, ax2) = plt.subplots(nrows=1, ncols=2, figsize=(12, 4))\n",
        "\n",
        "ax1.plot(training_loss)\n",
        "ax2.plot(training_acc)\n",
        "\n",
        "ax1.set_title(\"Training Loss\")\n",
        "ax2.set_title(\"Training Accuracy\")"
      ],
      "metadata": {
        "colab": {
          "base_uri": "https://localhost:8080/",
          "height": 405
        },
        "id": "FWLxYr4e8bwt",
        "outputId": "c9eea015-910c-4e25-bc8f-4d58792d0d88"
      },
      "execution_count": null,
      "outputs": [
        {
          "output_type": "execute_result",
          "data": {
            "text/plain": [
              "Text(0.5, 1.0, 'Training Accuracy')"
            ]
          },
          "metadata": {},
          "execution_count": 44
        },
        {
          "output_type": "display_data",
          "data": {
            "text/plain": [
              "<Figure size 1200x400 with 2 Axes>"
            ],
            "image/png": "[encoded data removed]"
          },
          "metadata": {}
        }
      ]
    },
    {
      "cell_type": "code",
      "source": [
        "with torch.no_grad():\n",
        "    batch_test_acc = []\n",
        "    batch_test_loss = []\n",
        "\n",
        "    for tex_x, test_y in test_loader:\n",
        "        batch_size = tex_x.shape[0]\n",
        "        ht = torch.zeros(hidden_layers, batch_size, hidden_dim)\n",
        "        ct = torch.zeros(hidden_layers, batch_size, hidden_dim)\n",
        "        hidden_inputs = (ht, ct)\n",
        "\n",
        "        outputs, hidden_outputs = model(tex_x, hidden_inputs)\n",
        "\n",
        "        loss = loss_fun(outputs, test_y)\n",
        "\n",
        "        batch_test_loss.append(loss.item())\n",
        "\n",
        "        matches = torch.argmax(outputs, axis=1) == test_y\n",
        "        matchesNumeric = matches.float()\n",
        "        accuracyPct = 100 * torch.mean(matchesNumeric)\n",
        "        batch_test_acc.append(accuracyPct)\n",
        "\n",
        "    test_loss = np.mean(batch_test_loss)\n",
        "    test_acc = np.mean(batch_test_acc)\n",
        "\n",
        "    print(f\"Test Loss: {test_loss}, Test Accuracy: {test_acc}\")\n",
        "\n"
      ],
      "metadata": {
        "colab": {
          "base_uri": "https://localhost:8080/"
        },
        "id": "cAIJ676-wzYb",
        "outputId": "9294ca2b-82e3-4888-c904-624998b706dc"
      },
      "execution_count": null,
      "outputs": [
        {
          "output_type": "stream",
          "name": "stdout",
          "text": [
            "Test Loss: 2.0870465685923896, Test Accuracy: 64.2361068725586\n"
          ]
        }
      ]
    },
    {
      "cell_type": "code",
      "source": [],
      "metadata": {
        "id": "dOssLIjd9Xqu"
      },
      "execution_count": null,
      "outputs": []
    },
    {
      "cell_type": "code",
      "source": [
        "# import pickle\n",
        "\n",
        "# pickle.dump(model, open('words_model.pkl', 'wb'))\n",
        "# pickle.dump(std_scaler, open('words_std_scaler.pkl', 'wb'))\n",
        "# pickle.dump(encoder, open('words_encoder.pkl', 'wb'))"
      ],
      "metadata": {
        "id": "dlvlws2kwzam"
      },
      "execution_count": null,
      "outputs": []
    },
    {
      "cell_type": "code",
      "source": [
        "# original_labels = encoder.inverse_transform(targets)\n",
        "# original_labels"
      ],
      "metadata": {
        "id": "YG-QqYS2wzeD"
      },
      "execution_count": null,
      "outputs": []
    },
    {
      "cell_type": "code",
      "source": [],
      "metadata": {
        "id": "e__LEE_eU9y1"
      },
      "execution_count": null,
      "outputs": []
    },
    {
      "cell_type": "code",
      "source": [],
      "metadata": {
        "id": "rnbh9YaxmWEE"
      },
      "execution_count": null,
      "outputs": []
    },
    {
      "cell_type": "code",
      "source": [],
      "metadata": {
        "id": "WYRLQSAemWGf"
      },
      "execution_count": null,
      "outputs": []
    },
    {
      "cell_type": "code",
      "source": [],
      "metadata": {
        "id": "5Ui00be6mWI0"
      },
      "execution_count": null,
      "outputs": []
    },
    {
      "cell_type": "code",
      "source": [],
      "metadata": {
        "id": "_8EYBAg-mWL4"
      },
      "execution_count": null,
      "outputs": []
    },
    {
      "cell_type": "code",
      "source": [],
      "metadata": {
        "id": "BRfw9tlZ8ZA_"
      },
      "execution_count": null,
      "outputs": []
    },
    {
      "cell_type": "code",
      "source": [],
      "metadata": {
        "id": "khnWA-p68ZD6"
      },
      "execution_count": null,
      "outputs": []
    }
  ]
}