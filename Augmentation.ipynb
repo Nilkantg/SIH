{
 "cells": [
  {
   "cell_type": "code",
   "execution_count": 1,
   "id": "06afa68f-e598-4b29-ad1f-4d308ad65af2",
   "metadata": {},
   "outputs": [],
   "source": [
    "import torch\n",
    "import pandas as pd\n",
    "import numpy as np\n",
    "\n",
    "import matplotlib.pyplot as plt\n",
    "import seaborn as sns\n",
    "sns.set()\n",
    "\n",
    "import torch\n",
    "import cv2\n",
    "import mediapipe as mp\n",
    "import requests\n",
    "from torchvision import transforms\n",
    "from PIL import Image\n",
    "import os\n",
    "\n",
    "import warnings\n",
    "warnings.filterwarnings(\"ignore\")"
   ]
  },
  {
   "cell_type": "code",
   "execution_count": 2,
   "id": "b9ab1336-068e-49db-98f7-dd27206caa76",
   "metadata": {},
   "outputs": [],
   "source": [
    "words_corpus = pd.read_csv(r\"words_data.csv\")\n",
    "word_frames = pd.read_excel(\"ISL_CSLRT_Corpus_word_details.xlsx\")"
   ]
  },
  {
   "cell_type": "code",
   "execution_count": 3,
   "id": "fcbc6fa9-f9a2-4d5d-bf2d-95952319ab38",
   "metadata": {},
   "outputs": [
    {
     "data": {
      "text/html": [
       "<div>\n",
       "<style scoped>\n",
       "    .dataframe tbody tr th:only-of-type {\n",
       "        vertical-align: middle;\n",
       "    }\n",
       "\n",
       "    .dataframe tbody tr th {\n",
       "        vertical-align: top;\n",
       "    }\n",
       "\n",
       "    .dataframe thead th {\n",
       "        text-align: right;\n",
       "    }\n",
       "</style>\n",
       "<table border=\"1\" class=\"dataframe\">\n",
       "  <thead>\n",
       "    <tr style=\"text-align: right;\">\n",
       "      <th></th>\n",
       "      <th>Unnamed: 0</th>\n",
       "      <th>Word</th>\n",
       "      <th>0</th>\n",
       "      <th>1</th>\n",
       "      <th>2</th>\n",
       "      <th>3</th>\n",
       "      <th>4</th>\n",
       "      <th>5</th>\n",
       "      <th>6</th>\n",
       "      <th>7</th>\n",
       "      <th>...</th>\n",
       "      <th>54</th>\n",
       "      <th>55</th>\n",
       "      <th>56</th>\n",
       "      <th>57</th>\n",
       "      <th>58</th>\n",
       "      <th>59</th>\n",
       "      <th>60</th>\n",
       "      <th>61</th>\n",
       "      <th>62</th>\n",
       "      <th>63</th>\n",
       "    </tr>\n",
       "  </thead>\n",
       "  <tbody>\n",
       "    <tr>\n",
       "      <th>0</th>\n",
       "      <td>0</td>\n",
       "      <td>A LOT</td>\n",
       "      <td>0.316836</td>\n",
       "      <td>0.439745</td>\n",
       "      <td>7.139941e-08</td>\n",
       "      <td>0.322064</td>\n",
       "      <td>0.408899</td>\n",
       "      <td>-0.012561</td>\n",
       "      <td>0.320306</td>\n",
       "      <td>0.373865</td>\n",
       "      <td>...</td>\n",
       "      <td>0.260467</td>\n",
       "      <td>0.404656</td>\n",
       "      <td>-0.028454</td>\n",
       "      <td>0.251036</td>\n",
       "      <td>0.396338</td>\n",
       "      <td>-0.031925</td>\n",
       "      <td>0.241957</td>\n",
       "      <td>0.388138</td>\n",
       "      <td>-0.034238</td>\n",
       "      <td>0.061003</td>\n",
       "    </tr>\n",
       "    <tr>\n",
       "      <th>1</th>\n",
       "      <td>1</td>\n",
       "      <td>A LOT</td>\n",
       "      <td>0.777162</td>\n",
       "      <td>0.594822</td>\n",
       "      <td>1.888133e-07</td>\n",
       "      <td>0.766787</td>\n",
       "      <td>0.569503</td>\n",
       "      <td>-0.029101</td>\n",
       "      <td>0.766939</td>\n",
       "      <td>0.543866</td>\n",
       "      <td>...</td>\n",
       "      <td>0.831578</td>\n",
       "      <td>0.531044</td>\n",
       "      <td>-0.019791</td>\n",
       "      <td>0.839598</td>\n",
       "      <td>0.514735</td>\n",
       "      <td>-0.025115</td>\n",
       "      <td>0.845963</td>\n",
       "      <td>0.498970</td>\n",
       "      <td>-0.028685</td>\n",
       "      <td>0.066329</td>\n",
       "    </tr>\n",
       "    <tr>\n",
       "      <th>2</th>\n",
       "      <td>2</td>\n",
       "      <td>A LOT</td>\n",
       "      <td>0.282781</td>\n",
       "      <td>0.426264</td>\n",
       "      <td>9.168880e-08</td>\n",
       "      <td>0.279939</td>\n",
       "      <td>0.391712</td>\n",
       "      <td>0.005966</td>\n",
       "      <td>0.275245</td>\n",
       "      <td>0.354410</td>\n",
       "      <td>...</td>\n",
       "      <td>0.289899</td>\n",
       "      <td>0.329482</td>\n",
       "      <td>-0.034678</td>\n",
       "      <td>0.295946</td>\n",
       "      <td>0.304782</td>\n",
       "      <td>-0.038501</td>\n",
       "      <td>0.301991</td>\n",
       "      <td>0.284427</td>\n",
       "      <td>-0.040737</td>\n",
       "      <td>0.070718</td>\n",
       "    </tr>\n",
       "    <tr>\n",
       "      <th>3</th>\n",
       "      <td>3</td>\n",
       "      <td>A LOT</td>\n",
       "      <td>0.613345</td>\n",
       "      <td>0.728356</td>\n",
       "      <td>7.959181e-08</td>\n",
       "      <td>0.623554</td>\n",
       "      <td>0.698023</td>\n",
       "      <td>-0.007444</td>\n",
       "      <td>0.642625</td>\n",
       "      <td>0.672808</td>\n",
       "      <td>...</td>\n",
       "      <td>0.660544</td>\n",
       "      <td>0.768533</td>\n",
       "      <td>-0.024703</td>\n",
       "      <td>0.665910</td>\n",
       "      <td>0.764937</td>\n",
       "      <td>-0.027244</td>\n",
       "      <td>0.669510</td>\n",
       "      <td>0.756921</td>\n",
       "      <td>-0.028706</td>\n",
       "      <td>0.074697</td>\n",
       "    </tr>\n",
       "    <tr>\n",
       "      <th>4</th>\n",
       "      <td>4</td>\n",
       "      <td>ABUSE</td>\n",
       "      <td>0.493275</td>\n",
       "      <td>0.434260</td>\n",
       "      <td>8.329591e-08</td>\n",
       "      <td>0.508639</td>\n",
       "      <td>0.422977</td>\n",
       "      <td>-0.002672</td>\n",
       "      <td>0.521094</td>\n",
       "      <td>0.407595</td>\n",
       "      <td>...</td>\n",
       "      <td>0.498473</td>\n",
       "      <td>0.365121</td>\n",
       "      <td>-0.024746</td>\n",
       "      <td>0.509517</td>\n",
       "      <td>0.378327</td>\n",
       "      <td>-0.025282</td>\n",
       "      <td>0.514609</td>\n",
       "      <td>0.389408</td>\n",
       "      <td>-0.024399</td>\n",
       "      <td>0.016817</td>\n",
       "    </tr>\n",
       "  </tbody>\n",
       "</table>\n",
       "<p>5 rows × 66 columns</p>\n",
       "</div>"
      ],
      "text/plain": [
       "   Unnamed: 0   Word         0         1             2         3         4  \\\n",
       "0           0  A LOT  0.316836  0.439745  7.139941e-08  0.322064  0.408899   \n",
       "1           1  A LOT  0.777162  0.594822  1.888133e-07  0.766787  0.569503   \n",
       "2           2  A LOT  0.282781  0.426264  9.168880e-08  0.279939  0.391712   \n",
       "3           3  A LOT  0.613345  0.728356  7.959181e-08  0.623554  0.698023   \n",
       "4           4  ABUSE  0.493275  0.434260  8.329591e-08  0.508639  0.422977   \n",
       "\n",
       "          5         6         7  ...        54        55        56        57  \\\n",
       "0 -0.012561  0.320306  0.373865  ...  0.260467  0.404656 -0.028454  0.251036   \n",
       "1 -0.029101  0.766939  0.543866  ...  0.831578  0.531044 -0.019791  0.839598   \n",
       "2  0.005966  0.275245  0.354410  ...  0.289899  0.329482 -0.034678  0.295946   \n",
       "3 -0.007444  0.642625  0.672808  ...  0.660544  0.768533 -0.024703  0.665910   \n",
       "4 -0.002672  0.521094  0.407595  ...  0.498473  0.365121 -0.024746  0.509517   \n",
       "\n",
       "         58        59        60        61        62        63  \n",
       "0  0.396338 -0.031925  0.241957  0.388138 -0.034238  0.061003  \n",
       "1  0.514735 -0.025115  0.845963  0.498970 -0.028685  0.066329  \n",
       "2  0.304782 -0.038501  0.301991  0.284427 -0.040737  0.070718  \n",
       "3  0.764937 -0.027244  0.669510  0.756921 -0.028706  0.074697  \n",
       "4  0.378327 -0.025282  0.514609  0.389408 -0.024399  0.016817  \n",
       "\n",
       "[5 rows x 66 columns]"
      ]
     },
     "execution_count": 3,
     "metadata": {},
     "output_type": "execute_result"
    }
   ],
   "source": [
    "words_corpus.head()"
   ]
  },
  {
   "cell_type": "code",
   "execution_count": 4,
   "id": "80a42944-801e-4a92-a65f-b06f98a7bcae",
   "metadata": {},
   "outputs": [
    {
     "data": {
      "text/plain": [
       "(984, 66)"
      ]
     },
     "execution_count": 4,
     "metadata": {},
     "output_type": "execute_result"
    }
   ],
   "source": [
    "words_corpus.shape"
   ]
  },
  {
   "cell_type": "code",
   "execution_count": 5,
   "id": "46c19751-d9e0-423c-a3bf-5b69e14a356a",
   "metadata": {},
   "outputs": [
    {
     "data": {
      "text/html": [
       "<div>\n",
       "<style scoped>\n",
       "    .dataframe tbody tr th:only-of-type {\n",
       "        vertical-align: middle;\n",
       "    }\n",
       "\n",
       "    .dataframe tbody tr th {\n",
       "        vertical-align: top;\n",
       "    }\n",
       "\n",
       "    .dataframe thead th {\n",
       "        text-align: right;\n",
       "    }\n",
       "</style>\n",
       "<table border=\"1\" class=\"dataframe\">\n",
       "  <thead>\n",
       "    <tr style=\"text-align: right;\">\n",
       "      <th></th>\n",
       "      <th>Word</th>\n",
       "      <th>Frames path</th>\n",
       "    </tr>\n",
       "  </thead>\n",
       "  <tbody>\n",
       "    <tr>\n",
       "      <th>0</th>\n",
       "      <td>A LOT</td>\n",
       "      <td>ISL_CSLRT_Corpus\\Frames_Word_Level\\A LOT\\A LOT...</td>\n",
       "    </tr>\n",
       "    <tr>\n",
       "      <th>1</th>\n",
       "      <td>A LOT</td>\n",
       "      <td>ISL_CSLRT_Corpus\\Frames_Word_Level\\A LOT\\A LOT...</td>\n",
       "    </tr>\n",
       "    <tr>\n",
       "      <th>2</th>\n",
       "      <td>A LOT</td>\n",
       "      <td>ISL_CSLRT_Corpus\\Frames_Word_Level\\A LOT\\A LOT...</td>\n",
       "    </tr>\n",
       "    <tr>\n",
       "      <th>3</th>\n",
       "      <td>A LOT</td>\n",
       "      <td>ISL_CSLRT_Corpus\\Frames_Word_Level\\A LOT\\A LOT...</td>\n",
       "    </tr>\n",
       "    <tr>\n",
       "      <th>4</th>\n",
       "      <td>ABUSE</td>\n",
       "      <td>ISL_CSLRT_Corpus\\Frames_Word_Level\\ABUSE\\ABUSE...</td>\n",
       "    </tr>\n",
       "  </tbody>\n",
       "</table>\n",
       "</div>"
      ],
      "text/plain": [
       "    Word                                        Frames path\n",
       "0  A LOT  ISL_CSLRT_Corpus\\Frames_Word_Level\\A LOT\\A LOT...\n",
       "1  A LOT  ISL_CSLRT_Corpus\\Frames_Word_Level\\A LOT\\A LOT...\n",
       "2  A LOT  ISL_CSLRT_Corpus\\Frames_Word_Level\\A LOT\\A LOT...\n",
       "3  A LOT  ISL_CSLRT_Corpus\\Frames_Word_Level\\A LOT\\A LOT...\n",
       "4  ABUSE  ISL_CSLRT_Corpus\\Frames_Word_Level\\ABUSE\\ABUSE..."
      ]
     },
     "execution_count": 5,
     "metadata": {},
     "output_type": "execute_result"
    }
   ],
   "source": [
    "word_frames.head()"
   ]
  },
  {
   "cell_type": "code",
   "execution_count": 6,
   "id": "24a1d196-04dd-4991-ae88-17a035fa9700",
   "metadata": {},
   "outputs": [],
   "source": [
    "word_frames['Frames path'] = word_frames['Frames path'].str.replace(r'^ISL_CSLRT_Corpus', '', regex=True)\n",
    "\n",
    "# frame_path = word_frames.iloc[2][1]\n",
    "\n",
    "file_url = r\"C:\\Users\\hp\\Indian-Sign-Language-SIH\\dataset\"\n",
    "\n",
    "word_frames['Frames path'] = file_url + word_frames['Frames path']\n"
   ]
  },
  {
   "cell_type": "code",
   "execution_count": 7,
   "id": "6923e5d3-76d4-4c6c-839a-0c647c70b0ea",
   "metadata": {},
   "outputs": [
    {
     "data": {
      "text/html": [
       "<div>\n",
       "<style scoped>\n",
       "    .dataframe tbody tr th:only-of-type {\n",
       "        vertical-align: middle;\n",
       "    }\n",
       "\n",
       "    .dataframe tbody tr th {\n",
       "        vertical-align: top;\n",
       "    }\n",
       "\n",
       "    .dataframe thead th {\n",
       "        text-align: right;\n",
       "    }\n",
       "</style>\n",
       "<table border=\"1\" class=\"dataframe\">\n",
       "  <thead>\n",
       "    <tr style=\"text-align: right;\">\n",
       "      <th></th>\n",
       "      <th>Word</th>\n",
       "      <th>Frames path</th>\n",
       "    </tr>\n",
       "  </thead>\n",
       "  <tbody>\n",
       "    <tr>\n",
       "      <th>0</th>\n",
       "      <td>A LOT</td>\n",
       "      <td>C:\\Users\\hp\\Indian-Sign-Language-SIH\\dataset\\F...</td>\n",
       "    </tr>\n",
       "    <tr>\n",
       "      <th>1</th>\n",
       "      <td>A LOT</td>\n",
       "      <td>C:\\Users\\hp\\Indian-Sign-Language-SIH\\dataset\\F...</td>\n",
       "    </tr>\n",
       "    <tr>\n",
       "      <th>2</th>\n",
       "      <td>A LOT</td>\n",
       "      <td>C:\\Users\\hp\\Indian-Sign-Language-SIH\\dataset\\F...</td>\n",
       "    </tr>\n",
       "    <tr>\n",
       "      <th>3</th>\n",
       "      <td>A LOT</td>\n",
       "      <td>C:\\Users\\hp\\Indian-Sign-Language-SIH\\dataset\\F...</td>\n",
       "    </tr>\n",
       "    <tr>\n",
       "      <th>4</th>\n",
       "      <td>ABUSE</td>\n",
       "      <td>C:\\Users\\hp\\Indian-Sign-Language-SIH\\dataset\\F...</td>\n",
       "    </tr>\n",
       "  </tbody>\n",
       "</table>\n",
       "</div>"
      ],
      "text/plain": [
       "    Word                                        Frames path\n",
       "0  A LOT  C:\\Users\\hp\\Indian-Sign-Language-SIH\\dataset\\F...\n",
       "1  A LOT  C:\\Users\\hp\\Indian-Sign-Language-SIH\\dataset\\F...\n",
       "2  A LOT  C:\\Users\\hp\\Indian-Sign-Language-SIH\\dataset\\F...\n",
       "3  A LOT  C:\\Users\\hp\\Indian-Sign-Language-SIH\\dataset\\F...\n",
       "4  ABUSE  C:\\Users\\hp\\Indian-Sign-Language-SIH\\dataset\\F..."
      ]
     },
     "execution_count": 7,
     "metadata": {},
     "output_type": "execute_result"
    }
   ],
   "source": [
    "word_frames.head()"
   ]
  },
  {
   "cell_type": "code",
   "execution_count": 8,
   "id": "08d07a47-a130-4b12-98b5-c71179c8398c",
   "metadata": {},
   "outputs": [
    {
     "data": {
      "text/plain": [
       "'C:\\\\Users\\\\hp\\\\Indian-Sign-Language-SIH\\\\dataset\\\\Frames_Word_Level\\\\A LOT\\\\A LOT (3).jpg'"
      ]
     },
     "execution_count": 8,
     "metadata": {},
     "output_type": "execute_result"
    }
   ],
   "source": [
    "word_frames.iloc[2][\"Frames path\"]"
   ]
  },
  {
   "cell_type": "code",
   "execution_count": 9,
   "id": "201a6f65-5e84-4e4a-90f0-84b42ceff0a4",
   "metadata": {},
   "outputs": [
    {
     "data": {
      "text/plain": [
       "(1036, 2)"
      ]
     },
     "execution_count": 9,
     "metadata": {},
     "output_type": "execute_result"
    }
   ],
   "source": [
    "word_frames.shape"
   ]
  },
  {
   "cell_type": "code",
   "execution_count": 10,
   "id": "67055b9a-8ca8-4d71-bfab-56b1625c1cbc",
   "metadata": {},
   "outputs": [],
   "source": [
    "words_corpus = words_corpus[[\"Unnamed: 0\", \"Word\"]]"
   ]
  },
  {
   "cell_type": "code",
   "execution_count": 11,
   "id": "11dd0358-033f-40f9-a765-cd314fc06b0c",
   "metadata": {},
   "outputs": [
    {
     "data": {
      "text/html": [
       "<div>\n",
       "<style scoped>\n",
       "    .dataframe tbody tr th:only-of-type {\n",
       "        vertical-align: middle;\n",
       "    }\n",
       "\n",
       "    .dataframe tbody tr th {\n",
       "        vertical-align: top;\n",
       "    }\n",
       "\n",
       "    .dataframe thead th {\n",
       "        text-align: right;\n",
       "    }\n",
       "</style>\n",
       "<table border=\"1\" class=\"dataframe\">\n",
       "  <thead>\n",
       "    <tr style=\"text-align: right;\">\n",
       "      <th></th>\n",
       "      <th>Unnamed: 0</th>\n",
       "      <th>Word</th>\n",
       "    </tr>\n",
       "  </thead>\n",
       "  <tbody>\n",
       "    <tr>\n",
       "      <th>0</th>\n",
       "      <td>0</td>\n",
       "      <td>A LOT</td>\n",
       "    </tr>\n",
       "    <tr>\n",
       "      <th>1</th>\n",
       "      <td>1</td>\n",
       "      <td>A LOT</td>\n",
       "    </tr>\n",
       "    <tr>\n",
       "      <th>2</th>\n",
       "      <td>2</td>\n",
       "      <td>A LOT</td>\n",
       "    </tr>\n",
       "    <tr>\n",
       "      <th>3</th>\n",
       "      <td>3</td>\n",
       "      <td>A LOT</td>\n",
       "    </tr>\n",
       "    <tr>\n",
       "      <th>4</th>\n",
       "      <td>4</td>\n",
       "      <td>ABUSE</td>\n",
       "    </tr>\n",
       "    <tr>\n",
       "      <th>...</th>\n",
       "      <td>...</td>\n",
       "      <td>...</td>\n",
       "    </tr>\n",
       "    <tr>\n",
       "      <th>979</th>\n",
       "      <td>1031</td>\n",
       "      <td>YOU</td>\n",
       "    </tr>\n",
       "    <tr>\n",
       "      <th>980</th>\n",
       "      <td>1032</td>\n",
       "      <td>YOU</td>\n",
       "    </tr>\n",
       "    <tr>\n",
       "      <th>981</th>\n",
       "      <td>1033</td>\n",
       "      <td>YOU</td>\n",
       "    </tr>\n",
       "    <tr>\n",
       "      <th>982</th>\n",
       "      <td>1034</td>\n",
       "      <td>YOU</td>\n",
       "    </tr>\n",
       "    <tr>\n",
       "      <th>983</th>\n",
       "      <td>1035</td>\n",
       "      <td>YOU</td>\n",
       "    </tr>\n",
       "  </tbody>\n",
       "</table>\n",
       "<p>984 rows × 2 columns</p>\n",
       "</div>"
      ],
      "text/plain": [
       "     Unnamed: 0   Word\n",
       "0             0  A LOT\n",
       "1             1  A LOT\n",
       "2             2  A LOT\n",
       "3             3  A LOT\n",
       "4             4  ABUSE\n",
       "..          ...    ...\n",
       "979        1031    YOU\n",
       "980        1032    YOU\n",
       "981        1033    YOU\n",
       "982        1034    YOU\n",
       "983        1035    YOU\n",
       "\n",
       "[984 rows x 2 columns]"
      ]
     },
     "execution_count": 11,
     "metadata": {},
     "output_type": "execute_result"
    }
   ],
   "source": [
    "words_corpus"
   ]
  },
  {
   "cell_type": "code",
   "execution_count": 12,
   "id": "a6fa5562-7d41-496a-921b-a5f3b6348ab3",
   "metadata": {},
   "outputs": [
    {
     "data": {
      "text/plain": [
       "(984, 2)"
      ]
     },
     "execution_count": 12,
     "metadata": {},
     "output_type": "execute_result"
    }
   ],
   "source": [
    "words_corpus.shape"
   ]
  },
  {
   "cell_type": "code",
   "execution_count": 13,
   "id": "92bed0e4-9476-4af5-9f41-1284e69be159",
   "metadata": {},
   "outputs": [
    {
     "data": {
      "text/plain": [
       "Word\n",
       "YOU             105\n",
       "I_ME_MINE_MY     92\n",
       "WHAT             28\n",
       "HELP             22\n",
       "FOOD             22\n",
       "               ... \n",
       "ALL               3\n",
       "THINGS            3\n",
       "DON'T CARE        2\n",
       "BEAUTIFUL         2\n",
       "PLEASE            2\n",
       "Name: count, Length: 114, dtype: int64"
      ]
     },
     "execution_count": 13,
     "metadata": {},
     "output_type": "execute_result"
    }
   ],
   "source": [
    "words_corpus[\"Word\"].value_counts()"
   ]
  },
  {
   "cell_type": "code",
   "execution_count": 14,
   "id": "e6025f9b-4b90-455a-a958-ad9cbc72aa3d",
   "metadata": {},
   "outputs": [],
   "source": [
    "filtered_words_df = words_corpus[words_corpus[\"Word\"].map(words_corpus[\"Word\"].value_counts()) <= 28]"
   ]
  },
  {
   "cell_type": "code",
   "execution_count": 15,
   "id": "b356e454-5f6d-439f-852d-fa4f4aa541a0",
   "metadata": {},
   "outputs": [
    {
     "data": {
      "text/html": [
       "<div>\n",
       "<style scoped>\n",
       "    .dataframe tbody tr th:only-of-type {\n",
       "        vertical-align: middle;\n",
       "    }\n",
       "\n",
       "    .dataframe tbody tr th {\n",
       "        vertical-align: top;\n",
       "    }\n",
       "\n",
       "    .dataframe thead th {\n",
       "        text-align: right;\n",
       "    }\n",
       "</style>\n",
       "<table border=\"1\" class=\"dataframe\">\n",
       "  <thead>\n",
       "    <tr style=\"text-align: right;\">\n",
       "      <th></th>\n",
       "      <th>Unnamed: 0</th>\n",
       "      <th>Word</th>\n",
       "    </tr>\n",
       "  </thead>\n",
       "  <tbody>\n",
       "    <tr>\n",
       "      <th>0</th>\n",
       "      <td>0</td>\n",
       "      <td>A LOT</td>\n",
       "    </tr>\n",
       "    <tr>\n",
       "      <th>1</th>\n",
       "      <td>1</td>\n",
       "      <td>A LOT</td>\n",
       "    </tr>\n",
       "    <tr>\n",
       "      <th>2</th>\n",
       "      <td>2</td>\n",
       "      <td>A LOT</td>\n",
       "    </tr>\n",
       "    <tr>\n",
       "      <th>3</th>\n",
       "      <td>3</td>\n",
       "      <td>A LOT</td>\n",
       "    </tr>\n",
       "    <tr>\n",
       "      <th>4</th>\n",
       "      <td>4</td>\n",
       "      <td>ABUSE</td>\n",
       "    </tr>\n",
       "    <tr>\n",
       "      <th>...</th>\n",
       "      <td>...</td>\n",
       "      <td>...</td>\n",
       "    </tr>\n",
       "    <tr>\n",
       "      <th>874</th>\n",
       "      <td>920</td>\n",
       "      <td>WHO</td>\n",
       "    </tr>\n",
       "    <tr>\n",
       "      <th>875</th>\n",
       "      <td>922</td>\n",
       "      <td>WORRY</td>\n",
       "    </tr>\n",
       "    <tr>\n",
       "      <th>876</th>\n",
       "      <td>923</td>\n",
       "      <td>WORRY</td>\n",
       "    </tr>\n",
       "    <tr>\n",
       "      <th>877</th>\n",
       "      <td>924</td>\n",
       "      <td>WORRY</td>\n",
       "    </tr>\n",
       "    <tr>\n",
       "      <th>878</th>\n",
       "      <td>925</td>\n",
       "      <td>WORRY</td>\n",
       "    </tr>\n",
       "  </tbody>\n",
       "</table>\n",
       "<p>787 rows × 2 columns</p>\n",
       "</div>"
      ],
      "text/plain": [
       "     Unnamed: 0   Word\n",
       "0             0  A LOT\n",
       "1             1  A LOT\n",
       "2             2  A LOT\n",
       "3             3  A LOT\n",
       "4             4  ABUSE\n",
       "..          ...    ...\n",
       "874         920    WHO\n",
       "875         922  WORRY\n",
       "876         923  WORRY\n",
       "877         924  WORRY\n",
       "878         925  WORRY\n",
       "\n",
       "[787 rows x 2 columns]"
      ]
     },
     "execution_count": 15,
     "metadata": {},
     "output_type": "execute_result"
    }
   ],
   "source": [
    "filtered_words = filtered_words_df[[\"Unnamed: 0\", \"Word\"]]\n",
    "filtered_words"
   ]
  },
  {
   "cell_type": "code",
   "execution_count": 16,
   "id": "8d546b8d-7ac4-4bf1-942e-27adcda1ba14",
   "metadata": {},
   "outputs": [
    {
     "data": {
      "text/plain": [
       "array(['A LOT', 'ABUSE', 'AFRAID', 'AGREE', 'ALL', 'ANGRY', 'ANYTHING',\n",
       "       'APPRECIATE', 'BAD', 'BEAUTIFUL', 'BECOME', 'BED', 'BORED',\n",
       "       'BRING', 'CHAT', 'CLASS', 'COLD', 'COLLEGE_SCHOOL', 'COMB', 'COME',\n",
       "       'CONGRATULATIONS', 'CRYING', 'DARE', 'DIFFERENCE', 'DILEMMA',\n",
       "       'DISAPPOINTED', 'DO', \"DON'T CARE\", 'ENJOY', 'FAVOUR', 'FEVER',\n",
       "       'FINE', 'FOOD', 'FREE', 'FRIEND', 'FROM', 'GO', 'GOOD', 'GRATEFUL',\n",
       "       'HAD', 'HAPPENED', 'HAPPY', 'HEAR', 'HEART', 'HELLO_HI', 'HELP',\n",
       "       'HIDING', 'HOW', 'HUNGRY', 'HURT', 'KIND', 'LEAVE', 'LIKE',\n",
       "       'LIKE_LOVE', 'MEAN IT', 'MEDICINE', 'MEET', 'NAME', 'NICE', 'NOT',\n",
       "       'NUMBER', 'OLD_AGE', 'ON THE WAY', 'OUTSIDE', 'PHONE', 'PLACE',\n",
       "       'PLEASE', 'POUR', 'PREPARE', 'PROMISE', 'REALLY', 'REPEAT', 'ROOM',\n",
       "       'SERVE', 'SHIRT', 'SITTING', 'SLEEP', 'SLOWER', 'SO MUCH',\n",
       "       'SOFTLY', 'SOME HOW', 'SOME ONE', 'SOMETHING', 'SORRY', 'SPEAK',\n",
       "       'STOP', 'STUBBORN', 'SURE', 'TAKE CARE', 'TAKE TIME', 'TALK',\n",
       "       'TELL', 'THANK', 'THAT', 'THINGS', 'THINK', 'THIRSTY', 'TIRED',\n",
       "       'TODAY', 'TRAIN', 'TRUST', 'TRUTH', 'TURN ON', 'UNDERSTAND',\n",
       "       'WANT', 'WATER', 'WEAR', 'WELCOME', 'WHAT', 'WHERE', 'WHO',\n",
       "       'WORRY'], dtype=object)"
      ]
     },
     "execution_count": 16,
     "metadata": {},
     "output_type": "execute_result"
    }
   ],
   "source": [
    "filtered_words[\"Word\"].unique()"
   ]
  },
  {
   "cell_type": "code",
   "execution_count": 17,
   "id": "9ac81f2e-8f32-4d20-906a-a451b0b5a6fe",
   "metadata": {},
   "outputs": [
    {
     "data": {
      "text/plain": [
       "Word\n",
       "WHAT          28\n",
       "FOOD          22\n",
       "HELP          22\n",
       "WATER         20\n",
       "HOW           19\n",
       "              ..\n",
       "MEAN IT        3\n",
       "ALL            3\n",
       "PLEASE         2\n",
       "DON'T CARE     2\n",
       "BEAUTIFUL      2\n",
       "Name: count, Length: 112, dtype: int64"
      ]
     },
     "execution_count": 17,
     "metadata": {},
     "output_type": "execute_result"
    }
   ],
   "source": [
    "filtered_words[\"Word\"].value_counts()"
   ]
  },
  {
   "cell_type": "code",
   "execution_count": 18,
   "id": "f2c7148f-0a2d-456f-92c6-6e1a68f3fcc4",
   "metadata": {},
   "outputs": [
    {
     "data": {
      "text/html": [
       "<div>\n",
       "<style scoped>\n",
       "    .dataframe tbody tr th:only-of-type {\n",
       "        vertical-align: middle;\n",
       "    }\n",
       "\n",
       "    .dataframe tbody tr th {\n",
       "        vertical-align: top;\n",
       "    }\n",
       "\n",
       "    .dataframe thead th {\n",
       "        text-align: right;\n",
       "    }\n",
       "</style>\n",
       "<table border=\"1\" class=\"dataframe\">\n",
       "  <thead>\n",
       "    <tr style=\"text-align: right;\">\n",
       "      <th></th>\n",
       "      <th>Word</th>\n",
       "    </tr>\n",
       "    <tr>\n",
       "      <th>Unnamed: 0</th>\n",
       "      <th></th>\n",
       "    </tr>\n",
       "  </thead>\n",
       "  <tbody>\n",
       "    <tr>\n",
       "      <th>924</th>\n",
       "      <td>WORRY</td>\n",
       "    </tr>\n",
       "    <tr>\n",
       "      <th>925</th>\n",
       "      <td>WORRY</td>\n",
       "    </tr>\n",
       "  </tbody>\n",
       "</table>\n",
       "</div>"
      ],
      "text/plain": [
       "             Word\n",
       "Unnamed: 0       \n",
       "924         WORRY\n",
       "925         WORRY"
      ]
     },
     "execution_count": 18,
     "metadata": {},
     "output_type": "execute_result"
    }
   ],
   "source": [
    "filtered_words = filtered_words.set_index(\"Unnamed: 0\")\n",
    "filtered_words.tail(2)"
   ]
  },
  {
   "cell_type": "code",
   "execution_count": 19,
   "id": "9cc2ffc2-c86a-4d72-8bcb-19e5a0b3ea88",
   "metadata": {},
   "outputs": [],
   "source": [
    "filtered_words.drop_duplicates(inplace=True)"
   ]
  },
  {
   "cell_type": "code",
   "execution_count": 20,
   "id": "1edd71d1-cfe9-4eeb-a58e-c252b11f2a30",
   "metadata": {},
   "outputs": [
    {
     "data": {
      "text/plain": [
       "(112, 1)"
      ]
     },
     "execution_count": 20,
     "metadata": {},
     "output_type": "execute_result"
    }
   ],
   "source": [
    "filtered_words.shape"
   ]
  },
  {
   "cell_type": "code",
   "execution_count": 21,
   "id": "2db932ee-5f3a-4a7d-820b-27fdced0e338",
   "metadata": {},
   "outputs": [],
   "source": [
    "filtered_rows_1 = filtered_words[[\"Word\"]].join(word_frames[\"Frames path\"], on=filtered_words.index)"
   ]
  },
  {
   "cell_type": "code",
   "execution_count": 22,
   "id": "184dd617-ad23-4651-9716-74debaa37d3c",
   "metadata": {},
   "outputs": [
    {
     "data": {
      "text/html": [
       "<div>\n",
       "<style scoped>\n",
       "    .dataframe tbody tr th:only-of-type {\n",
       "        vertical-align: middle;\n",
       "    }\n",
       "\n",
       "    .dataframe tbody tr th {\n",
       "        vertical-align: top;\n",
       "    }\n",
       "\n",
       "    .dataframe thead th {\n",
       "        text-align: right;\n",
       "    }\n",
       "</style>\n",
       "<table border=\"1\" class=\"dataframe\">\n",
       "  <thead>\n",
       "    <tr style=\"text-align: right;\">\n",
       "      <th></th>\n",
       "      <th>Word</th>\n",
       "      <th>Frames path</th>\n",
       "    </tr>\n",
       "    <tr>\n",
       "      <th>Unnamed: 0</th>\n",
       "      <th></th>\n",
       "      <th></th>\n",
       "    </tr>\n",
       "  </thead>\n",
       "  <tbody>\n",
       "    <tr>\n",
       "      <th>0</th>\n",
       "      <td>A LOT</td>\n",
       "      <td>C:\\Users\\hp\\Indian-Sign-Language-SIH\\dataset\\F...</td>\n",
       "    </tr>\n",
       "    <tr>\n",
       "      <th>4</th>\n",
       "      <td>ABUSE</td>\n",
       "      <td>C:\\Users\\hp\\Indian-Sign-Language-SIH\\dataset\\F...</td>\n",
       "    </tr>\n",
       "    <tr>\n",
       "      <th>9</th>\n",
       "      <td>AFRAID</td>\n",
       "      <td>C:\\Users\\hp\\Indian-Sign-Language-SIH\\dataset\\F...</td>\n",
       "    </tr>\n",
       "    <tr>\n",
       "      <th>15</th>\n",
       "      <td>AGREE</td>\n",
       "      <td>C:\\Users\\hp\\Indian-Sign-Language-SIH\\dataset\\F...</td>\n",
       "    </tr>\n",
       "    <tr>\n",
       "      <th>22</th>\n",
       "      <td>ALL</td>\n",
       "      <td>C:\\Users\\hp\\Indian-Sign-Language-SIH\\dataset\\F...</td>\n",
       "    </tr>\n",
       "    <tr>\n",
       "      <th>...</th>\n",
       "      <td>...</td>\n",
       "      <td>...</td>\n",
       "    </tr>\n",
       "    <tr>\n",
       "      <th>872</th>\n",
       "      <td>WELCOME</td>\n",
       "      <td>C:\\Users\\hp\\Indian-Sign-Language-SIH\\dataset\\F...</td>\n",
       "    </tr>\n",
       "    <tr>\n",
       "      <th>877</th>\n",
       "      <td>WHAT</td>\n",
       "      <td>C:\\Users\\hp\\Indian-Sign-Language-SIH\\dataset\\F...</td>\n",
       "    </tr>\n",
       "    <tr>\n",
       "      <th>908</th>\n",
       "      <td>WHERE</td>\n",
       "      <td>C:\\Users\\hp\\Indian-Sign-Language-SIH\\dataset\\F...</td>\n",
       "    </tr>\n",
       "    <tr>\n",
       "      <th>915</th>\n",
       "      <td>WHO</td>\n",
       "      <td>C:\\Users\\hp\\Indian-Sign-Language-SIH\\dataset\\F...</td>\n",
       "    </tr>\n",
       "    <tr>\n",
       "      <th>922</th>\n",
       "      <td>WORRY</td>\n",
       "      <td>C:\\Users\\hp\\Indian-Sign-Language-SIH\\dataset\\F...</td>\n",
       "    </tr>\n",
       "  </tbody>\n",
       "</table>\n",
       "<p>112 rows × 2 columns</p>\n",
       "</div>"
      ],
      "text/plain": [
       "               Word                                        Frames path\n",
       "Unnamed: 0                                                            \n",
       "0             A LOT  C:\\Users\\hp\\Indian-Sign-Language-SIH\\dataset\\F...\n",
       "4             ABUSE  C:\\Users\\hp\\Indian-Sign-Language-SIH\\dataset\\F...\n",
       "9            AFRAID  C:\\Users\\hp\\Indian-Sign-Language-SIH\\dataset\\F...\n",
       "15            AGREE  C:\\Users\\hp\\Indian-Sign-Language-SIH\\dataset\\F...\n",
       "22              ALL  C:\\Users\\hp\\Indian-Sign-Language-SIH\\dataset\\F...\n",
       "...             ...                                                ...\n",
       "872         WELCOME  C:\\Users\\hp\\Indian-Sign-Language-SIH\\dataset\\F...\n",
       "877            WHAT  C:\\Users\\hp\\Indian-Sign-Language-SIH\\dataset\\F...\n",
       "908           WHERE  C:\\Users\\hp\\Indian-Sign-Language-SIH\\dataset\\F...\n",
       "915             WHO  C:\\Users\\hp\\Indian-Sign-Language-SIH\\dataset\\F...\n",
       "922           WORRY  C:\\Users\\hp\\Indian-Sign-Language-SIH\\dataset\\F...\n",
       "\n",
       "[112 rows x 2 columns]"
      ]
     },
     "execution_count": 22,
     "metadata": {},
     "output_type": "execute_result"
    }
   ],
   "source": [
    "filtered_rows_1"
   ]
  },
  {
   "cell_type": "code",
   "execution_count": 23,
   "id": "bee52b8a-df9c-490b-9859-918ec5595745",
   "metadata": {},
   "outputs": [
    {
     "data": {
      "text/plain": [
       "'C:\\\\Users\\\\hp\\\\Indian-Sign-Language-SIH\\\\dataset\\\\Frames_Word_Level\\\\WORRY\\\\WORRY (1).jpg'"
      ]
     },
     "execution_count": 23,
     "metadata": {},
     "output_type": "execute_result"
    }
   ],
   "source": [
    "filtered_rows_1.iloc[111, 1]"
   ]
  },
  {
   "cell_type": "code",
   "execution_count": 24,
   "id": "a01ec7d6-d494-48f6-ba9e-a4c1aec4a942",
   "metadata": {},
   "outputs": [],
   "source": [
    "transform = transforms.Compose([\n",
    "    transforms.RandomHorizontalFlip(),\n",
    "    transforms.RandomRotation(30),\n",
    "    transforms.ColorJitter(brightness=0.2, contrast=0.2, saturation=0.2, hue=0.2),\n",
    "    transforms.RandomAffine(20, shear=10),\n",
    "    transforms.ToTensor(),\n",
    "    transforms.Resize((1080, 1920))  \n",
    "])\n",
    "\n",
    "# Convert tensor back to PIL image\n",
    "to_pil = transforms.ToPILImage()"
   ]
  },
  {
   "cell_type": "code",
   "execution_count": 25,
   "id": "286bcbb2-b5b3-40df-96e0-231d428b3184",
   "metadata": {
    "scrolled": true
   },
   "outputs": [
    {
     "name": "stdout",
     "output_type": "stream",
     "text": [
      "Opening image at path: C:\\Users\\hp\\Indian-Sign-Language-SIH\\dataset\\Frames_Word_Level\\A LOT\\A LOT (1).jpg\n",
      "Opening image at path: C:\\Users\\hp\\Indian-Sign-Language-SIH\\dataset\\Frames_Word_Level\\ABUSE\\ABUSE (1).jpg\n",
      "Opening image at path: C:\\Users\\hp\\Indian-Sign-Language-SIH\\dataset\\Frames_Word_Level\\AFRAID\\AFRAID (1).jpg\n",
      "Opening image at path: C:\\Users\\hp\\Indian-Sign-Language-SIH\\dataset\\Frames_Word_Level\\AGREE\\AGREE (1).jpg\n",
      "Opening image at path: C:\\Users\\hp\\Indian-Sign-Language-SIH\\dataset\\Frames_Word_Level\\ALL\\ALL (1).jpg\n",
      "Opening image at path: C:\\Users\\hp\\Indian-Sign-Language-SIH\\dataset\\Frames_Word_Level\\ANGRY\\ANGRY (1).jpg\n",
      "Opening image at path: C:\\Users\\hp\\Indian-Sign-Language-SIH\\dataset\\Frames_Word_Level\\ANYTHING\\ANYTHING (1).jpg\n",
      "Opening image at path: C:\\Users\\hp\\Indian-Sign-Language-SIH\\dataset\\Frames_Word_Level\\APPRECIATE\\APPRECIATE (1).jpg\n",
      "Opening image at path: C:\\Users\\hp\\Indian-Sign-Language-SIH\\dataset\\Frames_Word_Level\\BAD\\BAD (1).jpg\n",
      "Opening image at path: C:\\Users\\hp\\Indian-Sign-Language-SIH\\dataset\\Frames_Word_Level\\BEAUTIFUL\\BEAUTIFUL (1).jpg\n",
      "Opening image at path: C:\\Users\\hp\\Indian-Sign-Language-SIH\\dataset\\Frames_Word_Level\\BECOME\\BECOME (1).jpg\n",
      "Opening image at path: C:\\Users\\hp\\Indian-Sign-Language-SIH\\dataset\\Frames_Word_Level\\BED\\BED (1).jpg\n",
      "Opening image at path: C:\\Users\\hp\\Indian-Sign-Language-SIH\\dataset\\Frames_Word_Level\\BORED\\BORED (1).jpg\n",
      "Opening image at path: C:\\Users\\hp\\Indian-Sign-Language-SIH\\dataset\\Frames_Word_Level\\BRING\\BRING-1.jpg\n",
      "Opening image at path: C:\\Users\\hp\\Indian-Sign-Language-SIH\\dataset\\Frames_Word_Level\\CHAT\\CHAT (2).jpg\n",
      "Opening image at path: C:\\Users\\hp\\Indian-Sign-Language-SIH\\dataset\\Frames_Word_Level\\CLASS\\CLASS (1).jpg\n",
      "Opening image at path: C:\\Users\\hp\\Indian-Sign-Language-SIH\\dataset\\Frames_Word_Level\\COLD\\COLD (1).jpg\n",
      "Opening image at path: C:\\Users\\hp\\Indian-Sign-Language-SIH\\dataset\\Frames_Word_Level\\COLLEGE_SCHOOL\\COLLEGE OR SCHOOL (1).jpg\n",
      "Opening image at path: C:\\Users\\hp\\Indian-Sign-Language-SIH\\dataset\\Frames_Word_Level\\COMB\\COMB (1).jpg\n",
      "Opening image at path: C:\\Users\\hp\\Indian-Sign-Language-SIH\\dataset\\Frames_Word_Level\\COME\\COME (1).jpg\n",
      "Opening image at path: C:\\Users\\hp\\Indian-Sign-Language-SIH\\dataset\\Frames_Word_Level\\CONGRATULATIONS\\CONGRATULATIONS (1).jpg\n",
      "Opening image at path: C:\\Users\\hp\\Indian-Sign-Language-SIH\\dataset\\Frames_Word_Level\\CRYING\\CRYING (1).jpg\n",
      "Opening image at path: C:\\Users\\hp\\Indian-Sign-Language-SIH\\dataset\\Frames_Word_Level\\DARE\\DARE (1).jpg\n",
      "Opening image at path: C:\\Users\\hp\\Indian-Sign-Language-SIH\\dataset\\Frames_Word_Level\\DIFFERENCE\\DIFFERENCE (1).jpg\n",
      "Opening image at path: C:\\Users\\hp\\Indian-Sign-Language-SIH\\dataset\\Frames_Word_Level\\DILEMMA\\DILEMMA (1).jpg\n",
      "Opening image at path: C:\\Users\\hp\\Indian-Sign-Language-SIH\\dataset\\Frames_Word_Level\\DISAPPOINTED\\DISAPPOINTED (1).jpg\n",
      "Opening image at path: C:\\Users\\hp\\Indian-Sign-Language-SIH\\dataset\\Frames_Word_Level\\DO\\DO-1.jpg\n",
      "Opening image at path: C:\\Users\\hp\\Indian-Sign-Language-SIH\\dataset\\Frames_Word_Level\\DON'T CARE\\DONT CARE (1).jpg\n",
      "Opening image at path: C:\\Users\\hp\\Indian-Sign-Language-SIH\\dataset\\Frames_Word_Level\\ENJOY\\ENJOY (2).jpg\n",
      "Opening image at path: C:\\Users\\hp\\Indian-Sign-Language-SIH\\dataset\\Frames_Word_Level\\FAVOUR\\FAVOUR (1).jpg\n",
      "Opening image at path: C:\\Users\\hp\\Indian-Sign-Language-SIH\\dataset\\Frames_Word_Level\\FEVER\\FEVER (1).jpg\n",
      "Opening image at path: C:\\Users\\hp\\Indian-Sign-Language-SIH\\dataset\\Frames_Word_Level\\FINE\\FINE (1).jpg\n",
      "Opening image at path: C:\\Users\\hp\\Indian-Sign-Language-SIH\\dataset\\Frames_Word_Level\\FOOD\\FOOD (1).jpg\n",
      "Opening image at path: C:\\Users\\hp\\Indian-Sign-Language-SIH\\dataset\\Frames_Word_Level\\FREE\\FREE (1).jpg\n",
      "Opening image at path: C:\\Users\\hp\\Indian-Sign-Language-SIH\\dataset\\Frames_Word_Level\\FRIEND\\FRIEND (2).jpg\n",
      "Opening image at path: C:\\Users\\hp\\Indian-Sign-Language-SIH\\dataset\\Frames_Word_Level\\FROM\\FROM-1.jpg\n",
      "Opening image at path: C:\\Users\\hp\\Indian-Sign-Language-SIH\\dataset\\Frames_Word_Level\\GO\\GO (1).jpg\n",
      "Opening image at path: C:\\Users\\hp\\Indian-Sign-Language-SIH\\dataset\\Frames_Word_Level\\GOOD\\GOOD (1).jpg\n",
      "Opening image at path: C:\\Users\\hp\\Indian-Sign-Language-SIH\\dataset\\Frames_Word_Level\\GRATEFUL\\GRATEFUL (1).jpg\n",
      "Opening image at path: C:\\Users\\hp\\Indian-Sign-Language-SIH\\dataset\\Frames_Word_Level\\HAD\\HAD (1).jpg\n",
      "Opening image at path: C:\\Users\\hp\\Indian-Sign-Language-SIH\\dataset\\Frames_Word_Level\\HAPPENED\\HAPPENED (2).jpg\n",
      "Opening image at path: C:\\Users\\hp\\Indian-Sign-Language-SIH\\dataset\\Frames_Word_Level\\HAPPY\\HAPPY (1).jpg\n",
      "Opening image at path: C:\\Users\\hp\\Indian-Sign-Language-SIH\\dataset\\Frames_Word_Level\\HEAR\\HEAR (1).jpg\n",
      "Opening image at path: C:\\Users\\hp\\Indian-Sign-Language-SIH\\dataset\\Frames_Word_Level\\HEART\\HEART (1).jpg\n",
      "Opening image at path: C:\\Users\\hp\\Indian-Sign-Language-SIH\\dataset\\Frames_Word_Level\\HELLO_HI\\HELLO HI-1.jpg\n",
      "Opening image at path: C:\\Users\\hp\\Indian-Sign-Language-SIH\\dataset\\Frames_Word_Level\\HELP\\HELP (1).jpg\n",
      "Opening image at path: C:\\Users\\hp\\Indian-Sign-Language-SIH\\dataset\\Frames_Word_Level\\HIDING\\HIDING (1).jpg\n",
      "Opening image at path: C:\\Users\\hp\\Indian-Sign-Language-SIH\\dataset\\Frames_Word_Level\\HOW\\HOW (1).jpg\n",
      "Opening image at path: C:\\Users\\hp\\Indian-Sign-Language-SIH\\dataset\\Frames_Word_Level\\HUNGRY\\HUNGRY-1.jpg\n",
      "Opening image at path: C:\\Users\\hp\\Indian-Sign-Language-SIH\\dataset\\Frames_Word_Level\\HURT\\HURT (1).jpg\n",
      "Opening image at path: C:\\Users\\hp\\Indian-Sign-Language-SIH\\dataset\\Frames_Word_Level\\KIND\\KIND (1).jpg\n",
      "Opening image at path: C:\\Users\\hp\\Indian-Sign-Language-SIH\\dataset\\Frames_Word_Level\\LEAVE\\LEAVE (1).jpg\n",
      "Opening image at path: C:\\Users\\hp\\Indian-Sign-Language-SIH\\dataset\\Frames_Word_Level\\LIKE\\LIKE (1).jpg\n",
      "Opening image at path: C:\\Users\\hp\\Indian-Sign-Language-SIH\\dataset\\Frames_Word_Level\\LIKE_LOVE\\love or like (1).jpg\n",
      "Opening image at path: C:\\Users\\hp\\Indian-Sign-Language-SIH\\dataset\\Frames_Word_Level\\MEAN IT\\MEAN (1).jpg\n",
      "Opening image at path: C:\\Users\\hp\\Indian-Sign-Language-SIH\\dataset\\Frames_Word_Level\\MEDICINE\\MEDICINE (1).jpg\n",
      "Opening image at path: C:\\Users\\hp\\Indian-Sign-Language-SIH\\dataset\\Frames_Word_Level\\MEET\\MEET-1.jpg\n",
      "Opening image at path: C:\\Users\\hp\\Indian-Sign-Language-SIH\\dataset\\Frames_Word_Level\\NAME\\NAME-1.jpg\n",
      "Opening image at path: C:\\Users\\hp\\Indian-Sign-Language-SIH\\dataset\\Frames_Word_Level\\NICE\\NICE (1).jpg\n",
      "Opening image at path: C:\\Users\\hp\\Indian-Sign-Language-SIH\\dataset\\Frames_Word_Level\\NOT\\NOT (1).jpg\n",
      "Opening image at path: C:\\Users\\hp\\Indian-Sign-Language-SIH\\dataset\\Frames_Word_Level\\NUMBER\\NUMBER (1).jpg\n",
      "Opening image at path: C:\\Users\\hp\\Indian-Sign-Language-SIH\\dataset\\Frames_Word_Level\\OLD_AGE\\AGE (1).jpg\n",
      "Opening image at path: C:\\Users\\hp\\Indian-Sign-Language-SIH\\dataset\\Frames_Word_Level\\ON THE WAY\\ON THE WAY (1).jpg\n",
      "Opening image at path: C:\\Users\\hp\\Indian-Sign-Language-SIH\\dataset\\Frames_Word_Level\\OUTSIDE\\OUTSIDE (1).jpg\n",
      "Opening image at path: C:\\Users\\hp\\Indian-Sign-Language-SIH\\dataset\\Frames_Word_Level\\PHONE\\PHONE-1.jpg\n",
      "Opening image at path: C:\\Users\\hp\\Indian-Sign-Language-SIH\\dataset\\Frames_Word_Level\\PLACE\\THIS PLACE (1).jpg\n",
      "Opening image at path: C:\\Users\\hp\\Indian-Sign-Language-SIH\\dataset\\Frames_Word_Level\\PLEASE\\PLEASE-1.jpg\n",
      "Opening image at path: C:\\Users\\hp\\Indian-Sign-Language-SIH\\dataset\\Frames_Word_Level\\POUR\\POUR (1).jpg\n",
      "Opening image at path: C:\\Users\\hp\\Indian-Sign-Language-SIH\\dataset\\Frames_Word_Level\\PREPARE\\PREPARE (1).jpg\n",
      "Opening image at path: C:\\Users\\hp\\Indian-Sign-Language-SIH\\dataset\\Frames_Word_Level\\PROMISE\\PROMISE (2).jpg\n",
      "Opening image at path: C:\\Users\\hp\\Indian-Sign-Language-SIH\\dataset\\Frames_Word_Level\\REALLY\\REALLY (1).jpg\n",
      "Opening image at path: C:\\Users\\hp\\Indian-Sign-Language-SIH\\dataset\\Frames_Word_Level\\REPEAT\\REPEAT-1.jpg\n",
      "Opening image at path: C:\\Users\\hp\\Indian-Sign-Language-SIH\\dataset\\Frames_Word_Level\\ROOM\\GO (1).jpg\n",
      "Opening image at path: C:\\Users\\hp\\Indian-Sign-Language-SIH\\dataset\\Frames_Word_Level\\SERVE\\SERVE (1).jpg\n",
      "Opening image at path: C:\\Users\\hp\\Indian-Sign-Language-SIH\\dataset\\Frames_Word_Level\\SHIRT\\SHIRT (1).jpg\n",
      "Opening image at path: C:\\Users\\hp\\Indian-Sign-Language-SIH\\dataset\\Frames_Word_Level\\SITTING\\SITTING (1).jpg\n",
      "Opening image at path: C:\\Users\\hp\\Indian-Sign-Language-SIH\\dataset\\Frames_Word_Level\\SLEEP\\SLEEP (1).jpg\n",
      "Opening image at path: C:\\Users\\hp\\Indian-Sign-Language-SIH\\dataset\\Frames_Word_Level\\SLOWER\\SLOWER-1.jpg\n",
      "Opening image at path: C:\\Users\\hp\\Indian-Sign-Language-SIH\\dataset\\Frames_Word_Level\\SO MUCH\\SO MUCH-3.jpg\n",
      "Opening image at path: C:\\Users\\hp\\Indian-Sign-Language-SIH\\dataset\\Frames_Word_Level\\SOFTLY\\SOFTLY (1).jpg\n",
      "Opening image at path: C:\\Users\\hp\\Indian-Sign-Language-SIH\\dataset\\Frames_Word_Level\\SOME HOW\\SOMEHOW (1).jpg\n",
      "Opening image at path: C:\\Users\\hp\\Indian-Sign-Language-SIH\\dataset\\Frames_Word_Level\\SOME ONE\\SOMEONE (1).jpg\n",
      "Opening image at path: C:\\Users\\hp\\Indian-Sign-Language-SIH\\dataset\\Frames_Word_Level\\SOMETHING\\SOMETHING (1).jpg\n",
      "Opening image at path: C:\\Users\\hp\\Indian-Sign-Language-SIH\\dataset\\Frames_Word_Level\\SORRY\\SORRY (1).jpg\n",
      "Opening image at path: C:\\Users\\hp\\Indian-Sign-Language-SIH\\dataset\\Frames_Word_Level\\SPEAK\\SPEAK (1).jpg\n",
      "Opening image at path: C:\\Users\\hp\\Indian-Sign-Language-SIH\\dataset\\Frames_Word_Level\\STOP\\STOP (1).jpg\n",
      "Opening image at path: C:\\Users\\hp\\Indian-Sign-Language-SIH\\dataset\\Frames_Word_Level\\STUBBORN\\STUBBORN (1).jpg\n",
      "Opening image at path: C:\\Users\\hp\\Indian-Sign-Language-SIH\\dataset\\Frames_Word_Level\\SURE\\SURE (1).jpg\n",
      "Opening image at path: C:\\Users\\hp\\Indian-Sign-Language-SIH\\dataset\\Frames_Word_Level\\TAKE CARE\\TAKE CARE (1).jpg\n",
      "Opening image at path: C:\\Users\\hp\\Indian-Sign-Language-SIH\\dataset\\Frames_Word_Level\\TAKE TIME\\TIME (1).jpg\n",
      "Opening image at path: C:\\Users\\hp\\Indian-Sign-Language-SIH\\dataset\\Frames_Word_Level\\TALK\\TALK-1.jpg\n",
      "Opening image at path: C:\\Users\\hp\\Indian-Sign-Language-SIH\\dataset\\Frames_Word_Level\\TELL\\TELL  (1).jpg\n",
      "Opening image at path: C:\\Users\\hp\\Indian-Sign-Language-SIH\\dataset\\Frames_Word_Level\\THANK\\THANK (2).jpg\n",
      "Opening image at path: C:\\Users\\hp\\Indian-Sign-Language-SIH\\dataset\\Frames_Word_Level\\THAT\\THAT (1).jpg\n",
      "Opening image at path: C:\\Users\\hp\\Indian-Sign-Language-SIH\\dataset\\Frames_Word_Level\\THINGS\\THINGS (1).jpg\n",
      "Opening image at path: C:\\Users\\hp\\Indian-Sign-Language-SIH\\dataset\\Frames_Word_Level\\THINK\\THINK-1.jpg\n",
      "Opening image at path: C:\\Users\\hp\\Indian-Sign-Language-SIH\\dataset\\Frames_Word_Level\\THIRSTY\\THIRSTY-1.jpg\n",
      "Opening image at path: C:\\Users\\hp\\Indian-Sign-Language-SIH\\dataset\\Frames_Word_Level\\TIRED\\TIRED (1).jpg\n",
      "Opening image at path: C:\\Users\\hp\\Indian-Sign-Language-SIH\\dataset\\Frames_Word_Level\\TODAY\\TODAY (1).jpg\n",
      "Opening image at path: C:\\Users\\hp\\Indian-Sign-Language-SIH\\dataset\\Frames_Word_Level\\TRAIN\\TRAIN (3).jpg\n",
      "Opening image at path: C:\\Users\\hp\\Indian-Sign-Language-SIH\\dataset\\Frames_Word_Level\\TRUST\\TRUST (1).jpg\n",
      "Opening image at path: C:\\Users\\hp\\Indian-Sign-Language-SIH\\dataset\\Frames_Word_Level\\TRUTH\\TRUTH (1).jpg\n",
      "Opening image at path: C:\\Users\\hp\\Indian-Sign-Language-SIH\\dataset\\Frames_Word_Level\\TURN ON\\TURN ON (1).jpg\n",
      "Opening image at path: C:\\Users\\hp\\Indian-Sign-Language-SIH\\dataset\\Frames_Word_Level\\UNDERSTAND\\UNDERSTAND (1).jpg\n",
      "Opening image at path: C:\\Users\\hp\\Indian-Sign-Language-SIH\\dataset\\Frames_Word_Level\\WANT\\want-1.jpg\n",
      "Opening image at path: C:\\Users\\hp\\Indian-Sign-Language-SIH\\dataset\\Frames_Word_Level\\WATER\\WATER (1).jpg\n",
      "Opening image at path: C:\\Users\\hp\\Indian-Sign-Language-SIH\\dataset\\Frames_Word_Level\\WEAR\\WEAR (1).jpg\n",
      "Opening image at path: C:\\Users\\hp\\Indian-Sign-Language-SIH\\dataset\\Frames_Word_Level\\WELCOME\\WELCOME (1).jpg\n",
      "Opening image at path: C:\\Users\\hp\\Indian-Sign-Language-SIH\\dataset\\Frames_Word_Level\\WHAT\\WHAT (1).jpg\n",
      "Opening image at path: C:\\Users\\hp\\Indian-Sign-Language-SIH\\dataset\\Frames_Word_Level\\WHERE\\WHERE-1.jpg\n",
      "Opening image at path: C:\\Users\\hp\\Indian-Sign-Language-SIH\\dataset\\Frames_Word_Level\\WHO\\WHO-1.jpg\n",
      "Opening image at path: C:\\Users\\hp\\Indian-Sign-Language-SIH\\dataset\\Frames_Word_Level\\WORRY\\WORRY (1).jpg\n"
     ]
    }
   ],
   "source": [
    "augmented_data = []\n",
    "\n",
    "for _, row in filtered_rows_1.iterrows():\n",
    "    word = row['Word']\n",
    "    image_path = row['Frames path']\n",
    "    \n",
    "    print(f\"Opening image at path: {image_path}\")\n",
    "    \n",
    "    try:\n",
    "        # Open the image\n",
    "        image = Image.open(image_path)\n",
    "        \n",
    "        # Apply transformations 28 times\n",
    "        for i in range(28):\n",
    "            augmented_tensor = transform(image)  # Get the transformed tensor\n",
    "            augmented_image = to_pil(augmented_tensor)  # Convert to PIL image\n",
    "            \n",
    "            # Create the augmented image path\n",
    "            augmented_image_path = image_path.replace('.jpg', f'_aug_{i}.jpg')\n",
    "            \n",
    "            # Save the augmented image to the same directory\n",
    "            augmented_image.save(augmented_image_path)\n",
    "            \n",
    "            # Append details to the augmented data list\n",
    "            augmented_data.append({'Word': word, 'Frames path': augmented_image_path})\n",
    "    \n",
    "    except FileNotFoundError as e:\n",
    "        print(f\"FileNotFoundError: {e}\")\n",
    "\n",
    "# Create a new DataFrame with the augmented data\n",
    "augmented_df = pd.DataFrame(augmented_data)\n",
    "\n",
    "# Optionally, you can concatenate the original dataframe with the augmented one\n",
    "# final_df = pd.concat([df, augmented_df], ignore_index=True)"
   ]
  },
  {
   "cell_type": "code",
   "execution_count": 26,
   "id": "d666d7fd-16b6-4eab-95bb-08d3109f436e",
   "metadata": {},
   "outputs": [
    {
     "data": {
      "text/plain": [
       "(3136, 2)"
      ]
     },
     "execution_count": 26,
     "metadata": {},
     "output_type": "execute_result"
    }
   ],
   "source": [
    "augmented_df.shape"
   ]
  },
  {
   "cell_type": "code",
   "execution_count": 27,
   "id": "82046da3-7a9a-469c-a0cf-ba988f413123",
   "metadata": {},
   "outputs": [
    {
     "data": {
      "text/html": [
       "<div>\n",
       "<style scoped>\n",
       "    .dataframe tbody tr th:only-of-type {\n",
       "        vertical-align: middle;\n",
       "    }\n",
       "\n",
       "    .dataframe tbody tr th {\n",
       "        vertical-align: top;\n",
       "    }\n",
       "\n",
       "    .dataframe thead th {\n",
       "        text-align: right;\n",
       "    }\n",
       "</style>\n",
       "<table border=\"1\" class=\"dataframe\">\n",
       "  <thead>\n",
       "    <tr style=\"text-align: right;\">\n",
       "      <th></th>\n",
       "      <th>Word</th>\n",
       "      <th>Frames path</th>\n",
       "    </tr>\n",
       "  </thead>\n",
       "  <tbody>\n",
       "    <tr>\n",
       "      <th>0</th>\n",
       "      <td>A LOT</td>\n",
       "      <td>C:\\Users\\hp\\Indian-Sign-Language-SIH\\dataset\\F...</td>\n",
       "    </tr>\n",
       "    <tr>\n",
       "      <th>1</th>\n",
       "      <td>A LOT</td>\n",
       "      <td>C:\\Users\\hp\\Indian-Sign-Language-SIH\\dataset\\F...</td>\n",
       "    </tr>\n",
       "    <tr>\n",
       "      <th>2</th>\n",
       "      <td>A LOT</td>\n",
       "      <td>C:\\Users\\hp\\Indian-Sign-Language-SIH\\dataset\\F...</td>\n",
       "    </tr>\n",
       "    <tr>\n",
       "      <th>3</th>\n",
       "      <td>A LOT</td>\n",
       "      <td>C:\\Users\\hp\\Indian-Sign-Language-SIH\\dataset\\F...</td>\n",
       "    </tr>\n",
       "    <tr>\n",
       "      <th>4</th>\n",
       "      <td>A LOT</td>\n",
       "      <td>C:\\Users\\hp\\Indian-Sign-Language-SIH\\dataset\\F...</td>\n",
       "    </tr>\n",
       "  </tbody>\n",
       "</table>\n",
       "</div>"
      ],
      "text/plain": [
       "    Word                                        Frames path\n",
       "0  A LOT  C:\\Users\\hp\\Indian-Sign-Language-SIH\\dataset\\F...\n",
       "1  A LOT  C:\\Users\\hp\\Indian-Sign-Language-SIH\\dataset\\F...\n",
       "2  A LOT  C:\\Users\\hp\\Indian-Sign-Language-SIH\\dataset\\F...\n",
       "3  A LOT  C:\\Users\\hp\\Indian-Sign-Language-SIH\\dataset\\F...\n",
       "4  A LOT  C:\\Users\\hp\\Indian-Sign-Language-SIH\\dataset\\F..."
      ]
     },
     "execution_count": 27,
     "metadata": {},
     "output_type": "execute_result"
    }
   ],
   "source": [
    "augmented_df.head()"
   ]
  },
  {
   "cell_type": "code",
   "execution_count": 28,
   "id": "7090e0f9-fd36-4d13-a923-2e0124a34fcf",
   "metadata": {},
   "outputs": [],
   "source": [
    "# # Set the minimum number of data points per word\n",
    "# min_data_points = 2\n",
    "\n",
    "# # Group by 'Word' and apply sampling to ensure each word has only `min_data_points` rows\n",
    "# consistent_word_frames = word_frames.groupby('Word').apply(lambda x: x.sample(n=min_data_points, random_state=369) if len(x) >= min_data_points else x).reset_index(drop=True)\n"
   ]
  },
  {
   "cell_type": "code",
   "execution_count": 29,
   "id": "22b232c2-d6ec-4c91-aad8-fcbbce3fe476",
   "metadata": {},
   "outputs": [],
   "source": [
    "# consistent_word_frames.shape"
   ]
  },
  {
   "cell_type": "code",
   "execution_count": null,
   "id": "fe04183d-3824-41f6-a71b-48c6209a1e6b",
   "metadata": {},
   "outputs": [],
   "source": []
  },
  {
   "cell_type": "code",
   "execution_count": 30,
   "id": "6f86cc26-1c94-4336-8625-bdb0a67d00c7",
   "metadata": {},
   "outputs": [
    {
     "data": {
      "text/html": [
       "<div>\n",
       "<style scoped>\n",
       "    .dataframe tbody tr th:only-of-type {\n",
       "        vertical-align: middle;\n",
       "    }\n",
       "\n",
       "    .dataframe tbody tr th {\n",
       "        vertical-align: top;\n",
       "    }\n",
       "\n",
       "    .dataframe thead th {\n",
       "        text-align: right;\n",
       "    }\n",
       "</style>\n",
       "<table border=\"1\" class=\"dataframe\">\n",
       "  <thead>\n",
       "    <tr style=\"text-align: right;\">\n",
       "      <th></th>\n",
       "      <th>Unnamed: 0</th>\n",
       "      <th>Word</th>\n",
       "    </tr>\n",
       "  </thead>\n",
       "  <tbody>\n",
       "    <tr>\n",
       "      <th>357</th>\n",
       "      <td>377</td>\n",
       "      <td>I_ME_MINE_MY</td>\n",
       "    </tr>\n",
       "    <tr>\n",
       "      <th>358</th>\n",
       "      <td>378</td>\n",
       "      <td>I_ME_MINE_MY</td>\n",
       "    </tr>\n",
       "    <tr>\n",
       "      <th>359</th>\n",
       "      <td>379</td>\n",
       "      <td>I_ME_MINE_MY</td>\n",
       "    </tr>\n",
       "    <tr>\n",
       "      <th>360</th>\n",
       "      <td>380</td>\n",
       "      <td>I_ME_MINE_MY</td>\n",
       "    </tr>\n",
       "    <tr>\n",
       "      <th>361</th>\n",
       "      <td>381</td>\n",
       "      <td>I_ME_MINE_MY</td>\n",
       "    </tr>\n",
       "    <tr>\n",
       "      <th>...</th>\n",
       "      <td>...</td>\n",
       "      <td>...</td>\n",
       "    </tr>\n",
       "    <tr>\n",
       "      <th>979</th>\n",
       "      <td>1031</td>\n",
       "      <td>YOU</td>\n",
       "    </tr>\n",
       "    <tr>\n",
       "      <th>980</th>\n",
       "      <td>1032</td>\n",
       "      <td>YOU</td>\n",
       "    </tr>\n",
       "    <tr>\n",
       "      <th>981</th>\n",
       "      <td>1033</td>\n",
       "      <td>YOU</td>\n",
       "    </tr>\n",
       "    <tr>\n",
       "      <th>982</th>\n",
       "      <td>1034</td>\n",
       "      <td>YOU</td>\n",
       "    </tr>\n",
       "    <tr>\n",
       "      <th>983</th>\n",
       "      <td>1035</td>\n",
       "      <td>YOU</td>\n",
       "    </tr>\n",
       "  </tbody>\n",
       "</table>\n",
       "<p>197 rows × 2 columns</p>\n",
       "</div>"
      ],
      "text/plain": [
       "     Unnamed: 0          Word\n",
       "357         377  I_ME_MINE_MY\n",
       "358         378  I_ME_MINE_MY\n",
       "359         379  I_ME_MINE_MY\n",
       "360         380  I_ME_MINE_MY\n",
       "361         381  I_ME_MINE_MY\n",
       "..          ...           ...\n",
       "979        1031           YOU\n",
       "980        1032           YOU\n",
       "981        1033           YOU\n",
       "982        1034           YOU\n",
       "983        1035           YOU\n",
       "\n",
       "[197 rows x 2 columns]"
      ]
     },
     "execution_count": 30,
     "metadata": {},
     "output_type": "execute_result"
    }
   ],
   "source": [
    "## the data points which were not augmented need to be included in dataset\n",
    "\n",
    "filtered_words_df2 = words_corpus[words_corpus[\"Word\"].map(words_corpus[\"Word\"].value_counts()) > 28]\n",
    "\n",
    "filtered_words_df2"
   ]
  },
  {
   "cell_type": "code",
   "execution_count": 31,
   "id": "a58e5b25-68fb-4a47-8dcc-aa3227abd984",
   "metadata": {},
   "outputs": [],
   "source": [
    "filtered_words_df2 = filtered_words_df2[[\"Unnamed: 0\", \"Word\"]]\n",
    "\n",
    "filtered_words_df2 = filtered_words_df2.set_index(\"Unnamed: 0\")\n",
    "\n",
    "filtered_rows_2 = filtered_words_df2[[\"Word\"]].join(word_frames[\"Frames path\"], on=filtered_words_df2.index)"
   ]
  },
  {
   "cell_type": "code",
   "execution_count": 32,
   "id": "9f2c675b-c2ff-44b7-bf5d-db2b1434ad9f",
   "metadata": {},
   "outputs": [
    {
     "data": {
      "text/plain": [
       "(197, 2)"
      ]
     },
     "execution_count": 32,
     "metadata": {},
     "output_type": "execute_result"
    }
   ],
   "source": [
    "filtered_rows_2.shape"
   ]
  },
  {
   "cell_type": "code",
   "execution_count": 33,
   "id": "e2cd27be-cf41-4edc-ad5a-34cc446c2f34",
   "metadata": {},
   "outputs": [
    {
     "data": {
      "text/html": [
       "<div>\n",
       "<style scoped>\n",
       "    .dataframe tbody tr th:only-of-type {\n",
       "        vertical-align: middle;\n",
       "    }\n",
       "\n",
       "    .dataframe tbody tr th {\n",
       "        vertical-align: top;\n",
       "    }\n",
       "\n",
       "    .dataframe thead th {\n",
       "        text-align: right;\n",
       "    }\n",
       "</style>\n",
       "<table border=\"1\" class=\"dataframe\">\n",
       "  <thead>\n",
       "    <tr style=\"text-align: right;\">\n",
       "      <th></th>\n",
       "      <th>Word</th>\n",
       "      <th>Frames path</th>\n",
       "    </tr>\n",
       "    <tr>\n",
       "      <th>Unnamed: 0</th>\n",
       "      <th></th>\n",
       "      <th></th>\n",
       "    </tr>\n",
       "  </thead>\n",
       "  <tbody>\n",
       "    <tr>\n",
       "      <th>377</th>\n",
       "      <td>I_ME_MINE_MY</td>\n",
       "      <td>C:\\Users\\hp\\Indian-Sign-Language-SIH\\dataset\\F...</td>\n",
       "    </tr>\n",
       "    <tr>\n",
       "      <th>378</th>\n",
       "      <td>I_ME_MINE_MY</td>\n",
       "      <td>C:\\Users\\hp\\Indian-Sign-Language-SIH\\dataset\\F...</td>\n",
       "    </tr>\n",
       "    <tr>\n",
       "      <th>379</th>\n",
       "      <td>I_ME_MINE_MY</td>\n",
       "      <td>C:\\Users\\hp\\Indian-Sign-Language-SIH\\dataset\\F...</td>\n",
       "    </tr>\n",
       "    <tr>\n",
       "      <th>380</th>\n",
       "      <td>I_ME_MINE_MY</td>\n",
       "      <td>C:\\Users\\hp\\Indian-Sign-Language-SIH\\dataset\\F...</td>\n",
       "    </tr>\n",
       "    <tr>\n",
       "      <th>381</th>\n",
       "      <td>I_ME_MINE_MY</td>\n",
       "      <td>C:\\Users\\hp\\Indian-Sign-Language-SIH\\dataset\\F...</td>\n",
       "    </tr>\n",
       "    <tr>\n",
       "      <th>...</th>\n",
       "      <td>...</td>\n",
       "      <td>...</td>\n",
       "    </tr>\n",
       "    <tr>\n",
       "      <th>1031</th>\n",
       "      <td>YOU</td>\n",
       "      <td>C:\\Users\\hp\\Indian-Sign-Language-SIH\\dataset\\F...</td>\n",
       "    </tr>\n",
       "    <tr>\n",
       "      <th>1032</th>\n",
       "      <td>YOU</td>\n",
       "      <td>C:\\Users\\hp\\Indian-Sign-Language-SIH\\dataset\\F...</td>\n",
       "    </tr>\n",
       "    <tr>\n",
       "      <th>1033</th>\n",
       "      <td>YOU</td>\n",
       "      <td>C:\\Users\\hp\\Indian-Sign-Language-SIH\\dataset\\F...</td>\n",
       "    </tr>\n",
       "    <tr>\n",
       "      <th>1034</th>\n",
       "      <td>YOU</td>\n",
       "      <td>C:\\Users\\hp\\Indian-Sign-Language-SIH\\dataset\\F...</td>\n",
       "    </tr>\n",
       "    <tr>\n",
       "      <th>1035</th>\n",
       "      <td>YOU</td>\n",
       "      <td>C:\\Users\\hp\\Indian-Sign-Language-SIH\\dataset\\F...</td>\n",
       "    </tr>\n",
       "  </tbody>\n",
       "</table>\n",
       "<p>197 rows × 2 columns</p>\n",
       "</div>"
      ],
      "text/plain": [
       "                    Word                                        Frames path\n",
       "Unnamed: 0                                                                 \n",
       "377         I_ME_MINE_MY  C:\\Users\\hp\\Indian-Sign-Language-SIH\\dataset\\F...\n",
       "378         I_ME_MINE_MY  C:\\Users\\hp\\Indian-Sign-Language-SIH\\dataset\\F...\n",
       "379         I_ME_MINE_MY  C:\\Users\\hp\\Indian-Sign-Language-SIH\\dataset\\F...\n",
       "380         I_ME_MINE_MY  C:\\Users\\hp\\Indian-Sign-Language-SIH\\dataset\\F...\n",
       "381         I_ME_MINE_MY  C:\\Users\\hp\\Indian-Sign-Language-SIH\\dataset\\F...\n",
       "...                  ...                                                ...\n",
       "1031                 YOU  C:\\Users\\hp\\Indian-Sign-Language-SIH\\dataset\\F...\n",
       "1032                 YOU  C:\\Users\\hp\\Indian-Sign-Language-SIH\\dataset\\F...\n",
       "1033                 YOU  C:\\Users\\hp\\Indian-Sign-Language-SIH\\dataset\\F...\n",
       "1034                 YOU  C:\\Users\\hp\\Indian-Sign-Language-SIH\\dataset\\F...\n",
       "1035                 YOU  C:\\Users\\hp\\Indian-Sign-Language-SIH\\dataset\\F...\n",
       "\n",
       "[197 rows x 2 columns]"
      ]
     },
     "execution_count": 33,
     "metadata": {},
     "output_type": "execute_result"
    }
   ],
   "source": [
    "filtered_rows_2"
   ]
  },
  {
   "cell_type": "code",
   "execution_count": 34,
   "id": "d286653f-952c-4680-9172-f2c13079df15",
   "metadata": {},
   "outputs": [],
   "source": [
    "I_corpus = filtered_rows_2[:28]\n",
    "\n",
    "You_corpus = filtered_rows_2[len(filtered_rows_2)-28:]"
   ]
  },
  {
   "cell_type": "code",
   "execution_count": 35,
   "id": "e126a355-ab6e-40e8-84c3-d2f00c444b11",
   "metadata": {},
   "outputs": [
    {
     "data": {
      "text/plain": [
       "(28, 2)"
      ]
     },
     "execution_count": 35,
     "metadata": {},
     "output_type": "execute_result"
    }
   ],
   "source": [
    "I_corpus.shape"
   ]
  },
  {
   "cell_type": "code",
   "execution_count": 36,
   "id": "364dae53-5449-40bb-8ce9-737890b6cd04",
   "metadata": {},
   "outputs": [
    {
     "data": {
      "text/plain": [
       "(28, 2)"
      ]
     },
     "execution_count": 36,
     "metadata": {},
     "output_type": "execute_result"
    }
   ],
   "source": [
    "You_corpus.shape"
   ]
  },
  {
   "cell_type": "code",
   "execution_count": 37,
   "id": "19f323fa-60ce-4a25-8356-274ba7e43db2",
   "metadata": {},
   "outputs": [],
   "source": [
    "df = pd.concat([augmented_df, I_corpus, You_corpus], ignore_index=True)"
   ]
  },
  {
   "cell_type": "code",
   "execution_count": 38,
   "id": "3f4c0990-ec25-4240-bddf-d696c48026f0",
   "metadata": {},
   "outputs": [
    {
     "data": {
      "text/html": [
       "<div>\n",
       "<style scoped>\n",
       "    .dataframe tbody tr th:only-of-type {\n",
       "        vertical-align: middle;\n",
       "    }\n",
       "\n",
       "    .dataframe tbody tr th {\n",
       "        vertical-align: top;\n",
       "    }\n",
       "\n",
       "    .dataframe thead th {\n",
       "        text-align: right;\n",
       "    }\n",
       "</style>\n",
       "<table border=\"1\" class=\"dataframe\">\n",
       "  <thead>\n",
       "    <tr style=\"text-align: right;\">\n",
       "      <th></th>\n",
       "      <th>Word</th>\n",
       "      <th>Frames path</th>\n",
       "    </tr>\n",
       "  </thead>\n",
       "  <tbody>\n",
       "    <tr>\n",
       "      <th>3187</th>\n",
       "      <td>YOU</td>\n",
       "      <td>C:\\Users\\hp\\Indian-Sign-Language-SIH\\dataset\\F...</td>\n",
       "    </tr>\n",
       "    <tr>\n",
       "      <th>3188</th>\n",
       "      <td>YOU</td>\n",
       "      <td>C:\\Users\\hp\\Indian-Sign-Language-SIH\\dataset\\F...</td>\n",
       "    </tr>\n",
       "    <tr>\n",
       "      <th>3189</th>\n",
       "      <td>YOU</td>\n",
       "      <td>C:\\Users\\hp\\Indian-Sign-Language-SIH\\dataset\\F...</td>\n",
       "    </tr>\n",
       "    <tr>\n",
       "      <th>3190</th>\n",
       "      <td>YOU</td>\n",
       "      <td>C:\\Users\\hp\\Indian-Sign-Language-SIH\\dataset\\F...</td>\n",
       "    </tr>\n",
       "    <tr>\n",
       "      <th>3191</th>\n",
       "      <td>YOU</td>\n",
       "      <td>C:\\Users\\hp\\Indian-Sign-Language-SIH\\dataset\\F...</td>\n",
       "    </tr>\n",
       "  </tbody>\n",
       "</table>\n",
       "</div>"
      ],
      "text/plain": [
       "     Word                                        Frames path\n",
       "3187  YOU  C:\\Users\\hp\\Indian-Sign-Language-SIH\\dataset\\F...\n",
       "3188  YOU  C:\\Users\\hp\\Indian-Sign-Language-SIH\\dataset\\F...\n",
       "3189  YOU  C:\\Users\\hp\\Indian-Sign-Language-SIH\\dataset\\F...\n",
       "3190  YOU  C:\\Users\\hp\\Indian-Sign-Language-SIH\\dataset\\F...\n",
       "3191  YOU  C:\\Users\\hp\\Indian-Sign-Language-SIH\\dataset\\F..."
      ]
     },
     "execution_count": 38,
     "metadata": {},
     "output_type": "execute_result"
    }
   ],
   "source": [
    "df.tail()"
   ]
  },
  {
   "cell_type": "code",
   "execution_count": 39,
   "id": "1cf96c46-0119-4b5a-84b2-7d337c84f620",
   "metadata": {},
   "outputs": [
    {
     "data": {
      "text/plain": [
       "(3192, 2)"
      ]
     },
     "execution_count": 39,
     "metadata": {},
     "output_type": "execute_result"
    }
   ],
   "source": [
    "df.shape"
   ]
  },
  {
   "cell_type": "code",
   "execution_count": null,
   "id": "cb7ed755-7d34-4935-99f0-92802c1d5044",
   "metadata": {},
   "outputs": [],
   "source": []
  },
  {
   "cell_type": "code",
   "execution_count": null,
   "id": "503d1d03-8762-4272-82ea-0660aa83ec07",
   "metadata": {},
   "outputs": [],
   "source": []
  },
  {
   "cell_type": "code",
   "execution_count": 40,
   "id": "4c1b8b17-be45-4e61-9173-518436cc764c",
   "metadata": {},
   "outputs": [],
   "source": [
    "df.to_csv(\"augmented_df.csv\")"
   ]
  },
  {
   "cell_type": "code",
   "execution_count": null,
   "id": "338d87fa-fa0e-445a-9a1d-8ce4ede905a8",
   "metadata": {},
   "outputs": [],
   "source": []
  },
  {
   "cell_type": "code",
   "execution_count": null,
   "id": "c81d65c4-38df-4018-ad06-94921180b4cc",
   "metadata": {},
   "outputs": [],
   "source": []
  },
  {
   "cell_type": "code",
   "execution_count": null,
   "id": "67a7098d-ac3c-4763-85ca-acaee08ae616",
   "metadata": {},
   "outputs": [],
   "source": []
  },
  {
   "cell_type": "code",
   "execution_count": null,
   "id": "20b88ec3-3bc3-47d3-b4da-da3c3d686bf2",
   "metadata": {},
   "outputs": [],
   "source": []
  },
  {
   "cell_type": "code",
   "execution_count": null,
   "id": "2970fc46-9f5f-4de5-b95d-0d8991d3460d",
   "metadata": {},
   "outputs": [],
   "source": []
  },
  {
   "cell_type": "code",
   "execution_count": null,
   "id": "5f6036cf-c788-4a0f-98df-419aaf4214f4",
   "metadata": {},
   "outputs": [],
   "source": []
  }
 ],
 "metadata": {
  "kernelspec": {
   "display_name": "Python 3 (ipykernel)",
   "language": "python",
   "name": "python3"
  },
  "language_info": {
   "codemirror_mode": {
    "name": "ipython",
    "version": 3
   },
   "file_extension": ".py",
   "mimetype": "text/x-python",
   "name": "python",
   "nbconvert_exporter": "python",
   "pygments_lexer": "ipython3",
   "version": "3.8.20"
  }
 },
 "nbformat": 4,
 "nbformat_minor": 5
}
