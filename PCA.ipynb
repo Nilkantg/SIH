{
 "cells": [
  {
   "cell_type": "code",
   "execution_count": 4,
   "id": "1cb45969-ee35-4dcb-80c5-e0cd1cc2d3c4",
   "metadata": {},
   "outputs": [],
   "source": [
    "import pandas as pd\n",
    "import numpy as np\n",
    "import matplotlib.pyplot as plt\n",
    "import seaborn as sns\n",
    "sns.set()\n",
    "\n",
    "from sklearn.decomposition import PCA \n",
    "from sklearn.discriminant_analysis import LinearDiscriminantAnalysis\n",
    "\n",
    "import warnings\n",
    "warnings.filterwarnings(\"ignore\")"
   ]
  },
  {
   "cell_type": "code",
   "execution_count": 5,
   "id": "3953b5d7-de13-446c-9804-69e595f008cf",
   "metadata": {},
   "outputs": [],
   "source": [
    "df = pd.read_csv(\"augmented_words_df.csv\")"
   ]
  },
  {
   "cell_type": "code",
   "execution_count": 6,
   "id": "39213302-a164-4732-8df0-9366a3c9787e",
   "metadata": {},
   "outputs": [
    {
     "data": {
      "text/plain": [
       "(3104, 67)"
      ]
     },
     "execution_count": 6,
     "metadata": {},
     "output_type": "execute_result"
    }
   ],
   "source": [
    "df.shape"
   ]
  },
  {
   "cell_type": "code",
   "execution_count": 7,
   "id": "1c8d6af0-762d-4dfe-a3c6-25f621125386",
   "metadata": {},
   "outputs": [
    {
     "data": {
      "text/html": [
       "<div>\n",
       "<style scoped>\n",
       "    .dataframe tbody tr th:only-of-type {\n",
       "        vertical-align: middle;\n",
       "    }\n",
       "\n",
       "    .dataframe tbody tr th {\n",
       "        vertical-align: top;\n",
       "    }\n",
       "\n",
       "    .dataframe thead th {\n",
       "        text-align: right;\n",
       "    }\n",
       "</style>\n",
       "<table border=\"1\" class=\"dataframe\">\n",
       "  <thead>\n",
       "    <tr style=\"text-align: right;\">\n",
       "      <th></th>\n",
       "      <th>Unnamed: 0.1</th>\n",
       "      <th>Unnamed: 0</th>\n",
       "      <th>0</th>\n",
       "      <th>1</th>\n",
       "      <th>2</th>\n",
       "      <th>3</th>\n",
       "      <th>4</th>\n",
       "      <th>5</th>\n",
       "      <th>6</th>\n",
       "      <th>7</th>\n",
       "      <th>...</th>\n",
       "      <th>55</th>\n",
       "      <th>56</th>\n",
       "      <th>57</th>\n",
       "      <th>58</th>\n",
       "      <th>59</th>\n",
       "      <th>60</th>\n",
       "      <th>61</th>\n",
       "      <th>62</th>\n",
       "      <th>63</th>\n",
       "      <th>Word</th>\n",
       "    </tr>\n",
       "  </thead>\n",
       "  <tbody>\n",
       "    <tr>\n",
       "      <th>0</th>\n",
       "      <td>0</td>\n",
       "      <td>0</td>\n",
       "      <td>0.281080</td>\n",
       "      <td>0.785070</td>\n",
       "      <td>1.588461e-07</td>\n",
       "      <td>0.277660</td>\n",
       "      <td>0.759269</td>\n",
       "      <td>-0.009657</td>\n",
       "      <td>0.266050</td>\n",
       "      <td>0.738115</td>\n",
       "      <td>...</td>\n",
       "      <td>0.794348</td>\n",
       "      <td>-0.005122</td>\n",
       "      <td>0.210189</td>\n",
       "      <td>0.789483</td>\n",
       "      <td>-0.006075</td>\n",
       "      <td>0.201289</td>\n",
       "      <td>0.783234</td>\n",
       "      <td>-0.006542</td>\n",
       "      <td>0.072552</td>\n",
       "      <td>A LOT</td>\n",
       "    </tr>\n",
       "    <tr>\n",
       "      <th>1</th>\n",
       "      <td>1</td>\n",
       "      <td>1</td>\n",
       "      <td>0.663690</td>\n",
       "      <td>0.894299</td>\n",
       "      <td>8.018031e-08</td>\n",
       "      <td>0.670382</td>\n",
       "      <td>0.868997</td>\n",
       "      <td>-0.017688</td>\n",
       "      <td>0.685768</td>\n",
       "      <td>0.851407</td>\n",
       "      <td>...</td>\n",
       "      <td>0.915870</td>\n",
       "      <td>-0.008087</td>\n",
       "      <td>0.748309</td>\n",
       "      <td>0.916358</td>\n",
       "      <td>-0.010335</td>\n",
       "      <td>0.758745</td>\n",
       "      <td>0.916090</td>\n",
       "      <td>-0.011643</td>\n",
       "      <td>0.093832</td>\n",
       "      <td>A LOT</td>\n",
       "    </tr>\n",
       "    <tr>\n",
       "      <th>2</th>\n",
       "      <td>2</td>\n",
       "      <td>3</td>\n",
       "      <td>0.680567</td>\n",
       "      <td>0.839997</td>\n",
       "      <td>1.026588e-07</td>\n",
       "      <td>0.685946</td>\n",
       "      <td>0.813674</td>\n",
       "      <td>-0.015009</td>\n",
       "      <td>0.701091</td>\n",
       "      <td>0.794908</td>\n",
       "      <td>...</td>\n",
       "      <td>0.846997</td>\n",
       "      <td>-0.011000</td>\n",
       "      <td>0.762835</td>\n",
       "      <td>0.843248</td>\n",
       "      <td>-0.013924</td>\n",
       "      <td>0.773743</td>\n",
       "      <td>0.838970</td>\n",
       "      <td>-0.015680</td>\n",
       "      <td>0.085177</td>\n",
       "      <td>A LOT</td>\n",
       "    </tr>\n",
       "    <tr>\n",
       "      <th>3</th>\n",
       "      <td>3</td>\n",
       "      <td>4</td>\n",
       "      <td>0.694425</td>\n",
       "      <td>0.883991</td>\n",
       "      <td>9.631631e-08</td>\n",
       "      <td>0.698218</td>\n",
       "      <td>0.855003</td>\n",
       "      <td>-0.016717</td>\n",
       "      <td>0.710920</td>\n",
       "      <td>0.831180</td>\n",
       "      <td>...</td>\n",
       "      <td>0.895405</td>\n",
       "      <td>-0.013250</td>\n",
       "      <td>0.776406</td>\n",
       "      <td>0.890875</td>\n",
       "      <td>-0.015874</td>\n",
       "      <td>0.786860</td>\n",
       "      <td>0.883967</td>\n",
       "      <td>-0.017087</td>\n",
       "      <td>0.088201</td>\n",
       "      <td>A LOT</td>\n",
       "    </tr>\n",
       "    <tr>\n",
       "      <th>4</th>\n",
       "      <td>4</td>\n",
       "      <td>5</td>\n",
       "      <td>0.323472</td>\n",
       "      <td>0.727019</td>\n",
       "      <td>1.185023e-07</td>\n",
       "      <td>0.319189</td>\n",
       "      <td>0.704968</td>\n",
       "      <td>-0.003473</td>\n",
       "      <td>0.307335</td>\n",
       "      <td>0.687577</td>\n",
       "      <td>...</td>\n",
       "      <td>0.721823</td>\n",
       "      <td>-0.005233</td>\n",
       "      <td>0.264031</td>\n",
       "      <td>0.707412</td>\n",
       "      <td>-0.004767</td>\n",
       "      <td>0.264934</td>\n",
       "      <td>0.695965</td>\n",
       "      <td>-0.004344</td>\n",
       "      <td>0.048560</td>\n",
       "      <td>A LOT</td>\n",
       "    </tr>\n",
       "  </tbody>\n",
       "</table>\n",
       "<p>5 rows × 67 columns</p>\n",
       "</div>"
      ],
      "text/plain": [
       "   Unnamed: 0.1  Unnamed: 0         0         1             2         3  \\\n",
       "0             0           0  0.281080  0.785070  1.588461e-07  0.277660   \n",
       "1             1           1  0.663690  0.894299  8.018031e-08  0.670382   \n",
       "2             2           3  0.680567  0.839997  1.026588e-07  0.685946   \n",
       "3             3           4  0.694425  0.883991  9.631631e-08  0.698218   \n",
       "4             4           5  0.323472  0.727019  1.185023e-07  0.319189   \n",
       "\n",
       "          4         5         6         7  ...        55        56        57  \\\n",
       "0  0.759269 -0.009657  0.266050  0.738115  ...  0.794348 -0.005122  0.210189   \n",
       "1  0.868997 -0.017688  0.685768  0.851407  ...  0.915870 -0.008087  0.748309   \n",
       "2  0.813674 -0.015009  0.701091  0.794908  ...  0.846997 -0.011000  0.762835   \n",
       "3  0.855003 -0.016717  0.710920  0.831180  ...  0.895405 -0.013250  0.776406   \n",
       "4  0.704968 -0.003473  0.307335  0.687577  ...  0.721823 -0.005233  0.264031   \n",
       "\n",
       "         58        59        60        61        62        63   Word  \n",
       "0  0.789483 -0.006075  0.201289  0.783234 -0.006542  0.072552  A LOT  \n",
       "1  0.916358 -0.010335  0.758745  0.916090 -0.011643  0.093832  A LOT  \n",
       "2  0.843248 -0.013924  0.773743  0.838970 -0.015680  0.085177  A LOT  \n",
       "3  0.890875 -0.015874  0.786860  0.883967 -0.017087  0.088201  A LOT  \n",
       "4  0.707412 -0.004767  0.264934  0.695965 -0.004344  0.048560  A LOT  \n",
       "\n",
       "[5 rows x 67 columns]"
      ]
     },
     "execution_count": 7,
     "metadata": {},
     "output_type": "execute_result"
    }
   ],
   "source": [
    "df.head()"
   ]
  },
  {
   "cell_type": "code",
   "execution_count": 8,
   "id": "63761962-e5a1-4d46-af6c-a1986ac8c2de",
   "metadata": {},
   "outputs": [],
   "source": [
    "df.drop([\"Unnamed: 0.1\", \"Unnamed: 0\"], inplace=True, axis=1)"
   ]
  },
  {
   "cell_type": "code",
   "execution_count": 9,
   "id": "655bd06c-010f-47bf-bfb9-50a4290b69f6",
   "metadata": {},
   "outputs": [
    {
     "data": {
      "text/plain": [
       "(3104, 65)"
      ]
     },
     "execution_count": 9,
     "metadata": {},
     "output_type": "execute_result"
    }
   ],
   "source": [
    "df.shape"
   ]
  },
  {
   "cell_type": "code",
   "execution_count": 12,
   "id": "68ac7b6b-9823-4883-bc02-fbb83c19b248",
   "metadata": {},
   "outputs": [],
   "source": [
    "category_data = df[\"Word\"]\n",
    "numeric_data = df.drop(\"Word\", axis=1)"
   ]
  },
  {
   "cell_type": "code",
   "execution_count": 13,
   "id": "9824c405-c7a7-4d87-9e7f-1016c51f7b83",
   "metadata": {},
   "outputs": [
    {
     "name": "stdout",
     "output_type": "stream",
     "text": [
      "(3104, 64)\n",
      "(3104,)\n"
     ]
    }
   ],
   "source": [
    "print(numeric_data.shape)\n",
    "print(category_data.shape)"
   ]
  },
  {
   "cell_type": "markdown",
   "id": "d8767b8f-8b3d-494d-92cf-cdcda8d37b25",
   "metadata": {},
   "source": [
    "#### Applying PCA to reduce the dimensions"
   ]
  },
  {
   "cell_type": "code",
   "execution_count": 10,
   "id": "391ceefa-34a9-4383-bce5-0529422a3c85",
   "metadata": {},
   "outputs": [],
   "source": [
    "pca = PCA()"
   ]
  },
  {
   "cell_type": "code",
   "execution_count": 14,
   "id": "04662f1a-846f-484c-89cd-fc5ea6f8c644",
   "metadata": {},
   "outputs": [
    {
     "data": {
      "text/html": [
       "<style>#sk-container-id-1 {color: black;}#sk-container-id-1 pre{padding: 0;}#sk-container-id-1 div.sk-toggleable {background-color: white;}#sk-container-id-1 label.sk-toggleable__label {cursor: pointer;display: block;width: 100%;margin-bottom: 0;padding: 0.3em;box-sizing: border-box;text-align: center;}#sk-container-id-1 label.sk-toggleable__label-arrow:before {content: \"▸\";float: left;margin-right: 0.25em;color: #696969;}#sk-container-id-1 label.sk-toggleable__label-arrow:hover:before {color: black;}#sk-container-id-1 div.sk-estimator:hover label.sk-toggleable__label-arrow:before {color: black;}#sk-container-id-1 div.sk-toggleable__content {max-height: 0;max-width: 0;overflow: hidden;text-align: left;background-color: #f0f8ff;}#sk-container-id-1 div.sk-toggleable__content pre {margin: 0.2em;color: black;border-radius: 0.25em;background-color: #f0f8ff;}#sk-container-id-1 input.sk-toggleable__control:checked~div.sk-toggleable__content {max-height: 200px;max-width: 100%;overflow: auto;}#sk-container-id-1 input.sk-toggleable__control:checked~label.sk-toggleable__label-arrow:before {content: \"▾\";}#sk-container-id-1 div.sk-estimator input.sk-toggleable__control:checked~label.sk-toggleable__label {background-color: #d4ebff;}#sk-container-id-1 div.sk-label input.sk-toggleable__control:checked~label.sk-toggleable__label {background-color: #d4ebff;}#sk-container-id-1 input.sk-hidden--visually {border: 0;clip: rect(1px 1px 1px 1px);clip: rect(1px, 1px, 1px, 1px);height: 1px;margin: -1px;overflow: hidden;padding: 0;position: absolute;width: 1px;}#sk-container-id-1 div.sk-estimator {font-family: monospace;background-color: #f0f8ff;border: 1px dotted black;border-radius: 0.25em;box-sizing: border-box;margin-bottom: 0.5em;}#sk-container-id-1 div.sk-estimator:hover {background-color: #d4ebff;}#sk-container-id-1 div.sk-parallel-item::after {content: \"\";width: 100%;border-bottom: 1px solid gray;flex-grow: 1;}#sk-container-id-1 div.sk-label:hover label.sk-toggleable__label {background-color: #d4ebff;}#sk-container-id-1 div.sk-serial::before {content: \"\";position: absolute;border-left: 1px solid gray;box-sizing: border-box;top: 0;bottom: 0;left: 50%;z-index: 0;}#sk-container-id-1 div.sk-serial {display: flex;flex-direction: column;align-items: center;background-color: white;padding-right: 0.2em;padding-left: 0.2em;position: relative;}#sk-container-id-1 div.sk-item {position: relative;z-index: 1;}#sk-container-id-1 div.sk-parallel {display: flex;align-items: stretch;justify-content: center;background-color: white;position: relative;}#sk-container-id-1 div.sk-item::before, #sk-container-id-1 div.sk-parallel-item::before {content: \"\";position: absolute;border-left: 1px solid gray;box-sizing: border-box;top: 0;bottom: 0;left: 50%;z-index: -1;}#sk-container-id-1 div.sk-parallel-item {display: flex;flex-direction: column;z-index: 1;position: relative;background-color: white;}#sk-container-id-1 div.sk-parallel-item:first-child::after {align-self: flex-end;width: 50%;}#sk-container-id-1 div.sk-parallel-item:last-child::after {align-self: flex-start;width: 50%;}#sk-container-id-1 div.sk-parallel-item:only-child::after {width: 0;}#sk-container-id-1 div.sk-dashed-wrapped {border: 1px dashed gray;margin: 0 0.4em 0.5em 0.4em;box-sizing: border-box;padding-bottom: 0.4em;background-color: white;}#sk-container-id-1 div.sk-label label {font-family: monospace;font-weight: bold;display: inline-block;line-height: 1.2em;}#sk-container-id-1 div.sk-label-container {text-align: center;}#sk-container-id-1 div.sk-container {/* jupyter's `normalize.less` sets `[hidden] { display: none; }` but bootstrap.min.css set `[hidden] { display: none !important; }` so we also need the `!important` here to be able to override the default hidden behavior on the sphinx rendered scikit-learn.org. See: https://github.com/scikit-learn/scikit-learn/issues/21755 */display: inline-block !important;position: relative;}#sk-container-id-1 div.sk-text-repr-fallback {display: none;}</style><div id=\"sk-container-id-1\" class=\"sk-top-container\"><div class=\"sk-text-repr-fallback\"><pre>PCA()</pre><b>In a Jupyter environment, please rerun this cell to show the HTML representation or trust the notebook. <br />On GitHub, the HTML representation is unable to render, please try loading this page with nbviewer.org.</b></div><div class=\"sk-container\" hidden><div class=\"sk-item\"><div class=\"sk-estimator sk-toggleable\"><input class=\"sk-toggleable__control sk-hidden--visually\" id=\"sk-estimator-id-1\" type=\"checkbox\" checked><label for=\"sk-estimator-id-1\" class=\"sk-toggleable__label sk-toggleable__label-arrow\">PCA</label><div class=\"sk-toggleable__content\"><pre>PCA()</pre></div></div></div></div></div>"
      ],
      "text/plain": [
       "PCA()"
      ]
     },
     "execution_count": 14,
     "metadata": {},
     "output_type": "execute_result"
    }
   ],
   "source": [
    "pca.fit(numeric_data)"
   ]
  },
  {
   "cell_type": "code",
   "execution_count": 17,
   "id": "4d0030e1-266f-4573-8181-e9d87a88f9bc",
   "metadata": {},
   "outputs": [
    {
     "data": {
      "text/plain": [
       "array([7.12204989e-01, 2.61689162e-01, 6.61782748e-03, 5.35923372e-03,\n",
       "       4.63100909e-03, 2.92750335e-03, 2.73123793e-03, 1.07123611e-03,\n",
       "       6.93860734e-04, 4.85931522e-04, 3.52290161e-04, 2.52411750e-04,\n",
       "       2.19519469e-04, 1.80686071e-04, 1.15872996e-04, 9.08463570e-05,\n",
       "       7.14015876e-05, 5.81088027e-05, 5.14566944e-05, 4.23086748e-05,\n",
       "       3.70988553e-05, 2.45372915e-05, 1.68668217e-05, 1.24717646e-05,\n",
       "       9.60740180e-06, 8.63484330e-06, 8.11941208e-06, 5.62155919e-06,\n",
       "       4.81362260e-06, 4.51052135e-06, 3.59827343e-06, 2.83131958e-06,\n",
       "       2.06882376e-06, 1.91749184e-06, 1.76500280e-06, 1.58671783e-06,\n",
       "       1.37060563e-06, 1.19701890e-06, 8.64762910e-07, 6.27666978e-07,\n",
       "       5.86230255e-07, 5.64088283e-07, 3.85382703e-07, 3.42381687e-07,\n",
       "       2.54901034e-07, 2.25286304e-07, 1.24527049e-07, 1.19307360e-07,\n",
       "       1.01886159e-07, 6.59246470e-08, 5.21937582e-08, 4.36267181e-08,\n",
       "       3.50514180e-08, 3.11967032e-08, 2.14387194e-08, 1.76933005e-08,\n",
       "       1.48048221e-08, 3.67522181e-09, 3.22692896e-09, 1.87548923e-09,\n",
       "       1.29686126e-09, 8.71577362e-10, 4.28083896e-10, 4.08939576e-15])"
      ]
     },
     "execution_count": 17,
     "metadata": {},
     "output_type": "execute_result"
    }
   ],
   "source": [
    "pca.explained_variance_ratio_"
   ]
  },
  {
   "cell_type": "code",
   "execution_count": 19,
   "id": "7b5cfe0b-7f9a-47c6-b960-fbb1af50334a",
   "metadata": {},
   "outputs": [
    {
     "data": {
      "text/plain": [
       "Text(0, 0.5, 'Cumulative Explained Variance')"
      ]
     },
     "execution_count": 19,
     "metadata": {},
     "output_type": "execute_result"
    },
    {
     "data": {
      "image/png": "[encoded data removed]",
      "text/plain": [
       "<Figure size 1200x900 with 1 Axes>"
      ]
     },
     "metadata": {},
     "output_type": "display_data"
    }
   ],
   "source": [
    "plt.figure(figsize = (12,9))\n",
    "plt.plot(range(1,65), pca.explained_variance_ratio_.cumsum(), marker = 'o', linestyle = '--')\n",
    "plt.title('Explained Variance by Components')\n",
    "plt.xlabel('Number of Components')\n",
    "plt.ylabel('Cumulative Explained Variance')"
   ]
  },
  {
   "cell_type": "markdown",
   "id": "583555cf-4a74-40b4-91c9-a5981be21a29",
   "metadata": {},
   "source": [
    "###### From above I can see that the model is explaining the variance of 100 (generally we can stop at 80-85) at 10 components only                      \n",
    "##### I will be going the set the no.of components = 10"
   ]
  },
  {
   "cell_type": "code",
   "execution_count": 20,
   "id": "030a5ada-9672-4937-991d-dd83e72a965d",
   "metadata": {},
   "outputs": [],
   "source": [
    "pca = PCA(n_components=10)\n",
    "## if to optimize or can try out by parameterizing whiten=True"
   ]
  },
  {
   "cell_type": "code",
   "execution_count": 27,
   "id": "91da3a1f-0660-47eb-af95-bfd19b521d4f",
   "metadata": {},
   "outputs": [
    {
     "data": {
      "text/plain": [
       "array([[ 1.15062509,  1.27318174, -0.00774292, ...,  0.03425522,\n",
       "         0.01433178,  0.034387  ],\n",
       "       [ 1.7712793 , -1.0397129 , -0.03288311, ...,  0.05369203,\n",
       "         0.01320902,  0.06186467],\n",
       "       [ 1.45958972, -1.1145489 , -0.03847516, ...,  0.05454253,\n",
       "         0.00813164,  0.05192964],\n",
       "       ...,\n",
       "       [-0.5802967 ,  0.26559464,  0.06174877, ..., -0.10710839,\n",
       "         0.0154625 ,  0.02677877],\n",
       "       [-0.72948358,  1.09343308, -0.00868503, ..., -0.04125433,\n",
       "        -0.00757685, -0.02698268],\n",
       "       [-0.40828691, -0.01477217,  0.05288129, ..., -0.04498011,\n",
       "        -0.00954168, -0.01166124]])"
      ]
     },
     "execution_count": 27,
     "metadata": {},
     "output_type": "execute_result"
    }
   ],
   "source": [
    "pca.fit_transform(numeric_data)"
   ]
  },
  {
   "cell_type": "code",
   "execution_count": 24,
   "id": "3ee9abf0-8611-49a6-9faf-dc47fd05b114",
   "metadata": {},
   "outputs": [
    {
     "data": {
      "text/plain": [
       "(3104, 10)"
      ]
     },
     "execution_count": 24,
     "metadata": {},
     "output_type": "execute_result"
    }
   ],
   "source": [
    "pca.fit_transform(numeric_data).shape"
   ]
  },
  {
   "cell_type": "code",
   "execution_count": 28,
   "id": "8e26bb66-4057-4e09-942b-5379480495d7",
   "metadata": {},
   "outputs": [],
   "source": [
    "pca_scores = pca.fit_transform(numeric_data)"
   ]
  },
  {
   "cell_type": "code",
   "execution_count": 30,
   "id": "074b949c-c909-4d91-861c-381ab5b1570a",
   "metadata": {},
   "outputs": [],
   "source": [
    "new_df = pd.DataFrame(pca_scores, \n",
    "                     columns=[\"Feature-1\", \"Feature-2\", \"Feature-3\", \"Feature-4\", \"Feature-5\", \"Feature-6\", \"Feature-7\", \"Feature-8\", \"Feature-9\", \"Feature-10\"]\n",
    "                     )\n"
   ]
  },
  {
   "cell_type": "code",
   "execution_count": 31,
   "id": "1abb485b-424f-4a87-89ae-aad8d2ed812b",
   "metadata": {},
   "outputs": [
    {
     "data": {
      "text/html": [
       "<div>\n",
       "<style scoped>\n",
       "    .dataframe tbody tr th:only-of-type {\n",
       "        vertical-align: middle;\n",
       "    }\n",
       "\n",
       "    .dataframe tbody tr th {\n",
       "        vertical-align: top;\n",
       "    }\n",
       "\n",
       "    .dataframe thead th {\n",
       "        text-align: right;\n",
       "    }\n",
       "</style>\n",
       "<table border=\"1\" class=\"dataframe\">\n",
       "  <thead>\n",
       "    <tr style=\"text-align: right;\">\n",
       "      <th></th>\n",
       "      <th>Feature-1</th>\n",
       "      <th>Feature-2</th>\n",
       "      <th>Feature-3</th>\n",
       "      <th>Feature-4</th>\n",
       "      <th>Feature-5</th>\n",
       "      <th>Feature-6</th>\n",
       "      <th>Feature-7</th>\n",
       "      <th>Feature-8</th>\n",
       "      <th>Feature-9</th>\n",
       "      <th>Feature-10</th>\n",
       "    </tr>\n",
       "  </thead>\n",
       "  <tbody>\n",
       "    <tr>\n",
       "      <th>0</th>\n",
       "      <td>1.150625</td>\n",
       "      <td>1.273182</td>\n",
       "      <td>-0.007743</td>\n",
       "      <td>0.069023</td>\n",
       "      <td>-0.037749</td>\n",
       "      <td>-0.054296</td>\n",
       "      <td>0.022695</td>\n",
       "      <td>0.034255</td>\n",
       "      <td>0.014332</td>\n",
       "      <td>0.034387</td>\n",
       "    </tr>\n",
       "    <tr>\n",
       "      <th>1</th>\n",
       "      <td>1.771279</td>\n",
       "      <td>-1.039713</td>\n",
       "      <td>-0.032883</td>\n",
       "      <td>-0.093463</td>\n",
       "      <td>-0.039216</td>\n",
       "      <td>-0.010706</td>\n",
       "      <td>-0.017638</td>\n",
       "      <td>0.053692</td>\n",
       "      <td>0.013209</td>\n",
       "      <td>0.061865</td>\n",
       "    </tr>\n",
       "    <tr>\n",
       "      <th>2</th>\n",
       "      <td>1.459590</td>\n",
       "      <td>-1.114549</td>\n",
       "      <td>-0.038475</td>\n",
       "      <td>-0.093194</td>\n",
       "      <td>-0.033570</td>\n",
       "      <td>-0.012623</td>\n",
       "      <td>-0.021878</td>\n",
       "      <td>0.054543</td>\n",
       "      <td>0.008132</td>\n",
       "      <td>0.051930</td>\n",
       "    </tr>\n",
       "    <tr>\n",
       "      <th>3</th>\n",
       "      <td>1.654363</td>\n",
       "      <td>-1.163543</td>\n",
       "      <td>-0.050590</td>\n",
       "      <td>-0.086530</td>\n",
       "      <td>-0.056471</td>\n",
       "      <td>-0.009639</td>\n",
       "      <td>-0.015170</td>\n",
       "      <td>0.054248</td>\n",
       "      <td>0.005468</td>\n",
       "      <td>0.054465</td>\n",
       "    </tr>\n",
       "    <tr>\n",
       "      <th>4</th>\n",
       "      <td>0.853788</td>\n",
       "      <td>1.048882</td>\n",
       "      <td>-0.029100</td>\n",
       "      <td>0.051494</td>\n",
       "      <td>-0.012735</td>\n",
       "      <td>-0.074172</td>\n",
       "      <td>0.021292</td>\n",
       "      <td>0.051028</td>\n",
       "      <td>0.015016</td>\n",
       "      <td>0.005590</td>\n",
       "    </tr>\n",
       "  </tbody>\n",
       "</table>\n",
       "</div>"
      ],
      "text/plain": [
       "   Feature-1  Feature-2  Feature-3  Feature-4  Feature-5  Feature-6  \\\n",
       "0   1.150625   1.273182  -0.007743   0.069023  -0.037749  -0.054296   \n",
       "1   1.771279  -1.039713  -0.032883  -0.093463  -0.039216  -0.010706   \n",
       "2   1.459590  -1.114549  -0.038475  -0.093194  -0.033570  -0.012623   \n",
       "3   1.654363  -1.163543  -0.050590  -0.086530  -0.056471  -0.009639   \n",
       "4   0.853788   1.048882  -0.029100   0.051494  -0.012735  -0.074172   \n",
       "\n",
       "   Feature-7  Feature-8  Feature-9  Feature-10  \n",
       "0   0.022695   0.034255   0.014332    0.034387  \n",
       "1  -0.017638   0.053692   0.013209    0.061865  \n",
       "2  -0.021878   0.054543   0.008132    0.051930  \n",
       "3  -0.015170   0.054248   0.005468    0.054465  \n",
       "4   0.021292   0.051028   0.015016    0.005590  "
      ]
     },
     "execution_count": 31,
     "metadata": {},
     "output_type": "execute_result"
    }
   ],
   "source": [
    "new_df.head()"
   ]
  },
  {
   "cell_type": "code",
   "execution_count": 34,
   "id": "b27c5ac2-7904-4120-ad20-51dabb4c12a7",
   "metadata": {},
   "outputs": [],
   "source": [
    "new_df[\"Word\"] = category_data"
   ]
  },
  {
   "cell_type": "code",
   "execution_count": 35,
   "id": "e2a47c93-c714-48a8-b7f2-8bd20ffab368",
   "metadata": {},
   "outputs": [
    {
     "data": {
      "text/html": [
       "<div>\n",
       "<style scoped>\n",
       "    .dataframe tbody tr th:only-of-type {\n",
       "        vertical-align: middle;\n",
       "    }\n",
       "\n",
       "    .dataframe tbody tr th {\n",
       "        vertical-align: top;\n",
       "    }\n",
       "\n",
       "    .dataframe thead th {\n",
       "        text-align: right;\n",
       "    }\n",
       "</style>\n",
       "<table border=\"1\" class=\"dataframe\">\n",
       "  <thead>\n",
       "    <tr style=\"text-align: right;\">\n",
       "      <th></th>\n",
       "      <th>Feature-1</th>\n",
       "      <th>Feature-2</th>\n",
       "      <th>Feature-3</th>\n",
       "      <th>Feature-4</th>\n",
       "      <th>Feature-5</th>\n",
       "      <th>Feature-6</th>\n",
       "      <th>Feature-7</th>\n",
       "      <th>Feature-8</th>\n",
       "      <th>Feature-9</th>\n",
       "      <th>Feature-10</th>\n",
       "      <th>Word</th>\n",
       "    </tr>\n",
       "  </thead>\n",
       "  <tbody>\n",
       "    <tr>\n",
       "      <th>0</th>\n",
       "      <td>1.150625</td>\n",
       "      <td>1.273182</td>\n",
       "      <td>-0.007743</td>\n",
       "      <td>0.069023</td>\n",
       "      <td>-0.037749</td>\n",
       "      <td>-0.054296</td>\n",
       "      <td>0.022695</td>\n",
       "      <td>0.034255</td>\n",
       "      <td>0.014332</td>\n",
       "      <td>0.034387</td>\n",
       "      <td>A LOT</td>\n",
       "    </tr>\n",
       "    <tr>\n",
       "      <th>1</th>\n",
       "      <td>1.771279</td>\n",
       "      <td>-1.039713</td>\n",
       "      <td>-0.032883</td>\n",
       "      <td>-0.093463</td>\n",
       "      <td>-0.039216</td>\n",
       "      <td>-0.010706</td>\n",
       "      <td>-0.017638</td>\n",
       "      <td>0.053692</td>\n",
       "      <td>0.013209</td>\n",
       "      <td>0.061865</td>\n",
       "      <td>A LOT</td>\n",
       "    </tr>\n",
       "    <tr>\n",
       "      <th>2</th>\n",
       "      <td>1.459590</td>\n",
       "      <td>-1.114549</td>\n",
       "      <td>-0.038475</td>\n",
       "      <td>-0.093194</td>\n",
       "      <td>-0.033570</td>\n",
       "      <td>-0.012623</td>\n",
       "      <td>-0.021878</td>\n",
       "      <td>0.054543</td>\n",
       "      <td>0.008132</td>\n",
       "      <td>0.051930</td>\n",
       "      <td>A LOT</td>\n",
       "    </tr>\n",
       "    <tr>\n",
       "      <th>3</th>\n",
       "      <td>1.654363</td>\n",
       "      <td>-1.163543</td>\n",
       "      <td>-0.050590</td>\n",
       "      <td>-0.086530</td>\n",
       "      <td>-0.056471</td>\n",
       "      <td>-0.009639</td>\n",
       "      <td>-0.015170</td>\n",
       "      <td>0.054248</td>\n",
       "      <td>0.005468</td>\n",
       "      <td>0.054465</td>\n",
       "      <td>A LOT</td>\n",
       "    </tr>\n",
       "    <tr>\n",
       "      <th>4</th>\n",
       "      <td>0.853788</td>\n",
       "      <td>1.048882</td>\n",
       "      <td>-0.029100</td>\n",
       "      <td>0.051494</td>\n",
       "      <td>-0.012735</td>\n",
       "      <td>-0.074172</td>\n",
       "      <td>0.021292</td>\n",
       "      <td>0.051028</td>\n",
       "      <td>0.015016</td>\n",
       "      <td>0.005590</td>\n",
       "      <td>A LOT</td>\n",
       "    </tr>\n",
       "  </tbody>\n",
       "</table>\n",
       "</div>"
      ],
      "text/plain": [
       "   Feature-1  Feature-2  Feature-3  Feature-4  Feature-5  Feature-6  \\\n",
       "0   1.150625   1.273182  -0.007743   0.069023  -0.037749  -0.054296   \n",
       "1   1.771279  -1.039713  -0.032883  -0.093463  -0.039216  -0.010706   \n",
       "2   1.459590  -1.114549  -0.038475  -0.093194  -0.033570  -0.012623   \n",
       "3   1.654363  -1.163543  -0.050590  -0.086530  -0.056471  -0.009639   \n",
       "4   0.853788   1.048882  -0.029100   0.051494  -0.012735  -0.074172   \n",
       "\n",
       "   Feature-7  Feature-8  Feature-9  Feature-10   Word  \n",
       "0   0.022695   0.034255   0.014332    0.034387  A LOT  \n",
       "1  -0.017638   0.053692   0.013209    0.061865  A LOT  \n",
       "2  -0.021878   0.054543   0.008132    0.051930  A LOT  \n",
       "3  -0.015170   0.054248   0.005468    0.054465  A LOT  \n",
       "4   0.021292   0.051028   0.015016    0.005590  A LOT  "
      ]
     },
     "execution_count": 35,
     "metadata": {},
     "output_type": "execute_result"
    }
   ],
   "source": [
    "new_df.head()"
   ]
  },
  {
   "cell_type": "code",
   "execution_count": 36,
   "id": "8adb9360-002d-4ce7-b0d9-1527da655862",
   "metadata": {},
   "outputs": [
    {
     "data": {
      "text/plain": [
       "(3104, 11)"
      ]
     },
     "execution_count": 36,
     "metadata": {},
     "output_type": "execute_result"
    }
   ],
   "source": [
    "new_df.shape"
   ]
  },
  {
   "cell_type": "code",
   "execution_count": 37,
   "id": "9aa4d02e-82fc-497e-8050-2b1b540b414d",
   "metadata": {},
   "outputs": [],
   "source": [
    "new_df.to_csv(\"preprocessed_data.csv\")"
   ]
  },
  {
   "cell_type": "code",
   "execution_count": null,
   "id": "ad2fccc5-b4e9-44ed-bf71-93fea04f26fd",
   "metadata": {},
   "outputs": [],
   "source": []
  }
 ],
 "metadata": {
  "kernelspec": {
   "display_name": "Python 3 (ipykernel)",
   "language": "python",
   "name": "python3"
  },
  "language_info": {
   "codemirror_mode": {
    "name": "ipython",
    "version": 3
   },
   "file_extension": ".py",
   "mimetype": "text/x-python",
   "name": "python",
   "nbconvert_exporter": "python",
   "pygments_lexer": "ipython3",
   "version": "3.8.20"
  }
 },
 "nbformat": 4,
 "nbformat_minor": 5
}
